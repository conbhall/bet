{
 "cells": [
  {
   "cell_type": "markdown",
   "id": "96907e78",
   "metadata": {
    "papermill": {
     "duration": 0.010429,
     "end_time": "2024-08-06T09:18:25.183204",
     "exception": false,
     "start_time": "2024-08-06T09:18:25.172775",
     "status": "completed"
    },
    "tags": []
   },
   "source": [
    "Assign Necessary Parameters"
   ]
  },
  {
   "cell_type": "code",
   "execution_count": 1,
   "id": "3823019e",
   "metadata": {
    "execution": {
     "iopub.execute_input": "2024-08-06T09:18:25.204066Z",
     "iopub.status.busy": "2024-08-06T09:18:25.204066Z",
     "iopub.status.idle": "2024-08-06T09:18:25.206051Z",
     "shell.execute_reply": "2024-08-06T09:18:25.206051Z"
    },
    "papermill": {
     "duration": 0.01341,
     "end_time": "2024-08-06T09:18:25.207045",
     "exception": false,
     "start_time": "2024-08-06T09:18:25.193635",
     "status": "completed"
    },
    "tags": [
     "parameters"
    ]
   },
   "outputs": [],
   "source": [
    "# Parameters\n",
    "player_first_name_param = None\n",
    "player_last_name_param = None\n",
    "date_param = None\n",
    "umpire_data_param = None\n",
    "venue_data_param = None"
   ]
  },
  {
   "cell_type": "code",
   "execution_count": 2,
   "id": "b237ca38",
   "metadata": {
    "execution": {
     "iopub.execute_input": "2024-08-06T09:18:25.228899Z",
     "iopub.status.busy": "2024-08-06T09:18:25.228402Z",
     "iopub.status.idle": "2024-08-06T09:18:25.379389Z",
     "shell.execute_reply": "2024-08-06T09:18:25.379389Z"
    },
    "papermill": {
     "duration": 0.164896,
     "end_time": "2024-08-06T09:18:25.380880",
     "exception": false,
     "start_time": "2024-08-06T09:18:25.215984",
     "status": "completed"
    },
    "tags": [
     "injected-parameters"
    ]
   },
   "outputs": [],
   "source": [
    "# Parameters\n",
    "player_first_name_param = \"Trea\"\n",
    "player_last_name_param = \"Turner\"\n",
    "date_param = \"2024-08-05\"\n",
    "umpire_data_param = {\"Marvin Hudson\": [0.208, 0.086, 8.98, 0.255, 0.324, 0.408, 0.98, 1.05, 1.01, 1.0, 1.01, 0.98], \"Mark Carlson\": [0.207, 0.086, 8.9, 0.254, 0.323, 0.41, 1.18, 0.98, 0.96, 0.96, 0.97, 0.99], \"Jim Wolf\": [0.208, 0.082, 9.01, 0.255, 0.322, 0.411, 1.12, 0.96, 1.03, 0.99, 0.99, 1.02], \"Scott Barry\": [0.202, 0.083, 8.92, 0.255, 0.323, 0.407, 1.15, 0.95, 0.96, 0.97, 0.97, 0.98], \"Tony Randazzo\": [0.21, 0.079, 8.84, 0.256, 0.32, 0.414, 1.03, 1.03, 1.09, 1.02, 1.02, 1.07], \"Manny Gonzalez\": [0.214, 0.085, 9.11, 0.254, 0.324, 0.415, 1.15, 1.0, 1.04, 0.99, 1.0, 1.03], \"Will Little\": [0.224, 0.086, 8.8, 0.247, 0.318, 0.408, 1.1, 1.12, 1.08, 0.98, 1.01, 1.06], \"Edwin Moscoso\": [0.223, 0.097, 9.64, 0.243, 0.325, 0.398, 0.95, 1.06, 1.04, 1.0, 1.01, 0.95], \"Charlie Ramos\": [0.22, 0.085, 9.05, 0.241, 0.313, 0.388, 0.95, 0.98, 1.0, 0.99, 0.99, 0.95], \"Bill Miller\": [0.219, 0.073, 8.38, 0.248, 0.309, 0.4, 1.25, 0.83, 0.9, 0.94, 0.93, 0.96], \"Doug Eddings\": [0.216, 0.074, 8.33, 0.25, 0.312, 0.402, 1.02, 0.9, 0.93, 0.98, 0.97, 0.96], \"James Hoye\": [0.204, 0.087, 8.98, 0.253, 0.324, 0.41, 1.16, 0.99, 0.97, 0.96, 0.97, 0.99], \"Lance Barksdale\": [0.204, 0.088, 8.7, 0.253, 0.324, 0.408, 0.9, 1.08, 1.02, 1.04, 1.04, 1.04], \"Chris Guccione\": [0.207, 0.083, 8.94, 0.254, 0.321, 0.411, 0.98, 1.01, 1.0, 1.0, 1.0, 0.99], \"Laz Diaz\": [0.208, 0.082, 8.8, 0.252, 0.319, 0.407, 1.18, 0.95, 0.95, 0.96, 0.96, 0.98], \"Dan Iassogna\": [0.213, 0.085, 8.8, 0.25, 0.32, 0.404, 1.21, 0.97, 0.95, 0.95, 0.96, 0.97], \"Adrian Johnson\": [0.205, 0.086, 9.38, 0.255, 0.325, 0.417, 1.01, 1.13, 1.15, 1.02, 1.04, 1.08], \"Jeff Nelson\": [0.207, 0.082, 9.03, 0.253, 0.32, 0.411, 1.11, 0.97, 1.03, 0.98, 0.99, 1.02], \"CB Bucknor\": [0.212, 0.08, 8.57, 0.251, 0.316, 0.403, 1.14, 0.94, 0.98, 0.98, 0.97, 1.0], \"Phil Cuzzi\": [0.219, 0.077, 8.5, 0.247, 0.311, 0.402, 0.94, 0.89, 0.94, 1.01, 0.98, 0.98], \"Chad Fairchild\": [0.204, 0.084, 8.97, 0.254, 0.323, 0.412, 0.92, 0.99, 1.01, 1.02, 1.02, 1.01], \"Angel Hernandez\": [0.206, 0.082, 8.77, 0.251, 0.317, 0.406, 0.92, 0.96, 0.99, 1.01, 1.0, 0.99], \"Alfonso Marquez\": [0.2, 0.09, 9.1, 0.251, 0.324, 0.409, 0.9, 1.06, 1.02, 1.02, 1.02, 1.0], \"Andy Fletcher\": [0.206, 0.086, 8.87, 0.253, 0.324, 0.403, 1.11, 1.02, 1.01, 0.98, 1.0, 1.0], \"Rob Drake\": [0.209, 0.083, 8.71, 0.251, 0.319, 0.406, 1.03, 1.08, 1.07, 1.0, 1.02, 1.05], \"Todd Tichenor\": [0.204, 0.086, 8.87, 0.254, 0.323, 0.409, 0.97, 1.05, 0.99, 0.99, 1.0, 0.98], \"Larry Vanover\": [0.205, 0.085, 8.85, 0.254, 0.323, 0.409, 1.17, 0.97, 0.95, 0.96, 0.97, 0.98], \"Ted Barrett\": [0.206, 0.081, 8.82, 0.254, 0.319, 0.406, 0.97, 0.99, 0.99, 1.0, 0.99, 0.97], \"Hunter Wendelstedt\": [0.212, 0.085, 8.61, 0.247, 0.317, 0.398, 1.04, 1.12, 1.06, 0.99, 1.01, 1.03], \"Jerry Meals\": [0.205, 0.084, 9.02, 0.251, 0.32, 0.404, 1.03, 1.05, 1.05, 0.99, 1.0, 1.0], \"Brian Knight\": [0.205, 0.087, 9.16, 0.254, 0.325, 0.416, 1.01, 1.14, 1.13, 1.01, 1.04, 1.08], \"Mark Wegner\": [0.202, 0.09, 9.45, 0.255, 0.328, 0.413, 0.9, 1.06, 1.06, 1.03, 1.03, 1.01], \"Dan Bellino\": [0.217, 0.083, 8.83, 0.25, 0.318, 0.405, 1.09, 1.04, 1.02, 0.98, 1.0, 1.0], \"Joe West\": [0.202, 0.085, 9.03, 0.255, 0.324, 0.412, 1.09, 1.0, 1.03, 0.99, 1.0, 1.02], \"Brian O'Nora\": [0.208, 0.079, 8.59, 0.25, 0.316, 0.402, 0.92, 0.97, 1.0, 1.03, 1.02, 1.02], \"Ron Kulpa\": [0.214, 0.08, 8.44, 0.248, 0.315, 0.398, 1.15, 0.95, 0.97, 0.96, 0.97, 0.99], \"Mike Estabrook\": [0.217, 0.079, 8.61, 0.251, 0.316, 0.408, 1.17, 0.94, 0.98, 0.98, 0.97, 1.01], \"Jim Reynolds\": [0.204, 0.084, 8.81, 0.255, 0.323, 0.411, 1.16, 0.96, 0.95, 0.97, 0.97, 0.99], \"Bill Welke\": [0.199, 0.083, 9.21, 0.259, 0.326, 0.418, 1.07, 0.97, 1.05, 1.01, 1.0, 1.04], \"Tim Timmons\": [0.207, 0.084, 9.12, 0.257, 0.325, 0.415, 0.98, 1.03, 1.02, 1.01, 1.01, 0.99], \"Vic Carapazza\": [0.222, 0.081, 8.41, 0.246, 0.314, 0.398, 1.09, 1.07, 1.03, 0.98, 1.0, 1.03], \"Mike Muchlinski\": [0.213, 0.08, 9.1, 0.253, 0.319, 0.418, 0.9, 0.87, 0.98, 1.04, 0.99, 1.0], \"Alan Porter\": [0.208, 0.083, 9.14, 0.256, 0.324, 0.418, 0.98, 1.02, 1.02, 1.0, 1.01, 1.0], \"Tom Hallion\": [0.202, 0.084, 9.12, 0.255, 0.323, 0.413, 1.02, 1.05, 1.06, 1.0, 1.01, 1.02], \"D.J. Reyburn\": [0.217, 0.083, 8.66, 0.248, 0.316, 0.402, 1.24, 0.95, 0.93, 0.94, 0.95, 0.97], \"Greg Gibson\": [0.198, 0.086, 8.85, 0.254, 0.324, 0.407, 1.13, 0.99, 0.95, 0.96, 0.97, 0.98], \"Fieldin Culbreth\": [0.197, 0.084, 8.57, 0.254, 0.322, 0.405, 1.12, 0.96, 0.92, 0.96, 0.97, 0.97], \"Gerry Davis\": [0.199, 0.085, 8.75, 0.251, 0.32, 0.41, 1.0, 1.07, 1.01, 0.99, 1.01, 1.01], \"Sam Holbrook\": [0.197, 0.087, 8.97, 0.253, 0.324, 0.415, 1.06, 1.02, 1.03, 0.99, 1.0, 1.03], \"Gary Cederstrom\": [0.201, 0.082, 8.56, 0.254, 0.321, 0.405, 1.01, 1.03, 0.99, 1.0, 1.01, 1.0], \"Cory Blaser\": [0.216, 0.079, 8.22, 0.247, 0.312, 0.395, 0.96, 0.97, 0.96, 1.02, 1.0, 1.0], \"Paul Emmel\": [0.198, 0.083, 8.75, 0.254, 0.321, 0.404, 0.88, 1.01, 1.02, 1.05, 1.03, 1.03], \"Paul Nauert\": [0.2, 0.08, 8.56, 0.254, 0.318, 0.405, 1.14, 0.92, 0.92, 0.96, 0.96, 0.97], \"Bruce Dreckman\": [0.206, 0.084, 8.68, 0.249, 0.319, 0.403, 0.92, 0.99, 0.98, 1.01, 1.0, 0.99], \"Eric Cooper\": [0.206, 0.078, 8.83, 0.256, 0.319, 0.408, 1.01, 1.02, 1.09, 1.02, 1.02, 1.06], \"Marty Foster\": [0.207, 0.08, 8.58, 0.249, 0.315, 0.406, 1.02, 1.05, 1.05, 0.99, 1.01, 1.05], \"Mike Everitt\": [0.203, 0.081, 8.9, 0.256, 0.321, 0.41, 1.03, 1.01, 1.03, 1.01, 1.01, 1.01], \"Lance Barrett\": [0.22, 0.08, 8.76, 0.25, 0.315, 0.404, 1.18, 0.94, 1.0, 0.97, 0.97, 1.01], \"Mike Winters\": [0.204, 0.084, 8.84, 0.257, 0.324, 0.406, 1.03, 1.05, 1.02, 1.01, 1.02, 1.0], \"Jordan Baker\": [0.214, 0.087, 8.9, 0.252, 0.323, 0.411, 0.96, 1.02, 1.0, 1.02, 1.02, 1.01], \"Ed Hickox\": [0.206, 0.082, 8.91, 0.249, 0.317, 0.406, 1.17, 0.94, 0.96, 0.95, 0.95, 0.98], \"Chris Conroy\": [0.215, 0.081, 8.97, 0.255, 0.322, 0.414, 1.09, 1.01, 1.04, 1.0, 1.01, 1.02], \"Jeff Kellogg\": [0.191, 0.083, 8.76, 0.256, 0.323, 0.419, 0.97, 1.04, 1.02, 1.01, 1.02, 1.04], \"Jerry Layne\": [0.197, 0.086, 8.68, 0.254, 0.324, 0.405, 1.12, 0.99, 0.93, 0.96, 0.97, 0.97], \"John Tumpane\": [0.216, 0.084, 8.95, 0.249, 0.319, 0.408, 0.97, 0.99, 1.01, 1.0, 1.0, 1.0], \"Kerwin Danley\": [0.203, 0.083, 8.43, 0.253, 0.32, 0.399, 1.02, 1.04, 0.98, 1.0, 1.0, 0.99], \"Adam Hamari\": [0.223, 0.077, 8.76, 0.246, 0.311, 0.404, 1.1, 1.01, 1.08, 0.98, 0.99, 1.05], \"David Rackley\": [0.216, 0.085, 9.16, 0.255, 0.324, 0.42, 0.96, 1.04, 1.07, 1.05, 1.04, 1.07], \"Brian Gorman\": [0.205, 0.079, 8.68, 0.256, 0.319, 0.405, 0.89, 0.9, 0.96, 1.05, 1.01, 0.99], \"Mark Ripperger\": [0.22, 0.078, 9.13, 0.253, 0.318, 0.42, 0.99, 0.92, 1.03, 1.02, 1.0, 1.03], \"Tripp Gibson\": [0.228, 0.081, 8.67, 0.244, 0.312, 0.403, 1.14, 1.02, 1.04, 0.96, 0.98, 1.02], \"Dana DeMuth\": [0.193, 0.083, 9.08, 0.256, 0.324, 0.408, 0.84, 0.98, 0.94, 1.02, 1.01, 0.94], \"Gabe Morales\": [0.226, 0.079, 9.3, 0.253, 0.318, 0.418, 1.11, 1.03, 1.14, 1.01, 1.02, 1.08], \"Quinn Wolcott\": [0.217, 0.081, 9.04, 0.255, 0.322, 0.416, 0.92, 0.88, 0.98, 1.05, 1.0, 1.0], \"Bob Davidson\": [0.193, 0.08, 8.74, 0.258, 0.324, 0.403, 1.04, 0.95, 1.0, 1.0, 1.0, 1.0], \"Dale Scott\": [0.19, 0.088, 8.86, 0.261, 0.33, 0.41, 0.93, 1.15, 1.09, 1.04, 1.05, 1.06], \"Pat Hoberg\": [0.216, 0.088, 8.93, 0.249, 0.321, 0.409, 0.96, 1.08, 1.04, 1.03, 1.03, 1.04], \"Chris Segal\": [0.218, 0.081, 9.08, 0.251, 0.317, 0.414, 1.07, 1.06, 1.12, 1.0, 1.01, 1.07], \"Ryan Blakney\": [0.231, 0.08, 8.57, 0.24, 0.308, 0.403, 1.09, 0.98, 0.96, 0.94, 0.96, 0.97], \"Mike DiMuro\": [0.188, 0.084, 8.74, 0.256, 0.323, 0.402, 1.01, 0.99, 1.0, 0.99, 0.99, 1.0], \"Carlos Torres\": [0.214, 0.087, 9.47, 0.258, 0.329, 0.431, 0.96, 1.03, 1.07, 1.04, 1.03, 1.05], \"Tim Welke\": [0.195, 0.078, 8.92, 0.255, 0.318, 0.406, 0.96, 1.02, 1.1, 1.02, 1.02, 1.05], \"Sean Barber\": [0.223, 0.084, 9.22, 0.25, 0.32, 0.413, 0.96, 0.97, 1.02, 1.03, 1.01, 1.01], \"Ben May\": [0.223, 0.081, 8.61, 0.246, 0.313, 0.402, 1.0, 0.95, 0.97, 0.99, 0.98, 0.98], \"Jim Joyce\": [0.192, 0.084, 8.9, 0.254, 0.322, 0.403, 0.91, 1.03, 1.0, 1.0, 1.0, 0.97], \"Stu Scheurwater\": [0.219, 0.087, 8.81, 0.247, 0.318, 0.414, 1.03, 1.06, 0.99, 0.97, 0.99, 0.99], \"Nic Lentz\": [0.216, 0.086, 8.94, 0.249, 0.321, 0.416, 1.02, 1.05, 1.0, 0.98, 1.0, 1.0], \"Paul Schrieber\": [0.181, 0.09, 9.17, 0.26, 0.331, 0.413, 1.03, 1.03, 0.99, 0.99, 0.99, 0.99], \"Chad Whitson\": [0.224, 0.084, 9.03, 0.244, 0.314, 0.417, 1.06, 1.03, 1.01, 0.96, 0.98, 1.0], \"Ramon De Jesus\": [0.218, 0.088, 9.42, 0.25, 0.323, 0.409, 1.03, 1.08, 1.05, 0.98, 1.0, 0.98], \"Wally Bell\": [0.195, 0.078, 8.56, 0.256, 0.319, 0.412, 1.11, 0.9, 0.92, 0.97, 0.96, 0.99], \"Tim McClelland\": [0.175, 0.094, 9.82, 0.265, 0.338, 0.418, 0.94, 1.11, 1.12, 1.03, 1.04, 1.04], \"Gary Darling\": [0.196, 0.079, 8.69, 0.259, 0.323, 0.407, 1.12, 0.9, 0.94, 0.98, 0.97, 0.98], \"Jansen Visconti\": [0.224, 0.087, 9.27, 0.25, 0.323, 0.409, 1.0, 1.03, 1.04, 1.01, 1.02, 1.0], \"John Libka\": [0.219, 0.088, 9.57, 0.252, 0.324, 0.415, 0.98, 1.08, 1.12, 1.04, 1.04, 1.05], \"John Hirschbeck\": [0.201, 0.081, 8.37, 0.255, 0.32, 0.399, 1.01, 1.02, 1.01, 1.01, 1.01, 1.01], \"Roberto Ortiz\": [0.233, 0.079, 8.49, 0.246, 0.313, 0.409, 1.0, 0.91, 0.94, 1.01, 0.99, 1.0], \"Jeremie Rehak\": [0.236, 0.081, 8.54, 0.24, 0.309, 0.399, 1.05, 0.99, 1.0, 0.99, 0.99, 1.01], \"Ryan Additon\": [0.222, 0.086, 9.08, 0.242, 0.313, 0.409, 1.02, 1.01, 0.98, 0.95, 0.97, 0.96], \"Nick Mahrley\": [0.229, 0.082, 8.81, 0.248, 0.317, 0.419, 1.02, 1.0, 1.03, 1.03, 1.02, 1.06], \"Derryl Cousins\": [0.176, 0.092, 8.85, 0.253, 0.326, 0.405, 0.89, 1.15, 1.03, 0.99, 1.02, 1.0], \"Ed Rapuano\": [0.174, 0.085, 9.32, 0.267, 0.333, 0.425, 0.94, 1.0, 1.07, 1.04, 1.03, 1.06], \"Tim Tschida\": [0.177, 0.093, 9.58, 0.267, 0.34, 0.423, 0.89, 1.17, 1.11, 1.05, 1.07, 1.05], \"Brian Runge\": [0.192, 0.076, 8.57, 0.254, 0.315, 0.406, 0.97, 0.95, 0.99, 1.0, 0.99, 1.0], \"Clint Fagan\": [0.203, 0.087, 9.19, 0.253, 0.323, 0.413, 1.0, 1.14, 1.13, 1.01, 1.03, 1.07], \"Angel Campos\": [0.189, 0.086, 9.51, 0.265, 0.333, 0.417, 0.96, 1.07, 1.1, 1.04, 1.05, 1.03], \"Shane Livensparger\": [0.219, 0.085, 9.06, 0.249, 0.32, 0.413, 0.98, 1.0, 1.02, 1.01, 1.01, 1.01], \"Tom Woodring\": [0.211, 0.086, 9.45, 0.259, 0.327, 0.439, 1.04, 1.13, 1.16, 1.03, 1.04, 1.14], \"Nestor Ceja\": [0.23, 0.082, 8.96, 0.243, 0.311, 0.4, 0.97, 0.89, 0.97, 0.99, 0.97, 0.96], \"Adam Beck\": [0.228, 0.084, 8.88, 0.243, 0.314, 0.409, 0.97, 0.91, 0.96, 0.99, 0.98, 0.98], \"Dan Merzel\": [0.235, 0.077, 8.46, 0.244, 0.311, 0.399, 1.04, 0.94, 0.99, 1.01, 1.0, 1.01], \"Junior Valentine\": [0.227, 0.088, 8.66, 0.239, 0.312, 0.392, 0.96, 0.95, 0.94, 0.98, 0.97, 0.94], \"Ryan Wills\": [0.225, 0.089, 9.0, 0.242, 0.318, 0.408, 1.0, 1.1, 1.05, 1.0, 1.02, 1.04], \"Erich Bacchus\": [0.225, 0.085, 8.47, 0.235, 0.309, 0.388, 0.95, 0.93, 0.91, 0.96, 0.96, 0.93], \"Jeremy Riggs\": [0.231, 0.079, 8.76, 0.244, 0.31, 0.391, 1.03, 0.97, 1.03, 1.01, 1.0, 0.99], \"Alex Tosi\": [0.236, 0.084, 8.79, 0.248, 0.318, 0.412, 1.03, 0.98, 0.91, 0.98, 0.99, 0.95], \"Brennan Miller\": [0.234, 0.082, 8.24, 0.236, 0.305, 0.388, 1.02, 0.96, 0.85, 0.94, 0.95, 0.89], \"Mike Reilly\": [0.184, 0.093, 9.82, 0.272, 0.345, 0.433, 1.05, 1.07, 1.06, 1.03, 1.04, 1.04], \"Clint Vondrak\": [0.218, 0.081, 9.28, 0.25, 0.316, 0.422, 0.92, 0.88, 1.0, 1.02, 0.98, 1.01], \"Malachi Moore\": [0.226, 0.077, 8.59, 0.247, 0.312, 0.392, 1.0, 0.94, 1.0, 1.02, 1.0, 0.99], \"Toby Basner\": [0.214, 0.082, 8.88, 0.246, 0.315, 0.39, 1.01, 1.0, 0.99, 0.97, 0.98, 0.94], \"Bill Hohn\": [0.167, 0.089, 8.25, 0.253, 0.324, 0.403, 0.95, 1.02, 0.89, 0.96, 0.97, 0.97], \"Nate Tomlinson\": [0.229, 0.087, 9.37, 0.249, 0.32, 0.415, 0.97, 0.94, 1.01, 1.02, 1.0, 0.99], \"Jerry Crawford\": [0.169, 0.103, 10.04, 0.265, 0.347, 0.432, 0.91, 1.21, 1.15, 1.03, 1.07, 1.07], \"Chuck Meriwether\": [0.179, 0.086, 9.63, 0.265, 0.331, 0.414, 1.02, 0.98, 1.04, 1.0, 0.99, 1.0], \"John Bacon\": [0.228, 0.089, 8.87, 0.242, 0.315, 0.405, 1.02, 1.1, 1.04, 1.0, 1.01, 1.03], \"Emil Jimenez\": [0.226, 0.08, 8.82, 0.255, 0.322, 0.414, 0.99, 0.93, 0.96, 1.03, 1.01, 1.0], \"Randy Marsh\": [0.153, 0.095, 10.57, 0.279, 0.352, 0.441, 0.87, 1.09, 1.14, 1.06, 1.06, 1.06], \"Alex MacKay\": [0.241, 0.077, 7.72, 0.235, 0.302, 0.374, 1.07, 0.94, 0.9, 0.97, 0.97, 0.95], \"Charlie Reliford\": [0.182, 0.084, 9.24, 0.255, 0.322, 0.402, 1.04, 0.97, 0.99, 0.97, 0.97, 0.97], \"Paul Clemons\": [0.238, 0.082, 9.72, 0.249, 0.32, 0.414, 1.02, 0.95, 1.07, 1.02, 1.01, 1.01], \"Derek Thomas\": [0.219, 0.095, 9.62, 0.249, 0.328, 0.426, 0.96, 1.1, 1.04, 1.0, 1.03, 1.03], \"Jose Navas\": [0.236, 0.102, 9.42, 0.237, 0.322, 0.413, 1.04, 1.19, 1.02, 0.95, 1.01, 1.0], \"Brian Walsh\": [0.231, 0.082, 9.14, 0.255, 0.323, 0.43, 1.01, 0.95, 0.99, 1.03, 1.01, 1.04], \"Edwin Jimenez\": [0.227, 0.079, 8.51, 0.239, 0.307, 0.397, 1.0, 0.92, 0.92, 0.96, 0.96, 0.96], \"Tom Hanahan\": [0.234, 0.083, 8.77, 0.238, 0.307, 0.408, 1.03, 0.97, 0.95, 0.96, 0.96, 0.99], \"Ed Montague\": [0.18, 0.089, 8.38, 0.254, 0.325, 0.4, 1.03, 1.02, 0.9, 0.96, 0.97, 0.96], \"Brock Ballou\": [0.231, 0.075, 9.18, 0.259, 0.321, 0.43, 1.03, 0.91, 1.07, 1.07, 1.03, 1.09], \"Marcus Pattillo\": [0.23, 0.074, 7.68, 0.237, 0.299, 0.371, 1.13, 0.97, 0.95, 0.94, 0.95, 0.96], \"Rick Reed\": [0.184, 0.099, 9.22, 0.25, 0.327, 0.419, 1.05, 1.13, 0.99, 0.95, 0.98, 1.01], \"Jacob Metz\": [0.261, 0.08, 8.65, 0.236, 0.304, 0.408, 1.15, 0.93, 0.94, 0.95, 0.95, 0.99], \"Seth Buckminster\": [0.219, 0.095, 7.38, 0.241, 0.323, 0.366, 1.07, 1.25, 0.91, 0.96, 1.03, 0.95], \"Jonathan Parra\": [0.235, 0.084, 7.88, 0.238, 0.307, 0.39, 1.05, 1.03, 0.89, 0.98, 0.98, 0.98], \"David Arrieta\": [0.224, 0.094, 6.69, 0.234, 0.311, 0.387, 1.0, 1.15, 0.78, 0.97, 1.0, 0.98], \"Kevin Causey\": [0.149, 0.09, 8.92, 0.269, 0.34, 0.437, 0.85, 1.04, 0.96, 1.02, 1.02, 1.05], \"Randy Rosenberg\": [0.222, 0.089, 9.6, 0.261, 0.333, 0.461, 0.98, 1.1, 1.12, 1.08, 1.07, 1.17], \"Damien Beal\": [0.175, 0.099, 8.0, 0.256, 0.334, 0.445, 0.99, 1.14, 0.86, 0.97, 1.0, 1.07], \"Chris Tiller\": [0.153, 0.096, 7.33, 0.243, 0.322, 0.379, 0.87, 1.1, 0.79, 0.92, 0.97, 0.91], \"Delfin Colon\": [0.169, 0.073, 11.25, 0.281, 0.338, 0.492, 0.96, 0.84, 1.21, 1.07, 1.02, 1.18], \"Kyle McCrady\": [0.19, 0.096, 12.0, 0.274, 0.351, 0.452, 0.81, 1.05, 1.3, 1.12, 1.09, 1.08], \"Casey Moser\": [0.161, 0.082, 6.2, 0.226, 0.29, 0.349, 0.92, 0.94, 0.67, 0.86, 0.87, 0.84], \"Lew Williams\": [0.207, 0.098, 9.25, 0.278, 0.35, 0.467, 0.92, 1.21, 1.08, 1.15, 1.13, 1.18], \"Austin Jones\": [0.252, 0.086, 6.0, 0.262, 0.329, 0.361, 1.13, 1.04, 0.68, 1.08, 1.05, 0.9], \"James Jean\": [0.206, 0.111, 15.0, 0.244, 0.333, 0.439, 0.92, 1.35, 1.7, 1.0, 1.07, 1.1], \"Jon Byrne\": [0.155, 0.073, 7.67, 0.237, 0.293, 0.366, 0.76, 0.95, 0.94, 0.94, 0.93, 0.95], \"Mark Lollo\": [0.199, 0.115, 7.5, 0.231, 0.325, 0.373, 1.07, 1.42, 0.87, 0.91, 1.01, 0.93], \"Jeff Gosney\": [0.127, 0.089, 8.5, 0.273, 0.338, 0.406, 0.62, 1.16, 1.05, 1.09, 1.08, 1.05], \"Shawn Rakos\": [0.254, 0.121, 5.5, 0.21, 0.306, 0.284, 1.45, 1.39, 0.59, 0.79, 0.92, 0.68], \"Anthony Johnson\": [0.286, 0.156, 6.0, 0.219, 0.342, 0.422, 1.4, 2.03, 0.71, 0.86, 1.08, 1.04], \"Ryan Wilson\": [1.0, 1.0, 0.0, 1.0, 1.0, 1.0, 1.0, 1.0, 0.0, 1.0, 1.0, 1.0]}\n",
    "venue_data_param = {\"Angel Stadium\": {\"L\": [1.02, 0.95, 1.02, 0.96, 0.98, 1.0, 1.0, 1.0, 1.0], \"R\": [1.29, 0.55, 0.91, 0.95, 0.98, 0.98, 1.03, 1.0, 1.07]}, \"Busch Stadium\": {\"L\": [0.84, 1.1, 0.89, 1.05, 0.98, 0.98, 0.94, 0.96, 0.93], \"R\": [0.92, 0.75, 0.89, 1.01, 0.96, 0.95, 0.93, 0.95, 0.91]}, \"Chase Field\": {\"L\": [0.87, 1.52, 0.95, 0.99, 0.97, 1.0, 0.95, 0.98, 0.95], \"R\": [0.97, 2.39, 1.01, 1.05, 1.05, 1.03, 1.05, 1.03, 1.09]}, \"Citi Field\": {\"L\": [1.07, 0.7, 0.88, 0.86, 0.89, 0.92, 0.93, 0.93, 0.89], \"R\": [0.98, 0.62, 0.74, 1.01, 0.93, 0.95, 0.91, 0.93, 0.86]}, \"Citizens Bank Park\": {\"L\": [1.22, 0.99, 0.88, 0.98, 0.98, 0.98, 1.02, 1.0, 1.06], \"R\": [1.17, 1.1, 0.98, 0.97, 1.01, 1.01, 1.05, 1.03, 0.98]}, \"Comerica Park\": {\"L\": [0.97, 1.85, 1.09, 1.06, 1.06, 1.02, 1.05, 1.03, 1.03], \"R\": [0.88, 1.69, 0.83, 0.98, 0.94, 0.95, 0.93, 0.94, 0.89]}, \"Coors Field\": {\"L\": [1.21, 2.17, 1.43, 1.19, 1.25, 1.16, 1.28, 1.21, 1.27], \"R\": [1.22, 1.91, 1.12, 1.15, 1.17, 1.1, 1.19, 1.14, 1.33]}, \"Dodger Stadium\": {\"L\": [1.21, 0.5, 0.92, 0.99, 0.98, 0.95, 1.01, 0.98, 0.92], \"R\": [1.04, 0.24, 1.06, 0.96, 0.96, 0.95, 0.96, 0.96, 0.92]}, \"Fenway Park\": {\"L\": [0.97, 1.21, 1.25, 0.99, 1.04, 1.02, 1.05, 1.03, 1.12], \"R\": [0.82, 1.19, 1.59, 0.97, 1.06, 1.04, 1.05, 1.04, 0.99]}, \"Globe Life Field\": {\"L\": [0.96, 0.98, 0.96, 1.0, 0.99, 1.01, 0.98, 1.0, 0.97], \"R\": [0.95, 1.01, 1.01, 1.04, 1.02, 1.03, 1.0, 1.01, 0.98]}, \"Great American Ball Park\": {\"L\": [1.3, 0.63, 1.08, 0.93, 1.01, 1.03, 1.09, 1.06, 1.07], \"R\": [1.35, 0.79, 0.92, 0.99, 1.02, 1.01, 1.09, 1.04, 1.13]}, \"Guaranteed Rate Field\": {\"L\": [1.12, 0.31, 0.91, 1.03, 1.0, 0.99, 1.0, 1.0, 0.98], \"R\": [1.15, 0.84, 0.72, 0.95, 0.93, 0.97, 0.95, 0.97, 0.99]}, \"Kauffman Stadium\": {\"L\": [0.84, 1.28, 1.07, 1.03, 1.02, 1.01, 0.98, 0.99, 1.03], \"R\": [0.76, 1.17, 1.22, 1.15, 1.11, 1.07, 1.03, 1.05, 1.05]}, \"Marlins Park\": {\"L\": [0.72, 0.99, 1.04, 1.09, 1.02, 1.0, 0.94, 0.97, 0.9], \"R\": [0.77, 1.25, 0.9, 0.91, 0.9, 0.94, 0.87, 0.91, 0.89]}, \"Miller Park\": {\"L\": [1.14, 0.92, 0.92, 0.96, 0.97, 0.98, 1.01, 0.99, 1.06], \"R\": [1.08, 0.82, 0.91, 0.96, 0.97, 1.0, 0.99, 1.0, 0.99]}, \"Minute Maid Park\": {\"L\": [1.1, 0.61, 0.87, 1.01, 0.98, 0.98, 0.99, 0.99, 1.03], \"R\": [1.05, 1.27, 0.91, 0.98, 0.98, 0.98, 1.0, 0.99, 0.97]}, \"Nationals Park\": {\"L\": [1.09, 0.83, 1.04, 1.0, 1.01, 1.0, 1.03, 1.01, 1.05], \"R\": [1.14, 0.85, 1.3, 1.01, 1.09, 1.07, 1.12, 1.09, 1.07]}, \"Oakland Coliseum\": {\"L\": [0.8, 0.75, 1.13, 0.96, 0.96, 0.98, 0.93, 0.96, 0.85], \"R\": [0.74, 0.78, 0.98, 0.94, 0.9, 0.9, 0.85, 0.88, 0.82]}, \"Oracle Park\": {\"L\": [0.79, 1.19, 0.94, 1.05, 0.99, 0.97, 0.93, 0.95, 0.93], \"R\": [0.73, 1.66, 1.05, 0.97, 0.97, 0.98, 0.94, 0.96, 0.85]}, \"Oriole Park at Camden Yards\": {\"L\": [1.2, 0.65, 0.87, 1.0, 1.0, 1.02, 1.03, 1.03, 1.03], \"R\": [1.11, 0.9, 1.01, 0.99, 1.0, 0.98, 1.03, 1.0, 0.98]}, \"Petco Park\": {\"L\": [0.98, 0.71, 0.96, 0.93, 0.95, 0.99, 0.96, 0.98, 0.94], \"R\": [0.92, 0.76, 1.07, 0.95, 0.97, 0.99, 0.97, 0.98, 0.93]}, \"PNC Park\": {\"L\": [0.79, 0.83, 1.1, 0.95, 0.96, 0.99, 0.94, 0.97, 0.97], \"R\": [0.93, 0.75, 1.27, 0.97, 1.02, 1.04, 1.02, 1.03, 0.92]}, \"Progressive Field\": {\"L\": [0.98, 0.88, 1.02, 1.0, 1.0, 1.01, 1.0, 1.0, 1.08], \"R\": [1.08, 0.85, 1.13, 0.99, 1.03, 1.03, 1.05, 1.04, 1.1]}, \"Rogers Centre\": {\"L\": [1.12, 1.03, 1.02, 0.92, 0.97, 0.98, 1.02, 1.0, 0.96], \"R\": [1.21, 0.86, 0.99, 0.95, 0.98, 0.97, 1.03, 1.0, 1.04]}, \"Sahlen Field\": {\"L\": [0.94, 0.84, 0.99, 1.05, 1.01, 1.0, 0.98, 0.99, 1.03], \"R\": [0.96, 1.29, 1.04, 1.05, 1.04, 1.03, 1.02, 1.02, 1.05]}, \"T-Mobile Park\": {\"L\": [1.04, 0.75, 0.83, 0.95, 0.94, 0.95, 0.95, 0.95, 0.94], \"R\": [0.89, 0.5, 0.86, 1.01, 0.93, 0.93, 0.89, 0.92, 0.87]}, \"Target Field\": {\"L\": [0.86, 0.73, 1.22, 0.94, 0.97, 0.97, 0.96, 0.97, 0.93], \"R\": [0.89, 1.4, 1.03, 1.03, 1.03, 1.04, 1.0, 1.02, 1.04]}, \"Tropicana Field\": {\"L\": [0.86, 1.22, 1.01, 0.96, 0.96, 0.98, 0.94, 0.96, 0.87], \"R\": [0.94, 1.32, 0.85, 0.97, 0.95, 0.97, 0.95, 0.96, 1.02]}, \"Truist Park\": {\"L\": [0.93, 0.91, 1.03, 1.09, 1.05, 1.05, 1.02, 1.03, 1.09], \"R\": [0.9, 0.69, 1.04, 0.99, 0.99, 0.99, 0.96, 0.98, 1.05]}, \"Wrigley Field\": {\"L\": [0.98, 1.56, 1.01, 0.99, 1.01, 1.01, 1.01, 1.01, 0.99], \"R\": [0.83, 1.18, 0.98, 1.03, 0.99, 0.99, 0.95, 0.97, 0.96]}, \"Yankee Stadium\": {\"L\": [1.02, 1.36, 0.85, 1.05, 1.0, 1.01, 0.99, 1.0, 0.98], \"R\": [1.09, 0.53, 0.89, 1.06, 1.02, 1.03, 1.01, 1.02, 1.0]}}\n"
   ]
  },
  {
   "cell_type": "markdown",
   "id": "3593a8d3",
   "metadata": {
    "papermill": {
     "duration": 0.011424,
     "end_time": "2024-08-06T09:18:25.402237",
     "exception": false,
     "start_time": "2024-08-06T09:18:25.390813",
     "status": "completed"
    },
    "tags": []
   },
   "source": [
    "Ideas for Future:\n",
    "\n",
    "Rather than scrape ump and venue data at run time, run a function each day that runs once, scrapes websites and saves data to a csv for the program to pull from."
   ]
  },
  {
   "cell_type": "markdown",
   "id": "2c684f89",
   "metadata": {
    "papermill": {
     "duration": 0.009436,
     "end_time": "2024-08-06T09:18:25.421110",
     "exception": false,
     "start_time": "2024-08-06T09:18:25.411674",
     "status": "completed"
    },
    "tags": []
   },
   "source": [
    "Import Necessary Libraries"
   ]
  },
  {
   "cell_type": "code",
   "execution_count": 3,
   "id": "470126a5",
   "metadata": {
    "execution": {
     "iopub.execute_input": "2024-08-06T09:18:25.438990Z",
     "iopub.status.busy": "2024-08-06T09:18:25.438990Z",
     "iopub.status.idle": "2024-08-06T09:18:25.769277Z",
     "shell.execute_reply": "2024-08-06T09:18:25.769277Z"
    },
    "papermill": {
     "duration": 0.341214,
     "end_time": "2024-08-06T09:18:25.770767",
     "exception": false,
     "start_time": "2024-08-06T09:18:25.429553",
     "status": "completed"
    },
    "tags": []
   },
   "outputs": [],
   "source": [
    "import pandas as pd\n",
    "import time\n",
    "import random\n",
    "import tempfile\n",
    "import os\n",
    "from datetime import date as d\n",
    "from datetime import timedelta"
   ]
  },
  {
   "cell_type": "markdown",
   "id": "e47ea7e7",
   "metadata": {
    "papermill": {
     "duration": 0.01043,
     "end_time": "2024-08-06T09:18:25.792124",
     "exception": false,
     "start_time": "2024-08-06T09:18:25.781694",
     "status": "completed"
    },
    "tags": []
   },
   "source": [
    "Set Up API"
   ]
  },
  {
   "cell_type": "code",
   "execution_count": 4,
   "id": "f6ae3b18",
   "metadata": {
    "execution": {
     "iopub.execute_input": "2024-08-06T09:18:25.813977Z",
     "iopub.status.busy": "2024-08-06T09:18:25.813481Z",
     "iopub.status.idle": "2024-08-06T09:18:26.022082Z",
     "shell.execute_reply": "2024-08-06T09:18:26.022082Z"
    },
    "papermill": {
     "duration": 0.222011,
     "end_time": "2024-08-06T09:18:26.023075",
     "exception": false,
     "start_time": "2024-08-06T09:18:25.801064",
     "status": "completed"
    },
    "tags": []
   },
   "outputs": [],
   "source": [
    "import statsapi as api"
   ]
  },
  {
   "cell_type": "markdown",
   "id": "424b35c1",
   "metadata": {
    "papermill": {
     "duration": 0.00894,
     "end_time": "2024-08-06T09:18:26.040956",
     "exception": false,
     "start_time": "2024-08-06T09:18:26.032016",
     "status": "completed"
    },
    "tags": []
   },
   "source": [
    "Set Up Beautiful Soup"
   ]
  },
  {
   "cell_type": "code",
   "execution_count": 5,
   "id": "15531ecc",
   "metadata": {
    "execution": {
     "iopub.execute_input": "2024-08-06T09:18:26.059830Z",
     "iopub.status.busy": "2024-08-06T09:18:26.059830Z",
     "iopub.status.idle": "2024-08-06T09:18:26.113966Z",
     "shell.execute_reply": "2024-08-06T09:18:26.113966Z"
    },
    "papermill": {
     "duration": 0.066057,
     "end_time": "2024-08-06T09:18:26.114960",
     "exception": false,
     "start_time": "2024-08-06T09:18:26.048903",
     "status": "completed"
    },
    "tags": []
   },
   "outputs": [],
   "source": [
    "import re\n",
    "import requests\n",
    "from bs4 import BeautifulSoup, SoupStrainer"
   ]
  },
  {
   "cell_type": "markdown",
   "id": "78a0c33d",
   "metadata": {
    "papermill": {
     "duration": 0.00894,
     "end_time": "2024-08-06T09:18:26.132343",
     "exception": false,
     "start_time": "2024-08-06T09:18:26.123403",
     "status": "completed"
    },
    "tags": []
   },
   "source": [
    "Set Up Selenium"
   ]
  },
  {
   "cell_type": "code",
   "execution_count": 6,
   "id": "ec901e4c",
   "metadata": {
    "execution": {
     "iopub.execute_input": "2024-08-06T09:18:26.150720Z",
     "iopub.status.busy": "2024-08-06T09:18:26.150720Z",
     "iopub.status.idle": "2024-08-06T09:18:26.208651Z",
     "shell.execute_reply": "2024-08-06T09:18:26.208651Z"
    },
    "papermill": {
     "duration": 0.069354,
     "end_time": "2024-08-06T09:18:26.210141",
     "exception": false,
     "start_time": "2024-08-06T09:18:26.140787",
     "status": "completed"
    },
    "tags": []
   },
   "outputs": [],
   "source": [
    "from selenium import webdriver\n",
    "from selenium.webdriver.common.by import By\n",
    "from selenium.webdriver.chrome.service import Service\n",
    "from selenium.webdriver.chrome.options import Options\n",
    "from webdriver_manager.chrome import ChromeDriverManager\n",
    "from selenium.webdriver.support.ui import WebDriverWait\n",
    "from selenium.webdriver.support import expected_conditions as EC"
   ]
  },
  {
   "cell_type": "markdown",
   "id": "1779bed1",
   "metadata": {
    "papermill": {
     "duration": 0.008443,
     "end_time": "2024-08-06T09:18:26.227027",
     "exception": false,
     "start_time": "2024-08-06T09:18:26.218584",
     "status": "completed"
    },
    "tags": []
   },
   "source": [
    "For killing background chrome processes:"
   ]
  },
  {
   "cell_type": "code",
   "execution_count": 7,
   "id": "5f495e67",
   "metadata": {
    "execution": {
     "iopub.execute_input": "2024-08-06T09:18:26.244411Z",
     "iopub.status.busy": "2024-08-06T09:18:26.244411Z",
     "iopub.status.idle": "2024-08-06T09:18:26.246398Z",
     "shell.execute_reply": "2024-08-06T09:18:26.246398Z"
    },
    "papermill": {
     "duration": 0.012417,
     "end_time": "2024-08-06T09:18:26.247391",
     "exception": false,
     "start_time": "2024-08-06T09:18:26.234974",
     "status": "completed"
    },
    "tags": []
   },
   "outputs": [],
   "source": [
    "#import psutil\n",
    "#import subprocess\n",
    "#import signal\n",
    "\n",
    "#def kill_chrome_processes():\n",
    "#    for proc in psutil.process_iter():\n",
    "#        if 'chrome' in proc.name() or 'chromedriver' in proc.name:\n",
    "#            proc.kill()"
   ]
  },
  {
   "cell_type": "markdown",
   "id": "9bc2af8f",
   "metadata": {
    "papermill": {
     "duration": 0.008443,
     "end_time": "2024-08-06T09:18:26.264278",
     "exception": false,
     "start_time": "2024-08-06T09:18:26.255835",
     "status": "completed"
    },
    "tags": []
   },
   "source": [
    "Input Player Name and Date\n",
    "\n",
    "\n",
    "NEED TO CHECK AND FIX ALL CELLS: IF STATS FOR SOMETHING DO NOT EXIST NEED TO DEAL WITH THAT!\n",
    "\n",
    "ALSO NEED TO ENSURE CORRECT VALUES ARE PASSED IN FOR COMPUTING CORRECT VALUES\n",
    "\n",
    "NEED TO CHECK PLAYER AVG OVER X GAMES - NEED TO COMPUTE PLAYER AVG OVER LAST GAME FOR PAST SEASONS AS WELL\n",
    "\n",
    "NEED TO ENSURE THAT ALL DATA IS OF CORRECT TYPE, CORRECT VALUES, CORRECT YEARS, AND IF NONE NEEDS TO BE HANDLED\n",
    "\n",
    "FIX CURRENT SET UP FOR COMPUTING AVERAGES. SHIT IS BUGGY AS FUCK\n",
    "\n",
    "IF IT APPEARS TO BE GOOD: THERE WILL BE :P NEXT TO IT. IF NEEDS ADJUSTMENTS, VERIFICATION, OR REWORK, :( NEXT TO IT\n",
    "\n",
    "ESPECIALLY DECIDE HOW TO DEAL WITH EDGE CASES AND DIVISION BY 0.\n",
    "\n",
    "WALKS, HIT BY PITCH, AND SAC FLIES DO NOT COUNT AS AN AT BAT\n",
    "\n",
    "TOTAL BASES ARE ONLY BASES REACHED VIA HITS."
   ]
  },
  {
   "cell_type": "code",
   "execution_count": 8,
   "id": "49161989",
   "metadata": {
    "execution": {
     "iopub.execute_input": "2024-08-06T09:18:26.283152Z",
     "iopub.status.busy": "2024-08-06T09:18:26.283152Z",
     "iopub.status.idle": "2024-08-06T09:18:26.286132Z",
     "shell.execute_reply": "2024-08-06T09:18:26.285635Z"
    },
    "papermill": {
     "duration": 0.014404,
     "end_time": "2024-08-06T09:18:26.287125",
     "exception": false,
     "start_time": "2024-08-06T09:18:26.272721",
     "status": "completed"
    },
    "tags": []
   },
   "outputs": [],
   "source": [
    "first_name = player_first_name_param\n",
    "last_name = player_last_name_param\n",
    "date = date_param\n",
    "#first_name = 'Bryce'\n",
    "#last_name = 'Harper'\n",
    "#date = '2024-03-29'\n",
    "umpire_data = umpire_data_param\n",
    "venue_data = venue_data_param\n",
    "#date = input('Enter Date: ')\n",
    "og_date = date\n",
    "year = int(date[:4])\n",
    "last_year = year - 1\n",
    "player_name = f'{first_name.lower()} {last_name.lower()}'\n"
   ]
  },
  {
   "cell_type": "markdown",
   "id": "8e1fff7d",
   "metadata": {
    "papermill": {
     "duration": 0.007946,
     "end_time": "2024-08-06T09:18:26.304011",
     "exception": false,
     "start_time": "2024-08-06T09:18:26.296065",
     "status": "completed"
    },
    "tags": []
   },
   "source": [
    "fetch player_id :P"
   ]
  },
  {
   "cell_type": "code",
   "execution_count": 9,
   "id": "f9f4d104",
   "metadata": {
    "execution": {
     "iopub.execute_input": "2024-08-06T09:18:26.322388Z",
     "iopub.status.busy": "2024-08-06T09:18:26.322388Z",
     "iopub.status.idle": "2024-08-06T09:18:26.765245Z",
     "shell.execute_reply": "2024-08-06T09:18:26.764748Z"
    },
    "papermill": {
     "duration": 0.453783,
     "end_time": "2024-08-06T09:18:26.766735",
     "exception": false,
     "start_time": "2024-08-06T09:18:26.312952",
     "status": "completed"
    },
    "tags": []
   },
   "outputs": [
    {
     "name": "stdout",
     "output_type": "stream",
     "text": [
      "trea turner\n"
     ]
    }
   ],
   "source": [
    "player_info = api.lookup_player(player_name, season=year)\n",
    "print(player_name)\n",
    "player_name = player_info[0]['fullName']\n",
    "player_id = player_info[0]['id']\n",
    "team_id = player_info[0]['currentTeam']['id']\n",
    "team_info = api.lookup_team(team_id, season=year)\n",
    "team_name = team_info[0]['name']\n",
    "team_abv = team_info[0]['fileCode'].upper()\n",
    "\n",
    "if len(team_abv) < 3:\n",
    "    team_abv = f'{team_abv}{team_info[0]['teamName'][0]}'\n",
    "\n",
    "#print(player_name)\n",
    "#print(player_id)\n",
    "#print(team_name)\n",
    "#print(team_abv)\n",
    "#print(team_id)"
   ]
  },
  {
   "cell_type": "markdown",
   "id": "f32c09a7",
   "metadata": {
    "papermill": {
     "duration": 0.018377,
     "end_time": "2024-08-06T09:18:26.802495",
     "exception": false,
     "start_time": "2024-08-06T09:18:26.784118",
     "status": "completed"
    },
    "tags": []
   },
   "source": [
    "Gather batter_hand, batter_age, , batter_strike_zone_top, batter_strike_zone_bottom :P"
   ]
  },
  {
   "cell_type": "code",
   "execution_count": 10,
   "id": "0451baa3",
   "metadata": {
    "execution": {
     "iopub.execute_input": "2024-08-06T09:18:26.823851Z",
     "iopub.status.busy": "2024-08-06T09:18:26.823355Z",
     "iopub.status.idle": "2024-08-06T09:18:26.992900Z",
     "shell.execute_reply": "2024-08-06T09:18:26.992402Z"
    },
    "papermill": {
     "duration": 0.180967,
     "end_time": "2024-08-06T09:18:26.994389",
     "exception": false,
     "start_time": "2024-08-06T09:18:26.813422",
     "status": "completed"
    },
    "tags": []
   },
   "outputs": [],
   "source": [
    "person_info = api.get('people',{'personIds':player_id, 'season':year,'sportId':1})\n",
    "batter_hand = person_info['people'][0]['batSide']['code']\n",
    "batter_age = person_info['people'][0]['currentAge']\n",
    "batter_strike_zone_top = person_info['people'][0]['strikeZoneTop']\n",
    "batter_strike_zone_bottom = person_info['people'][0]['strikeZoneBottom']\n",
    "batter_starting_year = int(person_info['people'][0]['mlbDebutDate'][:4])\n",
    "batter_year = year - batter_starting_year\n",
    "\n",
    "\n",
    "#print(batter_age)\n",
    "#print(batter_year)\n",
    "#print(batter_hand)\n",
    "#print(batter_strike_zone_top)\n",
    "#print(batter_strike_zone_bottom)"
   ]
  },
  {
   "cell_type": "markdown",
   "id": "9529a917",
   "metadata": {
    "papermill": {
     "duration": 0.017882,
     "end_time": "2024-08-06T09:18:27.030150",
     "exception": false,
     "start_time": "2024-08-06T09:18:27.012268",
     "status": "completed"
    },
    "tags": []
   },
   "source": [
    "fetch game_pk, home, opp_id, venue_id, sPitcher_id, sPitcher_hand :P"
   ]
  },
  {
   "cell_type": "code",
   "execution_count": 11,
   "id": "5861c105",
   "metadata": {
    "execution": {
     "iopub.execute_input": "2024-08-06T09:18:27.058957Z",
     "iopub.status.busy": "2024-08-06T09:18:27.058460Z",
     "iopub.status.idle": "2024-08-06T09:18:28.081484Z",
     "shell.execute_reply": "2024-08-06T09:18:28.080986Z"
    },
    "papermill": {
     "duration": 1.034944,
     "end_time": "2024-08-06T09:18:28.083469",
     "exception": false,
     "start_time": "2024-08-06T09:18:27.048525",
     "status": "completed"
    },
    "tags": []
   },
   "outputs": [],
   "source": [
    "game_info = api.schedule(date=og_date,team=team_id,sportId=1)\n",
    "game_pk = game_info[0]['game_id']\n",
    "home_team_id = game_info[0]['home_id']\n",
    "if home_team_id == team_id:\n",
    "    home = True\n",
    "    opp_id = game_info[0]['away_id']\n",
    "    sPitcher_name = game_info[0]['away_probable_pitcher']\n",
    "else:\n",
    "    home = False\n",
    "    opp_id = game_info[0]['home_id']\n",
    "    sPitcher_name = game_info[0]['home_probable_pitcher']\n",
    "\n",
    "if sPitcher_name == '':\n",
    "    sPitcher_name = None\n",
    "    sPitcher_id = None\n",
    "    sPitcher_hand = None\n",
    "else:\n",
    "    sPitcher_info = api.lookup_player(sPitcher_name)\n",
    "    sPitcher_id = sPitcher_info[0]['id']\n",
    "    sPitcher_info_2 = api.get('people',{'personIds':sPitcher_id, 'season':year,'sportId':1})\n",
    "    sPitcher_hand = sPitcher_info_2['people'][0]['pitchHand']['code']\n",
    "\n",
    "venue_id = game_info[0]['venue_id']\n",
    "venue_name = game_info[0]['venue_name']\n",
    "\n",
    "if game_info[0]['status'] == 'Final':\n",
    "    game_status = True\n",
    "else:\n",
    "    game_status = False\n",
    "\n",
    "opp_info = api.lookup_team(opp_id, season=year)\n",
    "\n",
    "opp_name = opp_info[0]['name']\n",
    "opp_abv = opp_info[0]['fileCode'].upper()\n",
    "\n",
    "if len(opp_abv) < 3:\n",
    "    opp_abv = f'{opp_abv}{opp_info[0]['teamName'][0]}'\n",
    "\n",
    "#print(game_status)\n",
    "#print(game_pk)\n",
    "#print(opp_name)\n",
    "#print(opp_abv)\n",
    "#print(opp_id)\n",
    "#print(sPitcher_name)\n",
    "#print(sPitcher_id)\n",
    "#print(sPitcher_hand)\n",
    "#print(venue_name)\n",
    "#print(venue_id)\n",
    "#print(home)"
   ]
  },
  {
   "cell_type": "markdown",
   "id": "d616efe8",
   "metadata": {
    "papermill": {
     "duration": 0.009932,
     "end_time": "2024-08-06T09:18:28.110289",
     "exception": false,
     "start_time": "2024-08-06T09:18:28.100357",
     "status": "completed"
    },
    "tags": []
   },
   "source": [
    "fetch player game stats: temp, wind_speed, hp_ump_id, game_time. Fetch list of proj_ump_ids if Home Plate Umpire not yet specified :(\n",
    "\n",
    "What should happen when this data isnt uploaded yet?"
   ]
  },
  {
   "cell_type": "code",
   "execution_count": 12,
   "id": "739ab7e3",
   "metadata": {
    "execution": {
     "iopub.execute_input": "2024-08-06T09:18:28.131150Z",
     "iopub.status.busy": "2024-08-06T09:18:28.130653Z",
     "iopub.status.idle": "2024-08-06T09:18:28.908199Z",
     "shell.execute_reply": "2024-08-06T09:18:28.907703Z"
    },
    "papermill": {
     "duration": 0.789963,
     "end_time": "2024-08-06T09:18:28.909690",
     "exception": false,
     "start_time": "2024-08-06T09:18:28.119727",
     "status": "completed"
    },
    "tags": []
   },
   "outputs": [],
   "source": [
    "game_boxscore_info = api.boxscore_data(gamePk=game_pk)\n",
    "\n",
    "temp = None\n",
    "wind_speed = None\n",
    "\n",
    "for x in game_boxscore_info['gameBoxInfo']:\n",
    "    if x.get('label') == 'Weather':\n",
    "        temp_info = x['value']\n",
    "        temps = re.findall(r'\\d+', temp_info)\n",
    "        if temps:\n",
    "            temp = int(temps[0])\n",
    "            \n",
    "\n",
    "    if x.get('label') == 'Wind':\n",
    "        wind_speed_info = x['value']\n",
    "        winds = re.findall(r'\\d+', wind_speed_info)\n",
    "        if winds:\n",
    "            wind_speed = int(winds[0])\n",
    "            \n",
    "\n",
    "    #if x.get('label') == 'First pitch':\n",
    "    #    time_str = x['value'].strip('.')\n",
    "    #    time_part, period = time_str.split(' ')\n",
    "    #    hour_str, min_str = time_part.split(':')\n",
    "    \n",
    "    #    if period.lower() == 'am':\n",
    "    #        game_time_str = f'{hour_str}{min_str}'\n",
    "        \n",
    "    #    elif period.lower() == 'pm':\n",
    "    #        game_time_str = f'{int(hour_str) + 12}{min_str}'\n",
    "        \n",
    "    #    game_time = int(game_time_str)\n",
    "\n",
    "\n",
    "    if x.get('label') == 'Umpires':\n",
    "        ump_info = x['value']\n",
    "        proj_ump_ids = []\n",
    "        proj_umps = []\n",
    "        if 'HP:' in ump_info:\n",
    "            pattern = r'HP: (.*?)\\.'\n",
    "            match = re.search(pattern, ump_info)\n",
    "            if match:\n",
    "                hp_ump = match.group(1)\n",
    "                hp_ump_info = api.get('jobs_umpires', {})\n",
    "                for person in hp_ump_info['roster']:\n",
    "                    if person['person'].get('fullName') == hp_ump:\n",
    "                        hp_ump_id = person['person'].get('id')\n",
    "                        proj_umps.append(hp_ump)\n",
    "                        proj_ump_ids.append(hp_ump_id)\n",
    "\n",
    "        elif ump_info:\n",
    "            umps = re.findall(r'[\\w\\s]+', ump_info)\n",
    "            umps = [ump.strip() for ump in umps if ump.strip]\n",
    "            ump_list = list(umps) + [None]*(4-len(umps))\n",
    "            umps_tuple = tuple(ump_list[:4])\n",
    "            for ump in umps_tuple:\n",
    "                ump_info = api.get('jobs_umpires',{})\n",
    "                for person in ump_info['roster']:\n",
    "                    if person['person'].get('fullName') == ump:\n",
    "                        ump_id = person['person'].get('id')\n",
    "                        proj_umps.append(ump)\n",
    "                        proj_ump_ids.append(ump_id)\n",
    "\n",
    "game_datetime = api.schedule(game_id=game_pk)[0]['game_datetime'][11:16]\n",
    "hour_str, min_str = game_datetime.split(':')\n",
    "game_hour = int(hour_str) - 4\n",
    "if game_hour < 0:\n",
    "    game_hour += 24\n",
    "\n",
    "game_time = int(f'{str(game_hour)}{min_str}')\n",
    "\n",
    "#print(temp)\n",
    "#print(wind_speed)\n",
    "#print(game_time)\n",
    "#print(proj_ump_ids)\n",
    "#print(proj_umps)\n",
    "\n"
   ]
  },
  {
   "cell_type": "markdown",
   "id": "9ce9311b",
   "metadata": {
    "papermill": {
     "duration": 0.00894,
     "end_time": "2024-08-06T09:18:28.929060",
     "exception": false,
     "start_time": "2024-08-06T09:18:28.920120",
     "status": "completed"
    },
    "tags": []
   },
   "source": [
    "fetch player game data: :P\n",
    "- batting position"
   ]
  },
  {
   "cell_type": "code",
   "execution_count": 13,
   "id": "7e5915fb",
   "metadata": {
    "execution": {
     "iopub.execute_input": "2024-08-06T09:18:28.949423Z",
     "iopub.status.busy": "2024-08-06T09:18:28.948926Z",
     "iopub.status.idle": "2024-08-06T09:18:29.111686Z",
     "shell.execute_reply": "2024-08-06T09:18:29.111189Z"
    },
    "papermill": {
     "duration": 0.175674,
     "end_time": "2024-08-06T09:18:29.113673",
     "exception": false,
     "start_time": "2024-08-06T09:18:28.937999",
     "status": "completed"
    },
    "tags": []
   },
   "outputs": [],
   "source": [
    "game_content = api.boxscore_data(gamePk=game_pk)\n",
    "if home == True:\n",
    "    batters_info = game_content['homeBatters']\n",
    "else:\n",
    "    batters_info = game_content['awayBatters']\n",
    "\n",
    "batting_position = None\n",
    "\n",
    "for batter in batters_info:\n",
    "    if batter.get('personId') == player_id:\n",
    "        batting_position = int(batter.get('battingOrder')[0])\n",
    "\n",
    "#print (batting_position)"
   ]
  },
  {
   "cell_type": "markdown",
   "id": "e2c07ec0",
   "metadata": {
    "papermill": {
     "duration": 0.018873,
     "end_time": "2024-08-06T09:18:29.149929",
     "exception": false,
     "start_time": "2024-08-06T09:18:29.131056",
     "status": "completed"
    },
    "tags": []
   },
   "source": [
    "fetch game player stats :P\n",
    "- If game_status == True\n",
    "    - gather player stats\n",
    "- If game_status == False\n",
    "    - set player stats to None"
   ]
  },
  {
   "cell_type": "code",
   "execution_count": 14,
   "id": "5ced78cf",
   "metadata": {
    "execution": {
     "iopub.execute_input": "2024-08-06T09:18:29.178240Z",
     "iopub.status.busy": "2024-08-06T09:18:29.177743Z",
     "iopub.status.idle": "2024-08-06T09:18:29.505884Z",
     "shell.execute_reply": "2024-08-06T09:18:29.505387Z"
    },
    "papermill": {
     "duration": 0.349003,
     "end_time": "2024-08-06T09:18:29.507376",
     "exception": false,
     "start_time": "2024-08-06T09:18:29.158373",
     "status": "completed"
    },
    "tags": []
   },
   "outputs": [],
   "source": [
    "if game_status == True:\n",
    "    game_stats_info = api.get('person_stats',{'personId':player_id,'gamePk':game_pk})\n",
    "    game_stats = game_stats_info['stats'][0]['splits'][2]['stat']\n",
    "    pa = game_stats.get('plateAppearances')\n",
    "    ab = game_stats.get('atBats')\n",
    "    h = game_stats.get('hits')\n",
    "    r = game_stats.get('runs')\n",
    "    rbi = game_stats.get('rbi')\n",
    "    hr = game_stats.get('homeRuns')\n",
    "    tb = game_stats.get('totalBases')\n",
    "    k = game_stats.get('strikeOuts')\n",
    "    bb = game_stats.get('baseOnBalls')\n",
    "\n",
    "else:\n",
    "    pa = None\n",
    "    ab = None\n",
    "    h = None\n",
    "    r = None\n",
    "    rbi = None\n",
    "    hr = None\n",
    "    tb = None\n",
    "    k = None\n",
    "    bb = None\n",
    "\n",
    "batter_game_stats_dict = {'pa': pa, 'ab': ab, 'h': h, 'r': r, 'rbi': rbi, 'hr': hr, 'tb': tb, 'k': k, 'bb': bb}\n",
    "\n",
    "batter_game_stats_df = pd.DataFrame([batter_game_stats_dict])\n",
    "\n",
    "#print(batter_game_stats_df)\n"
   ]
  },
  {
   "cell_type": "markdown",
   "id": "91985608",
   "metadata": {
    "papermill": {
     "duration": 0.01788,
     "end_time": "2024-08-06T09:18:29.543630",
     "exception": false,
     "start_time": "2024-08-06T09:18:29.525750",
     "status": "completed"
    },
    "tags": []
   },
   "source": [
    "Determine Whether Most Recent Streak Averages, or Historical Streak Averages are Needed for Player"
   ]
  },
  {
   "cell_type": "markdown",
   "id": "1ad38d24",
   "metadata": {
    "papermill": {
     "duration": 0.011424,
     "end_time": "2024-08-06T09:18:29.576908",
     "exception": false,
     "start_time": "2024-08-06T09:18:29.565484",
     "status": "completed"
    },
    "tags": []
   },
   "source": [
    "Set a list of User Agents"
   ]
  },
  {
   "cell_type": "code",
   "execution_count": 15,
   "id": "c6084e77",
   "metadata": {
    "execution": {
     "iopub.execute_input": "2024-08-06T09:18:29.611676Z",
     "iopub.status.busy": "2024-08-06T09:18:29.611676Z",
     "iopub.status.idle": "2024-08-06T09:18:29.613661Z",
     "shell.execute_reply": "2024-08-06T09:18:29.613661Z"
    },
    "papermill": {
     "duration": 0.020861,
     "end_time": "2024-08-06T09:18:29.614655",
     "exception": false,
     "start_time": "2024-08-06T09:18:29.593794",
     "status": "completed"
    },
    "tags": []
   },
   "outputs": [],
   "source": [
    "user_agents = [\n",
    "    'Mozilla/5.0 (Windows NT 10.0; Win64; x64) AppleWebKit/537.36 (KHTML, like Gecko) Chrome/92.0.4515.131 Safari/537.36',\n",
    "    'Mozilla/5.0 (Macintosh; Intel Mac OS X 10_15_7) AppleWebKit/537.36 (KHTML, like Gecko) Chrome/92.0.4515.131 Safari/537.36',\n",
    "    'Mozilla/5.0 (X11; Linux x86_64) AppleWebKit/537.36 (KHTML, like Gecko) Chrome/92.0.4515.131 Safari/537.36',\n",
    "    'Mozilla/5.0 (Windows NT 10.0; Win64; x64; rv:91.0) Gecko/20100101 Firefox/91.0',\n",
    "    'Mozilla/5.0 (Macintosh; Intel Mac OS X 10.15; rv:91.0) Gecko/20100101 Firefox/91.0',\n",
    "    'Mozilla/5.0 (X11; Ubuntu; Linux x86_64; rv:91.0) Gecko/20100101 Firefox/91.0',\n",
    "    'Mozilla/5.0 (Windows NT 10.0; Win64; x64) AppleWebKit/537.36 (KHTML, like Gecko) Chrome/92.0.4515.131 Safari/537.36 Edg/92.0.902.67',\n",
    "    'Mozilla/5.0 (Macintosh; Intel Mac OS X 10_15_7) AppleWebKit/605.1.15 (KHTML, like Gecko) Version/14.1.2 Safari/605.1.15',\n",
    "    'Mozilla/5.0 (iPhone; CPU iPhone OS 14_7_1 like Mac OS X) AppleWebKit/605.1.15 (KHTML, like Gecko) Version/14.1.2 Mobile/15E148 Safari/604.1',\n",
    "    'Mozilla/5.0 (Windows NT 10.0; Win64; x64) AppleWebKit/537.36 (KHTML, like Gecko) Chrome/92.0.4515.131 Safari/537.36 OPR/78.0.4093.147',\n",
    "    'Mozilla/5.0 (Macintosh; Intel Mac OS X 10_15_7) AppleWebKit/537.36 (KHTML, like Gecko) Chrome/92.0.4515.131 Safari/537.36 OPR/78.0.4093.147',\n",
    "    'Mozilla/5.0 (Windows NT 10.0; Win64; x64) AppleWebKit/537.36 (KHTML, like Gecko) Chrome/92.0.4515.131 Safari/537.36 Brave/1.27.109',\n",
    "    'Mozilla/5.0 (Linux; Android 11; SM-G998B) AppleWebKit/537.36 (KHTML, like Gecko) Chrome/91.0.4472.164 Mobile Safari/537.36 SamsungBrowser/15.0',\n",
    "    'Mozilla/5.0 (Linux; U; Android 10; en-US; SM-G973F) AppleWebKit/537.36 (KHTML, like Gecko) Version/4.0 Mobile Safari/537.36 UCBrowser/13.4.0.1306',\n",
    "    'Mozilla/5.0 (Windows NT 10.0; Trident/7.0; rv:11.0) like Gecko',\n",
    "    'Mozilla/5.0 (Linux; Android 11; Pixel 5) AppleWebKit/537.36 (KHTML, like Gecko) Chrome/92.0.4515.131 Mobile Safari/537.36',\n",
    "    'Mozilla/5.0 (iPhone; CPU iPhone OS 14_7_1 like Mac OS X) AppleWebKit/605.1.15 (KHTML, like Gecko) CriOS/92.0.4515.90 Mobile/15E148 Safari/604.1',\n",
    "    'Mozilla/5.0 (Android 11; Mobile; rv:91.0) Gecko/91.0 Firefox/91.0',\n",
    "    'Mozilla/5.0 (Linux; Android 11; Pixel 4a) AppleWebKit/537.36 (KHTML, like Gecko) Chrome/92.0.4515.131 Mobile Safari/537.36 EdgA/46.03.4.5155',\n",
    "    'Mozilla/5.0 (Linux; Android 11; SM-G975F) AppleWebKit/537.36 (KHTML, like Gecko) Chrome/92.0.4515.131 Mobile Safari/537.36 OPR/63.3.3216.58675'\n",
    "]"
   ]
  },
  {
   "cell_type": "markdown",
   "id": "a39da51d",
   "metadata": {
    "papermill": {
     "duration": 0.00894,
     "end_time": "2024-08-06T09:18:29.632038",
     "exception": false,
     "start_time": "2024-08-06T09:18:29.623098",
     "status": "completed"
    },
    "tags": []
   },
   "source": [
    "Format Player URL for baseballreference.com"
   ]
  },
  {
   "cell_type": "code",
   "execution_count": 16,
   "id": "d1e6aefa",
   "metadata": {
    "execution": {
     "iopub.execute_input": "2024-08-06T09:18:29.653395Z",
     "iopub.status.busy": "2024-08-06T09:18:29.653395Z",
     "iopub.status.idle": "2024-08-06T09:18:32.975322Z",
     "shell.execute_reply": "2024-08-06T09:18:32.974826Z"
    },
    "papermill": {
     "duration": 3.332854,
     "end_time": "2024-08-06T09:18:32.976812",
     "exception": false,
     "start_time": "2024-08-06T09:18:29.643958",
     "status": "completed"
    },
    "tags": []
   },
   "outputs": [],
   "source": [
    "initial = last_name[:1].lower()\n",
    "\n",
    "full_name = f'{first_name} {last_name}'.lower()\n",
    "\n",
    "url = f'https://www.baseball-reference.com/players/{initial}/'\n",
    "headers = {'User_Agent': random.choice(user_agents)}\n",
    "\n",
    "time.sleep(3)\n",
    "\n",
    "response = requests.get(url, headers=headers)\n",
    "response.raise_for_status()\n",
    "\n",
    "soup = BeautifulSoup(response.content, 'html.parser')\n",
    "\n",
    "initial_section = soup.find('div', class_=\"section_content\", id=\"div_players_\")\n",
    "\n",
    "if initial_section:\n",
    "    active_players = initial_section.find_all('b')\n",
    "    for players in active_players:\n",
    "        player = players.find('a')\n",
    "        years_playing = players.get_text()[(len(players.get_text()) - 11):]\n",
    "        if full_name == player.get_text().lower():\n",
    "            start_year = int(years_playing[1:5])\n",
    "            end_year = year\n",
    "            if year in range(start_year, end_year + 1):\n",
    "                player_link = player['href']\n",
    "                a, b, c, player_key = player_link.split('/')\n",
    "                formatted_player_key, d = player_key.split('.')\n",
    "\n",
    "#print(formatted_player_key)"
   ]
  },
  {
   "cell_type": "markdown",
   "id": "1c7d8de1",
   "metadata": {
    "papermill": {
     "duration": 0.01043,
     "end_time": "2024-08-06T09:18:32.996976",
     "exception": false,
     "start_time": "2024-08-06T09:18:32.986546",
     "status": "completed"
    },
    "tags": []
   },
   "source": [
    "Collect Data for Games Played Up to Desired Date\n",
    "    - For entirely current year, or entirely last year"
   ]
  },
  {
   "cell_type": "markdown",
   "id": "5c45380d",
   "metadata": {
    "papermill": {
     "duration": 0.00894,
     "end_time": "2024-08-06T09:18:33.015849",
     "exception": false,
     "start_time": "2024-08-06T09:18:33.006909",
     "status": "completed"
    },
    "tags": []
   },
   "source": [
    "Format Player Game Data URL"
   ]
  },
  {
   "cell_type": "code",
   "execution_count": 17,
   "id": "cfe4a662",
   "metadata": {
    "execution": {
     "iopub.execute_input": "2024-08-06T09:18:33.034723Z",
     "iopub.status.busy": "2024-08-06T09:18:33.034723Z",
     "iopub.status.idle": "2024-08-06T09:18:33.188419Z",
     "shell.execute_reply": "2024-08-06T09:18:33.187922Z"
    },
    "papermill": {
     "duration": 0.165617,
     "end_time": "2024-08-06T09:18:33.189909",
     "exception": false,
     "start_time": "2024-08-06T09:18:33.024292",
     "status": "completed"
    },
    "tags": []
   },
   "outputs": [],
   "source": [
    "season_start_date = api.get('season', {'seasonId': year, 'sportId': 1})['seasons'][0]['regularSeasonStartDate']\n",
    "\n",
    "if date == season_start_date:\n",
    "    date = api.get('season', {'seasonId': last_year, 'sportId': 1})['seasons'][0]['postSeasonEndDate']\n",
    "    search_url = f'https://www.baseball-reference.com/players/gl.fcgi?id={formatted_player_key}&t=b&year={last_year}#batting_gamelogs'\n",
    "else:\n",
    "    search_url = f'https://www.baseball-reference.com/players/gl.fcgi?id={formatted_player_key}&t=b&year={year}#batting_gamelogs'\n",
    "\n",
    "#print(search_url)"
   ]
  },
  {
   "cell_type": "markdown",
   "id": "848c3f77",
   "metadata": {
    "papermill": {
     "duration": 0.018871,
     "end_time": "2024-08-06T09:18:33.226660",
     "exception": false,
     "start_time": "2024-08-06T09:18:33.207789",
     "status": "completed"
    },
    "tags": []
   },
   "source": [
    "Set Correct Date"
   ]
  },
  {
   "cell_type": "code",
   "execution_count": 18,
   "id": "7bdedbd7",
   "metadata": {
    "execution": {
     "iopub.execute_input": "2024-08-06T09:18:33.250500Z",
     "iopub.status.busy": "2024-08-06T09:18:33.250500Z",
     "iopub.status.idle": "2024-08-06T09:18:33.252984Z",
     "shell.execute_reply": "2024-08-06T09:18:33.252984Z"
    },
    "papermill": {
     "duration": 0.018377,
     "end_time": "2024-08-06T09:18:33.253977",
     "exception": false,
     "start_time": "2024-08-06T09:18:33.235600",
     "status": "completed"
    },
    "tags": []
   },
   "outputs": [],
   "source": [
    "from datetime import date as d\n",
    "\n",
    "day = int(date[8:10])\n",
    "month = int(date[5:7])\n",
    "\n",
    "date_dt = d(year, month, day)\n",
    "\n",
    "new_date_dt = date_dt - timedelta(days=1)\n",
    "\n",
    "date = new_date_dt.strftime(\"%Y-%m-%d\")\n",
    "\n",
    "day = int(date[8:10])\n",
    "month = int(date[5:7])\n",
    "\n",
    "#print(date)\n",
    "#print(day)\n",
    "#print(month)"
   ]
  },
  {
   "cell_type": "markdown",
   "id": "3f3aa75e",
   "metadata": {
    "papermill": {
     "duration": 0.010431,
     "end_time": "2024-08-06T09:18:33.273348",
     "exception": false,
     "start_time": "2024-08-06T09:18:33.262917",
     "status": "completed"
    },
    "tags": []
   },
   "source": [
    "Scrape Player Game Data"
   ]
  },
  {
   "cell_type": "code",
   "execution_count": 19,
   "id": "888f299d",
   "metadata": {
    "execution": {
     "iopub.execute_input": "2024-08-06T09:18:33.295697Z",
     "iopub.status.busy": "2024-08-06T09:18:33.295201Z",
     "iopub.status.idle": "2024-08-06T09:18:36.642829Z",
     "shell.execute_reply": "2024-08-06T09:18:36.642332Z"
    },
    "papermill": {
     "duration": 3.360046,
     "end_time": "2024-08-06T09:18:36.643823",
     "exception": false,
     "start_time": "2024-08-06T09:18:33.283777",
     "status": "completed"
    },
    "tags": []
   },
   "outputs": [
    {
     "name": "stdout",
     "output_type": "stream",
     "text": [
      "    game_num   date_game opp_ID  PA  AB  H  R  RBI  2B  3B  HR  TB  BB  SO  \\\n",
      "0          1  2024-03-29    ATL   4   4  0  0    0   0   0   0   0   0   1   \n",
      "1          2  2024-03-30    ATL   4   3  1  0    0   0   0   0   1   1   1   \n",
      "2          3  2024-03-31    ATL   4   4  1  1    1   0   0   0   1   0   2   \n",
      "3          4  2024-04-01    CIN   5   4  2  1    1   0   0   0   2   1   0   \n",
      "4          5  2024-04-02    CIN   5   4  1  2    0   0   0   0   1   1   2   \n",
      "..       ...         ...    ...  ..  .. .. ..  ...  ..  ..  ..  ..  ..  ..   \n",
      "66        67  2024-07-29    NYY   5   4  0  1    1   0   0   0   0   1   1   \n",
      "67        68  2024-07-30    NYY   6   6  1  0    0   0   0   0   1   0   1   \n",
      "68        69  2024-08-02    SEA   3   3  0  0    0   0   0   0   0   0   0   \n",
      "69        70  2024-08-03    SEA   5   5  2  1    0   1   0   0   3   0   2   \n",
      "70        71  2024-08-04    SEA   5   4  0  1    0   0   0   0   0   1   1   \n",
      "\n",
      "       BA    OBP    SLG  HBP  \n",
      "0   0.000  0.000  0.000    0  \n",
      "1   0.143  0.250  0.143    0  \n",
      "2   0.182  0.250  0.182    0  \n",
      "3   0.267  0.353  0.267    0  \n",
      "4   0.263  0.364  0.263    0  \n",
      "..    ...    ...    ...  ...  \n",
      "66  0.321  0.371  0.511    0  \n",
      "67  0.318  0.367  0.503    0  \n",
      "68  0.315  0.363  0.498    0  \n",
      "69  0.316  0.364  0.500    0  \n",
      "70  0.312  0.361  0.493    0  \n",
      "\n",
      "[71 rows x 18 columns]\n"
     ]
    }
   ],
   "source": [
    "headers = {'User_Agent': random.choice(user_agents)}\n",
    "\n",
    "time.sleep(3)\n",
    "\n",
    "response = requests.get(search_url, headers=headers)\n",
    "response.raise_for_status()\n",
    "\n",
    "soup = BeautifulSoup(response.content, 'html.parser')\n",
    "\n",
    "table_rows = soup.find_all('tr', id=lambda x: x and x.startswith('batting_gamelogs'))\n",
    "\n",
    "if table_rows:\n",
    "\n",
    "    data = []\n",
    "\n",
    "    for row in table_rows:\n",
    "\n",
    "        row_data = {}\n",
    "\n",
    "        th = row.find('th')\n",
    "        \n",
    "        row_num = th.text\n",
    "        \n",
    "        row_data['game_num'] = row_num\n",
    "\n",
    "        for td in row.find_all('td'):\n",
    "\n",
    "            stat_type = td['data-stat']\n",
    "\n",
    "            if stat_type == 'date_game':\n",
    "                stat_value = td['csk'][:10]\n",
    "            else:\n",
    "                stat_value = td.text\n",
    "\n",
    "            row_data[stat_type] = stat_value\n",
    "\n",
    "        if row_data:\n",
    "\n",
    "            game_day = int(row_data['date_game'][8:10])\n",
    "            game_month = int(row_data['date_game'][5:7])\n",
    "\n",
    "            if game_month < month:\n",
    "                    data.append(row_data)\n",
    "            elif game_month == month:\n",
    "                if game_day <= day:\n",
    "                     data.append(row_data)\n",
    "\n",
    "    if data:\n",
    "        df = pd.DataFrame(data)\n",
    "\n",
    "        df.rename(columns={\n",
    "            'batting_avg': 'BA',\n",
    "            'onbase_perc': 'OBP',\n",
    "            'slugging_perc': 'SLG',\n",
    "        }, inplace=True)\n",
    "\n",
    "        all_columns = df.columns.tolist()\n",
    "\n",
    "        columns_to_keep = ['game_num', 'date_game', 'opp_ID', 'PA', 'AB', 'R', 'H', '2B', '3B', 'HR', 'RBI', 'BB', 'SO', 'BA', 'OBP', 'SLG', 'HBP']\n",
    "\n",
    "        columns_to_drop = [column for column in all_columns if column not in columns_to_keep]\n",
    "\n",
    "        correct_columns_df = df.drop(columns_to_drop, axis=1)\n",
    "\n",
    "        columns_to_convert_int = ['game_num', 'PA', 'AB', 'R', 'H', '2B', '3B', 'HR', 'RBI', 'BB', 'SO', 'HBP']\n",
    "\n",
    "        columns_to_convert_float = ['BA', 'OBP', 'SLG']\n",
    "\n",
    "        for column in columns_to_convert_int:\n",
    "            correct_columns_df[column] = correct_columns_df[column].astype(int)\n",
    "\n",
    "        for column in columns_to_convert_float:\n",
    "            correct_columns_df[column] = correct_columns_df[column].astype(float)\n",
    "\n",
    "        correct_columns_df['TB'] = correct_columns_df.apply(lambda row: (row['H'] - row['2B'] - row['3B'] - row['HR']) + 2*row['2B'] + 3*row['3B'] + 4*row['HR'], axis=1)\n",
    "\n",
    "        column_order = ['game_num', 'date_game', 'opp_ID', 'PA', 'AB', 'H', 'R', 'RBI', '2B', '3B', 'HR', 'TB', 'BB', 'SO', 'BA', 'OBP', 'SLG', 'HBP']\n",
    "        correct_columns_df = correct_columns_df[column_order]\n",
    "    \n",
    "    else:\n",
    "        correct_columns_df = None\n",
    "\n",
    "else:\n",
    "    correct_columns_df = None\n",
    "\n",
    "print(correct_columns_df)\n"
   ]
  },
  {
   "cell_type": "markdown",
   "id": "adbaafb4",
   "metadata": {
    "papermill": {
     "duration": 0.008939,
     "end_time": "2024-08-06T09:18:36.662198",
     "exception": false,
     "start_time": "2024-08-06T09:18:36.653259",
     "status": "completed"
    },
    "tags": []
   },
   "source": [
    "Season Averages Up to Desired Date"
   ]
  },
  {
   "cell_type": "code",
   "execution_count": 20,
   "id": "5915dfde",
   "metadata": {
    "execution": {
     "iopub.execute_input": "2024-08-06T09:18:36.683060Z",
     "iopub.status.busy": "2024-08-06T09:18:36.682563Z",
     "iopub.status.idle": "2024-08-06T09:18:36.687032Z",
     "shell.execute_reply": "2024-08-06T09:18:36.686536Z"
    },
    "papermill": {
     "duration": 0.016391,
     "end_time": "2024-08-06T09:18:36.688523",
     "exception": false,
     "start_time": "2024-08-06T09:18:36.672132",
     "status": "completed"
    },
    "tags": []
   },
   "outputs": [],
   "source": [
    "season_stats = {'games_played': None, 'pa_per_game': None, 'ab_per_game': None, 'h_per_game': None, 'r_per_game': None, 'rbi_per_game': None, 'hr_per_game': None, \n",
    "                'tb_per_game': None, 'bb_per_game': None, 'k_per_game': None, 'ba_szn': None, 'obp_szn': None, 'slg_szn': None}\n",
    "\n",
    "games_played = 0\n",
    "\n",
    "if correct_columns_df is not None:\n",
    "\n",
    "    game_data = correct_columns_df.iloc[-1]\n",
    "\n",
    "    games_played = game_data['game_num']\n",
    "\n",
    "    #rint(games_played)\n",
    "\n",
    "    season_stats['games_played'] = games_played\n",
    "    season_stats['pa_per_game'] = correct_columns_df['PA'].mean()\n",
    "    season_stats['ab_per_game'] = correct_columns_df['AB'].mean()\n",
    "    season_stats['h_per_game'] = correct_columns_df['H'].mean()\n",
    "    season_stats['r_per_game'] = correct_columns_df['R'].mean()\n",
    "    season_stats['rbi_per_game'] = correct_columns_df['RBI'].mean()\n",
    "    season_stats['hr_per_game'] = correct_columns_df['HR'].mean()\n",
    "    season_stats['tb_per_game'] = correct_columns_df['TB'].mean()\n",
    "    season_stats['bb_per_game'] = correct_columns_df['BB'].mean()\n",
    "    season_stats['k_per_game'] = correct_columns_df['SO'].mean()\n",
    "    season_stats['ba_szn'] = game_data['BA']\n",
    "    season_stats['obp_szn'] = game_data['OBP']\n",
    "    season_stats['slg_szn'] = game_data['SLG']\n",
    "\n",
    "season_stats_df = pd.DataFrame([season_stats])\n",
    "\n",
    "#print(season_stats_df)"
   ]
  },
  {
   "cell_type": "markdown",
   "id": "f9efb869",
   "metadata": {
    "papermill": {
     "duration": 0.011424,
     "end_time": "2024-08-06T09:18:36.712363",
     "exception": false,
     "start_time": "2024-08-06T09:18:36.700939",
     "status": "completed"
    },
    "tags": []
   },
   "source": [
    "Streak Average Data Collection"
   ]
  },
  {
   "cell_type": "code",
   "execution_count": 21,
   "id": "47fadf44",
   "metadata": {
    "execution": {
     "iopub.execute_input": "2024-08-06T09:18:36.731734Z",
     "iopub.status.busy": "2024-08-06T09:18:36.731734Z",
     "iopub.status.idle": "2024-08-06T09:18:36.737694Z",
     "shell.execute_reply": "2024-08-06T09:18:36.737197Z"
    },
    "papermill": {
     "duration": 0.017384,
     "end_time": "2024-08-06T09:18:36.738687",
     "exception": false,
     "start_time": "2024-08-06T09:18:36.721303",
     "status": "completed"
    },
    "tags": []
   },
   "outputs": [],
   "source": [
    "if games_played < 30:\n",
    "    last_season_end_date = api.get('season', {'seasonId': last_year, 'sportId': 1})['seasons'][0]['postSeasonEndDate']\n",
    "\n",
    "    season_end_day = int(last_season_end_date[8:10])\n",
    "    season_end_month = int(last_season_end_date[5:7])\n",
    "\n",
    "    search_url = f'https://www.baseball-reference.com/players/gl.fcgi?id={formatted_player_key}&t=b&year={last_year}#batting_gamelogs'\n",
    "\n",
    "    headers = {'User_Agent': random.choice(user_agents)}\n",
    "\n",
    "    time.sleep(3)\n",
    "\n",
    "    response = requests.get(search_url, headers=headers)\n",
    "    response.raise_for_status()\n",
    "\n",
    "    soup = BeautifulSoup(response.content, 'html.parser')\n",
    "\n",
    "    table_rows = soup.find_all('tr', id=lambda x: x and x.startswith('batting_gamelogs'))\n",
    "\n",
    "    if table_rows:\n",
    "\n",
    "        data = []\n",
    "\n",
    "        for row in table_rows:\n",
    "\n",
    "            row_data = {}\n",
    "\n",
    "            th = row.find('th')\n",
    "            \n",
    "            row_num = th.text\n",
    "            \n",
    "            row_data['game_num'] = row_num\n",
    "\n",
    "            for td in row.find_all('td'):\n",
    "\n",
    "                stat_type = td['data-stat']\n",
    "\n",
    "                if stat_type == 'date_game':\n",
    "                    stat_value = td['csk'][:10]\n",
    "                else:\n",
    "                    stat_value = td.text\n",
    "\n",
    "                row_data[stat_type] = stat_value\n",
    "\n",
    "            if row_data:\n",
    "\n",
    "                game_day = int(row_data['date_game'][8:10])\n",
    "                game_month = int(row_data['date_game'][5:7])\n",
    "\n",
    "                if game_month < season_end_month:\n",
    "                        data.append(row_data)\n",
    "                elif game_month == season_end_month:\n",
    "                    if game_day <= season_end_day:\n",
    "                        data.append(row_data)\n",
    "\n",
    "        df = pd.DataFrame(data)\n",
    "\n",
    "        df.rename(columns={\n",
    "            'batting_avg': 'BA',\n",
    "            'onbase_perc': 'OBP',\n",
    "            'slugging_perc': 'SLG',\n",
    "        }, inplace=True)\n",
    "\n",
    "        all_columns = df.columns.tolist()\n",
    "\n",
    "        columns_to_keep = ['game_num', 'date_game', 'PA', 'AB', 'R', 'H', '2B', '3B', 'HR', 'RBI', 'BB', 'SO', 'BA', 'OBP', 'SLG', 'HBP']\n",
    "\n",
    "        columns_to_drop = [column for column in all_columns if column not in columns_to_keep]\n",
    "\n",
    "        last_season_df = df.drop(columns_to_drop, axis=1)\n",
    "\n",
    "        columns_to_convert_int = ['game_num', 'PA', 'AB', 'R', 'H', '2B', '3B', 'HR', 'RBI', 'BB', 'SO', 'HBP']\n",
    "\n",
    "        columns_to_convert_float = ['BA', 'OBP', 'SLG']\n",
    "\n",
    "        for column in columns_to_convert_int:\n",
    "            last_season_df[column] = last_season_df[column].astype(int)\n",
    "\n",
    "        for column in columns_to_convert_float:\n",
    "            last_season_df[column] = last_season_df[column].astype(float)\n",
    "\n",
    "        last_season_df['TB'] = last_season_df.apply(lambda row: (row['H'] - row['2B'] - row['3B'] - row['HR']) + 2*row['2B'] + 3*row['3B'] + 4*row['HR'], axis=1)\n",
    "\n",
    "        column_order = ['game_num', 'date_game', 'PA', 'AB', 'H', 'R', 'RBI', '2B', '3B', 'HR', 'TB', 'BB', 'SO', 'BA', 'OBP', 'SLG', 'HBP']\n",
    "        last_season_df = last_season_df[column_order]\n",
    "\n",
    "    #print(last_season_df)\n",
    "\n",
    "\n"
   ]
  },
  {
   "cell_type": "markdown",
   "id": "a055b5ec",
   "metadata": {
    "papermill": {
     "duration": 0.009436,
     "end_time": "2024-08-06T09:18:36.757063",
     "exception": false,
     "start_time": "2024-08-06T09:18:36.747627",
     "status": "completed"
    },
    "tags": []
   },
   "source": [
    "Last 7 Averages:"
   ]
  },
  {
   "cell_type": "code",
   "execution_count": 22,
   "id": "0f7da2da",
   "metadata": {
    "execution": {
     "iopub.execute_input": "2024-08-06T09:18:36.776931Z",
     "iopub.status.busy": "2024-08-06T09:18:36.776433Z",
     "iopub.status.idle": "2024-08-06T09:18:36.780904Z",
     "shell.execute_reply": "2024-08-06T09:18:36.780904Z"
    },
    "papermill": {
     "duration": 0.014901,
     "end_time": "2024-08-06T09:18:36.781898",
     "exception": false,
     "start_time": "2024-08-06T09:18:36.766997",
     "status": "completed"
    },
    "tags": []
   },
   "outputs": [],
   "source": [
    "if games_played < 7:\n",
    "    carry_over_games = 7 - games_played\n",
    "    carry_over_game_num = len(last_season_df) - carry_over_games\n",
    "    last_season_rows = last_season_df.iloc[carry_over_game_num:]\n",
    "    if games_played > 0:\n",
    "        current_season_rows = correct_columns_df.iloc[:games_played]\n",
    "        last_7_df = pd.concat([last_season_rows, current_season_rows], ignore_index=True)\n",
    "    else:\n",
    "        last_7_df = pd.DataFrame(last_season_rows)\n",
    "else:\n",
    "    last_7_game_num = games_played - 7\n",
    "    last_7_df = correct_columns_df.iloc[last_7_game_num:]\n",
    "\n",
    "#print(last_7_df)\n",
    "\n",
    "last_7_stats = {}\n",
    "\n",
    "last_7_stats['pa_last_7'] = last_7_df['PA'].mean()\n",
    "last_7_stats['ab_last_7'] = last_7_df['AB'].mean()\n",
    "last_7_stats['h_last_7'] = last_7_df['H'].mean()\n",
    "last_7_stats['r_last_7'] = last_7_df['R'].mean()\n",
    "last_7_stats['rbi_last_7'] = last_7_df['RBI'].mean()\n",
    "last_7_stats['hr_last_7'] = last_7_df['HR'].mean()\n",
    "last_7_stats['tb_last_7'] = last_7_df['TB'].mean()\n",
    "last_7_stats['bb_last_7'] = last_7_df['BB'].mean()\n",
    "last_7_stats['k_last_7'] = last_7_df['SO'].mean()\n",
    "last_7_stats['ba_last_7'] = last_7_df['H'].sum() / last_7_df['AB'].sum()\n",
    "last_7_stats['obp_last_7'] = (last_7_df['H'].sum() + last_7_df['BB'].sum() + last_7_df['HBP'].sum()) / last_7_df['PA'].sum()\n",
    "last_7_stats['slg_last_7'] = last_7_df['TB'].sum() / last_7_df['AB'].sum()\n",
    "\n",
    "last_7_avg_df = pd.DataFrame([last_7_stats])\n",
    "\n",
    "#print(last_7_avg_df)"
   ]
  },
  {
   "cell_type": "markdown",
   "id": "ec54cd58",
   "metadata": {
    "papermill": {
     "duration": 0.015396,
     "end_time": "2024-08-06T09:18:36.806730",
     "exception": false,
     "start_time": "2024-08-06T09:18:36.791334",
     "status": "completed"
    },
    "tags": []
   },
   "source": [
    "Last 15 Averages"
   ]
  },
  {
   "cell_type": "code",
   "execution_count": 23,
   "id": "999823a8",
   "metadata": {
    "execution": {
     "iopub.execute_input": "2024-08-06T09:18:36.825605Z",
     "iopub.status.busy": "2024-08-06T09:18:36.825108Z",
     "iopub.status.idle": "2024-08-06T09:18:36.829581Z",
     "shell.execute_reply": "2024-08-06T09:18:36.829581Z"
    },
    "papermill": {
     "duration": 0.014901,
     "end_time": "2024-08-06T09:18:36.830571",
     "exception": false,
     "start_time": "2024-08-06T09:18:36.815670",
     "status": "completed"
    },
    "tags": []
   },
   "outputs": [],
   "source": [
    "if games_played < 15:\n",
    "    carry_over_games = 15 - games_played\n",
    "    carry_over_game_num = len(last_season_df) - carry_over_games\n",
    "    last_season_rows = last_season_df.iloc[carry_over_game_num:]\n",
    "    if games_played > 0:\n",
    "        current_season_rows = correct_columns_df.iloc[:games_played]\n",
    "        last_15_df = pd.concat([last_season_rows, current_season_rows], ignore_index=True)\n",
    "    else:\n",
    "        last_15_df = pd.DataFrame(last_season_rows)\n",
    "else:\n",
    "    last_15_game_num = games_played - 15\n",
    "    last_15_df = correct_columns_df.iloc[last_15_game_num:]\n",
    "\n",
    "#print(last_15_df)\n",
    "\n",
    "last_15_stats = {}\n",
    "\n",
    "last_15_stats['pa_last_15'] = last_15_df['PA'].mean()\n",
    "last_15_stats['ab_last_15'] = last_15_df['AB'].mean()\n",
    "last_15_stats['h_last_15'] = last_15_df['H'].mean()\n",
    "last_15_stats['r_last_15'] = last_15_df['R'].mean()\n",
    "last_15_stats['rbi_last_15'] = last_15_df['RBI'].mean()\n",
    "last_15_stats['hr_last_15'] = last_15_df['HR'].mean()\n",
    "last_15_stats['tb_last_15'] = last_15_df['TB'].mean()\n",
    "last_15_stats['bb_last_15'] = last_15_df['BB'].mean()\n",
    "last_15_stats['k_last_15'] = last_15_df['SO'].mean()\n",
    "last_15_stats['ba_last_15'] = last_15_df['H'].sum() / last_15_df['AB'].sum()\n",
    "last_15_stats['obp_last_15'] = (last_15_df['H'].sum() + last_15_df['BB'].sum() + last_15_df['HBP'].sum()) / last_15_df['PA'].sum()\n",
    "last_15_stats['slg_last_15'] = last_15_df['TB'].sum() / last_15_df['AB'].sum()\n",
    "\n",
    "last_15_avg_df = pd.DataFrame([last_15_stats])\n",
    "\n",
    "#print(last_15_avg_df)"
   ]
  },
  {
   "cell_type": "markdown",
   "id": "cdeab913",
   "metadata": {
    "papermill": {
     "duration": 0.00894,
     "end_time": "2024-08-06T09:18:36.849941",
     "exception": false,
     "start_time": "2024-08-06T09:18:36.841001",
     "status": "completed"
    },
    "tags": []
   },
   "source": [
    "Last 30 Averages"
   ]
  },
  {
   "cell_type": "code",
   "execution_count": 24,
   "id": "6c5d5dcf",
   "metadata": {
    "execution": {
     "iopub.execute_input": "2024-08-06T09:18:36.868817Z",
     "iopub.status.busy": "2024-08-06T09:18:36.868817Z",
     "iopub.status.idle": "2024-08-06T09:18:36.874278Z",
     "shell.execute_reply": "2024-08-06T09:18:36.873780Z"
    },
    "papermill": {
     "duration": 0.016886,
     "end_time": "2024-08-06T09:18:36.875767",
     "exception": false,
     "start_time": "2024-08-06T09:18:36.858881",
     "status": "completed"
    },
    "tags": []
   },
   "outputs": [],
   "source": [
    "if games_played < 30:\n",
    "    carry_over_games = 30 - games_played\n",
    "    carry_over_game_num = len(last_season_df) - carry_over_games\n",
    "    last_season_rows = last_season_df.iloc[carry_over_game_num:]\n",
    "    if games_played > 0:\n",
    "        current_season_rows = correct_columns_df.iloc[:games_played]\n",
    "        last_30_df = pd.concat([last_season_rows, current_season_rows], ignore_index=True)\n",
    "    else:\n",
    "        last_30_df = pd.DataFrame(last_season_rows)\n",
    "else:\n",
    "    last_30_game_num = games_played - 30\n",
    "    last_30_df = correct_columns_df.iloc[last_30_game_num:]\n",
    "\n",
    "#print(last_30_df)\n",
    "\n",
    "last_30_stats = {}\n",
    "\n",
    "last_30_stats['pa_last_30'] = last_30_df['PA'].mean()\n",
    "last_30_stats['ab_last_30'] = last_30_df['AB'].mean()\n",
    "last_30_stats['h_last_30'] = last_30_df['H'].mean()\n",
    "last_30_stats['r_last_30'] = last_30_df['R'].mean()\n",
    "last_30_stats['rbi_last_30'] = last_30_df['RBI'].mean()\n",
    "last_30_stats['hr_last_30'] = last_30_df['HR'].mean()\n",
    "last_30_stats['tb_last_30'] = last_30_df['TB'].mean()\n",
    "last_30_stats['bb_last_30'] = last_30_df['BB'].mean()\n",
    "last_30_stats['k_last_30'] = last_30_df['SO'].mean()\n",
    "last_30_stats['ba_last_30'] = last_30_df['H'].sum() / last_30_df['AB'].sum()\n",
    "last_30_stats['obp_last_30'] = (last_30_df['H'].sum() + last_30_df['BB'].sum() + last_30_df['HBP'].sum()) / last_30_df['PA'].sum()\n",
    "last_30_stats['slg_last_30'] = last_30_df['TB'].sum() / last_30_df['AB'].sum()\n",
    "\n",
    "last_30_avg_df = pd.DataFrame([last_30_stats])\n",
    "\n",
    "#print(last_30_avg_df)"
   ]
  },
  {
   "cell_type": "markdown",
   "id": "89266101",
   "metadata": {
    "papermill": {
     "duration": 0.008939,
     "end_time": "2024-08-06T09:18:36.899111",
     "exception": false,
     "start_time": "2024-08-06T09:18:36.890172",
     "status": "completed"
    },
    "tags": []
   },
   "source": [
    "Merge Streak Data"
   ]
  },
  {
   "cell_type": "code",
   "execution_count": 25,
   "id": "de710801",
   "metadata": {
    "execution": {
     "iopub.execute_input": "2024-08-06T09:18:36.919475Z",
     "iopub.status.busy": "2024-08-06T09:18:36.918978Z",
     "iopub.status.idle": "2024-08-06T09:18:36.922952Z",
     "shell.execute_reply": "2024-08-06T09:18:36.922454Z"
    },
    "papermill": {
     "duration": 0.016392,
     "end_time": "2024-08-06T09:18:36.924939",
     "exception": false,
     "start_time": "2024-08-06T09:18:36.908547",
     "status": "completed"
    },
    "tags": []
   },
   "outputs": [],
   "source": [
    "streak_data_df = pd.concat([last_7_avg_df, last_15_avg_df, last_30_avg_df], axis=1)\n",
    "#print(streak_data_df)"
   ]
  },
  {
   "cell_type": "markdown",
   "id": "e4bcb3f2",
   "metadata": {
    "papermill": {
     "duration": 0.010927,
     "end_time": "2024-08-06T09:18:36.945302",
     "exception": false,
     "start_time": "2024-08-06T09:18:36.934375",
     "status": "completed"
    },
    "tags": []
   },
   "source": [
    "Merge Season Averages and Streak Data\n",
    "\n"
   ]
  },
  {
   "cell_type": "code",
   "execution_count": 26,
   "id": "766410c1",
   "metadata": {
    "execution": {
     "iopub.execute_input": "2024-08-06T09:18:36.963679Z",
     "iopub.status.busy": "2024-08-06T09:18:36.963182Z",
     "iopub.status.idle": "2024-08-06T09:18:36.967155Z",
     "shell.execute_reply": "2024-08-06T09:18:36.966658Z"
    },
    "papermill": {
     "duration": 0.014404,
     "end_time": "2024-08-06T09:18:36.968149",
     "exception": false,
     "start_time": "2024-08-06T09:18:36.953745",
     "status": "completed"
    },
    "tags": []
   },
   "outputs": [],
   "source": [
    "batter_season_stats_df = pd.concat([streak_data_df, season_stats_df], axis=1)\n",
    "\n",
    "pd.set_option('display.max_rows', None)\n",
    "pd.set_option('display.max_columns', None)\n",
    "\n",
    "#print(batter_season_stats_df)"
   ]
  },
  {
   "cell_type": "markdown",
   "id": "30f10651",
   "metadata": {
    "papermill": {
     "duration": 0.008444,
     "end_time": "2024-08-06T09:18:36.986030",
     "exception": false,
     "start_time": "2024-08-06T09:18:36.977586",
     "status": "completed"
    },
    "tags": []
   },
   "source": [
    "Fetch Starting Pitcher Season Data\n",
    "\n",
    "\n",
    "MASSIVE:\n",
    "\n",
    "PLAN FOR FUTURE FOR PITCHER, BVP, BVOPP, OPP, BVB Data\n",
    "\n",
    "DESIGN THE 'Starting Pitcher Efficiency Index'\n",
    "\n",
    "Step 1: SP Data\n",
    "    - Gather Data such as:\n",
    "        - ip per game\n",
    "        - batters faced per game\n",
    "        - plate appearances per game\n",
    "        - pitches per game\n",
    "        - at bats per game\n",
    "\n",
    "Step 2: Include these new stat categories:\n",
    "    - Batter Vs Opponent - Previous Batter stats from each game against the opponent this season\n",
    "    - Team Vs Opponent Stats - Avg Team Stats for Each Final Boxscore of Previous Season Matchups\n",
    "    - Pitcher vs Team Stats - Avg Pitcher Stats Vs Batter's team from previous mathcups\n",
    "    - Batter Vs Pitcher - Batter Vs Pitcher Stats from IP or PA from each game featuring the two\n",
    "    - Batter Vs Bullpen (Batter Vs Team - Batter Vs Pitcher)\n",
    "\n",
    "    Goal is to determine how valuable the batter's plate appearences with the starting pitcher compared to the batter's plate appearances with the relievers and closers.\n",
    "    What percentage of hits come from the starting pitcher vs the relievers. Want to try to predict the number of plate appearnaces the batter will get during a game with this starting pitcher, and then use this value to predict hits by comparing the likelihood the batter will get a hit within the plate appearances against the starting pitcher and the likelihood the batter will get a hit within the plate appearances against the relievers and closers. Then using these averages, predict how likely the batter is to get a hit in this game. Basically instead of just using starting pitcher, want to treat both the starting pitcher and other pitchers as an entire game to predict hits. This will be done by leveraging the innings pitched by the starter and other pitchers with the stats of starter v batter and bullpen v batter\n",
    "\n",
    "Stats to Collect:\n",
    "- sp_season_stats -- starting pitcher season averages up to the desired date. x\n",
    "- bv_sp_stats -- direct batter vs starting pitcher stats measured by per plate appearance. x\n",
    "- sp_v_team -- starting pitcher game stats in games vs team this season.\n",
    "- bv_opp_stats -- batter game stats in games vs opp this season. x\n",
    "- opp_stats -- opposing team per game stats \n",
    "- bv_opp_sp_stats -- batter game stats in games vs opp where the starting pitcher started this season. x\n",
    "- team_v_opp_stats -- overall team stats in games vs opp this season."
   ]
  },
  {
   "cell_type": "markdown",
   "id": "f5718d4e",
   "metadata": {
    "papermill": {
     "duration": 0.010927,
     "end_time": "2024-08-06T09:18:37.006889",
     "exception": false,
     "start_time": "2024-08-06T09:18:36.995962",
     "status": "completed"
    },
    "tags": []
   },
   "source": [
    "Format Pitcher URL"
   ]
  },
  {
   "cell_type": "code",
   "execution_count": 27,
   "id": "52b5aa71",
   "metadata": {
    "execution": {
     "iopub.execute_input": "2024-08-06T09:18:37.025266Z",
     "iopub.status.busy": "2024-08-06T09:18:37.025266Z",
     "iopub.status.idle": "2024-08-06T09:18:40.394901Z",
     "shell.execute_reply": "2024-08-06T09:18:40.394901Z"
    },
    "papermill": {
     "duration": 3.381058,
     "end_time": "2024-08-06T09:18:40.396391",
     "exception": false,
     "start_time": "2024-08-06T09:18:37.015333",
     "status": "completed"
    },
    "tags": []
   },
   "outputs": [],
   "source": [
    "sp_name_parts = sPitcher_name.split()\n",
    "\n",
    "sp_first_name = sp_name_parts[0].lower()\n",
    "sp_last_name = sp_name_parts[1].lower()\n",
    "\n",
    "initial = sp_last_name[:1]\n",
    "\n",
    "full_name = f'{sp_first_name} {sp_last_name}'\n",
    "\n",
    "url = f'https://www.baseball-reference.com/players/{initial}/'\n",
    "headers = {'User_Agent': random.choice(user_agents)}\n",
    "\n",
    "time.sleep(3)\n",
    "\n",
    "response = requests.get(url, headers=headers)\n",
    "response.raise_for_status()\n",
    "\n",
    "soup = BeautifulSoup(response.content, 'html.parser')\n",
    "\n",
    "initial_section = soup.find('div', class_=\"section_content\", id=\"div_players_\")\n",
    "\n",
    "if initial_section:\n",
    "    active_players = initial_section.find_all('b')\n",
    "    for players in active_players:\n",
    "        player = players.find('a')\n",
    "        years_playing = players.get_text()[(len(players.get_text()) - 11):]\n",
    "        if full_name == player.get_text().lower():\n",
    "            start_year = int(years_playing[1:5])\n",
    "            end_year = year\n",
    "            if year in range(start_year, end_year + 1):\n",
    "                player_link = player['href']\n",
    "                #formatted_pitcher_key = player_link[11:20]\n",
    "\n",
    "pattern = r'/players/[a-z]/([a-z]{1,5}[a-z]{2}\\d{2})\\.shtml'\n",
    "\n",
    "match = re.search(pattern, player_link)\n",
    "\n",
    "if match:\n",
    "    formatted_pitcher_key = match.group(1)\n",
    "\n",
    "#print(formatted_pitcher_key)"
   ]
  },
  {
   "cell_type": "code",
   "execution_count": 28,
   "id": "2450e1a6",
   "metadata": {
    "execution": {
     "iopub.execute_input": "2024-08-06T09:18:40.416258Z",
     "iopub.status.busy": "2024-08-06T09:18:40.416258Z",
     "iopub.status.idle": "2024-08-06T09:18:43.919159Z",
     "shell.execute_reply": "2024-08-06T09:18:43.918663Z"
    },
    "papermill": {
     "duration": 3.514324,
     "end_time": "2024-08-06T09:18:43.920152",
     "exception": false,
     "start_time": "2024-08-06T09:18:40.405828",
     "status": "completed"
    },
    "tags": []
   },
   "outputs": [],
   "source": [
    "season_start_date = api.get('season', {'seasonId': year, 'sportId': 1})['seasons'][0]['regularSeasonStartDate']\n",
    "\n",
    "search_url = f'https://www.baseball-reference.com/players/gl.fcgi?id={formatted_pitcher_key}&t=p&year={year}#pitching_gamelogs'\n",
    "\n",
    "headers = {'User_Agent': random.choice(user_agents)}\n",
    "\n",
    "time.sleep(3)\n",
    "\n",
    "response = requests.get(search_url, headers=headers)\n",
    "response.raise_for_status()\n",
    "\n",
    "soup = BeautifulSoup(response.content, 'html.parser')\n",
    "\n",
    "table_rows = soup.find_all('tr', id=lambda x: x and x.startswith('pitching_gamelogs'))\n",
    "\n",
    "if table_rows:\n",
    "\n",
    "    data = []\n",
    "\n",
    "    for row in table_rows:\n",
    "\n",
    "        row_data = {}\n",
    "\n",
    "        th = row.find('th')\n",
    "        \n",
    "        row_num = th.text\n",
    "        \n",
    "        row_data['game_num'] = row_num\n",
    "\n",
    "        for td in row.find_all('td'):\n",
    "\n",
    "            stat_type = td['data-stat']\n",
    "\n",
    "            if stat_type == 'date_game':\n",
    "                stat_value = td['csk'][:10]\n",
    "            else:\n",
    "                stat_value = td.text\n",
    "\n",
    "            row_data[stat_type] = stat_value\n",
    "\n",
    "        if row_data:\n",
    "\n",
    "            game_day = int(row_data['date_game'][8:10])\n",
    "            game_month = int(row_data['date_game'][5:7])\n",
    "\n",
    "            if game_month < month:\n",
    "                    data.append(row_data)\n",
    "            elif game_month == month:\n",
    "                if game_day <= day:\n",
    "                     data.append(row_data)\n",
    "    \n",
    "    if data:\n",
    "\n",
    "        sp_df = pd.DataFrame(data)\n",
    "\n",
    "        sp_df.rename(columns={\n",
    "                'earned_run_avg': 'ERA',\n",
    "                'batters_faced': 'BF',\n",
    "                'pitches': 'P',\n",
    "                'strikes_total': 'S',\n",
    "            }, inplace=True)\n",
    "\n",
    "        sp_all_columns = sp_df.columns.tolist()\n",
    "\n",
    "        sp_columns_to_keep = ['game_num', 'date_game', 'opp_ID', 'IP', 'H', 'R', 'ER', 'BB', 'SO', 'HR', 'HBP', 'ERA', 'BF', 'P', 'S', 'AB', '2B', '3B']\n",
    "\n",
    "        sp_columns_to_drop = [column for column in sp_all_columns if column not in sp_columns_to_keep]\n",
    "\n",
    "        sp_column_df = sp_df.drop(sp_columns_to_drop, axis=1)\n",
    "\n",
    "        sp_columns_to_convert_int = ['game_num', 'H', 'R', 'ER', 'BB', 'SO', 'HR', 'HBP', 'BF', 'P', 'S', 'AB', '2B', '3B']\n",
    "\n",
    "        sp_columns_to_convert_float = ['IP', 'ERA']\n",
    "\n",
    "        for column in sp_columns_to_convert_int:\n",
    "            sp_column_df[column] = sp_column_df[column].astype(int)\n",
    "\n",
    "        for column in sp_columns_to_convert_float:\n",
    "            sp_column_df[column] = sp_column_df[column].astype(float)\n",
    "        \n",
    "        #print(sp_column_df)\n",
    "\n",
    "        sp_column_df['WHIP'] = sp_column_df.apply(lambda row: ((row['H'] + row['BB']) / row['IP']) if row['IP'] > 0.0 else (row['H'] + row['BB']), axis=1)\n",
    "\n",
    "        sp_column_df['TB'] = sp_column_df.apply(lambda row: (row['H'] - row['2B'] - row['3B'] - row['HR']) + 2*row['2B'] + 3*row['3B'] + 4*row['HR'], axis=1)\n",
    "\n",
    "        sp_column_df['IP'] = sp_column_df['IP'].apply(lambda ip: int(ip) + (1/3) if round(ip % 1, 1) == 0.1 else int(ip) + (2/3) if round(ip % 1, 1) == 0.2 else ip)\n",
    "\n",
    "        sp_column_df['TO'] = sp_column_df.apply(lambda row: row['IP']*3, axis=1)\n",
    "\n",
    "        sp_column_df['S%'] = sp_column_df.apply(lambda row: row['S'] / row['P'], axis=1)\n",
    "\n",
    "        sp_column_df['BAA'] = sp_column_df.apply(lambda row: row['H'] / row['AB'], axis=1)\n",
    "\n",
    "        sp_column_order = ['game_num', 'date_game', 'opp_ID', 'IP', 'P', 'S', 'S%', 'BF', 'AB', 'H', '2B', '3B', 'R', 'ER', 'HR', 'TB', 'BB', 'SO', 'TO', 'HBP', 'ERA', 'WHIP', 'BAA']\n",
    "                        \n",
    "        sp_complete_df = sp_column_df[sp_column_order]\n",
    "    \n",
    "    else:\n",
    "        sp_complete_df = None\n",
    "\n",
    "else:\n",
    "    sp_complete_df = None\n",
    "\n",
    "#print(sp_complete_df)"
   ]
  },
  {
   "cell_type": "markdown",
   "id": "8707c887",
   "metadata": {
    "papermill": {
     "duration": 0.011424,
     "end_time": "2024-08-06T09:18:43.940516",
     "exception": false,
     "start_time": "2024-08-06T09:18:43.929092",
     "status": "completed"
    },
    "tags": []
   },
   "source": [
    "Pitcher Season Stats Up to Desired Date"
   ]
  },
  {
   "cell_type": "code",
   "execution_count": 29,
   "id": "69f02ca6",
   "metadata": {
    "execution": {
     "iopub.execute_input": "2024-08-06T09:18:43.960617Z",
     "iopub.status.busy": "2024-08-06T09:18:43.960617Z",
     "iopub.status.idle": "2024-08-06T09:18:43.966579Z",
     "shell.execute_reply": "2024-08-06T09:18:43.966081Z"
    },
    "papermill": {
     "duration": 0.017383,
     "end_time": "2024-08-06T09:18:43.967571",
     "exception": false,
     "start_time": "2024-08-06T09:18:43.950188",
     "status": "completed"
    },
    "tags": []
   },
   "outputs": [],
   "source": [
    "if sp_complete_df is not None:\n",
    "\n",
    "    sp_season_stats = {}\n",
    "\n",
    "    sp_game_data = sp_complete_df.iloc[-1]\n",
    "\n",
    "    sp_games_started = sp_game_data['game_num']\n",
    "\n",
    "    #print(sp_games_started)\n",
    "\n",
    "    sp_season_stats['sp_games_started'] = sp_games_started\n",
    "    sp_season_stats['sp_ip_per_game'] = sp_complete_df['IP'].mean()\n",
    "    sp_season_stats['sp_p_per_game'] = sp_complete_df['P'].mean()\n",
    "    sp_season_stats['sp_s_per_game'] = sp_complete_df['S'].mean()\n",
    "    sp_season_stats['sp_s%'] = sp_complete_df['S'].sum() / sp_complete_df['P'].sum()\n",
    "    sp_season_stats['sp_bf_per_game'] = sp_complete_df['BF'].mean()\n",
    "    sp_season_stats['sp_ab_per_game'] = sp_complete_df['AB'].mean()\n",
    "    sp_season_stats['sp_h_per_game'] = sp_complete_df['H'].mean()\n",
    "    sp_season_stats['sp_r_per_game'] = sp_complete_df['R'].mean()\n",
    "    sp_season_stats['sp_er_per_game'] = sp_complete_df['ER'].mean()\n",
    "    sp_season_stats['sp_hr_per_game'] = sp_complete_df['HR'].mean()\n",
    "    sp_season_stats['sp_tb_per_game'] = sp_complete_df['TB'].mean()\n",
    "    sp_season_stats['sp_bb_per_game'] = sp_complete_df['BB'].mean()\n",
    "    sp_season_stats['sp_k_per_game'] = sp_complete_df['SO'].mean()\n",
    "    sp_season_stats['sp_k%'] = sp_complete_df['SO'].sum() / sp_complete_df['BF'].sum()\n",
    "    sp_season_stats['sp_to_per_game'] = sp_complete_df['TO'].mean()\n",
    "    sp_season_stats['sp_era'] = sp_game_data['ERA']\n",
    "    sp_season_stats['sp_whip_per_game'] = sp_complete_df['WHIP'].mean()\n",
    "    sp_season_stats['sp_whip_szn'] = ((sp_complete_df['H'].sum() + sp_complete_df['BB'].sum() ) / sp_complete_df['IP'].sum())\n",
    "    sp_season_stats['sp_baa'] = sp_complete_df['H'].sum() / sp_complete_df['AB'].sum()\n",
    "\n",
    "else:\n",
    "    sp_games_started = 0\n",
    "\n",
    "    sp_season_stats = {'sp_games_started': 0, \n",
    "                       'sp_ip_per_game': None, \n",
    "                       'sp_p_per_game': None, \n",
    "                       'sp_s_per_game': None, \n",
    "                       'sp_s%': None, \n",
    "                       'sp_bf_per_game': None, \n",
    "                       'sp_ab_per_game': None, \n",
    "                       'sp_h_per_game': None, \n",
    "                       'sp_r_per_game': None, \n",
    "                       'sp_er_per_game': None, \n",
    "                       'sp_hr_per_game': None, \n",
    "                       'sp_tb_per_game': None, \n",
    "                       'sp_bb_per_game': None, \n",
    "                       'sp_k_per_game': None, \n",
    "                       'sp_k%': None, \n",
    "                       'sp_to_per_game': None, \n",
    "                       'sp_era': None, \n",
    "                       'sp_whip_per_game': None, \n",
    "                       'sp_whip_szn': None, \n",
    "                       'sp_baa': None\n",
    "                       }\n",
    "\n",
    "sp_season_stats_df = pd.DataFrame([sp_season_stats])\n",
    "\n",
    "#print(sp_season_stats_df)"
   ]
  },
  {
   "cell_type": "markdown",
   "id": "abbdfde4",
   "metadata": {
    "papermill": {
     "duration": 0.018874,
     "end_time": "2024-08-06T09:18:43.995385",
     "exception": false,
     "start_time": "2024-08-06T09:18:43.976511",
     "status": "completed"
    },
    "tags": []
   },
   "source": [
    "Format Batter vs Starting Pitcher URL :P"
   ]
  },
  {
   "cell_type": "code",
   "execution_count": 30,
   "id": "8e09048c",
   "metadata": {
    "execution": {
     "iopub.execute_input": "2024-08-06T09:18:44.018728Z",
     "iopub.status.busy": "2024-08-06T09:18:44.018728Z",
     "iopub.status.idle": "2024-08-06T09:18:45.206737Z",
     "shell.execute_reply": "2024-08-06T09:18:45.206240Z"
    },
    "papermill": {
     "duration": 1.200426,
     "end_time": "2024-08-06T09:18:45.208227",
     "exception": false,
     "start_time": "2024-08-06T09:18:44.007801",
     "status": "completed"
    },
    "tags": []
   },
   "outputs": [],
   "source": [
    "formatted_batter_name = player_name.replace(' ', '%20')\n",
    "\n",
    "team_schedule = api.schedule(start_date=season_start_date, end_date=date, team=team_id, opponent=opp_id)\n",
    "\n",
    "if len(team_schedule) > 0:\n",
    "\n",
    "    games_vs_opp = []\n",
    "    games_vs_sp = []\n",
    "    games_vs_sp_pks = []\n",
    "\n",
    "    for game in team_schedule:\n",
    "        if game['game_type'] != 'S' and game['status'] != 'Postponed':\n",
    "            for log in api.get('person_stats', {'personId': player_id, 'gamePk': game['game_id']})['stats'][0]['splits']:\n",
    "                if log.get('group') == 'hitting' and log['stat']:\n",
    "                    games_vs_opp.append(game['game_id'])\n",
    "                    if game['home_id'] == opp_id:\n",
    "                        if game['home_probable_pitcher'] == sPitcher_name:\n",
    "                            games_vs_sp.append(game['game_date'])\n",
    "                            games_vs_sp_pks.append(game['game_id'])\n",
    "                    elif game['away_id'] == opp_id:\n",
    "                        if game['away_probable_pitcher'] == sPitcher_name:\n",
    "                            games_vs_sp.append(game['game_date'])\n",
    "                            games_vs_sp_pks.append(game['game_id'])\n",
    "    \n",
    "    num_games_vs_sp = len(games_vs_sp)\n",
    "    num_games_vs_opp = len(games_vs_opp)\n",
    "\n",
    "    game_strings = [f'%22{game_vs_opp}%22' for game_vs_opp in games_vs_opp]\n",
    "\n",
    "    comma_game_strings =f'[' + ','.join(game_strings) + ']'\n",
    "\n",
    "    if num_games_vs_sp == 0:\n",
    "        bvp_url = None\n",
    "    else:\n",
    "        bvp_url = f'https://baseballsavant.mlb.com/illustrator?playerId={player_id}&playerType=batter&name={formatted_batter_name}&tabSelection=0&shape=square&shapeName=Square%20(Instagram)&subTitle=&chartType=zoneChart-totalPitches&chartName=Zone%20-%20Total%20Pitches&pitcherThrows=&batterStands=&plateAppearanceResults=[]&pitchTypes=[]&seasonType=[%22R%22]&pitchResults=[]&facingPlayer=[%22{sPitcher_id}%22]&balls=[]&battedBallType=[]&years=[{year}]&strikes=[]&outs=[]&selectedGames=' + comma_game_strings + '&homeTeam=[]&awayTeam=[]&vsTeam=[]&exitVelocityGT=0&exitVelocityLT=125&pitchVelocityGT=0&pitchVelocityLT=105&launchAngleGT=-90&launchAngleLT=90&perspective=catcher&venue=7'\n",
    "\n",
    "\n",
    "else:\n",
    "    num_games_vs_sp = 0\n",
    "    num_games_vs_opp = 0\n",
    "    games_vs_opp = None\n",
    "    games_vs_sp = None\n",
    "    games_vs_sp_pks = None\n",
    "    bvp_url = None\n",
    "\n",
    "#print(num_games_vs_sp)\n",
    "#print(num_games_vs_opp)\n",
    "\n",
    "#print(bvp_url)\n",
    "#print(games_vs_opp)\n",
    "#print(games_vs_sp)\n",
    "#print(games_vs_sp_pks)\n"
   ]
  },
  {
   "cell_type": "markdown",
   "id": "ebc7ccd4",
   "metadata": {
    "papermill": {
     "duration": 0.017869,
     "end_time": "2024-08-06T09:18:45.245477",
     "exception": false,
     "start_time": "2024-08-06T09:18:45.227608",
     "status": "completed"
    },
    "tags": []
   },
   "source": [
    "Gather b_vs_opp data"
   ]
  },
  {
   "cell_type": "code",
   "execution_count": 31,
   "id": "9f338866",
   "metadata": {
    "execution": {
     "iopub.execute_input": "2024-08-06T09:18:45.279745Z",
     "iopub.status.busy": "2024-08-06T09:18:45.279745Z",
     "iopub.status.idle": "2024-08-06T09:18:45.744496Z",
     "shell.execute_reply": "2024-08-06T09:18:45.743998Z"
    },
    "papermill": {
     "duration": 0.48114,
     "end_time": "2024-08-06T09:18:45.746482",
     "exception": false,
     "start_time": "2024-08-06T09:18:45.265342",
     "status": "completed"
    },
    "tags": []
   },
   "outputs": [],
   "source": [
    "bv_opp_data_dict = {}\n",
    "\n",
    "if num_games_vs_opp > 0:\n",
    "\n",
    "    bv_opp_raw_data = []\n",
    "\n",
    "    for game in games_vs_opp:\n",
    "        game_vs_opp_log = api.get('person_stats', {'personId': player_id, 'gamePk': game})['stats'][0]['splits']\n",
    "        game_vs_opp_data = {}\n",
    "        for group in game_vs_opp_log:\n",
    "            if group['group'] == 'hitting':\n",
    "                for s in group['stat']:\n",
    "                    game_vs_opp_data[s] = group['stat'][s]\n",
    "        bv_opp_raw_data.append(game_vs_opp_data)\n",
    "    \n",
    "    bv_opp_raw_data_df = pd.DataFrame(bv_opp_raw_data)\n",
    "\n",
    "    bv_opp_raw_data_df.rename(columns={\n",
    "        'runs': 'bv_opp_r',\n",
    "        'doubles': '2B',\n",
    "        'triples': '3B',\n",
    "        'homeRuns': 'bv_opp_hr',\n",
    "        'strikeOuts': 'bv_opp_k',\n",
    "        'baseOnBalls': 'bv_opp_bb',\n",
    "        'hits': 'bv_opp_h',\n",
    "        'hitByPitch': 'HBP',\n",
    "        'atBats': 'bv_opp_ab',\n",
    "        'plateAppearances': 'bv_opp_pa',\n",
    "        'totalBases': 'bv_opp_tb',\n",
    "        'rbi': 'bv_opp_rbi',\n",
    "        'sacFlies': 'SF'\n",
    "    }, inplace=True)\n",
    "\n",
    "    bv_opp_columns = bv_opp_raw_data_df.columns.to_list()\n",
    "\n",
    "    bv_opp_columns_to_keep = ['bv_opp_pa', 'bv_opp_ab', 'bv_opp_h', 'bv_opp_r', 'bv_opp_rbi', '2B', '3B', 'bv_opp_hr', 'bv_opp_tb', 'bv_opp_bb', 'bv_opp_k', 'HBP', 'SF']\n",
    "\n",
    "    bv_opp_columns_to_drop = [column for column in bv_opp_columns if column not in bv_opp_columns_to_keep]\n",
    "\n",
    "    bv_opp_columns_df = bv_opp_raw_data_df.drop(bv_opp_columns_to_drop, axis=1)\n",
    "\n",
    "    bv_opp_columns_df.astype(int)\n",
    "\n",
    "    for column in bv_opp_columns_df.columns.to_list():\n",
    "        bv_opp_data_dict[column] = bv_opp_columns_df[column].mean()\n",
    "\n",
    "    bv_opp_data_dict['bv_opp_ba'] = bv_opp_data_dict['bv_opp_h'] / bv_opp_data_dict['bv_opp_ab']\n",
    "    bv_opp_data_dict['bv_opp_obp'] = (bv_opp_data_dict['bv_opp_h'] + bv_opp_data_dict['bv_opp_bb'] + bv_opp_data_dict['HBP']) / (\n",
    "        bv_opp_data_dict['bv_opp_ab'] + bv_opp_data_dict['bv_opp_bb'] + bv_opp_data_dict['HBP'] + bv_opp_data_dict['SF'])\n",
    "    bv_opp_data_dict['bv_opp_slg'] = bv_opp_data_dict['bv_opp_tb'] / bv_opp_data_dict['bv_opp_ab']\n",
    "\n",
    "    for key in ['2B', '3B', 'HBP', 'SF']:\n",
    "        bv_opp_data_dict.pop(key)\n",
    "    \n",
    "    bv_opp_data_dict['bv_opp_games_played'] = num_games_vs_opp\n",
    "\n",
    "else:\n",
    "    bv_opp_data_dict = {'bv_opp_games_played': None, 'bv_opp_pa': None, 'bv_opp_ab': None, 'bv_opp_h': None,'bv_opp_r': None, 'bv_opp_rbi': None, 'bv_opp_hr': None, 'bv_opp_tb': None, 'bv_opp_bb': None,\n",
    "                         'bv_opp_k': None, 'bv_opp_ba': None, 'bv_opp_obp': None, 'bv_opp_slg': None}\n",
    "\n",
    "bv_opp_data_df = pd.DataFrame([bv_opp_data_dict])\n",
    "\n",
    "bv_opp_column_order = ['bv_opp_games_played', 'bv_opp_pa', 'bv_opp_ab', 'bv_opp_h', 'bv_opp_r', 'bv_opp_rbi', 'bv_opp_hr', 'bv_opp_tb', 'bv_opp_bb', 'bv_opp_k', 'bv_opp_ba', 'bv_opp_obp', 'bv_opp_slg']\n",
    "\n",
    "bv_opp_df = bv_opp_data_df[bv_opp_column_order]\n",
    "\n",
    "#print(bv_opp_df)"
   ]
  },
  {
   "cell_type": "markdown",
   "id": "771585f4",
   "metadata": {
    "papermill": {
     "duration": 0.020364,
     "end_time": "2024-08-06T09:18:45.786216",
     "exception": false,
     "start_time": "2024-08-06T09:18:45.765852",
     "status": "completed"
    },
    "tags": []
   },
   "source": [
    "Gather bv_opp_sp_stats"
   ]
  },
  {
   "cell_type": "code",
   "execution_count": 32,
   "id": "d6b46980",
   "metadata": {
    "execution": {
     "iopub.execute_input": "2024-08-06T09:18:45.813465Z",
     "iopub.status.busy": "2024-08-06T09:18:45.813465Z",
     "iopub.status.idle": "2024-08-06T09:18:45.818928Z",
     "shell.execute_reply": "2024-08-06T09:18:45.818431Z"
    },
    "papermill": {
     "duration": 0.017812,
     "end_time": "2024-08-06T09:18:45.819921",
     "exception": false,
     "start_time": "2024-08-06T09:18:45.802109",
     "status": "completed"
    },
    "tags": []
   },
   "outputs": [],
   "source": [
    "bv_opp_sp_data_dict = {}\n",
    "\n",
    "if num_games_vs_sp > 0:\n",
    "\n",
    "    bv_opp_sp_raw_data = []\n",
    "\n",
    "    for game in games_vs_sp_pks:\n",
    "        game_vs_opp_sp_log = api.get('person_stats', {'personId': player_id, 'gamePk': game})['stats'][0]['splits']\n",
    "        game_vs_opp_sp_data = {}\n",
    "        for group in game_vs_opp_sp_log:\n",
    "            if group['group'] == 'hitting':\n",
    "                for s in group['stat']:\n",
    "                    game_vs_opp_sp_data[s] = group['stat'][s]\n",
    "        bv_opp_sp_raw_data.append(game_vs_opp_sp_data)\n",
    "    \n",
    "    bv_opp_sp_raw_data_df = pd.DataFrame(bv_opp_sp_raw_data)\n",
    "\n",
    "    bv_opp_sp_raw_data_df.rename(columns={\n",
    "        'runs': 'bv_opp_sp_r',\n",
    "        'doubles': '2B',\n",
    "        'triples': '3B',\n",
    "        'homeRuns': 'bv_opp_sp_hr',\n",
    "        'strikeOuts': 'bv_opp_sp_k',\n",
    "        'baseOnBalls': 'bv_opp_sp_bb',\n",
    "        'hits': 'bv_opp_sp_h',\n",
    "        'hitByPitch': 'HBP',\n",
    "        'atBats': 'bv_opp_sp_ab',\n",
    "        'plateAppearances': 'bv_opp_sp_pa',\n",
    "        'totalBases': 'bv_opp_sp_tb',\n",
    "        'rbi': 'bv_opp_sp_rbi',\n",
    "        'sacFlies': 'SF'\n",
    "    }, inplace=True)\n",
    "\n",
    "    bv_opp_sp_columns = bv_opp_sp_raw_data_df.columns.to_list()\n",
    "\n",
    "    bv_opp_sp_columns_to_keep = ['bv_opp_sp_pa', 'bv_opp_sp_ab', 'bv_opp_sp_h', 'bv_opp_sp_r', 'bv_opp_sp_rbi', '2B', '3B', \n",
    "                                 'bv_opp_sp_hr', 'bv_opp_sp_tb', 'bv_opp_sp_bb', 'bv_opp_sp_k', 'HBP', 'SF']\n",
    "\n",
    "    bv_opp_sp_columns_to_drop = [column for column in bv_opp_sp_columns if column not in bv_opp_sp_columns_to_keep]\n",
    "\n",
    "    bv_opp_sp_columns_df = bv_opp_sp_raw_data_df.drop(bv_opp_sp_columns_to_drop, axis=1)\n",
    "\n",
    "    bv_opp_sp_columns_df.astype(int)\n",
    "\n",
    "    for column in bv_opp_sp_columns_df.columns.to_list():\n",
    "        bv_opp_sp_data_dict[column] = bv_opp_sp_columns_df[column].mean()\n",
    "    \n",
    "    bv_opp_sp_data_dict['bv_opp_sp_ba'] = bv_opp_sp_data_dict['bv_opp_sp_h'] / bv_opp_sp_data_dict['bv_opp_sp_ab']\n",
    "    bv_opp_sp_data_dict['bv_opp_sp_obp'] = (bv_opp_sp_data_dict['bv_opp_sp_h'] + bv_opp_sp_data_dict['bv_opp_sp_bb'] + bv_opp_sp_data_dict['HBP']) / (\n",
    "        bv_opp_sp_data_dict['bv_opp_sp_ab'] + bv_opp_sp_data_dict['bv_opp_sp_bb'] + bv_opp_sp_data_dict['HBP'] + bv_opp_sp_data_dict['SF'])\n",
    "    bv_opp_sp_data_dict['bv_opp_sp_slg'] = bv_opp_sp_data_dict['bv_opp_sp_tb'] / bv_opp_sp_data_dict['bv_opp_sp_ab']\n",
    "\n",
    "    for key in ['2B', '3B', 'HBP', 'SF']:\n",
    "        bv_opp_sp_data_dict.pop(key)\n",
    "\n",
    "else:\n",
    "    bv_opp_sp_data_dict = {'bv_opp_sp_pa': None, 'bv_opp_sp_ab': None, 'bv_opp_sp_h': None,'bv_opp_sp_r': None, 'bv_opp_sp_rbi': None, 'bv_opp_sp_hr': None, 'bv_opp_sp_tb': None, \n",
    "                           'bv_opp_sp_bb': None, 'bv_opp_sp_k': None, 'bv_opp_sp_ba': None, 'bv_opp_sp_obp': None, 'bv_opp_sp_slg': None}\n",
    "\n",
    "bv_opp_sp_stats_df = pd.DataFrame([bv_opp_sp_data_dict])\n",
    "\n",
    "bv_opp_sp_column_order = ['bv_opp_sp_pa', 'bv_opp_sp_ab', 'bv_opp_sp_h', 'bv_opp_sp_r', 'bv_opp_sp_rbi', 'bv_opp_sp_hr', 'bv_opp_sp_tb', \n",
    "                          'bv_opp_sp_bb', 'bv_opp_sp_k', 'bv_opp_sp_ba', 'bv_opp_sp_obp', 'bv_opp_sp_slg']\n",
    "\n",
    "bv_opp_sp_df = bv_opp_sp_stats_df[bv_opp_sp_column_order]\n",
    "\n",
    "#print(bv_opp_sp_df)"
   ]
  },
  {
   "cell_type": "markdown",
   "id": "eb7d5702",
   "metadata": {
    "papermill": {
     "duration": 0.009437,
     "end_time": "2024-08-06T09:18:45.838795",
     "exception": false,
     "start_time": "2024-08-06T09:18:45.829358",
     "status": "completed"
    },
    "tags": []
   },
   "source": [
    "Gather sp_vs_team stats"
   ]
  },
  {
   "cell_type": "code",
   "execution_count": 33,
   "id": "acabb61f",
   "metadata": {
    "execution": {
     "iopub.execute_input": "2024-08-06T09:18:45.858165Z",
     "iopub.status.busy": "2024-08-06T09:18:45.858165Z",
     "iopub.status.idle": "2024-08-06T09:18:52.329560Z",
     "shell.execute_reply": "2024-08-06T09:18:52.329063Z"
    },
    "papermill": {
     "duration": 6.482818,
     "end_time": "2024-08-06T09:18:52.330553",
     "exception": false,
     "start_time": "2024-08-06T09:18:45.847735",
     "status": "completed"
    },
    "tags": []
   },
   "outputs": [],
   "source": [
    "sp_vs_team_dict = {'sp_vs_team_ip': None, \n",
    "                    'sp_vs_team_p': None, \n",
    "                    'sp_vs_team_s': None, \n",
    "                    'sp_vs_team_s%': None, \n",
    "                    'sp_vs_team_bf': None, \n",
    "                    'sp_vs_team_ab': None, \n",
    "                    'sp_vs_team_h': None, \n",
    "                    'sp_vs_team_r': None, \n",
    "                    'sp_vs_team_er': None, \n",
    "                    'sp_vs_team_hr': None, \n",
    "                    'sp_vs_team_tb': None, \n",
    "                    'sp_vs_team_bb': None, \n",
    "                    'sp_vs_team_k': None, \n",
    "                    'sp_vs_team_k%': None, \n",
    "                    'sp_vs_team_to': None, \n",
    "                    'sp_vs_team_era': None, \n",
    "                    'sp_vs_team_whip': None, \n",
    "                    'sp_vs_team_baa': None\n",
    "                    }\n",
    "\n",
    "if sp_games_started > 0:\n",
    "\n",
    "    sp_vs_team_logs = []\n",
    "\n",
    "    for j in range(len(sp_complete_df)):\n",
    "        game_row = sp_complete_df.iloc[j]\n",
    "\n",
    "        if api.lookup_team(game_row['opp_ID'].lower()[:2])[0]['id'] == team_id:\n",
    "            sp_vs_team_logs.append(game_row)\n",
    "\n",
    "    if len(sp_vs_team_logs) > 0:\n",
    "        sp_vs_team_raw_df = pd.DataFrame(sp_vs_team_logs)\n",
    "\n",
    "        sp_vs_team_dict['sp_vs_team_ip'] = sp_vs_team_raw_df['IP'].mean()\n",
    "        sp_vs_team_dict['sp_vs_team_p'] = sp_vs_team_raw_df['P'].mean()\n",
    "        sp_vs_team_dict['sp_vs_team_s'] = sp_vs_team_raw_df['S'].mean()\n",
    "        sp_vs_team_dict['sp_vs_team_s%'] = sp_vs_team_raw_df['S'].sum() / sp_complete_df['P'].sum()\n",
    "        sp_vs_team_dict['sp_vs_team_bf'] = sp_vs_team_raw_df['BF'].mean()\n",
    "        sp_vs_team_dict['sp_vs_team_ab'] = sp_vs_team_raw_df['AB'].mean()\n",
    "        sp_vs_team_dict['sp_vs_team_h'] = sp_vs_team_raw_df['H'].mean()\n",
    "        sp_vs_team_dict['sp_vs_team_r'] = sp_vs_team_raw_df['R'].mean()\n",
    "        sp_vs_team_dict['sp_vs_team_er'] = sp_vs_team_raw_df['ER'].mean()\n",
    "        sp_vs_team_dict['sp_vs_team_hr'] = sp_vs_team_raw_df['HR'].mean()\n",
    "        sp_vs_team_dict['sp_vs_team_tb'] = sp_vs_team_raw_df['TB'].mean()\n",
    "        sp_vs_team_dict['sp_vs_team_bb'] = sp_vs_team_raw_df['BB'].mean()\n",
    "        sp_vs_team_dict['sp_vs_team_k'] = sp_vs_team_raw_df['SO'].mean()\n",
    "        sp_vs_team_dict['sp_vs_team_k%'] = sp_vs_team_raw_df['SO'].sum() / sp_vs_team_raw_df['BF'].sum()\n",
    "        sp_vs_team_dict['sp_vs_team_to'] = sp_vs_team_raw_df['TO'].mean()\n",
    "        sp_vs_team_dict['sp_vs_team_era'] = sp_vs_team_raw_df.iloc[-1]['ERA']\n",
    "        sp_vs_team_dict['sp_vs_team_whip'] = ((sp_vs_team_raw_df['H'].sum() + sp_vs_team_raw_df['BB'].sum() ) / sp_vs_team_raw_df['IP'].sum())\n",
    "        sp_vs_team_dict['sp_vs_team_baa'] = sp_vs_team_raw_df['H'].sum() / sp_vs_team_raw_df['AB'].sum()\n",
    "\n",
    "sp_vs_team_stats_df = pd.DataFrame([sp_vs_team_dict])\n",
    "\n",
    "#print(sp_vs_team_stats_df)\n"
   ]
  },
  {
   "cell_type": "markdown",
   "id": "06230ad0",
   "metadata": {
    "papermill": {
     "duration": 0.012417,
     "end_time": "2024-08-06T09:18:52.353897",
     "exception": false,
     "start_time": "2024-08-06T09:18:52.341480",
     "status": "completed"
    },
    "tags": []
   },
   "source": [
    "Gather opp_stats"
   ]
  },
  {
   "cell_type": "code",
   "execution_count": 34,
   "id": "475e8526",
   "metadata": {
    "execution": {
     "iopub.execute_input": "2024-08-06T09:18:52.383697Z",
     "iopub.status.busy": "2024-08-06T09:18:52.383200Z",
     "iopub.status.idle": "2024-08-06T09:18:55.833780Z",
     "shell.execute_reply": "2024-08-06T09:18:55.833780Z"
    },
    "papermill": {
     "duration": 3.462995,
     "end_time": "2024-08-06T09:18:55.835269",
     "exception": false,
     "start_time": "2024-08-06T09:18:52.372274",
     "status": "completed"
    },
    "tags": []
   },
   "outputs": [],
   "source": [
    "search_url = f'https://www.baseball-reference.com/teams/tgl.cgi?team={opp_abv}&t=p&year={year}#team_pitching_gamelogs'\n",
    "\n",
    "headers = {'User_Agent': random.choice(user_agents)}\n",
    "\n",
    "time.sleep(3)\n",
    "\n",
    "response = requests.get(search_url, headers=headers)\n",
    "response.raise_for_status()\n",
    "\n",
    "soup = BeautifulSoup(response.content, 'html.parser')\n",
    "\n",
    "table_rows = soup.find_all('tr', id=lambda x: x and x.startswith('team_pitching_gamelogs'))\n",
    "\n",
    "if table_rows:\n",
    "\n",
    "    data = []\n",
    "\n",
    "    for row in table_rows:\n",
    "\n",
    "        row_data = {}\n",
    "\n",
    "        for td in row.find_all('td'):\n",
    "\n",
    "            stat_type = td['data-stat']\n",
    "\n",
    "            if stat_type == 'date_game':\n",
    "                stat_value = td['csk'][:10]\n",
    "            else:\n",
    "                stat_value = td.text\n",
    "\n",
    "            row_data[stat_type] = stat_value\n",
    "\n",
    "        if row_data:\n",
    "\n",
    "            game_day = int(row_data['date_game'][8:10])\n",
    "            game_month = int(row_data['date_game'][5:7])\n",
    "\n",
    "            if game_month < month:\n",
    "                    data.append(row_data)\n",
    "            elif game_month == month:\n",
    "                if game_day <= day:\n",
    "                     data.append(row_data)\n",
    "\n",
    "    if data:\n",
    "        opp_raw_df = pd.DataFrame(data)\n",
    "\n",
    "        opp_raw_df.rename(columns={\n",
    "             'team_game_num': 'opp_game_num',\n",
    "             'earned_run_avg': 'ERA',\n",
    "             'batters_faced': 'BF',\n",
    "             'pitches': 'P',\n",
    "             'strikes_total': 'S',\n",
    "             'pitchers_number': 'num_pitchers'\n",
    "        }, inplace=True)\n",
    "\n",
    "        opp_all_columns = opp_raw_df.columns.tolist()\n",
    "\n",
    "        opp_columns_to_keep = ['opp_game_num', 'IP', 'H', 'R', 'ER', 'BB', 'SO', 'HR', 'HBP', 'ERA', 'BF', 'P', 'S', 'AB', '2B', '3B', 'num_pitchers']\n",
    "\n",
    "        opp_columns_to_drop = [column for column in opp_all_columns if column not in opp_columns_to_keep]\n",
    "\n",
    "        opp_column_df = opp_raw_df.drop(opp_columns_to_drop, axis=1)\n",
    "\n",
    "        for column in opp_column_df.columns.tolist():\n",
    "            if column in ['IP', 'ERA']:\n",
    "                opp_column_df[column] = opp_column_df[column].astype(float)\n",
    "            else:\n",
    "                opp_column_df[column] = opp_column_df[column].astype(int)\n",
    "        \n",
    "        opp_column_df['WHIP'] = opp_column_df.apply(lambda row: ((row['H'] + row['BB']) / row['IP']) if row['IP'] > 0.0 else (row['H'] + row['BB']), axis=1)\n",
    "\n",
    "        opp_column_df['TB'] = opp_column_df.apply(lambda row: (row['H'] - row['2B'] - row['3B'] - row['HR']) + 2*row['2B'] + 3*row['3B'] + 4*row['HR'], axis=1)\n",
    "\n",
    "        opp_column_df['TO'] = opp_column_df.apply(lambda row: row['IP']*3, axis=1)\n",
    "\n",
    "        opp_column_df['S%'] = opp_column_df.apply(lambda row: row['S'] / row['P'], axis=1)\n",
    "\n",
    "    else:\n",
    "        opp_column_df = None\n",
    "\n",
    "else:\n",
    "    opp_column_df = None\n",
    "\n",
    "#print(opp_column_df)"
   ]
  },
  {
   "cell_type": "code",
   "execution_count": 35,
   "id": "3346e2a2",
   "metadata": {
    "execution": {
     "iopub.execute_input": "2024-08-06T09:18:55.857123Z",
     "iopub.status.busy": "2024-08-06T09:18:55.857123Z",
     "iopub.status.idle": "2024-08-06T09:18:55.861593Z",
     "shell.execute_reply": "2024-08-06T09:18:55.861593Z"
    },
    "papermill": {
     "duration": 0.017383,
     "end_time": "2024-08-06T09:18:55.862586",
     "exception": false,
     "start_time": "2024-08-06T09:18:55.845203",
     "status": "completed"
    },
    "tags": []
   },
   "outputs": [],
   "source": [
    "opp_stats_dict = {'opp_num_pitchers_per_game': None, 'opp_p_per_game': None, 'opp_s_per_game': None, 'opp_s%': None, 'opp_bf_per_game': None, \n",
    "                  'opp_ab_per_game': None, 'opp_h_per_game': None, 'opp_r_per_game': None, 'opp_er_per_game': None, 'opp_hr_per_game': None, \n",
    "                  'opp_tb_per_game': None, 'opp_bb_per_game': None, 'opp_k_per_game': None, 'opp_k%': None, 'opp_to_per_game': None, \n",
    "                  'opp_era': None, 'opp_whip': None, 'opp_baa': None\n",
    "                  }\n",
    "\n",
    "if opp_column_df is not None:\n",
    "    \n",
    "    opp_stats_dict['opp_num_pitchers_per_game'] = opp_column_df['num_pitchers'].mean()\n",
    "    opp_stats_dict['opp_p_per_game'] = opp_column_df['P'].mean()\n",
    "    opp_stats_dict['opp_s_per_game'] = opp_column_df['S'].mean()\n",
    "    opp_stats_dict['opp_s%'] = opp_column_df['S'].sum() / opp_column_df['P'].sum()\n",
    "    opp_stats_dict['opp_bf_per_game'] = opp_column_df['BF'].mean()\n",
    "    opp_stats_dict['opp_ab_per_game'] = opp_column_df['AB'].mean()\n",
    "    opp_stats_dict['opp_h_per_game'] = opp_column_df['H'].mean()\n",
    "    opp_stats_dict['opp_r_per_game'] = opp_column_df['R'].mean()\n",
    "    opp_stats_dict['opp_er_per_game'] = opp_column_df['ER'].mean()\n",
    "    opp_stats_dict['opp_hr_per_game'] = opp_column_df['HR'].mean()\n",
    "    opp_stats_dict['opp_tb_per_game'] = opp_column_df['TB'].mean()\n",
    "    opp_stats_dict['opp_bb_per_game'] = opp_column_df['BB'].mean()\n",
    "    opp_stats_dict['opp_k_per_game'] = opp_column_df['SO'].mean()\n",
    "    opp_stats_dict['opp_k%'] = opp_column_df['SO'].sum() / opp_column_df['BF'].sum()\n",
    "    opp_stats_dict['opp_to_per_game'] = opp_column_df['TO'].mean()\n",
    "    opp_stats_dict['opp_era'] = opp_column_df.iloc[-1]['ERA']\n",
    "    opp_stats_dict['opp_whip'] = (opp_column_df['H'].sum() + opp_column_df['BB'].sum()) / opp_column_df['IP'].sum()\n",
    "    opp_stats_dict['opp_baa'] = opp_column_df['H'].sum() / opp_column_df['AB'].sum()\n",
    "\n",
    "opp_stats_df = pd.DataFrame([opp_stats_dict])\n",
    "\n",
    "#print(opp_stats_df)"
   ]
  },
  {
   "cell_type": "markdown",
   "id": "692291c6",
   "metadata": {
    "papermill": {
     "duration": 0.011424,
     "end_time": "2024-08-06T09:18:55.883447",
     "exception": false,
     "start_time": "2024-08-06T09:18:55.872023",
     "status": "completed"
    },
    "tags": []
   },
   "source": [
    "Gather team_v_opp_stats"
   ]
  },
  {
   "cell_type": "code",
   "execution_count": 36,
   "id": "2fb5503d",
   "metadata": {
    "execution": {
     "iopub.execute_input": "2024-08-06T09:18:55.904803Z",
     "iopub.status.busy": "2024-08-06T09:18:55.904803Z",
     "iopub.status.idle": "2024-08-06T09:18:59.657118Z",
     "shell.execute_reply": "2024-08-06T09:18:59.656697Z"
    },
    "papermill": {
     "duration": 3.763738,
     "end_time": "2024-08-06T09:18:59.658111",
     "exception": false,
     "start_time": "2024-08-06T09:18:55.894373",
     "status": "completed"
    },
    "tags": []
   },
   "outputs": [],
   "source": [
    "team_vs_opp_schedule = api.schedule(start_date=season_start_date, end_date= date, team=team_id, opponent=opp_id)\n",
    "\n",
    "team_vs_opp_games = []\n",
    "team_vs_opp_game_pks = []\n",
    "\n",
    "if len(team_vs_opp_schedule) > 0:\n",
    "\n",
    "    for game in team_vs_opp_schedule:\n",
    "        if game['game_type'] != 'S' and game['status'] != 'Postponed':\n",
    "            team_vs_opp_games.append(game['game_date'])\n",
    "            team_vs_opp_game_pks.append(game['game_id'])\n",
    "    \n",
    "team_vs_opp_games_played = len(team_vs_opp_games)\n",
    "\n",
    "team_vs_opp_data_dict = {'team_vs_opp_games_played': None, 'team_vs_opp_num_batters': None, 'team_vs_opp_pa': None, 'team_vs_opp_ab': None, \n",
    "                         'team_vs_opp_h': None,'team_vs_opp_r': None, 'team_vs_opp_rbi': None, 'team_vs_opp_hr': None, 'team_vs_opp_tb': None, \n",
    "                         'team_vs_opp_bb': None,'team_vs_opp_k': None, 'team_vs_opp_ba': None, 'team_vs_opp_obp': None, 'team_vs_opp_slg': None}\n",
    "\n",
    "if team_vs_opp_games_played > 0:\n",
    "\n",
    "    headers = {'User_Agent': random.choice(user_agents)}\n",
    "\n",
    "    time.sleep(3)\n",
    "\n",
    "    response = requests.get(f'https://www.baseball-reference.com/teams/tgl.cgi?team={team_abv}&t=b&year={year}#team_batting_gamelogs', headers=headers)\n",
    "    response.raise_for_status()\n",
    "\n",
    "    soup = BeautifulSoup(response.content, 'html.parser')\n",
    "\n",
    "    table_rows = soup.find_all('tr', id=lambda x: x and x.startswith('team_batting_gamelogs'))\n",
    "\n",
    "    if table_rows:\n",
    "\n",
    "        data = []\n",
    "\n",
    "        for row in table_rows:\n",
    "\n",
    "            row_data = {}\n",
    "\n",
    "            for td in row.find_all('td'):\n",
    "\n",
    "                stat_type = td['data-stat']\n",
    "\n",
    "                if stat_type == 'date_game':\n",
    "                    stat_value = td['csk'][:10]\n",
    "                else:\n",
    "                    stat_value = td.text\n",
    "\n",
    "                row_data[stat_type] = stat_value\n",
    "\n",
    "            if row_data:\n",
    "\n",
    "                if row_data['date_game'] in team_vs_opp_games:\n",
    "\n",
    "                    game_day = int(row_data['date_game'][8:10])\n",
    "                    game_month = int(row_data['date_game'][5:7])\n",
    "\n",
    "                    if game_month < month:\n",
    "                            data.append(row_data)\n",
    "                    elif game_month == month:\n",
    "                        if game_day <= day:\n",
    "                            data.append(row_data)\n",
    "        \n",
    "        if data:\n",
    "            team_vs_opp_raw_df = pd.DataFrame(data)\n",
    "\n",
    "            #print(team_vs_opp_raw_df)\n",
    "\n",
    "            team_vs_opp_raw_df.rename(columns={\n",
    "                'batting_avg': 'BA',\n",
    "                'onbase_perc': 'OBP',\n",
    "                'slugging_perc': 'SLG',\n",
    "                'batters_number': 'num_batters'\n",
    "            }, inplace=True)\n",
    "\n",
    "            team_vs_opp_columns = team_vs_opp_raw_df.columns.tolist()\n",
    "\n",
    "            team_vs_opp_columns_to_keep = ['PA', 'AB', 'R', 'H', '2B', '3B', 'HR', 'RBI', 'BB', 'SO', 'BA', 'OBP', 'SLG', 'HBP', 'num_batters']\n",
    "\n",
    "            team_vs_opp_columns_to_drop = [column for column in team_vs_opp_columns if column not in team_vs_opp_columns_to_keep]\n",
    "\n",
    "            team_vs_opp_columns_df = team_vs_opp_raw_df.drop(team_vs_opp_columns_to_drop, axis=1)\n",
    "\n",
    "            team_vs_opp_columns_int = ['PA', 'AB', 'R', 'H', '2B', '3B', 'HR', 'RBI', 'BB', 'SO', 'HBP', 'num_batters']\n",
    "\n",
    "            team_vs_opp_columns_float = ['BA', 'OBP', 'SLG']\n",
    "\n",
    "            for column in team_vs_opp_columns_int:\n",
    "                team_vs_opp_columns_df[column] = team_vs_opp_columns_df[column].astype(int)\n",
    "\n",
    "            for column in team_vs_opp_columns_float:\n",
    "                team_vs_opp_columns_df[column] = team_vs_opp_columns_df[column].astype(float)\n",
    "\n",
    "            team_vs_opp_columns_df['TB'] = team_vs_opp_columns_df.apply(lambda row: (row['H'] - row['2B'] - row['3B'] - row['HR']) + 2*row['2B'] + 3*row['3B'] + 4*row['HR'], axis=1)\n",
    "            \n",
    "        else:\n",
    "            team_vs_opp_columns_df = None\n",
    "    \n",
    "    else:\n",
    "        team_vs_opp_columns_df = None\n",
    "    \n",
    "    if team_vs_opp_columns_df is not None:\n",
    "        \n",
    "        team_vs_opp_data_dict['team_vs_opp_games_played'] = team_vs_opp_games_played\n",
    "        team_vs_opp_data_dict['team_vs_opp_num_batters'] = team_vs_opp_columns_df['num_batters'].mean()\n",
    "        team_vs_opp_data_dict['team_vs_opp_pa'] = team_vs_opp_columns_df['PA'].mean()\n",
    "        team_vs_opp_data_dict['team_vs_opp_ab'] = team_vs_opp_columns_df['AB'].mean()\n",
    "        team_vs_opp_data_dict['team_vs_opp_h'] = team_vs_opp_columns_df['H'].mean()\n",
    "        team_vs_opp_data_dict['team_vs_opp_r'] = team_vs_opp_columns_df['R'].mean()\n",
    "        team_vs_opp_data_dict['team_vs_opp_rbi'] = team_vs_opp_columns_df['RBI'].mean()\n",
    "        team_vs_opp_data_dict['team_vs_opp_hr'] = team_vs_opp_columns_df['HR'].mean()\n",
    "        team_vs_opp_data_dict['team_vs_opp_tb'] = team_vs_opp_columns_df['TB'].mean()\n",
    "        team_vs_opp_data_dict['team_vs_opp_bb'] = team_vs_opp_columns_df['BB'].mean()\n",
    "        team_vs_opp_data_dict['team_vs_opp_k'] = team_vs_opp_columns_df['SO'].mean()\n",
    "        team_vs_opp_data_dict['team_vs_opp_ba'] = team_vs_opp_columns_df['H'].sum() / team_vs_opp_columns_df['AB'].sum()\n",
    "        team_vs_opp_data_dict['team_vs_opp_obp'] = (team_vs_opp_columns_df['H'].sum() + team_vs_opp_columns_df['BB'].sum() + team_vs_opp_columns_df['HBP'].sum()) / team_vs_opp_columns_df['PA'].sum()\n",
    "        team_vs_opp_data_dict['team_vs_opp_slg'] = team_vs_opp_columns_df['TB'].sum() / team_vs_opp_columns_df['AB'].sum()\n",
    "\n",
    "team_vs_opp_df = pd.DataFrame([team_vs_opp_data_dict])\n",
    "\n",
    "#print(team_vs_opp_df)\n"
   ]
  },
  {
   "cell_type": "markdown",
   "id": "062c94b6",
   "metadata": {
    "papermill": {
     "duration": 0.010926,
     "end_time": "2024-08-06T09:18:59.678971",
     "exception": false,
     "start_time": "2024-08-06T09:18:59.668045",
     "status": "completed"
    },
    "tags": []
   },
   "source": [
    "Series Data"
   ]
  },
  {
   "cell_type": "code",
   "execution_count": 37,
   "id": "a30c88b6",
   "metadata": {
    "execution": {
     "iopub.execute_input": "2024-08-06T09:18:59.711752Z",
     "iopub.status.busy": "2024-08-06T09:18:59.711255Z",
     "iopub.status.idle": "2024-08-06T09:18:59.717712Z",
     "shell.execute_reply": "2024-08-06T09:18:59.717712Z"
    },
    "papermill": {
     "duration": 0.027313,
     "end_time": "2024-08-06T09:18:59.718705",
     "exception": false,
     "start_time": "2024-08-06T09:18:59.691392",
     "status": "completed"
    },
    "tags": []
   },
   "outputs": [],
   "source": [
    "series_data_dict = {'series_games_played': None, 'series_pa': None, 'series_ab': None, 'series_h': None, 'series_r': None, \n",
    "                    'series_rbi': None, 'series_hr': None, 'series_tb': None, 'series_bb': None, 'series_k': None, \n",
    "                    'series_ba': None, 'series_obp': None, 'series_slg': None\n",
    "                    }\n",
    "\n",
    "#team_vs_opp_games = ['2024-05-25', '2024-05-26', '2024-06-14', '2024-06-15', '2024-06-16', '2024-07-12', '2024-07-13', '2024-07-13', '2024-07-14', '2024-08-01']\n",
    "series_status = False\n",
    "\n",
    "if games_vs_opp is not None:\n",
    "    i = 0\n",
    "    while i < len(team_vs_opp_game_pks):\n",
    "        if team_vs_opp_game_pks[i] not in games_vs_opp:\n",
    "            team_vs_opp_games.pop(i)\n",
    "        i += 1\n",
    "\n",
    "    #print(team_vs_opp_games)\n",
    "\n",
    "    if len(games_vs_opp) >= 3:\n",
    "        series_games = team_vs_opp_games[len(games_vs_opp) - 3:]\n",
    "\n",
    "    elif len(games_vs_opp) == 2:\n",
    "        series_games = team_vs_opp_games[len(games_vs_opp) - 2:]\n",
    "\n",
    "    elif len(games_vs_opp) == 1:\n",
    "        series_games = [team_vs_opp_games[0]]\n",
    "\n",
    "    else:\n",
    "        series_games = None\n",
    "\n",
    "    #print(series_games)\n",
    "\n",
    "    if series_games is not None:\n",
    "        series_games_data = []\n",
    "        next_game_num = games_played + 1\n",
    "        for k in range(len(correct_columns_df)):\n",
    "            game = correct_columns_df.iloc[k]\n",
    "            if game['date_game'] in series_games:\n",
    "                if game['game_num'] in range(next_game_num - 3, next_game_num):\n",
    "                    series_games_data.append(game)\n",
    "        \n",
    "        series_games_played = len(series_games_data)\n",
    "\n",
    "        if series_games_played > 0:\n",
    "            series_status = True\n",
    "\n",
    "            series_games_df = pd.DataFrame(series_games_data)\n",
    "\n",
    "            series_data_dict['series_games_played'] = series_games_played\n",
    "            series_data_dict['series_pa'] = series_games_df['PA'].mean()\n",
    "            series_data_dict['series_ab'] = series_games_df['AB'].mean()\n",
    "            series_data_dict['series_h'] = series_games_df['H'].mean()\n",
    "            series_data_dict['series_r'] = series_games_df['R'].mean()\n",
    "            series_data_dict['series_rbi'] = series_games_df['RBI'].mean()\n",
    "            series_data_dict['series_hr'] = series_games_df['HR'].mean()\n",
    "            series_data_dict['series_tb'] = series_games_df['TB'].mean()\n",
    "            series_data_dict['series_bb'] = series_games_df['BB'].mean()\n",
    "            series_data_dict['series_k'] = series_games_df['SO'].mean()\n",
    "            series_data_dict['series_ba'] = series_games_df['H'].sum() / series_games_df['AB'].sum()\n",
    "            series_data_dict['series_obp'] = (series_games_df['H'].sum() + series_games_df['BB'].sum() + series_games_df['HBP'].sum()) / series_games_df['PA'].sum()\n",
    "            series_data_dict['series_slg'] = series_games_df['TB'].sum() / series_games_df['AB'].sum()\n",
    "\n",
    "\n",
    "series_stats_df = pd.DataFrame([series_data_dict])\n",
    "\n",
    "#print(series_status)\n",
    "#rint(series_stats_df)"
   ]
  },
  {
   "cell_type": "markdown",
   "id": "e8bebe40",
   "metadata": {
    "papermill": {
     "duration": 0.00894,
     "end_time": "2024-08-06T09:18:59.737082",
     "exception": false,
     "start_time": "2024-08-06T09:18:59.728142",
     "status": "completed"
    },
    "tags": []
   },
   "source": [
    "INITIALIZING CHROMEDRIVER"
   ]
  },
  {
   "cell_type": "code",
   "execution_count": 38,
   "id": "5d368711",
   "metadata": {
    "execution": {
     "iopub.execute_input": "2024-08-06T09:18:59.757445Z",
     "iopub.status.busy": "2024-08-06T09:18:59.757445Z",
     "iopub.status.idle": "2024-08-06T09:18:59.760425Z",
     "shell.execute_reply": "2024-08-06T09:18:59.759929Z"
    },
    "papermill": {
     "duration": 0.015893,
     "end_time": "2024-08-06T09:18:59.761915",
     "exception": false,
     "start_time": "2024-08-06T09:18:59.746022",
     "status": "completed"
    },
    "slideshow": {
     "slide_type": "skip"
    },
    "tags": [
     "skip",
     "'skip'"
    ]
   },
   "outputs": [],
   "source": [
    "#print('not skipped')\n",
    "#options = Options()\n",
    "#options.add_argument(\"--headless\")\n",
    "#options.add_argument(\"--disable-gpu\")\n",
    "#options.add_argument(\"--no-sandbox\")\n",
    "#options.add_argument(\"--disable-dev-shm-usage\")\n",
    "#options.add_argument(\"--disable-extensions\")\n",
    "#options.add_argument(\"--disable-images\")\n",
    "#prefs = {\n",
    "#    'profile.default_content_setting_values': {\n",
    "#        'images': 2,\n",
    "#        'javascript': 2,\n",
    "#        'stylesheet': 2\n",
    "#    }\n",
    "#}\n",
    "#options.add_experimental_option('prefs', prefs)\n",
    "\n",
    "#service = Service(chrome_driver_path)\n",
    "#driver = webdriver.Chrome(service=service, options=options)\n",
    "\n",
    "#driver = webdriver.Chrome(service=Service(ChromeDriverManager().install()), options=options)"
   ]
  },
  {
   "cell_type": "markdown",
   "id": "f6f7e979",
   "metadata": {
    "papermill": {
     "duration": 0.00894,
     "end_time": "2024-08-06T09:18:59.788239",
     "exception": false,
     "start_time": "2024-08-06T09:18:59.779299",
     "status": "completed"
    },
    "tags": []
   },
   "source": [
    "Gather Raw BVP Data"
   ]
  },
  {
   "cell_type": "code",
   "execution_count": 39,
   "id": "a32efda9",
   "metadata": {
    "execution": {
     "iopub.execute_input": "2024-08-06T09:18:59.812079Z",
     "iopub.status.busy": "2024-08-06T09:18:59.811583Z",
     "iopub.status.idle": "2024-08-06T09:18:59.814066Z",
     "shell.execute_reply": "2024-08-06T09:18:59.814066Z"
    },
    "papermill": {
     "duration": 0.01788,
     "end_time": "2024-08-06T09:18:59.815059",
     "exception": false,
     "start_time": "2024-08-06T09:18:59.797179",
     "status": "completed"
    },
    "slideshow": {
     "slide_type": "skip"
    },
    "tags": [
     "skip",
     "'skip'"
    ]
   },
   "outputs": [],
   "source": [
    "#if bvp_url is not None:\n",
    "#    bvp_raw_data = {}\n",
    "\n",
    "    #service = Service(chrome_driver_path)\n",
    "    #driver = webdriver.Chrome(service=service, options=options)\n",
    "    \n",
    "    #with webdriver.Chrome(service=Service(ChromeDriverManager().install()), options=options) as driver:\n",
    "#    try:\n",
    "#        driver.get(bvp_url)\n",
    "\n",
    "#        driver.implicitly_wait(10)\n",
    "\n",
    "#        stats_boxes = driver.find_elements(By.CLASS_NAME, 'stats-box')\n",
    "\n",
    "#        for stats_box in stats_boxes:\n",
    "#            stat_type = stats_box.find_element(By.CLASS_NAME, 'stats-title')\n",
    "#            stat_value = stats_box.find_element(By.CLASS_NAME, 'stats-value')\n",
    "#            bvp_raw_data[stat_type.text] = stat_value.text\n",
    "        \n",
    "#        for key in bvp_raw_data.keys():\n",
    "#            bvp_raw_data[key] = float(bvp_raw_data[key])\n",
    "    \n",
    "#    except Exception as e:\n",
    "#        bvp_raw_data = None\n",
    "\n",
    "    #finally:\n",
    "        #driver.close()\n",
    "        #driver.quit()\n",
    "        #kill_chrome_processes()\n",
    "\n",
    "#else:\n",
    "#    bvp_raw_data = None\n",
    "\n",
    "#print(bvp_raw_data)"
   ]
  },
  {
   "cell_type": "markdown",
   "id": "da1323fd",
   "metadata": {
    "papermill": {
     "duration": 0.009437,
     "end_time": "2024-08-06T09:18:59.833933",
     "exception": false,
     "start_time": "2024-08-06T09:18:59.824496",
     "status": "completed"
    },
    "tags": []
   },
   "source": [
    "Manipulate bvp data\n",
    "\n",
    "TO DO: Remove normalization to 9 innings and keep as total per game.\n",
    "Consider: switching to per plate appearance\n",
    "Consider: instead of just looking at bvp, look at entire game where that pitcher was sp\n",
    "            - record stats per plate appearance against starting pitcher\n",
    "            - record stats per plate appearance against entire bullpen\n",
    "            - most importantly, determine avg of plate appearances against sp per game and stats associated with those plate appearances\n",
    "            - big idea: want to determine how many plate appearances the batter will get vs this sp, and then determine the likelihood of player getting a hit within those plate appearances.\n",
    "            - Then want to determine how many plate appearances the batter will get after sp, then then determine the likelihood of a player getting a hit within those plate appearances.\n",
    "            - Combine both of these stats to predict the amount of plate appearances the batter will get per game, and how likely they are to get a hit given the split of those plate appearances "
   ]
  },
  {
   "cell_type": "code",
   "execution_count": 40,
   "id": "f9234611",
   "metadata": {
    "execution": {
     "iopub.execute_input": "2024-08-06T09:18:59.854793Z",
     "iopub.status.busy": "2024-08-06T09:18:59.854793Z",
     "iopub.status.idle": "2024-08-06T09:18:59.857276Z",
     "shell.execute_reply": "2024-08-06T09:18:59.857276Z"
    },
    "papermill": {
     "duration": 0.013907,
     "end_time": "2024-08-06T09:18:59.858270",
     "exception": false,
     "start_time": "2024-08-06T09:18:59.844363",
     "status": "completed"
    },
    "slideshow": {
     "slide_type": "skip"
    },
    "tags": [
     "skip",
     "'skip'"
    ]
   },
   "outputs": [],
   "source": [
    "#bvp_data = {'bvp_games_faced': None,\n",
    "#            'bvp_ip_total': None,\n",
    "#            'bvp_ip_per_game': None,\n",
    "#            'bvp_p_total': None,\n",
    "#            'bvp_p_per_game': None,\n",
    "#            'bvp_pa_total': None,\n",
    "#            'bvp_pa_per_game': None,\n",
    "#            'bvp_h_total': None,\n",
    "#            'bvp_h_per_game': None,\n",
    "#            'bvp_hr_total': None,\n",
    "#            'bvp_hr_per_game': None,\n",
    "#            'bvp_tb_total': None,\n",
    "#            'bvp_tb_per_game': None,\n",
    "#            'bvp_k_total': None,\n",
    "#            'bvp_k_per_game': None,\n",
    "#            'bvp_k%': None,\n",
    "#            'bvp_woba': None,\n",
    "#            'bvp_ba': None,\n",
    "#            }\n",
    "\n",
    "#if bvp_raw_data is not None:\n",
    "#    bvp_total_data = {}\n",
    "#    sp_ip = 0.0\n",
    "\n",
    "#    for d in games_vs_sp:\n",
    "#        sp_ip += float(sp_column_df[sp_column_df['date_game'] == d]['IP'].iloc[0])\n",
    "\n",
    "#    sp_ip_per_bvp = round(sp_ip / num_games_vs_sp, 3)\n",
    "#    bvp_total_data['bvp_ip_total'] = sp_ip\n",
    "#    bvp_total_data['bvp_ip_per_game'] = sp_ip_per_bvp\n",
    "\n",
    "#    bvp_total_data['bvp_p_total'] = bvp_raw_data['Pitches']\n",
    "#    bvp_total_data['bvp_p_per_game'] = bvp_raw_data['Pitches'] / num_games_vs_sp\n",
    "#    bvp_total_data['bvp_pa_total'] = bvp_raw_data['PA']\n",
    "#    bvp_total_data['bvp_pa_per_game'] = bvp_raw_data['PA'] / num_games_vs_sp\n",
    "#    bvp_total_data['bvp_h_total'] = bvp_raw_data['H']\n",
    "#    bvp_total_data['bvp_h_per_game'] = bvp_raw_data['H'] / num_games_vs_sp\n",
    "#    bvp_total_data['bvp_1B_adj'] = bvp_raw_data['1B']\n",
    "#    bvp_total_data['bvp_2B_adj'] = bvp_raw_data['2B']\n",
    "#    bvp_total_data['bvp_3B_adj'] = bvp_raw_data['3B']\n",
    "#    bvp_total_data['bvp_hr_total'] = bvp_raw_data['HR']\n",
    "#    bvp_total_data['bvp_hr_per_game'] = bvp_raw_data['HR'] / num_games_vs_sp\n",
    "#    bvp_total_data['bvp_k_total'] = bvp_raw_data['SO']\n",
    "#    bvp_total_data['bvp_k_per_game'] = bvp_raw_data['SO'] / num_games_vs_sp\n",
    "    \n",
    "#    bvp_total_data['bvp_tb_total'] = (bvp_total_data['bvp_1B_adj'] + 2 * bvp_total_data['bvp_2B_adj']\n",
    "#                                                  + 3 * bvp_total_data['bvp_3B_adj'] + 4 * bvp_total_data['bvp_hr_per_game'])\n",
    "#    bvp_total_data['bvp_tb_per_game'] = bvp_total_data['bvp_tb_total'] / num_games_vs_sp\n",
    "\n",
    "#    bvp_data['bvp_ba'] = bvp_raw_data['AVG']\n",
    "#    bvp_data['bvp_k%'] = bvp_raw_data['K%']\n",
    "#    bvp_data['bvp_woba'] = bvp_raw_data['wOBA']\n",
    "\n",
    "#    for i in ['bvp_1B_adj', 'bvp_2B_adj', 'bvp_3B_adj']:\n",
    "#        bvp_total_data.pop(i)\n",
    "    \n",
    "#    for total in bvp_total_data.keys():\n",
    "#        bvp_data[total] = bvp_total_data[total]\n",
    "    \n",
    "#    bvp_data['bvp_games_faced'] = num_games_vs_sp\n",
    "    \n",
    "#    bvp_data_df = pd.DataFrame([bvp_data]).astype(float)\n",
    "\n",
    "#else:\n",
    "#    bvp_data_df = pd.DataFrame([bvp_data])\n",
    "#\n",
    "#print(bvp_data_df)\n",
    "        "
   ]
  },
  {
   "cell_type": "markdown",
   "id": "5d66c0e4",
   "metadata": {
    "papermill": {
     "duration": 0.010431,
     "end_time": "2024-08-06T09:18:59.879627",
     "exception": false,
     "start_time": "2024-08-06T09:18:59.869196",
     "status": "completed"
    },
    "tags": []
   },
   "source": [
    "Fetch Umpire Stats\n",
    "- If Home Plate Ump announced\n",
    "    - Return data for only HP ump \n",
    "- If Home Plate Ump not yet announced\n",
    "    - Fetch data for all 4 umps\n",
    "    - hp_ump stats = avg of 4 umps stats"
   ]
  },
  {
   "cell_type": "code",
   "execution_count": 41,
   "id": "fb538072",
   "metadata": {
    "execution": {
     "iopub.execute_input": "2024-08-06T09:18:59.900487Z",
     "iopub.status.busy": "2024-08-06T09:18:59.900487Z",
     "iopub.status.idle": "2024-08-06T09:18:59.902970Z",
     "shell.execute_reply": "2024-08-06T09:18:59.902970Z"
    },
    "papermill": {
     "duration": 0.013906,
     "end_time": "2024-08-06T09:18:59.903963",
     "exception": false,
     "start_time": "2024-08-06T09:18:59.890057",
     "status": "completed"
    },
    "slideshow": {
     "slide_type": "skip"
    },
    "tags": [
     "skip",
     "'skip'"
    ]
   },
   "outputs": [],
   "source": [
    "#if len(proj_ump_ids) > 0:\n",
    "\n",
    "    #service = Service(chrome_driver_path)\n",
    "    #driver = webdriver.Chrome(service=service, options=options)\n",
    "\n",
    "    #with webdriver.Chrome(service=Service(ChromeDriverManager().install()), options=options) as driver:\n",
    "#    try:\n",
    "#        driver.get('https://swishanalytics.com/mlb/mlb-umpire-factors')\n",
    "\n",
    "#        table = driver.find_element(By.CSS_SELECTOR, \"div.table-responsive.table-umpires > table\")\n",
    "\n",
    "#        rows = table.find_elements(By.CSS_SELECTOR, \"tbody tr\")\n",
    "\n",
    "#        umpire_data = []\n",
    "\n",
    "#        for row in rows:\n",
    "#            umpire_name = row.find_element(By.CSS_SELECTOR, \"td.umps-name\").text.strip()\n",
    "#            if umpire_name in proj_umps:\n",
    "#                row_data = [cell.text.strip() for cell in row.find_elements(By.CSS_SELECTOR, \"td\")]\n",
    "#                umpire_data.append(row_data[3:])\n",
    "        \n",
    "#        for u in umpire_data:\n",
    "#            i = 0\n",
    "#            while i < len(u):\n",
    "#                if u[i].endswith('%'):\n",
    "#                    u[i] = float(u[i].strip('%')) / 100\n",
    "#                elif u[i].endswith('x'):\n",
    "#                    u[i] = float(u[i].strip('x'))\n",
    "#                else:\n",
    "#                    u[i] = float(u[i])\n",
    "#                i += 1\n",
    "    \n",
    "#    except Exception as e:\n",
    "#        umpire_data = [[None for _ in range(12)]]\n",
    "                \n",
    "    #finally:\n",
    "        #driver.close()\n",
    "        #driver.quit()\n",
    "\n",
    "#else:\n",
    "#    umpire_data = [[None for _ in range(12)]]\n",
    "\n",
    "\n",
    "#print(umpire_data)\n"
   ]
  },
  {
   "cell_type": "markdown",
   "id": "530d6260",
   "metadata": {
    "papermill": {
     "duration": 0.012417,
     "end_time": "2024-08-06T09:18:59.928797",
     "exception": false,
     "start_time": "2024-08-06T09:18:59.916380",
     "status": "completed"
    },
    "tags": []
   },
   "source": [
    "More Efficient Umpire Data"
   ]
  },
  {
   "cell_type": "code",
   "execution_count": 42,
   "id": "1506e8d9",
   "metadata": {
    "execution": {
     "iopub.execute_input": "2024-08-06T09:18:59.948664Z",
     "iopub.status.busy": "2024-08-06T09:18:59.948664Z",
     "iopub.status.idle": "2024-08-06T09:18:59.952637Z",
     "shell.execute_reply": "2024-08-06T09:18:59.952637Z"
    },
    "papermill": {
     "duration": 0.015397,
     "end_time": "2024-08-06T09:18:59.953631",
     "exception": false,
     "start_time": "2024-08-06T09:18:59.938234",
     "status": "completed"
    },
    "tags": []
   },
   "outputs": [],
   "source": [
    "umpire_data_df = pd.DataFrame(columns=['ump_k%', 'ump_bb%', 'ump_r_per_game', 'ump_ba', 'ump_obp', 'ump_slg', \n",
    "                                       'ump_k_boost', 'ump_bb_boost', 'ump_r_boost', 'ump_ba_boost', 'ump_obp_boost', 'ump_slg_boost'])\n",
    "\n",
    "if len(proj_ump_ids) > 0:\n",
    "    \n",
    "    for ump in proj_umps:\n",
    "        ump_data = []\n",
    "        if ump in umpire_data.keys():\n",
    "            ump_data.append(umpire_data[ump])\n",
    "    \n",
    "    if len(ump_data) > 1:\n",
    "        avg_list = [sum(x) / len(ump_data) for x in zip(*ump_data)]\n",
    "        umpire_data_df.loc[0] = avg_list\n",
    "    elif len(ump_data) == 1:\n",
    "        umpire_data_df.loc[0] = ump_data[0]\n",
    "    else:\n",
    "        ump_data = [[None for _ in range(12)]]\n",
    "        umpire_data_df.loc[0] = ump_data[0]\n",
    "\n",
    "else:\n",
    "    ump_data = [[None for _ in range(12)]]\n",
    "    umpire_data_df.loc[0] = ump_data[0]\n",
    "\n",
    "#print(umpire_data_df)\n",
    "    \n",
    "    "
   ]
  },
  {
   "cell_type": "code",
   "execution_count": 43,
   "id": "fb0b1589",
   "metadata": {
    "execution": {
     "iopub.execute_input": "2024-08-06T09:18:59.975484Z",
     "iopub.status.busy": "2024-08-06T09:18:59.974988Z",
     "iopub.status.idle": "2024-08-06T09:18:59.976974Z",
     "shell.execute_reply": "2024-08-06T09:18:59.976974Z"
    },
    "papermill": {
     "duration": 0.014404,
     "end_time": "2024-08-06T09:18:59.977968",
     "exception": false,
     "start_time": "2024-08-06T09:18:59.963564",
     "status": "completed"
    },
    "slideshow": {
     "slide_type": "skip"
    },
    "tags": [
     "skip",
     "'skip'"
    ]
   },
   "outputs": [],
   "source": [
    "#umpire_data_df = pd.DataFrame(columns=['ump_k%', 'ump_bb%', 'ump_r_per_game', 'ump_ba', 'ump_obp', 'ump_slg', \n",
    "#                                       'ump_k_boost', 'ump_bb_boost', 'ump_r_boost', 'ump_ba_boost', 'ump_obp_boost', 'ump_slg_boost'])\n",
    "\n",
    "#if len(umpire_data) > 1:\n",
    "#    avg_list = [sum(x) / len(umpire_data) for x in zip(*umpire_data)]\n",
    "    \n",
    "#    umpire_data_df.loc[0] = avg_list\n",
    "\n",
    "#else:\n",
    "#    umpire_data_df.loc[0] = umpire_data[0]\n",
    "\n",
    "#print(umpire_data_df)\n",
    "\n",
    "    "
   ]
  },
  {
   "cell_type": "markdown",
   "id": "b806f24d",
   "metadata": {
    "papermill": {
     "duration": 0.01043,
     "end_time": "2024-08-06T09:18:59.997834",
     "exception": false,
     "start_time": "2024-08-06T09:18:59.987404",
     "status": "completed"
    },
    "tags": []
   },
   "source": [
    "Fetch Venue Stats:\n",
    "\n",
    "*FUTURE CHANGES: DETERMINE A BETTER WAY TO SET DATA FOR SWITCH HITTERS."
   ]
  },
  {
   "cell_type": "code",
   "execution_count": 44,
   "id": "980b4136",
   "metadata": {
    "execution": {
     "iopub.execute_input": "2024-08-06T09:19:00.023661Z",
     "iopub.status.busy": "2024-08-06T09:19:00.023165Z",
     "iopub.status.idle": "2024-08-06T09:19:00.025648Z",
     "shell.execute_reply": "2024-08-06T09:19:00.025648Z"
    },
    "papermill": {
     "duration": 0.013907,
     "end_time": "2024-08-06T09:19:00.026641",
     "exception": false,
     "start_time": "2024-08-06T09:19:00.012734",
     "status": "completed"
    },
    "slideshow": {
     "slide_type": "skip"
    },
    "tags": [
     "skip",
     "'skip'"
    ]
   },
   "outputs": [],
   "source": [
    "#options = Options()\n",
    "#options.add_argument(\"--headless\")\n",
    "#options.add_argument(\"--disable-gpu\")\n",
    "#options.add_argument(\"--no-sandbox\")\n",
    "#options.add_argument(\"--disable-dev-shm-usage\")\n",
    "#options.add_argument(\"--disable-extensions\")\n",
    "#options.add_argument(\"--disable-images\")\n",
    "#prefs = {\n",
    "#    'profile.default_content_setting_values': {\n",
    "#        'images': 2,\n",
    "#        'javascript': 2,\n",
    "#        'stylesheet': 2\n",
    "#    }\n",
    "#}\n",
    "#options.add_experimental_option('prefs', prefs)\n",
    "#\n",
    "#service = Service(chrome_driver_path)\n",
    "#driver = webdriver.Chrome(service=service, options=options)\n",
    "#\n",
    "#with webdriver.Chrome(service=Service(ChromeDriverManager().install()), options=options) as driver:\n",
    "\n",
    "#try:\n",
    "#    driver.get('https://swishanalytics.com/mlb/mlb-park-factors')\n",
    "\n",
    "#    venue_element = WebDriverWait(driver, 12).until(EC.presence_of_element_located((By.XPATH, f\"//h4[contains(text(), '{venue_name}')]\")))\n",
    "\n",
    "#    venue_table = venue_element.find_element(By.XPATH, \"./following::table[1]\")\n",
    "\n",
    "#   venue_rows = venue_table.find_elements(By.TAG_NAME, 'tr')\n",
    "\n",
    "#    venue_data = []\n",
    "\n",
    "#    for row in venue_rows[1:]:\n",
    "#        venue_cells = row.find_elements(By.TAG_NAME, 'td')\n",
    "#        venue_row_data = [cell.text for cell in venue_cells]\n",
    "\n",
    "#        if batter_hand == 'L':\n",
    "#            venue_data.append(float(venue_row_data[0]))\n",
    "#        elif batter_hand == 'R':\n",
    "#            venue_data.append(float(venue_row_data[2]))\n",
    "#        else:\n",
    "#            venue_data.append(round((float(venue_row_data[0]) + float(venue_row_data[2])) / 2, 3))\n",
    "\n",
    "#except Exception as e:\n",
    "#    venue_data = [None for _ in range(9)]\n",
    "\n",
    "#finally:\n",
    "    #None\n",
    "    #driver.close()\n",
    "    #driver.quit()\n",
    "\n",
    "#print(venue_data)"
   ]
  },
  {
   "cell_type": "code",
   "execution_count": 45,
   "id": "f2033647",
   "metadata": {
    "execution": {
     "iopub.execute_input": "2024-08-06T09:19:00.049985Z",
     "iopub.status.busy": "2024-08-06T09:19:00.049488Z",
     "iopub.status.idle": "2024-08-06T09:19:00.052965Z",
     "shell.execute_reply": "2024-08-06T09:19:00.052468Z"
    },
    "papermill": {
     "duration": 0.01639,
     "end_time": "2024-08-06T09:19:00.054455",
     "exception": false,
     "start_time": "2024-08-06T09:19:00.038065",
     "status": "completed"
    },
    "slideshow": {
     "slide_type": "skip"
    },
    "tags": [
     "skip",
     "'skip'"
    ]
   },
   "outputs": [],
   "source": [
    "#venue_data_df = pd.DataFrame(columns=['ven_hr_x', 'ven_3B_x', 'ven_2B_x', 'ven_1B_x', 'ven_ba_x', 'ven_obp_x', \n",
    "#                                      'ven_slg_x', 'ven_woba_x', 'ven_r_x'])\n",
    "\n",
    "#venue_data_df.loc[0] = venue_data\n",
    "\n",
    "#print(venue_data_df)"
   ]
  },
  {
   "cell_type": "markdown",
   "id": "75d2534f",
   "metadata": {
    "papermill": {
     "duration": 0.00894,
     "end_time": "2024-08-06T09:19:00.073825",
     "exception": false,
     "start_time": "2024-08-06T09:19:00.064885",
     "status": "completed"
    },
    "tags": []
   },
   "source": [
    "More Efficient Venue Data"
   ]
  },
  {
   "cell_type": "code",
   "execution_count": 46,
   "id": "9b239ea2",
   "metadata": {
    "execution": {
     "iopub.execute_input": "2024-08-06T09:19:00.093692Z",
     "iopub.status.busy": "2024-08-06T09:19:00.093692Z",
     "iopub.status.idle": "2024-08-06T09:19:00.097169Z",
     "shell.execute_reply": "2024-08-06T09:19:00.097169Z"
    },
    "papermill": {
     "duration": 0.014404,
     "end_time": "2024-08-06T09:19:00.098162",
     "exception": false,
     "start_time": "2024-08-06T09:19:00.083758",
     "status": "completed"
    },
    "tags": []
   },
   "outputs": [],
   "source": [
    "venue_data_df = pd.DataFrame(columns=['ven_hr_x', 'ven_3B_x', 'ven_2B_x', 'ven_1B_x', 'ven_ba_x', 'ven_obp_x', \n",
    "                                      'ven_slg_x', 'ven_woba_x', 'ven_r_x'])\n",
    "\n",
    "if venue_name in venue_data.keys():\n",
    "    ven_data = venue_data[venue_name]\n",
    "    left_data = ven_data['L']\n",
    "    right_data = ven_data['R']\n",
    "    if batter_hand == 'L':\n",
    "        venue_data_df.loc[0] = left_data\n",
    "    elif batter_hand == 'R':\n",
    "        venue_data_df.loc[0] = right_data\n",
    "    else:\n",
    "        switch_data = [(x + y) / 2 for x, y in zip(left_data, right_data)]\n",
    "        venue_data_df.loc[0] = switch_data\n",
    "\n",
    "else:\n",
    "    venue_data_df.loc[0] = [None for _ in range(9)]\n",
    "\n",
    "#print(venue_data_df)"
   ]
  },
  {
   "cell_type": "markdown",
   "id": "5d5dee38",
   "metadata": {
    "papermill": {
     "duration": 0.009933,
     "end_time": "2024-08-06T09:19:00.118525",
     "exception": false,
     "start_time": "2024-08-06T09:19:00.108592",
     "status": "completed"
    },
    "tags": []
   },
   "source": [
    "QUIT CHROME DRIVER AFTER SCRAPING COMPLETES"
   ]
  },
  {
   "cell_type": "code",
   "execution_count": 47,
   "id": "cf7853f0",
   "metadata": {
    "execution": {
     "iopub.execute_input": "2024-08-06T09:19:00.140379Z",
     "iopub.status.busy": "2024-08-06T09:19:00.139882Z",
     "iopub.status.idle": "2024-08-06T09:19:00.142673Z",
     "shell.execute_reply": "2024-08-06T09:19:00.142366Z"
    },
    "papermill": {
     "duration": 0.014714,
     "end_time": "2024-08-06T09:19:00.143670",
     "exception": false,
     "start_time": "2024-08-06T09:19:00.128956",
     "status": "completed"
    },
    "slideshow": {
     "slide_type": "skip"
    },
    "tags": [
     "skip",
     "'skip'"
    ]
   },
   "outputs": [],
   "source": [
    "#driver.close()\n",
    "#driver.quit()"
   ]
  },
  {
   "cell_type": "markdown",
   "id": "110d5f3b",
   "metadata": {
    "papermill": {
     "duration": 0.015397,
     "end_time": "2024-08-06T09:19:00.168006",
     "exception": false,
     "start_time": "2024-08-06T09:19:00.152609",
     "status": "completed"
    },
    "tags": []
   },
   "source": [
    "Combine General Data into DataFrame"
   ]
  },
  {
   "cell_type": "code",
   "execution_count": 48,
   "id": "1deb4f8e",
   "metadata": {
    "execution": {
     "iopub.execute_input": "2024-08-06T09:19:00.188867Z",
     "iopub.status.busy": "2024-08-06T09:19:00.188867Z",
     "iopub.status.idle": "2024-08-06T09:19:00.192840Z",
     "shell.execute_reply": "2024-08-06T09:19:00.192840Z"
    },
    "papermill": {
     "duration": 0.016391,
     "end_time": "2024-08-06T09:19:00.193833",
     "exception": false,
     "start_time": "2024-08-06T09:19:00.177442",
     "status": "completed"
    },
    "tags": []
   },
   "outputs": [],
   "source": [
    "batter_general_data = {\n",
    "    'player_first_name': first_name,\n",
    "    'player_last_name': last_name,\n",
    "    'player_id': player_id,\n",
    "    'game_pk': game_pk,\n",
    "    'game_status': game_status,\n",
    "    'game_num': games_played + 1,\n",
    "    'series_status': series_status,\n",
    "    'date': og_date,\n",
    "    'game_time': game_time,\n",
    "    'temp': temp,\n",
    "    'wind_speed': wind_speed,\n",
    "    'venue_name': venue_name,\n",
    "    'venue_id': venue_id,\n",
    "    'team_name': team_name,\n",
    "    'team_id': team_id,\n",
    "    'opp_name': opp_name,\n",
    "    'opp_id': opp_id,\n",
    "    'home': home,\n",
    "    'batter_hand': batter_hand,\n",
    "    'batting_pos': batting_position,\n",
    "    'batter_age': batter_age,\n",
    "    'batter_year': batter_year,\n",
    "    'batter_k_zone_top': batter_strike_zone_top,\n",
    "    'batter_k_zone_bottom': batter_strike_zone_bottom,\n",
    "    's_pitcher_first_name': sp_first_name,\n",
    "    's_pitcher_last_name': sp_last_name,\n",
    "    's_pitcher_id': sPitcher_id,\n",
    "    's_pitcher_hand': sPitcher_hand,\n",
    "}\n",
    "\n",
    "if len(proj_ump_ids) < 1:\n",
    "    batter_general_data['ump_id'] = None\n",
    "    batter_general_data['ump_name'] = None\n",
    "\n",
    "else:\n",
    "    batter_general_data['ump_id'] = proj_ump_ids[0]\n",
    "    batter_general_data['ump_name'] = proj_umps[0]\n",
    "\n",
    "batter_general_data_df = pd.DataFrame([batter_general_data])\n",
    "\n",
    "#print(batter_general_data_df)"
   ]
  },
  {
   "cell_type": "markdown",
   "id": "e62672dd",
   "metadata": {
    "papermill": {
     "duration": 0.009934,
     "end_time": "2024-08-06T09:19:00.213701",
     "exception": false,
     "start_time": "2024-08-06T09:19:00.203767",
     "status": "completed"
    },
    "tags": []
   },
   "source": [
    "Merge Batter General Data and Batter Season Data"
   ]
  },
  {
   "cell_type": "code",
   "execution_count": 49,
   "id": "2acadbce",
   "metadata": {
    "execution": {
     "iopub.execute_input": "2024-08-06T09:19:00.234064Z",
     "iopub.status.busy": "2024-08-06T09:19:00.234064Z",
     "iopub.status.idle": "2024-08-06T09:19:00.236547Z",
     "shell.execute_reply": "2024-08-06T09:19:00.236547Z"
    },
    "papermill": {
     "duration": 0.014405,
     "end_time": "2024-08-06T09:19:00.237541",
     "exception": false,
     "start_time": "2024-08-06T09:19:00.223136",
     "status": "completed"
    },
    "tags": []
   },
   "outputs": [],
   "source": [
    "batter_stats_df = pd.concat([batter_general_data_df, batter_game_stats_df, batter_season_stats_df, series_stats_df], axis=1)\n",
    "\n",
    "#print(batter_stats_df)"
   ]
  },
  {
   "cell_type": "markdown",
   "id": "9ee5413c",
   "metadata": {
    "papermill": {
     "duration": 0.009933,
     "end_time": "2024-08-06T09:19:00.257407",
     "exception": false,
     "start_time": "2024-08-06T09:19:00.247474",
     "status": "completed"
    },
    "tags": []
   },
   "source": [
    "Merge bv Stats"
   ]
  },
  {
   "cell_type": "code",
   "execution_count": 50,
   "id": "70b6f0fb",
   "metadata": {
    "execution": {
     "iopub.execute_input": "2024-08-06T09:19:00.277274Z",
     "iopub.status.busy": "2024-08-06T09:19:00.277274Z",
     "iopub.status.idle": "2024-08-06T09:19:00.280254Z",
     "shell.execute_reply": "2024-08-06T09:19:00.279757Z"
    },
    "papermill": {
     "duration": 0.014405,
     "end_time": "2024-08-06T09:19:00.281745",
     "exception": false,
     "start_time": "2024-08-06T09:19:00.267340",
     "status": "completed"
    },
    "tags": []
   },
   "outputs": [],
   "source": [
    "#bv_stats_df = pd.concat([bvp_data_df, bv_opp_sp_df, bv_opp_df], axis=1)\n",
    "bv_stats_df = pd.concat([bv_opp_sp_df, bv_opp_df], axis=1)\n",
    "\n",
    "#print(bv_stats_df)"
   ]
  },
  {
   "cell_type": "markdown",
   "id": "9aa78487",
   "metadata": {
    "papermill": {
     "duration": 0.010927,
     "end_time": "2024-08-06T09:19:00.305087",
     "exception": false,
     "start_time": "2024-08-06T09:19:00.294160",
     "status": "completed"
    },
    "tags": []
   },
   "source": [
    "Merge Pitching Stats"
   ]
  },
  {
   "cell_type": "code",
   "execution_count": 51,
   "id": "f0e721bd",
   "metadata": {
    "execution": {
     "iopub.execute_input": "2024-08-06T09:19:00.324458Z",
     "iopub.status.busy": "2024-08-06T09:19:00.324458Z",
     "iopub.status.idle": "2024-08-06T09:19:00.326941Z",
     "shell.execute_reply": "2024-08-06T09:19:00.326941Z"
    },
    "papermill": {
     "duration": 0.01341,
     "end_time": "2024-08-06T09:19:00.327935",
     "exception": false,
     "start_time": "2024-08-06T09:19:00.314525",
     "status": "completed"
    },
    "tags": []
   },
   "outputs": [],
   "source": [
    "pitching_stats_df = pd.concat([sp_season_stats_df, sp_vs_team_stats_df], axis=1)\n",
    "\n",
    "#print(pitching_stats_df)"
   ]
  },
  {
   "cell_type": "markdown",
   "id": "90f7927d",
   "metadata": {
    "papermill": {
     "duration": 0.009934,
     "end_time": "2024-08-06T09:19:00.348298",
     "exception": false,
     "start_time": "2024-08-06T09:19:00.338364",
     "status": "completed"
    },
    "tags": []
   },
   "source": [
    "Merge Team Stats"
   ]
  },
  {
   "cell_type": "code",
   "execution_count": 52,
   "id": "58b84fec",
   "metadata": {
    "execution": {
     "iopub.execute_input": "2024-08-06T09:19:00.371644Z",
     "iopub.status.busy": "2024-08-06T09:19:00.371145Z",
     "iopub.status.idle": "2024-08-06T09:19:00.373628Z",
     "shell.execute_reply": "2024-08-06T09:19:00.373628Z"
    },
    "papermill": {
     "duration": 0.016888,
     "end_time": "2024-08-06T09:19:00.374622",
     "exception": false,
     "start_time": "2024-08-06T09:19:00.357734",
     "status": "completed"
    },
    "tags": []
   },
   "outputs": [],
   "source": [
    "team_stats_df = pd.concat([opp_stats_df, team_vs_opp_df], axis=1)\n",
    "\n",
    "#print(team_stats_df)"
   ]
  },
  {
   "cell_type": "markdown",
   "id": "3a2a4a41",
   "metadata": {
    "papermill": {
     "duration": 0.0149,
     "end_time": "2024-08-06T09:19:00.398959",
     "exception": false,
     "start_time": "2024-08-06T09:19:00.384059",
     "status": "completed"
    },
    "tags": []
   },
   "source": [
    "Merge Umpire and Venue Stats"
   ]
  },
  {
   "cell_type": "code",
   "execution_count": 53,
   "id": "f896f502",
   "metadata": {
    "execution": {
     "iopub.execute_input": "2024-08-06T09:19:00.419323Z",
     "iopub.status.busy": "2024-08-06T09:19:00.419323Z",
     "iopub.status.idle": "2024-08-06T09:19:00.421805Z",
     "shell.execute_reply": "2024-08-06T09:19:00.421805Z"
    },
    "papermill": {
     "duration": 0.013906,
     "end_time": "2024-08-06T09:19:00.422799",
     "exception": false,
     "start_time": "2024-08-06T09:19:00.408893",
     "status": "completed"
    },
    "tags": []
   },
   "outputs": [],
   "source": [
    "factor_stats_df = pd.concat([umpire_data_df, venue_data_df], axis=1)\n",
    "\n",
    "#print(factor_stats_df)"
   ]
  },
  {
   "cell_type": "markdown",
   "id": "2d2f680a",
   "metadata": {
    "papermill": {
     "duration": 0.009934,
     "end_time": "2024-08-06T09:19:00.443162",
     "exception": false,
     "start_time": "2024-08-06T09:19:00.433228",
     "status": "completed"
    },
    "tags": []
   },
   "source": [
    "FORM COMPLETE RAW DATA DF"
   ]
  },
  {
   "cell_type": "code",
   "execution_count": 54,
   "id": "a26c7fc6",
   "metadata": {
    "execution": {
     "iopub.execute_input": "2024-08-06T09:19:00.462534Z",
     "iopub.status.busy": "2024-08-06T09:19:00.462534Z",
     "iopub.status.idle": "2024-08-06T09:19:00.467500Z",
     "shell.execute_reply": "2024-08-06T09:19:00.467002Z"
    },
    "papermill": {
     "duration": 0.01639,
     "end_time": "2024-08-06T09:19:00.468989",
     "exception": false,
     "start_time": "2024-08-06T09:19:00.452599",
     "status": "completed"
    },
    "tags": []
   },
   "outputs": [],
   "source": [
    "complete_data_df = pd.concat([batter_stats_df, bv_stats_df, pitching_stats_df, team_stats_df, factor_stats_df], axis=1)\n",
    "\n",
    "#print(complete_data_df) "
   ]
  },
  {
   "cell_type": "markdown",
   "id": "743c0a80",
   "metadata": {
    "papermill": {
     "duration": 0.009932,
     "end_time": "2024-08-06T09:19:00.488855",
     "exception": false,
     "start_time": "2024-08-06T09:19:00.478923",
     "status": "completed"
    },
    "tags": []
   },
   "source": [
    "Create a TempCSV for Testing"
   ]
  },
  {
   "cell_type": "code",
   "execution_count": 55,
   "id": "b81ab0ff",
   "metadata": {
    "execution": {
     "iopub.execute_input": "2024-08-06T09:19:00.509220Z",
     "iopub.status.busy": "2024-08-06T09:19:00.509220Z",
     "iopub.status.idle": "2024-08-06T09:19:00.513194Z",
     "shell.execute_reply": "2024-08-06T09:19:00.512697Z"
    },
    "papermill": {
     "duration": 0.015398,
     "end_time": "2024-08-06T09:19:00.514683",
     "exception": false,
     "start_time": "2024-08-06T09:19:00.499285",
     "status": "completed"
    },
    "tags": []
   },
   "outputs": [],
   "source": [
    "#if not complete_data_df.empty:\n",
    "#\n",
    "#    with tempfile.NamedTemporaryFile(mode='w', delete=False, suffix='.csv') as tmp_file:\n",
    "#        complete_data_df.to_csv(tmp_file.name, index=False)\n",
    "#        print(f'Temporary CSV file creat3ed at {tmp_file.name}')\n",
    "#        \n",
    "#else:\n",
    "#    print('No data was found.')"
   ]
  },
  {
   "cell_type": "markdown",
   "id": "ab4020bd",
   "metadata": {
    "papermill": {
     "duration": 0.009438,
     "end_time": "2024-08-06T09:19:00.535544",
     "exception": false,
     "start_time": "2024-08-06T09:19:00.526106",
     "status": "completed"
    },
    "tags": []
   },
   "source": [
    "CSV Notebook Output"
   ]
  },
  {
   "cell_type": "code",
   "execution_count": 56,
   "id": "fadd0f97",
   "metadata": {
    "execution": {
     "iopub.execute_input": "2024-08-06T09:19:00.554914Z",
     "iopub.status.busy": "2024-08-06T09:19:00.554914Z",
     "iopub.status.idle": "2024-08-06T09:19:00.559383Z",
     "shell.execute_reply": "2024-08-06T09:19:00.559383Z"
    },
    "papermill": {
     "duration": 0.015894,
     "end_time": "2024-08-06T09:19:00.560377",
     "exception": false,
     "start_time": "2024-08-06T09:19:00.544483",
     "status": "completed"
    },
    "tags": []
   },
   "outputs": [],
   "source": [
    "complete_data_df.to_csv(r'G:\\Repos\\bet\\output_data.csv', index=False)"
   ]
  }
 ],
 "metadata": {
  "kernelspec": {
   "display_name": "venv",
   "language": "python",
   "name": "python3"
  },
  "language_info": {
   "codemirror_mode": {
    "name": "ipython",
    "version": 3
   },
   "file_extension": ".py",
   "mimetype": "text/x-python",
   "name": "python",
   "nbconvert_exporter": "python",
   "pygments_lexer": "ipython3",
   "version": "3.12.3"
  },
  "papermill": {
   "default_parameters": {},
   "duration": 36.909248,
   "end_time": "2024-08-06T09:19:00.804556",
   "environment_variables": {},
   "exception": null,
   "input_path": "G:\\Repos\\bet\\src\\data\\stats.ipynb",
   "output_path": "G:\\Repos\\bet\\output_notebook.ipynb",
   "parameters": {
    "date_param": "2024-08-05",
    "player_first_name_param": "Trea",
    "player_last_name_param": "Turner",
    "umpire_data_param": {
     "Adam Beck": [
      0.228,
      0.084,
      8.88,
      0.243,
      0.314,
      0.409,
      0.97,
      0.91,
      0.96,
      0.99,
      0.98,
      0.98
     ],
     "Adam Hamari": [
      0.223,
      0.077,
      8.76,
      0.246,
      0.311,
      0.404,
      1.1,
      1.01,
      1.08,
      0.98,
      0.99,
      1.05
     ],
     "Adrian Johnson": [
      0.205,
      0.086,
      9.38,
      0.255,
      0.325,
      0.417,
      1.01,
      1.13,
      1.15,
      1.02,
      1.04,
      1.08
     ],
     "Alan Porter": [
      0.208,
      0.083,
      9.14,
      0.256,
      0.324,
      0.418,
      0.98,
      1.02,
      1.02,
      1.0,
      1.01,
      1.0
     ],
     "Alex MacKay": [
      0.241,
      0.077,
      7.72,
      0.235,
      0.302,
      0.374,
      1.07,
      0.94,
      0.9,
      0.97,
      0.97,
      0.95
     ],
     "Alex Tosi": [
      0.236,
      0.084,
      8.79,
      0.248,
      0.318,
      0.412,
      1.03,
      0.98,
      0.91,
      0.98,
      0.99,
      0.95
     ],
     "Alfonso Marquez": [
      0.2,
      0.09,
      9.1,
      0.251,
      0.324,
      0.409,
      0.9,
      1.06,
      1.02,
      1.02,
      1.02,
      1.0
     ],
     "Andy Fletcher": [
      0.206,
      0.086,
      8.87,
      0.253,
      0.324,
      0.403,
      1.11,
      1.02,
      1.01,
      0.98,
      1.0,
      1.0
     ],
     "Angel Campos": [
      0.189,
      0.086,
      9.51,
      0.265,
      0.333,
      0.417,
      0.96,
      1.07,
      1.1,
      1.04,
      1.05,
      1.03
     ],
     "Angel Hernandez": [
      0.206,
      0.082,
      8.77,
      0.251,
      0.317,
      0.406,
      0.92,
      0.96,
      0.99,
      1.01,
      1.0,
      0.99
     ],
     "Anthony Johnson": [
      0.286,
      0.156,
      6.0,
      0.219,
      0.342,
      0.422,
      1.4,
      2.03,
      0.71,
      0.86,
      1.08,
      1.04
     ],
     "Austin Jones": [
      0.252,
      0.086,
      6.0,
      0.262,
      0.329,
      0.361,
      1.13,
      1.04,
      0.68,
      1.08,
      1.05,
      0.9
     ],
     "Ben May": [
      0.223,
      0.081,
      8.61,
      0.246,
      0.313,
      0.402,
      1.0,
      0.95,
      0.97,
      0.99,
      0.98,
      0.98
     ],
     "Bill Hohn": [
      0.167,
      0.089,
      8.25,
      0.253,
      0.324,
      0.403,
      0.95,
      1.02,
      0.89,
      0.96,
      0.97,
      0.97
     ],
     "Bill Miller": [
      0.219,
      0.073,
      8.38,
      0.248,
      0.309,
      0.4,
      1.25,
      0.83,
      0.9,
      0.94,
      0.93,
      0.96
     ],
     "Bill Welke": [
      0.199,
      0.083,
      9.21,
      0.259,
      0.326,
      0.418,
      1.07,
      0.97,
      1.05,
      1.01,
      1.0,
      1.04
     ],
     "Bob Davidson": [
      0.193,
      0.08,
      8.74,
      0.258,
      0.324,
      0.403,
      1.04,
      0.95,
      1.0,
      1.0,
      1.0,
      1.0
     ],
     "Brennan Miller": [
      0.234,
      0.082,
      8.24,
      0.236,
      0.305,
      0.388,
      1.02,
      0.96,
      0.85,
      0.94,
      0.95,
      0.89
     ],
     "Brian Gorman": [
      0.205,
      0.079,
      8.68,
      0.256,
      0.319,
      0.405,
      0.89,
      0.9,
      0.96,
      1.05,
      1.01,
      0.99
     ],
     "Brian Knight": [
      0.205,
      0.087,
      9.16,
      0.254,
      0.325,
      0.416,
      1.01,
      1.14,
      1.13,
      1.01,
      1.04,
      1.08
     ],
     "Brian O'Nora": [
      0.208,
      0.079,
      8.59,
      0.25,
      0.316,
      0.402,
      0.92,
      0.97,
      1.0,
      1.03,
      1.02,
      1.02
     ],
     "Brian Runge": [
      0.192,
      0.076,
      8.57,
      0.254,
      0.315,
      0.406,
      0.97,
      0.95,
      0.99,
      1.0,
      0.99,
      1.0
     ],
     "Brian Walsh": [
      0.231,
      0.082,
      9.14,
      0.255,
      0.323,
      0.43,
      1.01,
      0.95,
      0.99,
      1.03,
      1.01,
      1.04
     ],
     "Brock Ballou": [
      0.231,
      0.075,
      9.18,
      0.259,
      0.321,
      0.43,
      1.03,
      0.91,
      1.07,
      1.07,
      1.03,
      1.09
     ],
     "Bruce Dreckman": [
      0.206,
      0.084,
      8.68,
      0.249,
      0.319,
      0.403,
      0.92,
      0.99,
      0.98,
      1.01,
      1.0,
      0.99
     ],
     "CB Bucknor": [
      0.212,
      0.08,
      8.57,
      0.251,
      0.316,
      0.403,
      1.14,
      0.94,
      0.98,
      0.98,
      0.97,
      1.0
     ],
     "Carlos Torres": [
      0.214,
      0.087,
      9.47,
      0.258,
      0.329,
      0.431,
      0.96,
      1.03,
      1.07,
      1.04,
      1.03,
      1.05
     ],
     "Casey Moser": [
      0.161,
      0.082,
      6.2,
      0.226,
      0.29,
      0.349,
      0.92,
      0.94,
      0.67,
      0.86,
      0.87,
      0.84
     ],
     "Chad Fairchild": [
      0.204,
      0.084,
      8.97,
      0.254,
      0.323,
      0.412,
      0.92,
      0.99,
      1.01,
      1.02,
      1.02,
      1.01
     ],
     "Chad Whitson": [
      0.224,
      0.084,
      9.03,
      0.244,
      0.314,
      0.417,
      1.06,
      1.03,
      1.01,
      0.96,
      0.98,
      1.0
     ],
     "Charlie Ramos": [
      0.22,
      0.085,
      9.05,
      0.241,
      0.313,
      0.388,
      0.95,
      0.98,
      1.0,
      0.99,
      0.99,
      0.95
     ],
     "Charlie Reliford": [
      0.182,
      0.084,
      9.24,
      0.255,
      0.322,
      0.402,
      1.04,
      0.97,
      0.99,
      0.97,
      0.97,
      0.97
     ],
     "Chris Conroy": [
      0.215,
      0.081,
      8.97,
      0.255,
      0.322,
      0.414,
      1.09,
      1.01,
      1.04,
      1.0,
      1.01,
      1.02
     ],
     "Chris Guccione": [
      0.207,
      0.083,
      8.94,
      0.254,
      0.321,
      0.411,
      0.98,
      1.01,
      1.0,
      1.0,
      1.0,
      0.99
     ],
     "Chris Segal": [
      0.218,
      0.081,
      9.08,
      0.251,
      0.317,
      0.414,
      1.07,
      1.06,
      1.12,
      1.0,
      1.01,
      1.07
     ],
     "Chris Tiller": [
      0.153,
      0.096,
      7.33,
      0.243,
      0.322,
      0.379,
      0.87,
      1.1,
      0.79,
      0.92,
      0.97,
      0.91
     ],
     "Chuck Meriwether": [
      0.179,
      0.086,
      9.63,
      0.265,
      0.331,
      0.414,
      1.02,
      0.98,
      1.04,
      1.0,
      0.99,
      1.0
     ],
     "Clint Fagan": [
      0.203,
      0.087,
      9.19,
      0.253,
      0.323,
      0.413,
      1.0,
      1.14,
      1.13,
      1.01,
      1.03,
      1.07
     ],
     "Clint Vondrak": [
      0.218,
      0.081,
      9.28,
      0.25,
      0.316,
      0.422,
      0.92,
      0.88,
      1.0,
      1.02,
      0.98,
      1.01
     ],
     "Cory Blaser": [
      0.216,
      0.079,
      8.22,
      0.247,
      0.312,
      0.395,
      0.96,
      0.97,
      0.96,
      1.02,
      1.0,
      1.0
     ],
     "D.J. Reyburn": [
      0.217,
      0.083,
      8.66,
      0.248,
      0.316,
      0.402,
      1.24,
      0.95,
      0.93,
      0.94,
      0.95,
      0.97
     ],
     "Dale Scott": [
      0.19,
      0.088,
      8.86,
      0.261,
      0.33,
      0.41,
      0.93,
      1.15,
      1.09,
      1.04,
      1.05,
      1.06
     ],
     "Damien Beal": [
      0.175,
      0.099,
      8.0,
      0.256,
      0.334,
      0.445,
      0.99,
      1.14,
      0.86,
      0.97,
      1.0,
      1.07
     ],
     "Dan Bellino": [
      0.217,
      0.083,
      8.83,
      0.25,
      0.318,
      0.405,
      1.09,
      1.04,
      1.02,
      0.98,
      1.0,
      1.0
     ],
     "Dan Iassogna": [
      0.213,
      0.085,
      8.8,
      0.25,
      0.32,
      0.404,
      1.21,
      0.97,
      0.95,
      0.95,
      0.96,
      0.97
     ],
     "Dan Merzel": [
      0.235,
      0.077,
      8.46,
      0.244,
      0.311,
      0.399,
      1.04,
      0.94,
      0.99,
      1.01,
      1.0,
      1.01
     ],
     "Dana DeMuth": [
      0.193,
      0.083,
      9.08,
      0.256,
      0.324,
      0.408,
      0.84,
      0.98,
      0.94,
      1.02,
      1.01,
      0.94
     ],
     "David Arrieta": [
      0.224,
      0.094,
      6.69,
      0.234,
      0.311,
      0.387,
      1.0,
      1.15,
      0.78,
      0.97,
      1.0,
      0.98
     ],
     "David Rackley": [
      0.216,
      0.085,
      9.16,
      0.255,
      0.324,
      0.42,
      0.96,
      1.04,
      1.07,
      1.05,
      1.04,
      1.07
     ],
     "Delfin Colon": [
      0.169,
      0.073,
      11.25,
      0.281,
      0.338,
      0.492,
      0.96,
      0.84,
      1.21,
      1.07,
      1.02,
      1.18
     ],
     "Derek Thomas": [
      0.219,
      0.095,
      9.62,
      0.249,
      0.328,
      0.426,
      0.96,
      1.1,
      1.04,
      1.0,
      1.03,
      1.03
     ],
     "Derryl Cousins": [
      0.176,
      0.092,
      8.85,
      0.253,
      0.326,
      0.405,
      0.89,
      1.15,
      1.03,
      0.99,
      1.02,
      1.0
     ],
     "Doug Eddings": [
      0.216,
      0.074,
      8.33,
      0.25,
      0.312,
      0.402,
      1.02,
      0.9,
      0.93,
      0.98,
      0.97,
      0.96
     ],
     "Ed Hickox": [
      0.206,
      0.082,
      8.91,
      0.249,
      0.317,
      0.406,
      1.17,
      0.94,
      0.96,
      0.95,
      0.95,
      0.98
     ],
     "Ed Montague": [
      0.18,
      0.089,
      8.38,
      0.254,
      0.325,
      0.4,
      1.03,
      1.02,
      0.9,
      0.96,
      0.97,
      0.96
     ],
     "Ed Rapuano": [
      0.174,
      0.085,
      9.32,
      0.267,
      0.333,
      0.425,
      0.94,
      1.0,
      1.07,
      1.04,
      1.03,
      1.06
     ],
     "Edwin Jimenez": [
      0.227,
      0.079,
      8.51,
      0.239,
      0.307,
      0.397,
      1.0,
      0.92,
      0.92,
      0.96,
      0.96,
      0.96
     ],
     "Edwin Moscoso": [
      0.223,
      0.097,
      9.64,
      0.243,
      0.325,
      0.398,
      0.95,
      1.06,
      1.04,
      1.0,
      1.01,
      0.95
     ],
     "Emil Jimenez": [
      0.226,
      0.08,
      8.82,
      0.255,
      0.322,
      0.414,
      0.99,
      0.93,
      0.96,
      1.03,
      1.01,
      1.0
     ],
     "Eric Cooper": [
      0.206,
      0.078,
      8.83,
      0.256,
      0.319,
      0.408,
      1.01,
      1.02,
      1.09,
      1.02,
      1.02,
      1.06
     ],
     "Erich Bacchus": [
      0.225,
      0.085,
      8.47,
      0.235,
      0.309,
      0.388,
      0.95,
      0.93,
      0.91,
      0.96,
      0.96,
      0.93
     ],
     "Fieldin Culbreth": [
      0.197,
      0.084,
      8.57,
      0.254,
      0.322,
      0.405,
      1.12,
      0.96,
      0.92,
      0.96,
      0.97,
      0.97
     ],
     "Gabe Morales": [
      0.226,
      0.079,
      9.3,
      0.253,
      0.318,
      0.418,
      1.11,
      1.03,
      1.14,
      1.01,
      1.02,
      1.08
     ],
     "Gary Cederstrom": [
      0.201,
      0.082,
      8.56,
      0.254,
      0.321,
      0.405,
      1.01,
      1.03,
      0.99,
      1.0,
      1.01,
      1.0
     ],
     "Gary Darling": [
      0.196,
      0.079,
      8.69,
      0.259,
      0.323,
      0.407,
      1.12,
      0.9,
      0.94,
      0.98,
      0.97,
      0.98
     ],
     "Gerry Davis": [
      0.199,
      0.085,
      8.75,
      0.251,
      0.32,
      0.41,
      1.0,
      1.07,
      1.01,
      0.99,
      1.01,
      1.01
     ],
     "Greg Gibson": [
      0.198,
      0.086,
      8.85,
      0.254,
      0.324,
      0.407,
      1.13,
      0.99,
      0.95,
      0.96,
      0.97,
      0.98
     ],
     "Hunter Wendelstedt": [
      0.212,
      0.085,
      8.61,
      0.247,
      0.317,
      0.398,
      1.04,
      1.12,
      1.06,
      0.99,
      1.01,
      1.03
     ],
     "Jacob Metz": [
      0.261,
      0.08,
      8.65,
      0.236,
      0.304,
      0.408,
      1.15,
      0.93,
      0.94,
      0.95,
      0.95,
      0.99
     ],
     "James Hoye": [
      0.204,
      0.087,
      8.98,
      0.253,
      0.324,
      0.41,
      1.16,
      0.99,
      0.97,
      0.96,
      0.97,
      0.99
     ],
     "James Jean": [
      0.206,
      0.111,
      15.0,
      0.244,
      0.333,
      0.439,
      0.92,
      1.35,
      1.7,
      1.0,
      1.07,
      1.1
     ],
     "Jansen Visconti": [
      0.224,
      0.087,
      9.27,
      0.25,
      0.323,
      0.409,
      1.0,
      1.03,
      1.04,
      1.01,
      1.02,
      1.0
     ],
     "Jeff Gosney": [
      0.127,
      0.089,
      8.5,
      0.273,
      0.338,
      0.406,
      0.62,
      1.16,
      1.05,
      1.09,
      1.08,
      1.05
     ],
     "Jeff Kellogg": [
      0.191,
      0.083,
      8.76,
      0.256,
      0.323,
      0.419,
      0.97,
      1.04,
      1.02,
      1.01,
      1.02,
      1.04
     ],
     "Jeff Nelson": [
      0.207,
      0.082,
      9.03,
      0.253,
      0.32,
      0.411,
      1.11,
      0.97,
      1.03,
      0.98,
      0.99,
      1.02
     ],
     "Jeremie Rehak": [
      0.236,
      0.081,
      8.54,
      0.24,
      0.309,
      0.399,
      1.05,
      0.99,
      1.0,
      0.99,
      0.99,
      1.01
     ],
     "Jeremy Riggs": [
      0.231,
      0.079,
      8.76,
      0.244,
      0.31,
      0.391,
      1.03,
      0.97,
      1.03,
      1.01,
      1.0,
      0.99
     ],
     "Jerry Crawford": [
      0.169,
      0.103,
      10.04,
      0.265,
      0.347,
      0.432,
      0.91,
      1.21,
      1.15,
      1.03,
      1.07,
      1.07
     ],
     "Jerry Layne": [
      0.197,
      0.086,
      8.68,
      0.254,
      0.324,
      0.405,
      1.12,
      0.99,
      0.93,
      0.96,
      0.97,
      0.97
     ],
     "Jerry Meals": [
      0.205,
      0.084,
      9.02,
      0.251,
      0.32,
      0.404,
      1.03,
      1.05,
      1.05,
      0.99,
      1.0,
      1.0
     ],
     "Jim Joyce": [
      0.192,
      0.084,
      8.9,
      0.254,
      0.322,
      0.403,
      0.91,
      1.03,
      1.0,
      1.0,
      1.0,
      0.97
     ],
     "Jim Reynolds": [
      0.204,
      0.084,
      8.81,
      0.255,
      0.323,
      0.411,
      1.16,
      0.96,
      0.95,
      0.97,
      0.97,
      0.99
     ],
     "Jim Wolf": [
      0.208,
      0.082,
      9.01,
      0.255,
      0.322,
      0.411,
      1.12,
      0.96,
      1.03,
      0.99,
      0.99,
      1.02
     ],
     "Joe West": [
      0.202,
      0.085,
      9.03,
      0.255,
      0.324,
      0.412,
      1.09,
      1.0,
      1.03,
      0.99,
      1.0,
      1.02
     ],
     "John Bacon": [
      0.228,
      0.089,
      8.87,
      0.242,
      0.315,
      0.405,
      1.02,
      1.1,
      1.04,
      1.0,
      1.01,
      1.03
     ],
     "John Hirschbeck": [
      0.201,
      0.081,
      8.37,
      0.255,
      0.32,
      0.399,
      1.01,
      1.02,
      1.01,
      1.01,
      1.01,
      1.01
     ],
     "John Libka": [
      0.219,
      0.088,
      9.57,
      0.252,
      0.324,
      0.415,
      0.98,
      1.08,
      1.12,
      1.04,
      1.04,
      1.05
     ],
     "John Tumpane": [
      0.216,
      0.084,
      8.95,
      0.249,
      0.319,
      0.408,
      0.97,
      0.99,
      1.01,
      1.0,
      1.0,
      1.0
     ],
     "Jon Byrne": [
      0.155,
      0.073,
      7.67,
      0.237,
      0.293,
      0.366,
      0.76,
      0.95,
      0.94,
      0.94,
      0.93,
      0.95
     ],
     "Jonathan Parra": [
      0.235,
      0.084,
      7.88,
      0.238,
      0.307,
      0.39,
      1.05,
      1.03,
      0.89,
      0.98,
      0.98,
      0.98
     ],
     "Jordan Baker": [
      0.214,
      0.087,
      8.9,
      0.252,
      0.323,
      0.411,
      0.96,
      1.02,
      1.0,
      1.02,
      1.02,
      1.01
     ],
     "Jose Navas": [
      0.236,
      0.102,
      9.42,
      0.237,
      0.322,
      0.413,
      1.04,
      1.19,
      1.02,
      0.95,
      1.01,
      1.0
     ],
     "Junior Valentine": [
      0.227,
      0.088,
      8.66,
      0.239,
      0.312,
      0.392,
      0.96,
      0.95,
      0.94,
      0.98,
      0.97,
      0.94
     ],
     "Kerwin Danley": [
      0.203,
      0.083,
      8.43,
      0.253,
      0.32,
      0.399,
      1.02,
      1.04,
      0.98,
      1.0,
      1.0,
      0.99
     ],
     "Kevin Causey": [
      0.149,
      0.09,
      8.92,
      0.269,
      0.34,
      0.437,
      0.85,
      1.04,
      0.96,
      1.02,
      1.02,
      1.05
     ],
     "Kyle McCrady": [
      0.19,
      0.096,
      12.0,
      0.274,
      0.351,
      0.452,
      0.81,
      1.05,
      1.3,
      1.12,
      1.09,
      1.08
     ],
     "Lance Barksdale": [
      0.204,
      0.088,
      8.7,
      0.253,
      0.324,
      0.408,
      0.9,
      1.08,
      1.02,
      1.04,
      1.04,
      1.04
     ],
     "Lance Barrett": [
      0.22,
      0.08,
      8.76,
      0.25,
      0.315,
      0.404,
      1.18,
      0.94,
      1.0,
      0.97,
      0.97,
      1.01
     ],
     "Larry Vanover": [
      0.205,
      0.085,
      8.85,
      0.254,
      0.323,
      0.409,
      1.17,
      0.97,
      0.95,
      0.96,
      0.97,
      0.98
     ],
     "Laz Diaz": [
      0.208,
      0.082,
      8.8,
      0.252,
      0.319,
      0.407,
      1.18,
      0.95,
      0.95,
      0.96,
      0.96,
      0.98
     ],
     "Lew Williams": [
      0.207,
      0.098,
      9.25,
      0.278,
      0.35,
      0.467,
      0.92,
      1.21,
      1.08,
      1.15,
      1.13,
      1.18
     ],
     "Malachi Moore": [
      0.226,
      0.077,
      8.59,
      0.247,
      0.312,
      0.392,
      1.0,
      0.94,
      1.0,
      1.02,
      1.0,
      0.99
     ],
     "Manny Gonzalez": [
      0.214,
      0.085,
      9.11,
      0.254,
      0.324,
      0.415,
      1.15,
      1.0,
      1.04,
      0.99,
      1.0,
      1.03
     ],
     "Marcus Pattillo": [
      0.23,
      0.074,
      7.68,
      0.237,
      0.299,
      0.371,
      1.13,
      0.97,
      0.95,
      0.94,
      0.95,
      0.96
     ],
     "Mark Carlson": [
      0.207,
      0.086,
      8.9,
      0.254,
      0.323,
      0.41,
      1.18,
      0.98,
      0.96,
      0.96,
      0.97,
      0.99
     ],
     "Mark Lollo": [
      0.199,
      0.115,
      7.5,
      0.231,
      0.325,
      0.373,
      1.07,
      1.42,
      0.87,
      0.91,
      1.01,
      0.93
     ],
     "Mark Ripperger": [
      0.22,
      0.078,
      9.13,
      0.253,
      0.318,
      0.42,
      0.99,
      0.92,
      1.03,
      1.02,
      1.0,
      1.03
     ],
     "Mark Wegner": [
      0.202,
      0.09,
      9.45,
      0.255,
      0.328,
      0.413,
      0.9,
      1.06,
      1.06,
      1.03,
      1.03,
      1.01
     ],
     "Marty Foster": [
      0.207,
      0.08,
      8.58,
      0.249,
      0.315,
      0.406,
      1.02,
      1.05,
      1.05,
      0.99,
      1.01,
      1.05
     ],
     "Marvin Hudson": [
      0.208,
      0.086,
      8.98,
      0.255,
      0.324,
      0.408,
      0.98,
      1.05,
      1.01,
      1.0,
      1.01,
      0.98
     ],
     "Mike DiMuro": [
      0.188,
      0.084,
      8.74,
      0.256,
      0.323,
      0.402,
      1.01,
      0.99,
      1.0,
      0.99,
      0.99,
      1.0
     ],
     "Mike Estabrook": [
      0.217,
      0.079,
      8.61,
      0.251,
      0.316,
      0.408,
      1.17,
      0.94,
      0.98,
      0.98,
      0.97,
      1.01
     ],
     "Mike Everitt": [
      0.203,
      0.081,
      8.9,
      0.256,
      0.321,
      0.41,
      1.03,
      1.01,
      1.03,
      1.01,
      1.01,
      1.01
     ],
     "Mike Muchlinski": [
      0.213,
      0.08,
      9.1,
      0.253,
      0.319,
      0.418,
      0.9,
      0.87,
      0.98,
      1.04,
      0.99,
      1.0
     ],
     "Mike Reilly": [
      0.184,
      0.093,
      9.82,
      0.272,
      0.345,
      0.433,
      1.05,
      1.07,
      1.06,
      1.03,
      1.04,
      1.04
     ],
     "Mike Winters": [
      0.204,
      0.084,
      8.84,
      0.257,
      0.324,
      0.406,
      1.03,
      1.05,
      1.02,
      1.01,
      1.02,
      1.0
     ],
     "Nate Tomlinson": [
      0.229,
      0.087,
      9.37,
      0.249,
      0.32,
      0.415,
      0.97,
      0.94,
      1.01,
      1.02,
      1.0,
      0.99
     ],
     "Nestor Ceja": [
      0.23,
      0.082,
      8.96,
      0.243,
      0.311,
      0.4,
      0.97,
      0.89,
      0.97,
      0.99,
      0.97,
      0.96
     ],
     "Nic Lentz": [
      0.216,
      0.086,
      8.94,
      0.249,
      0.321,
      0.416,
      1.02,
      1.05,
      1.0,
      0.98,
      1.0,
      1.0
     ],
     "Nick Mahrley": [
      0.229,
      0.082,
      8.81,
      0.248,
      0.317,
      0.419,
      1.02,
      1.0,
      1.03,
      1.03,
      1.02,
      1.06
     ],
     "Pat Hoberg": [
      0.216,
      0.088,
      8.93,
      0.249,
      0.321,
      0.409,
      0.96,
      1.08,
      1.04,
      1.03,
      1.03,
      1.04
     ],
     "Paul Clemons": [
      0.238,
      0.082,
      9.72,
      0.249,
      0.32,
      0.414,
      1.02,
      0.95,
      1.07,
      1.02,
      1.01,
      1.01
     ],
     "Paul Emmel": [
      0.198,
      0.083,
      8.75,
      0.254,
      0.321,
      0.404,
      0.88,
      1.01,
      1.02,
      1.05,
      1.03,
      1.03
     ],
     "Paul Nauert": [
      0.2,
      0.08,
      8.56,
      0.254,
      0.318,
      0.405,
      1.14,
      0.92,
      0.92,
      0.96,
      0.96,
      0.97
     ],
     "Paul Schrieber": [
      0.181,
      0.09,
      9.17,
      0.26,
      0.331,
      0.413,
      1.03,
      1.03,
      0.99,
      0.99,
      0.99,
      0.99
     ],
     "Phil Cuzzi": [
      0.219,
      0.077,
      8.5,
      0.247,
      0.311,
      0.402,
      0.94,
      0.89,
      0.94,
      1.01,
      0.98,
      0.98
     ],
     "Quinn Wolcott": [
      0.217,
      0.081,
      9.04,
      0.255,
      0.322,
      0.416,
      0.92,
      0.88,
      0.98,
      1.05,
      1.0,
      1.0
     ],
     "Ramon De Jesus": [
      0.218,
      0.088,
      9.42,
      0.25,
      0.323,
      0.409,
      1.03,
      1.08,
      1.05,
      0.98,
      1.0,
      0.98
     ],
     "Randy Marsh": [
      0.153,
      0.095,
      10.57,
      0.279,
      0.352,
      0.441,
      0.87,
      1.09,
      1.14,
      1.06,
      1.06,
      1.06
     ],
     "Randy Rosenberg": [
      0.222,
      0.089,
      9.6,
      0.261,
      0.333,
      0.461,
      0.98,
      1.1,
      1.12,
      1.08,
      1.07,
      1.17
     ],
     "Rick Reed": [
      0.184,
      0.099,
      9.22,
      0.25,
      0.327,
      0.419,
      1.05,
      1.13,
      0.99,
      0.95,
      0.98,
      1.01
     ],
     "Rob Drake": [
      0.209,
      0.083,
      8.71,
      0.251,
      0.319,
      0.406,
      1.03,
      1.08,
      1.07,
      1.0,
      1.02,
      1.05
     ],
     "Roberto Ortiz": [
      0.233,
      0.079,
      8.49,
      0.246,
      0.313,
      0.409,
      1.0,
      0.91,
      0.94,
      1.01,
      0.99,
      1.0
     ],
     "Ron Kulpa": [
      0.214,
      0.08,
      8.44,
      0.248,
      0.315,
      0.398,
      1.15,
      0.95,
      0.97,
      0.96,
      0.97,
      0.99
     ],
     "Ryan Additon": [
      0.222,
      0.086,
      9.08,
      0.242,
      0.313,
      0.409,
      1.02,
      1.01,
      0.98,
      0.95,
      0.97,
      0.96
     ],
     "Ryan Blakney": [
      0.231,
      0.08,
      8.57,
      0.24,
      0.308,
      0.403,
      1.09,
      0.98,
      0.96,
      0.94,
      0.96,
      0.97
     ],
     "Ryan Wills": [
      0.225,
      0.089,
      9.0,
      0.242,
      0.318,
      0.408,
      1.0,
      1.1,
      1.05,
      1.0,
      1.02,
      1.04
     ],
     "Ryan Wilson": [
      1.0,
      1.0,
      0.0,
      1.0,
      1.0,
      1.0,
      1.0,
      1.0,
      0.0,
      1.0,
      1.0,
      1.0
     ],
     "Sam Holbrook": [
      0.197,
      0.087,
      8.97,
      0.253,
      0.324,
      0.415,
      1.06,
      1.02,
      1.03,
      0.99,
      1.0,
      1.03
     ],
     "Scott Barry": [
      0.202,
      0.083,
      8.92,
      0.255,
      0.323,
      0.407,
      1.15,
      0.95,
      0.96,
      0.97,
      0.97,
      0.98
     ],
     "Sean Barber": [
      0.223,
      0.084,
      9.22,
      0.25,
      0.32,
      0.413,
      0.96,
      0.97,
      1.02,
      1.03,
      1.01,
      1.01
     ],
     "Seth Buckminster": [
      0.219,
      0.095,
      7.38,
      0.241,
      0.323,
      0.366,
      1.07,
      1.25,
      0.91,
      0.96,
      1.03,
      0.95
     ],
     "Shane Livensparger": [
      0.219,
      0.085,
      9.06,
      0.249,
      0.32,
      0.413,
      0.98,
      1.0,
      1.02,
      1.01,
      1.01,
      1.01
     ],
     "Shawn Rakos": [
      0.254,
      0.121,
      5.5,
      0.21,
      0.306,
      0.284,
      1.45,
      1.39,
      0.59,
      0.79,
      0.92,
      0.68
     ],
     "Stu Scheurwater": [
      0.219,
      0.087,
      8.81,
      0.247,
      0.318,
      0.414,
      1.03,
      1.06,
      0.99,
      0.97,
      0.99,
      0.99
     ],
     "Ted Barrett": [
      0.206,
      0.081,
      8.82,
      0.254,
      0.319,
      0.406,
      0.97,
      0.99,
      0.99,
      1.0,
      0.99,
      0.97
     ],
     "Tim McClelland": [
      0.175,
      0.094,
      9.82,
      0.265,
      0.338,
      0.418,
      0.94,
      1.11,
      1.12,
      1.03,
      1.04,
      1.04
     ],
     "Tim Timmons": [
      0.207,
      0.084,
      9.12,
      0.257,
      0.325,
      0.415,
      0.98,
      1.03,
      1.02,
      1.01,
      1.01,
      0.99
     ],
     "Tim Tschida": [
      0.177,
      0.093,
      9.58,
      0.267,
      0.34,
      0.423,
      0.89,
      1.17,
      1.11,
      1.05,
      1.07,
      1.05
     ],
     "Tim Welke": [
      0.195,
      0.078,
      8.92,
      0.255,
      0.318,
      0.406,
      0.96,
      1.02,
      1.1,
      1.02,
      1.02,
      1.05
     ],
     "Toby Basner": [
      0.214,
      0.082,
      8.88,
      0.246,
      0.315,
      0.39,
      1.01,
      1.0,
      0.99,
      0.97,
      0.98,
      0.94
     ],
     "Todd Tichenor": [
      0.204,
      0.086,
      8.87,
      0.254,
      0.323,
      0.409,
      0.97,
      1.05,
      0.99,
      0.99,
      1.0,
      0.98
     ],
     "Tom Hallion": [
      0.202,
      0.084,
      9.12,
      0.255,
      0.323,
      0.413,
      1.02,
      1.05,
      1.06,
      1.0,
      1.01,
      1.02
     ],
     "Tom Hanahan": [
      0.234,
      0.083,
      8.77,
      0.238,
      0.307,
      0.408,
      1.03,
      0.97,
      0.95,
      0.96,
      0.96,
      0.99
     ],
     "Tom Woodring": [
      0.211,
      0.086,
      9.45,
      0.259,
      0.327,
      0.439,
      1.04,
      1.13,
      1.16,
      1.03,
      1.04,
      1.14
     ],
     "Tony Randazzo": [
      0.21,
      0.079,
      8.84,
      0.256,
      0.32,
      0.414,
      1.03,
      1.03,
      1.09,
      1.02,
      1.02,
      1.07
     ],
     "Tripp Gibson": [
      0.228,
      0.081,
      8.67,
      0.244,
      0.312,
      0.403,
      1.14,
      1.02,
      1.04,
      0.96,
      0.98,
      1.02
     ],
     "Vic Carapazza": [
      0.222,
      0.081,
      8.41,
      0.246,
      0.314,
      0.398,
      1.09,
      1.07,
      1.03,
      0.98,
      1.0,
      1.03
     ],
     "Wally Bell": [
      0.195,
      0.078,
      8.56,
      0.256,
      0.319,
      0.412,
      1.11,
      0.9,
      0.92,
      0.97,
      0.96,
      0.99
     ],
     "Will Little": [
      0.224,
      0.086,
      8.8,
      0.247,
      0.318,
      0.408,
      1.1,
      1.12,
      1.08,
      0.98,
      1.01,
      1.06
     ]
    },
    "venue_data_param": {
     "Angel Stadium": {
      "L": [
       1.02,
       0.95,
       1.02,
       0.96,
       0.98,
       1.0,
       1.0,
       1.0,
       1.0
      ],
      "R": [
       1.29,
       0.55,
       0.91,
       0.95,
       0.98,
       0.98,
       1.03,
       1.0,
       1.07
      ]
     },
     "Busch Stadium": {
      "L": [
       0.84,
       1.1,
       0.89,
       1.05,
       0.98,
       0.98,
       0.94,
       0.96,
       0.93
      ],
      "R": [
       0.92,
       0.75,
       0.89,
       1.01,
       0.96,
       0.95,
       0.93,
       0.95,
       0.91
      ]
     },
     "Chase Field": {
      "L": [
       0.87,
       1.52,
       0.95,
       0.99,
       0.97,
       1.0,
       0.95,
       0.98,
       0.95
      ],
      "R": [
       0.97,
       2.39,
       1.01,
       1.05,
       1.05,
       1.03,
       1.05,
       1.03,
       1.09
      ]
     },
     "Citi Field": {
      "L": [
       1.07,
       0.7,
       0.88,
       0.86,
       0.89,
       0.92,
       0.93,
       0.93,
       0.89
      ],
      "R": [
       0.98,
       0.62,
       0.74,
       1.01,
       0.93,
       0.95,
       0.91,
       0.93,
       0.86
      ]
     },
     "Citizens Bank Park": {
      "L": [
       1.22,
       0.99,
       0.88,
       0.98,
       0.98,
       0.98,
       1.02,
       1.0,
       1.06
      ],
      "R": [
       1.17,
       1.1,
       0.98,
       0.97,
       1.01,
       1.01,
       1.05,
       1.03,
       0.98
      ]
     },
     "Comerica Park": {
      "L": [
       0.97,
       1.85,
       1.09,
       1.06,
       1.06,
       1.02,
       1.05,
       1.03,
       1.03
      ],
      "R": [
       0.88,
       1.69,
       0.83,
       0.98,
       0.94,
       0.95,
       0.93,
       0.94,
       0.89
      ]
     },
     "Coors Field": {
      "L": [
       1.21,
       2.17,
       1.43,
       1.19,
       1.25,
       1.16,
       1.28,
       1.21,
       1.27
      ],
      "R": [
       1.22,
       1.91,
       1.12,
       1.15,
       1.17,
       1.1,
       1.19,
       1.14,
       1.33
      ]
     },
     "Dodger Stadium": {
      "L": [
       1.21,
       0.5,
       0.92,
       0.99,
       0.98,
       0.95,
       1.01,
       0.98,
       0.92
      ],
      "R": [
       1.04,
       0.24,
       1.06,
       0.96,
       0.96,
       0.95,
       0.96,
       0.96,
       0.92
      ]
     },
     "Fenway Park": {
      "L": [
       0.97,
       1.21,
       1.25,
       0.99,
       1.04,
       1.02,
       1.05,
       1.03,
       1.12
      ],
      "R": [
       0.82,
       1.19,
       1.59,
       0.97,
       1.06,
       1.04,
       1.05,
       1.04,
       0.99
      ]
     },
     "Globe Life Field": {
      "L": [
       0.96,
       0.98,
       0.96,
       1.0,
       0.99,
       1.01,
       0.98,
       1.0,
       0.97
      ],
      "R": [
       0.95,
       1.01,
       1.01,
       1.04,
       1.02,
       1.03,
       1.0,
       1.01,
       0.98
      ]
     },
     "Great American Ball Park": {
      "L": [
       1.3,
       0.63,
       1.08,
       0.93,
       1.01,
       1.03,
       1.09,
       1.06,
       1.07
      ],
      "R": [
       1.35,
       0.79,
       0.92,
       0.99,
       1.02,
       1.01,
       1.09,
       1.04,
       1.13
      ]
     },
     "Guaranteed Rate Field": {
      "L": [
       1.12,
       0.31,
       0.91,
       1.03,
       1.0,
       0.99,
       1.0,
       1.0,
       0.98
      ],
      "R": [
       1.15,
       0.84,
       0.72,
       0.95,
       0.93,
       0.97,
       0.95,
       0.97,
       0.99
      ]
     },
     "Kauffman Stadium": {
      "L": [
       0.84,
       1.28,
       1.07,
       1.03,
       1.02,
       1.01,
       0.98,
       0.99,
       1.03
      ],
      "R": [
       0.76,
       1.17,
       1.22,
       1.15,
       1.11,
       1.07,
       1.03,
       1.05,
       1.05
      ]
     },
     "Marlins Park": {
      "L": [
       0.72,
       0.99,
       1.04,
       1.09,
       1.02,
       1.0,
       0.94,
       0.97,
       0.9
      ],
      "R": [
       0.77,
       1.25,
       0.9,
       0.91,
       0.9,
       0.94,
       0.87,
       0.91,
       0.89
      ]
     },
     "Miller Park": {
      "L": [
       1.14,
       0.92,
       0.92,
       0.96,
       0.97,
       0.98,
       1.01,
       0.99,
       1.06
      ],
      "R": [
       1.08,
       0.82,
       0.91,
       0.96,
       0.97,
       1.0,
       0.99,
       1.0,
       0.99
      ]
     },
     "Minute Maid Park": {
      "L": [
       1.1,
       0.61,
       0.87,
       1.01,
       0.98,
       0.98,
       0.99,
       0.99,
       1.03
      ],
      "R": [
       1.05,
       1.27,
       0.91,
       0.98,
       0.98,
       0.98,
       1.0,
       0.99,
       0.97
      ]
     },
     "Nationals Park": {
      "L": [
       1.09,
       0.83,
       1.04,
       1.0,
       1.01,
       1.0,
       1.03,
       1.01,
       1.05
      ],
      "R": [
       1.14,
       0.85,
       1.3,
       1.01,
       1.09,
       1.07,
       1.12,
       1.09,
       1.07
      ]
     },
     "Oakland Coliseum": {
      "L": [
       0.8,
       0.75,
       1.13,
       0.96,
       0.96,
       0.98,
       0.93,
       0.96,
       0.85
      ],
      "R": [
       0.74,
       0.78,
       0.98,
       0.94,
       0.9,
       0.9,
       0.85,
       0.88,
       0.82
      ]
     },
     "Oracle Park": {
      "L": [
       0.79,
       1.19,
       0.94,
       1.05,
       0.99,
       0.97,
       0.93,
       0.95,
       0.93
      ],
      "R": [
       0.73,
       1.66,
       1.05,
       0.97,
       0.97,
       0.98,
       0.94,
       0.96,
       0.85
      ]
     },
     "Oriole Park at Camden Yards": {
      "L": [
       1.2,
       0.65,
       0.87,
       1.0,
       1.0,
       1.02,
       1.03,
       1.03,
       1.03
      ],
      "R": [
       1.11,
       0.9,
       1.01,
       0.99,
       1.0,
       0.98,
       1.03,
       1.0,
       0.98
      ]
     },
     "PNC Park": {
      "L": [
       0.79,
       0.83,
       1.1,
       0.95,
       0.96,
       0.99,
       0.94,
       0.97,
       0.97
      ],
      "R": [
       0.93,
       0.75,
       1.27,
       0.97,
       1.02,
       1.04,
       1.02,
       1.03,
       0.92
      ]
     },
     "Petco Park": {
      "L": [
       0.98,
       0.71,
       0.96,
       0.93,
       0.95,
       0.99,
       0.96,
       0.98,
       0.94
      ],
      "R": [
       0.92,
       0.76,
       1.07,
       0.95,
       0.97,
       0.99,
       0.97,
       0.98,
       0.93
      ]
     },
     "Progressive Field": {
      "L": [
       0.98,
       0.88,
       1.02,
       1.0,
       1.0,
       1.01,
       1.0,
       1.0,
       1.08
      ],
      "R": [
       1.08,
       0.85,
       1.13,
       0.99,
       1.03,
       1.03,
       1.05,
       1.04,
       1.1
      ]
     },
     "Rogers Centre": {
      "L": [
       1.12,
       1.03,
       1.02,
       0.92,
       0.97,
       0.98,
       1.02,
       1.0,
       0.96
      ],
      "R": [
       1.21,
       0.86,
       0.99,
       0.95,
       0.98,
       0.97,
       1.03,
       1.0,
       1.04
      ]
     },
     "Sahlen Field": {
      "L": [
       0.94,
       0.84,
       0.99,
       1.05,
       1.01,
       1.0,
       0.98,
       0.99,
       1.03
      ],
      "R": [
       0.96,
       1.29,
       1.04,
       1.05,
       1.04,
       1.03,
       1.02,
       1.02,
       1.05
      ]
     },
     "T-Mobile Park": {
      "L": [
       1.04,
       0.75,
       0.83,
       0.95,
       0.94,
       0.95,
       0.95,
       0.95,
       0.94
      ],
      "R": [
       0.89,
       0.5,
       0.86,
       1.01,
       0.93,
       0.93,
       0.89,
       0.92,
       0.87
      ]
     },
     "Target Field": {
      "L": [
       0.86,
       0.73,
       1.22,
       0.94,
       0.97,
       0.97,
       0.96,
       0.97,
       0.93
      ],
      "R": [
       0.89,
       1.4,
       1.03,
       1.03,
       1.03,
       1.04,
       1.0,
       1.02,
       1.04
      ]
     },
     "Tropicana Field": {
      "L": [
       0.86,
       1.22,
       1.01,
       0.96,
       0.96,
       0.98,
       0.94,
       0.96,
       0.87
      ],
      "R": [
       0.94,
       1.32,
       0.85,
       0.97,
       0.95,
       0.97,
       0.95,
       0.96,
       1.02
      ]
     },
     "Truist Park": {
      "L": [
       0.93,
       0.91,
       1.03,
       1.09,
       1.05,
       1.05,
       1.02,
       1.03,
       1.09
      ],
      "R": [
       0.9,
       0.69,
       1.04,
       0.99,
       0.99,
       0.99,
       0.96,
       0.98,
       1.05
      ]
     },
     "Wrigley Field": {
      "L": [
       0.98,
       1.56,
       1.01,
       0.99,
       1.01,
       1.01,
       1.01,
       1.01,
       0.99
      ],
      "R": [
       0.83,
       1.18,
       0.98,
       1.03,
       0.99,
       0.99,
       0.95,
       0.97,
       0.96
      ]
     },
     "Yankee Stadium": {
      "L": [
       1.02,
       1.36,
       0.85,
       1.05,
       1.0,
       1.01,
       0.99,
       1.0,
       0.98
      ],
      "R": [
       1.09,
       0.53,
       0.89,
       1.06,
       1.02,
       1.03,
       1.01,
       1.02,
       1.0
      ]
     }
    }
   },
   "start_time": "2024-08-06T09:18:23.895308",
   "version": "2.6.0"
  }
 },
 "nbformat": 4,
 "nbformat_minor": 5
}