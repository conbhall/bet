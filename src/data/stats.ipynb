{
 "cells": [
  {
   "cell_type": "markdown",
   "metadata": {},
   "source": [
    "Import Necessary Libraries"
   ]
  },
  {
   "cell_type": "code",
   "execution_count": 1,
   "metadata": {},
   "outputs": [],
   "source": [
    "import statsapi as api\n",
    "import pandas as pd\n",
    "import tempfile\n",
    "import os\n",
    "import re\n",
    "import requests\n",
    "from bs4 import BeautifulSoup, SoupStrainer\n",
    "from selenium import webdriver\n",
    "from selenium.webdriver.common.by import By\n",
    "from selenium.webdriver.chrome.service import Service\n",
    "from webdriver_manager.chrome import ChromeDriverManager\n"
   ]
  },
  {
   "cell_type": "markdown",
   "metadata": {},
   "source": [
    "Input Player Name and Date\n",
    "\n",
    "\n",
    "NEED TO CHECK AND FIX ALL CELLS: IF STATS FOR SOMETHING DO NOT EXIST NEED TO DEAL WITH THAT!\n",
    "\n",
    "ALSO NEED TO ENSURE CORRECT VALUES ARE PASSED IN FOR COMPUTING CORRECT VALUES\n",
    "\n",
    "NEED TO CHECK PLAYER AVG OVER X GAMES - NEED TO COMPUTE PLAYER AVG OVER LAST GAME FOR PAST SEASONS AS WELL\n",
    "\n",
    "NEED TO ENSURE THAT ALL DATA IS OF CORRECT TYPE, CORRECT VALUES, CORRECT YEARS, AND IF NONE NEEDS TO BE HANDLED\n",
    "\n",
    "FIX CURRENT SET UP FOR COMPUTING AVERAGES. SHIT IS BUGGY AS FUCK\n",
    "\n",
    "IF IT APPEARS TO BE GOOD: THERE WILL BE :P NEXT TO IT. IF NEEDS ADJUSTMENTS, VERIFICATION, OR REWORK, :( NEXT TO IT\n",
    "\n",
    "ESPECIALLY DECIDE HOW TO DEAL WITH EDGE CASES AND DIVISION BY 0.\n",
    "\n",
    "WALKS, HIT BY PITCH, AND SAC FLIES DO NOT COUNT AS AN AT BAT\n",
    "\n",
    "TOTAL BASES ARE ONLY BASES REACHED VIA HITS."
   ]
  },
  {
   "cell_type": "code",
   "execution_count": 2,
   "metadata": {},
   "outputs": [
    {
     "name": "stdout",
     "output_type": "stream",
     "text": [
      "2024\n"
     ]
    }
   ],
   "source": [
    "first_name = input(\"Enter Player First Name: \")\n",
    "last_name = input('Enter Player Last Name: ')\n",
    "#date = input('Enter Date: ')\n",
    "date = '2024-03-20'\n",
    "year = int(date[:4])\n",
    "print(year)\n",
    "player_name = f'{first_name.lower()} {last_name.lower()}'\n"
   ]
  },
  {
   "cell_type": "markdown",
   "metadata": {},
   "source": [
    "fetch player_id :P"
   ]
  },
  {
   "cell_type": "code",
   "execution_count": 3,
   "metadata": {},
   "outputs": [
    {
     "name": "stdout",
     "output_type": "stream",
     "text": [
      "660271\n",
      "119\n"
     ]
    }
   ],
   "source": [
    "player_info = api.lookup_player(player_name, season=year)\n",
    "player_id = player_info[0]['id']\n",
    "team_id = player_info[0]['currentTeam']['id']\n",
    "print(player_id)\n",
    "print(team_id)"
   ]
  },
  {
   "cell_type": "markdown",
   "metadata": {},
   "source": [
    "Gather batter_hand, batter_age, , batter_strike_zone_top, batter_strike_zone_bottom :P"
   ]
  },
  {
   "cell_type": "code",
   "execution_count": 4,
   "metadata": {},
   "outputs": [
    {
     "name": "stdout",
     "output_type": "stream",
     "text": [
      "29\n",
      "6\n",
      "L\n",
      "3.5\n",
      "1.59\n"
     ]
    }
   ],
   "source": [
    "person_info = api.get('people',{'personIds':player_id, 'season':year,'sportId':1})\n",
    "batter_hand = person_info['people'][0]['batSide']['code']\n",
    "batter_age = person_info['people'][0]['currentAge']\n",
    "batter_strike_zone_top = person_info['people'][0]['strikeZoneTop']\n",
    "batter_strike_zone_bottom = person_info['people'][0]['strikeZoneBottom']\n",
    "batter_starting_year = int(person_info['people'][0]['mlbDebutDate'][:4])\n",
    "batter_year = year - batter_starting_year\n",
    "\n",
    "\n",
    "print(batter_age)\n",
    "print(batter_year)\n",
    "print(batter_hand)\n",
    "print(batter_strike_zone_top)\n",
    "print(batter_strike_zone_bottom)"
   ]
  },
  {
   "cell_type": "markdown",
   "metadata": {},
   "source": [
    "fetch game_pk, home, opp_id, venue_id, sPitcher_id, sPitcher_hand :P"
   ]
  },
  {
   "cell_type": "code",
   "execution_count": 5,
   "metadata": {},
   "outputs": [
    {
     "name": "stdout",
     "output_type": "stream",
     "text": [
      "True\n",
      "745444\n",
      "135\n",
      "Yu Darvish\n",
      "506433\n",
      "R\n",
      "5150\n",
      "False\n"
     ]
    }
   ],
   "source": [
    "game_info = api.schedule(date=date,team=team_id,sportId=1)\n",
    "game_pk = game_info[0]['game_id']\n",
    "home_team_id = game_info[0]['home_id']\n",
    "if home_team_id == team_id:\n",
    "    home = True\n",
    "    opp_id = game_info[0]['away_id']\n",
    "    sPitcher_name = game_info[0]['away_probable_pitcher']\n",
    "else:\n",
    "    home = False\n",
    "    opp_id = game_info[0]['home_id']\n",
    "    sPitcher_name = game_info[0]['home_probable_pitcher']\n",
    "\n",
    "sPitcher_info = api.lookup_player(sPitcher_name)\n",
    "sPitcher_id = sPitcher_info[0]['id']\n",
    "sPitcher_info_2 = api.get('people',{'personIds':sPitcher_id, 'season':year,'sportId':1})\n",
    "sPitcher_hand = sPitcher_info_2['people'][0]['pitchHand']['code']\n",
    "\n",
    "venue_id = game_info[0]['venue_id']\n",
    "\n",
    "if game_info[0]['status'] == 'Final':\n",
    "    game_status = True\n",
    "else:\n",
    "    game_status = False\n",
    "\n",
    "print(game_status)\n",
    "print(game_pk)\n",
    "print(opp_id)\n",
    "print(sPitcher_name)\n",
    "print(sPitcher_id)\n",
    "print(sPitcher_hand)\n",
    "print(venue_id)\n",
    "print(home)"
   ]
  },
  {
   "cell_type": "markdown",
   "metadata": {},
   "source": [
    "fetch player game stats: temp, wind_speed, hp_ump_id, game_time. Fetch list of proj_ump_ids if Home Plate Umpire not yet specified :(\n",
    "\n",
    "What should happen when this data isnt uploaded yet?"
   ]
  },
  {
   "cell_type": "code",
   "execution_count": 6,
   "metadata": {},
   "outputs": [
    {
     "name": "stdout",
     "output_type": "stream",
     "text": [
      "427013\n",
      "72\n",
      "0\n",
      "7:07 PM.\n"
     ]
    }
   ],
   "source": [
    "game_boxscore_info = api.boxscore_data(gamePk=game_pk)\n",
    "\n",
    "temp = None\n",
    "wind_speed = None\n",
    "game_time = None\n",
    "\n",
    "for x in game_boxscore_info['gameBoxInfo']:\n",
    "    if x.get('label') == 'Weather':\n",
    "        temp_info = x['value']\n",
    "        temps = re.findall(r'\\d+', temp_info)\n",
    "        if temps:\n",
    "            temp = int(temps[0])\n",
    "            \n",
    "\n",
    "    if x.get('label') == 'Wind':\n",
    "        wind_speed_info = x['value']\n",
    "        winds = re.findall(r'\\d+', wind_speed_info)\n",
    "        if winds:\n",
    "            wind_speed = int(winds[0])\n",
    "            \n",
    "\n",
    "    if x.get('label') == 'First pitch':\n",
    "        game_time = x['value']\n",
    "        \n",
    "\n",
    "    if x.get('label') == 'Umpires':\n",
    "        ump_info = x['value']\n",
    "        if 'HP:' in ump_info:\n",
    "            pattern = r'HP: (.*?)\\.'\n",
    "            match = re.search(pattern, ump_info)\n",
    "            if match:\n",
    "                hp_ump = match.group(1)\n",
    "                hp_ump_info = api.get('jobs_umpires', {})\n",
    "                for person in hp_ump_info['roster']:\n",
    "                    if person['person'].get('fullName') == hp_ump:\n",
    "                        hp_ump_id = person['person'].get('id')\n",
    "                        print(hp_ump_id)\n",
    "\n",
    "        else:\n",
    "            umps = re.findall(r'[\\w\\s]+', ump_info)\n",
    "            umps = [ump.strip() for ump in umps if ump.strip]\n",
    "            ump_list = list(umps) + [None]*(4-len(umps))\n",
    "            umps_tuple = tuple(ump_list[:4])\n",
    "            proj_ump_ids = []\n",
    "            for ump in umps_tuple:\n",
    "                ump_info = api.get('jobs_umpires',{})\n",
    "                for person in ump_info['roster']:\n",
    "                    if person['person'].get('fullName') == ump:\n",
    "                        ump_id = person['person'].get('id')\n",
    "                        proj_ump_ids.append(ump_id)\n",
    "            print(proj_ump_ids)\n",
    "\n",
    "print(temp)\n",
    "print(wind_speed)\n",
    "print(game_time)\n",
    "\n"
   ]
  },
  {
   "cell_type": "markdown",
   "metadata": {},
   "source": [
    "fetch player game data: :P\n",
    "- batting position"
   ]
  },
  {
   "cell_type": "code",
   "execution_count": 7,
   "metadata": {},
   "outputs": [
    {
     "name": "stdout",
     "output_type": "stream",
     "text": [
      "2\n"
     ]
    }
   ],
   "source": [
    "game_content = api.boxscore_data(gamePk=game_pk)\n",
    "if home == True:\n",
    "    batters_info = game_content['homeBatters']\n",
    "else:\n",
    "    batters_info = game_content['awayBatters']\n",
    "\n",
    "batting_position = None\n",
    "\n",
    "for batter in batters_info:\n",
    "    if batter.get('personId') == player_id:\n",
    "        batting_position = int(batter.get('battingOrder')[0])\n",
    "\n",
    "print (batting_position)"
   ]
  },
  {
   "cell_type": "markdown",
   "metadata": {},
   "source": [
    "fetch game player stats :P\n",
    "- If game_status == True\n",
    "    - gather player stats\n",
    "- If game_status == False\n",
    "    - set player stats to None"
   ]
  },
  {
   "cell_type": "code",
   "execution_count": 8,
   "metadata": {},
   "outputs": [
    {
     "name": "stdout",
     "output_type": "stream",
     "text": [
      "ab: 5\n",
      "h: 2\n",
      "r: 0\n",
      "rbi: 1\n",
      "hr: 0\n",
      "tb: 2\n",
      "k: 0\n",
      "bb: 0\n"
     ]
    }
   ],
   "source": [
    "if game_status == True:\n",
    "    game_stats_info = api.get('person_stats',{'personId':player_id,'gamePk':game_pk})\n",
    "    game_stats = game_stats_info['stats'][0]['splits'][2]['stat']\n",
    "    ab = game_stats.get('atBats')\n",
    "    h = game_stats.get('hits')\n",
    "    r = game_stats.get('runs')\n",
    "    rbi = game_stats.get('rbi')\n",
    "    hr = game_stats.get('homeRuns')\n",
    "    tb = game_stats.get('totalBases')\n",
    "    k = game_stats.get('strikeOuts')\n",
    "    bb = game_stats.get('baseOnBalls')\n",
    "\n",
    "else:\n",
    "    ab = None\n",
    "    h = None\n",
    "    r = None\n",
    "    rbi = None\n",
    "    hr = None\n",
    "    tb = None\n",
    "    k = None\n",
    "    bb = None\n",
    "\n",
    "\n",
    "print(f'ab: {ab}')\n",
    "print(f'h: {h}')\n",
    "print(f'r: {r}')\n",
    "print(f'rbi: {rbi}')\n",
    "print(f'hr: {hr}')\n",
    "print(f'tb: {tb}')\n",
    "print(f'k: {k}')\n",
    "print(f'bb: {bb}')\n"
   ]
  },
  {
   "cell_type": "markdown",
   "metadata": {},
   "source": [
    "Determine Whether Most Recent Streak Averages, or Historical Streak Averages are Needed for Player"
   ]
  },
  {
   "cell_type": "markdown",
   "metadata": {},
   "source": [
    "Format Player URL for baseballreference.com"
   ]
  },
  {
   "cell_type": "code",
   "execution_count": 9,
   "metadata": {},
   "outputs": [
    {
     "name": "stdout",
     "output_type": "stream",
     "text": [
      "ohtansh01\n"
     ]
    }
   ],
   "source": [
    "initial = last_name[:1]\n",
    "\n",
    "full_name = f'{first_name} {last_name}'\n",
    "\n",
    "url = f'https://www.baseball-reference.com/players/{initial}/'\n",
    "headers = {'User_Agent': 'Mozilla/5.0'}\n",
    "\n",
    "response = requests.get(url, headers=headers)\n",
    "response.raise_for_status()\n",
    "\n",
    "soup = BeautifulSoup(response.content, 'html.parser')\n",
    "\n",
    "initial_section = soup.find('div', class_=\"section_content\", id=\"div_players_\")\n",
    "\n",
    "if initial_section:\n",
    "    active_players = initial_section.find_all('b')\n",
    "    for players in active_players:\n",
    "        player = players.find('a')\n",
    "        years_playing = players.get_text()[(len(players.get_text()) - 11):]\n",
    "        if full_name == player.get_text().lower():\n",
    "            start_year = int(years_playing[1:5])\n",
    "            end_year = year\n",
    "            if year in range(start_year, end_year + 1):\n",
    "                player_link = player['href']\n",
    "                formatted_player_key = player_link[11:20]\n",
    "\n",
    "print(formatted_player_key)"
   ]
  },
  {
   "cell_type": "markdown",
   "metadata": {},
   "source": [
    "Collect Data for Games Played Up to Desired Date"
   ]
  },
  {
   "cell_type": "code",
   "execution_count": 12,
   "metadata": {},
   "outputs": [
    {
     "name": "stdout",
     "output_type": "stream",
     "text": [
      "{'copyright': 'Copyright 2024 MLB Advanced Media, L.P.  Use of any content on this page acknowledges agreement to the terms posted here http://gdx.mlb.com/components/copyright.txt', 'totalItems': 1, 'totalEvents': 0, 'totalGames': 1, 'totalGamesInProgress': 0, 'dates': [{'date': '2024-06-05', 'totalItems': 1, 'totalEvents': 0, 'totalGames': 1, 'totalGamesInProgress': 0, 'games': [{'gamePk': 745494, 'gameGuid': '5e33978c-35f5-4a2c-9b34-2885c37b9955', 'link': '/api/v1.1/game/745494/feed/live', 'gameType': 'R', 'season': '2024', 'gameDate': '2024-06-05T22:40:00Z', 'officialDate': '2024-06-05', 'status': {'abstractGameState': 'Final', 'codedGameState': 'F', 'detailedState': 'Final', 'statusCode': 'F', 'startTimeTBD': False, 'abstractGameCode': 'F'}, 'teams': {'away': {'leagueRecord': {'wins': 38, 'losses': 25, 'pct': '.603'}, 'score': 6, 'team': {'id': 119, 'name': 'Los Angeles Dodgers', 'link': '/api/v1/teams/119'}, 'isWinner': False, 'splitSquad': False, 'seriesNumber': 21}, 'home': {'leagueRecord': {'wins': 29, 'losses': 32, 'pct': '.475'}, 'score': 10, 'team': {'id': 134, 'name': 'Pittsburgh Pirates', 'link': '/api/v1/teams/134'}, 'isWinner': True, 'splitSquad': False, 'seriesNumber': 20}}, 'venue': {'id': 31, 'name': 'PNC Park', 'link': '/api/v1/venues/31'}, 'content': {'link': '/api/v1/game/745494/content'}, 'isTie': False, 'gameNumber': 1, 'publicFacing': True, 'doubleHeader': 'N', 'gamedayType': 'P', 'tiebreaker': 'N', 'calendarEventID': '14-745494-2024-06-05', 'seasonDisplay': '2024', 'dayNight': 'night', 'scheduledInnings': 9, 'reverseHomeAwayStatus': False, 'inningBreakLength': 120, 'gamesInSeries': 3, 'seriesGameNumber': 2, 'seriesDescription': 'Regular Season', 'recordSource': 'S', 'ifNecessary': 'N', 'ifNecessaryDescription': 'Normal Game'}], 'events': []}]}\n"
     ]
    },
    {
     "ename": "KeyError",
     "evalue": "'game_num'",
     "output_type": "error",
     "traceback": [
      "\u001b[1;31m---------------------------------------------------------------------------\u001b[0m",
      "\u001b[1;31mKeyError\u001b[0m                                  Traceback (most recent call last)",
      "File \u001b[1;32mg:\\Repos\\bet\\venv\\Lib\\site-packages\\pandas\\core\\indexes\\base.py:3805\u001b[0m, in \u001b[0;36mIndex.get_loc\u001b[1;34m(self, key)\u001b[0m\n\u001b[0;32m   3804\u001b[0m \u001b[38;5;28;01mtry\u001b[39;00m:\n\u001b[1;32m-> 3805\u001b[0m     \u001b[38;5;28;01mreturn\u001b[39;00m \u001b[38;5;28;43mself\u001b[39;49m\u001b[38;5;241;43m.\u001b[39;49m\u001b[43m_engine\u001b[49m\u001b[38;5;241;43m.\u001b[39;49m\u001b[43mget_loc\u001b[49m\u001b[43m(\u001b[49m\u001b[43mcasted_key\u001b[49m\u001b[43m)\u001b[49m\n\u001b[0;32m   3806\u001b[0m \u001b[38;5;28;01mexcept\u001b[39;00m \u001b[38;5;167;01mKeyError\u001b[39;00m \u001b[38;5;28;01mas\u001b[39;00m err:\n",
      "File \u001b[1;32mindex.pyx:167\u001b[0m, in \u001b[0;36mpandas._libs.index.IndexEngine.get_loc\u001b[1;34m()\u001b[0m\n",
      "File \u001b[1;32mindex.pyx:196\u001b[0m, in \u001b[0;36mpandas._libs.index.IndexEngine.get_loc\u001b[1;34m()\u001b[0m\n",
      "File \u001b[1;32mpandas\\\\_libs\\\\hashtable_class_helper.pxi:7081\u001b[0m, in \u001b[0;36mpandas._libs.hashtable.PyObjectHashTable.get_item\u001b[1;34m()\u001b[0m\n",
      "File \u001b[1;32mpandas\\\\_libs\\\\hashtable_class_helper.pxi:7089\u001b[0m, in \u001b[0;36mpandas._libs.hashtable.PyObjectHashTable.get_item\u001b[1;34m()\u001b[0m\n",
      "\u001b[1;31mKeyError\u001b[0m: 'game_num'",
      "\nThe above exception was the direct cause of the following exception:\n",
      "\u001b[1;31mKeyError\u001b[0m                                  Traceback (most recent call last)",
      "Cell \u001b[1;32mIn[12], line 82\u001b[0m\n\u001b[0;32m     79\u001b[0m columns_to_convert_float \u001b[38;5;241m=\u001b[39m [\u001b[38;5;124m'\u001b[39m\u001b[38;5;124mBA\u001b[39m\u001b[38;5;124m'\u001b[39m, \u001b[38;5;124m'\u001b[39m\u001b[38;5;124mOBP\u001b[39m\u001b[38;5;124m'\u001b[39m, \u001b[38;5;124m'\u001b[39m\u001b[38;5;124mSLG\u001b[39m\u001b[38;5;124m'\u001b[39m]\n\u001b[0;32m     81\u001b[0m \u001b[38;5;28;01mfor\u001b[39;00m column \u001b[38;5;129;01min\u001b[39;00m columns_to_convert_int:\n\u001b[1;32m---> 82\u001b[0m      correct_columns_df[column] \u001b[38;5;241m=\u001b[39m \u001b[43mcorrect_columns_df\u001b[49m\u001b[43m[\u001b[49m\u001b[43mcolumn\u001b[49m\u001b[43m]\u001b[49m\u001b[38;5;241m.\u001b[39mastype(\u001b[38;5;28mint\u001b[39m)\n\u001b[0;32m     84\u001b[0m \u001b[38;5;28;01mfor\u001b[39;00m column \u001b[38;5;129;01min\u001b[39;00m columns_to_convert_float:\n\u001b[0;32m     85\u001b[0m     correct_columns_df[column] \u001b[38;5;241m=\u001b[39m correct_columns_df[column]\u001b[38;5;241m.\u001b[39mastype(\u001b[38;5;28mfloat\u001b[39m)\n",
      "File \u001b[1;32mg:\\Repos\\bet\\venv\\Lib\\site-packages\\pandas\\core\\frame.py:4102\u001b[0m, in \u001b[0;36mDataFrame.__getitem__\u001b[1;34m(self, key)\u001b[0m\n\u001b[0;32m   4100\u001b[0m \u001b[38;5;28;01mif\u001b[39;00m \u001b[38;5;28mself\u001b[39m\u001b[38;5;241m.\u001b[39mcolumns\u001b[38;5;241m.\u001b[39mnlevels \u001b[38;5;241m>\u001b[39m \u001b[38;5;241m1\u001b[39m:\n\u001b[0;32m   4101\u001b[0m     \u001b[38;5;28;01mreturn\u001b[39;00m \u001b[38;5;28mself\u001b[39m\u001b[38;5;241m.\u001b[39m_getitem_multilevel(key)\n\u001b[1;32m-> 4102\u001b[0m indexer \u001b[38;5;241m=\u001b[39m \u001b[38;5;28;43mself\u001b[39;49m\u001b[38;5;241;43m.\u001b[39;49m\u001b[43mcolumns\u001b[49m\u001b[38;5;241;43m.\u001b[39;49m\u001b[43mget_loc\u001b[49m\u001b[43m(\u001b[49m\u001b[43mkey\u001b[49m\u001b[43m)\u001b[49m\n\u001b[0;32m   4103\u001b[0m \u001b[38;5;28;01mif\u001b[39;00m is_integer(indexer):\n\u001b[0;32m   4104\u001b[0m     indexer \u001b[38;5;241m=\u001b[39m [indexer]\n",
      "File \u001b[1;32mg:\\Repos\\bet\\venv\\Lib\\site-packages\\pandas\\core\\indexes\\base.py:3812\u001b[0m, in \u001b[0;36mIndex.get_loc\u001b[1;34m(self, key)\u001b[0m\n\u001b[0;32m   3807\u001b[0m     \u001b[38;5;28;01mif\u001b[39;00m \u001b[38;5;28misinstance\u001b[39m(casted_key, \u001b[38;5;28mslice\u001b[39m) \u001b[38;5;129;01mor\u001b[39;00m (\n\u001b[0;32m   3808\u001b[0m         \u001b[38;5;28misinstance\u001b[39m(casted_key, abc\u001b[38;5;241m.\u001b[39mIterable)\n\u001b[0;32m   3809\u001b[0m         \u001b[38;5;129;01mand\u001b[39;00m \u001b[38;5;28many\u001b[39m(\u001b[38;5;28misinstance\u001b[39m(x, \u001b[38;5;28mslice\u001b[39m) \u001b[38;5;28;01mfor\u001b[39;00m x \u001b[38;5;129;01min\u001b[39;00m casted_key)\n\u001b[0;32m   3810\u001b[0m     ):\n\u001b[0;32m   3811\u001b[0m         \u001b[38;5;28;01mraise\u001b[39;00m InvalidIndexError(key)\n\u001b[1;32m-> 3812\u001b[0m     \u001b[38;5;28;01mraise\u001b[39;00m \u001b[38;5;167;01mKeyError\u001b[39;00m(key) \u001b[38;5;28;01mfrom\u001b[39;00m \u001b[38;5;21;01merr\u001b[39;00m\n\u001b[0;32m   3813\u001b[0m \u001b[38;5;28;01mexcept\u001b[39;00m \u001b[38;5;167;01mTypeError\u001b[39;00m:\n\u001b[0;32m   3814\u001b[0m     \u001b[38;5;66;03m# If we have a listlike key, _check_indexing_error will raise\u001b[39;00m\n\u001b[0;32m   3815\u001b[0m     \u001b[38;5;66;03m#  InvalidIndexError. Otherwise we fall through and re-raise\u001b[39;00m\n\u001b[0;32m   3816\u001b[0m     \u001b[38;5;66;03m#  the TypeError.\u001b[39;00m\n\u001b[0;32m   3817\u001b[0m     \u001b[38;5;28mself\u001b[39m\u001b[38;5;241m.\u001b[39m_check_indexing_error(key)\n",
      "\u001b[1;31mKeyError\u001b[0m: 'game_num'"
     ]
    }
   ],
   "source": [
    "season_start_date = api.get('season', {'seasonId': year, 'sportId': 1})['seasons'][0]['regularSeasonStartDate']\n",
    "\n",
    "day = date[8:10]\n",
    "month = date[5:7]\n",
    "\n",
    "search_url = f'https://www.baseball-reference.com/players/gl.fcgi?id={formatted_player_key}&t=b&year={year}#batting_gamelogs'\n",
    "\n",
    "response = requests.get(search_url)\n",
    "response.raise_for_status()\n",
    "\n",
    "soup = BeautifulSoup(response.content, 'html.parser')\n",
    "\n",
    "table_rows = soup.find_all('tr', id=lambda x: x and x.startswith('batting_gamelogs'))\n",
    "\n",
    "if table_rows:\n",
    "\n",
    "    data = []\n",
    "\n",
    "    for row in table_rows:\n",
    "\n",
    "        row_data = {}\n",
    "\n",
    "        th = row.find('th')\n",
    "        \n",
    "        row_num = th.text\n",
    "        \n",
    "        row_data['game_num'] = row_num\n",
    "\n",
    "        for td in row.find_all('td'):\n",
    "\n",
    "            stat_type = td['data-stat']\n",
    "\n",
    "            if stat_type == 'date_game':\n",
    "                stat_value = td['csk'][:10]\n",
    "            else:\n",
    "                stat_value = td.text\n",
    "\n",
    "            row_data[stat_type] = stat_value\n",
    "\n",
    "        if row_data:\n",
    "\n",
    "            game_day = row_data['date_game'][8:10]\n",
    "            game_month = row_data['date_game'][5:7]\n",
    "\n",
    "            if game_month < month:\n",
    "                    data.append(row_data)\n",
    "            elif game_month == month:\n",
    "                if game_day <= day:\n",
    "                     data.append(row_data)\n",
    "\n",
    "    df = pd.DataFrame(data)\n",
    "\n",
    "    df.rename(columns={\n",
    "        'batting_avg': 'BA',\n",
    "        'onbase_perc': 'OBP',\n",
    "        'slugging_perc': 'SLG',\n",
    "    }, inplace=True)\n",
    "\n",
    "    all_columns = df.columns.tolist()\n",
    "\n",
    "    columns_to_keep = ['game_num', 'date_game', 'AB', 'R', 'H', '2B', '3B', 'HR', 'RBI', 'BB', 'SO', 'BA', 'OBP', 'SLG' ]\n",
    "\n",
    "    columns_to_drop = [column for column in all_columns if column not in columns_to_keep]\n",
    "\n",
    "    correct_columns_df = df.drop(columns_to_drop, axis=1)\n",
    "\n",
    "    columns_to_convert_int = ['game_num', 'AB', 'R', 'H', '2B', '3B', 'HR', 'RBI', 'BB', 'SO']\n",
    "\n",
    "    columns_to_convert_float = ['BA', 'OBP', 'SLG']\n",
    "\n",
    "    for column in columns_to_convert_int:\n",
    "         correct_columns_df[column] = correct_columns_df[column].astype(int)\n",
    "\n",
    "    for column in columns_to_convert_float:\n",
    "        correct_columns_df[column] = correct_columns_df[column].astype(float)\n",
    "\n",
    "    correct_columns_df['TB'] = correct_columns_df.apply(lambda row: (row['H'] - row['2B'] - row['3B'] - row['HR']) + 2*row['2B'] + 3*row['3B'] + 4*row['HR'], axis=1)\n",
    "\n",
    "    column_order = ['game_num', 'date_game', 'AB', 'H', 'R', 'RBI', '2B', '3B', 'HR', 'TB', 'BB', 'SO', 'BA', 'OBP', 'SLG']\n",
    "    correct_columns_df = correct_columns_df[column_order]\n",
    "\n",
    "#print(correct_columns_df)\n"
   ]
  },
  {
   "cell_type": "markdown",
   "metadata": {},
   "source": [
    "Season Averages Up to Desired Date"
   ]
  },
  {
   "cell_type": "code",
   "execution_count": null,
   "metadata": {},
   "outputs": [
    {
     "name": "stdout",
     "output_type": "stream",
     "text": [
      "1\n",
      "   ab_per_game  h_per_game  r_per_game  rbi_per_game  hr_per_game  \\\n",
      "0          5.0         2.0         0.0           1.0          0.0   \n",
      "\n",
      "   tb_per_game  bb_per_game  k_per_game  ba_szn  obp_szn  slg_szn  \n",
      "0          2.0          0.0         0.0     0.4      0.4      0.4  \n"
     ]
    }
   ],
   "source": [
    "season_stats = {}\n",
    "\n",
    "game_data = correct_columns_df.loc[correct_columns_df['date_game'] == date]\n",
    "\n",
    "games_played = game_data['game_num'].values[0]\n",
    "\n",
    "print(games_played)\n",
    "\n",
    "season_stats['ab_per_game'] = correct_columns_df['AB'].mean()\n",
    "season_stats['h_per_game'] = correct_columns_df['H'].mean()\n",
    "season_stats['r_per_game'] = correct_columns_df['R'].mean()\n",
    "season_stats['rbi_per_game'] = correct_columns_df['RBI'].mean()\n",
    "season_stats['hr_per_game'] = correct_columns_df['HR'].mean()\n",
    "season_stats['tb_per_game'] = correct_columns_df['TB'].mean()\n",
    "season_stats['bb_per_game'] = correct_columns_df['BB'].mean()\n",
    "season_stats['k_per_game'] = correct_columns_df['SO'].mean()\n",
    "season_stats['ba_szn'] = game_data['BA'].values[0]\n",
    "season_stats['obp_szn'] = game_data['OBP'].values[0]\n",
    "season_stats['slg_szn'] = game_data['SLG'].values[0]\n",
    "\n",
    "season_stats_df = pd.DataFrame([season_stats])\n",
    "\n",
    "print(season_stats_df)"
   ]
  },
  {
   "cell_type": "markdown",
   "metadata": {},
   "source": [
    "Format player URL for finding most recent streak averages :P"
   ]
  },
  {
   "cell_type": "code",
   "execution_count": null,
   "metadata": {},
   "outputs": [],
   "source": [
    "formatted_player_name = player_name.replace(' ', '-')\n",
    "formatted_player_name = formatted_player_name.replace('í', 'i')\n",
    "formatted_player_name = formatted_player_name.replace(\"'\", '-')\n",
    "\n",
    "streak_url = f'https://www.mlb.com/player/{formatted_player_name}-{player_id}'\n"
   ]
  },
  {
   "cell_type": "markdown",
   "metadata": {},
   "source": [
    "Fetch Most Recent Streak Averages Data :(\n",
    "\n",
    "What Should Happen when this data doesnt exist yet???"
   ]
  },
  {
   "cell_type": "code",
   "execution_count": null,
   "metadata": {},
   "outputs": [],
   "source": [
    "response = requests.get(streak_url)\n",
    "response.raise_for_status()\n",
    "\n",
    "soup = BeautifulSoup(response.content, 'html.parser')\n",
    "\n",
    "div = soup.find('div', class_='player-splits--last player-splits--last-x')\n",
    "\n",
    "header = div.find('thead').find('tr')\n",
    "\n",
    "headers = {}\n",
    "\n",
    "for th in header.find_all('th'):\n",
    "    stat_index = th['data-index']\n",
    "    stat_header = th.find('span')\n",
    "    stat_name = stat_header.text\n",
    "    headers[stat_index] = stat_name\n",
    "\n",
    "table_row = div.find('tbody').find_all('tr')\n",
    "\n",
    "data = []\n",
    "\n",
    "for row in table_row:\n",
    "\n",
    "    row_data = {}\n",
    "    for td in row.find_all('td'):\n",
    "        stat_type = td['data-col']\n",
    "        stat = td.find('span')\n",
    "        stat_value = stat.text\n",
    "        if '-' in stat_value:\n",
    "            stat_value = None\n",
    "        if stat_type != '0':\n",
    "            row_data[headers[stat_type]] = stat_value\n",
    "    \n",
    "    if row_data:\n",
    "        data.append(row_data)\n"
   ]
  },
  {
   "cell_type": "markdown",
   "metadata": {},
   "source": [
    "Set Streak Averages to Appropriate Variable :(:(:(:L(:(\n",
    "\n",
    "FIX THIS!!! LITERALLY EVERYTHING ABOUT IT\n",
    "FIX HOW TO COMPUTE AVERAGES\n",
    "FIX HOW TO DEAL WITH THIS WHEN DATA DOESN'T EXIST\n",
    "DETERMINE WHEN TO PULL HISTORICAL DATA OR MOST RECENT DATA\n",
    "DETERMINE HOW TO PULL HISTORICAL DATA AND FROM WHERE\n",
    "DEAL WITH THE FUCKING DIVIDE BY 0\n",
    "THIS WHOLE CELL MAKES MY EYES HURT "
   ]
  },
  {
   "cell_type": "code",
   "execution_count": null,
   "metadata": {},
   "outputs": [
    {
     "name": "stdout",
     "output_type": "stream",
     "text": [
      "   ab_last_7  h_last_7  r_last_7  rbi_last_7  hr_last_7  bb_last_7  k_last_7  \\\n",
      "0        4.0     0.857     0.286       0.714      0.286      0.429     1.571   \n",
      "\n",
      "   ba_last_7  obp_last_7  slg_last_7  ...  ab_last_30  h_last_30  r_last_30  \\\n",
      "0      0.214        0.29       0.429  ...         3.9        1.2        0.6   \n",
      "\n",
      "   rbi_last_30  hr_last_30  bb_last_30  k_last_30  ba_last_30  obp_last_30  \\\n",
      "0        0.733       0.267       0.433      1.067       0.308        0.382   \n",
      "\n",
      "   slg_last_30  \n",
      "0        0.556  \n",
      "\n",
      "[1 rows x 30 columns]\n"
     ]
    }
   ],
   "source": [
    "last_7_data = data[0]\n",
    "last_15_data = data[1]\n",
    "last_30_data = data[2]\n",
    "\n",
    "last_7_stats = {}\n",
    "last_15_stats = {}\n",
    "last_30_stats = {}\n",
    "\n",
    "if last_7_data:\n",
    "\n",
    "    last_7_stats['ab_last_7'] = round((int(last_7_data['AB']) / 7 ), 3)\n",
    "    last_7_stats['h_last_7'] = round((int(last_7_data['H']) / 7 ), 3)\n",
    "    last_7_stats['r_last_7'] = round((int(last_7_data['R']) / 7 ), 3)\n",
    "    last_7_stats['rbi_last_7'] = round((int(last_7_data['RBI']) / 7 ), 3)\n",
    "    last_7_stats['hr_last_7'] = round((int(last_7_data['HR']) / 7 ), 3)\n",
    "    last_7_stats['bb_last_7'] = round((int(last_7_data['BB']) / 7 ), 3)\n",
    "    last_7_stats['k_last_7'] = round((int(last_7_data['SO']) / 7 ), 3)\n",
    "    last_7_stats['ba_last_7'] = float(last_7_data['AVG'])\n",
    "    last_7_stats['obp_last_7'] = float(last_7_data['OBP'])\n",
    "    last_7_stats['slg_last_7'] = float(last_7_data['SLG'])\n",
    "    last_7_df = pd.DataFrame([last_7_stats])\n",
    "\n",
    "    if last_15_data:\n",
    "\n",
    "        last_15_stats['ab_last_15'] = round((int(last_15_data['AB']) / 15 ), 3)\n",
    "        last_15_stats['h_last_15'] = round((int(last_15_data['H']) / 15 ), 3)\n",
    "        last_15_stats['r_last_15'] = round((int(last_15_data['R']) / 15 ), 3)\n",
    "        last_15_stats['rbi_last_15'] = round((int(last_15_data['RBI']) / 15 ), 3)\n",
    "        last_15_stats['hr_last_15'] = round((int(last_15_data['HR']) / 15 ), 3)\n",
    "        last_15_stats['bb_last_15'] = round((int(last_15_data['BB']) / 15 ), 3)\n",
    "        last_15_stats['k_last_15'] = round((int(last_15_data['SO']) / 15 ), 3)\n",
    "        last_15_stats['ba_last_15'] = float(last_15_data['AVG'])\n",
    "        last_15_stats['obp_last_15'] = float(last_15_data['OBP'])\n",
    "        last_15_stats['slg_last_15'] = float(last_15_data['SLG'])\n",
    "        last_15_df = pd.DataFrame([last_15_stats])\n",
    "\n",
    "        if last_30_data:\n",
    "\n",
    "            last_30_stats['ab_last_30'] = round((int(last_30_data['AB']) / 30 ), 3)\n",
    "            last_30_stats['h_last_30'] = round((int(last_30_data['H']) / 30 ), 3)\n",
    "            last_30_stats['r_last_30'] = round((int(last_30_data['R']) / 30 ), 3)\n",
    "            last_30_stats['rbi_last_30'] = round((int(last_30_data['RBI']) / 30 ), 3)\n",
    "            last_30_stats['hr_last_30'] = round((int(last_30_data['HR']) / 30 ), 3)\n",
    "            last_30_stats['bb_last_30'] = round((int(last_30_data['BB']) / 30 ), 3)\n",
    "            last_30_stats['k_last_30'] = round((int(last_30_data['SO']) / 30 ), 3)\n",
    "            last_30_stats['ba_last_30'] = float(last_30_data['AVG'])\n",
    "            last_30_stats['obp_last_30'] = float(last_30_data['OBP'])\n",
    "            last_30_stats['slg_last_30'] = float(last_30_data['SLG'])\n",
    "            last_30_df = pd.DataFrame([last_30_stats])\n",
    "            streak_data_df = pd.concat([last_7_df, last_15_df, last_30_df], axis=1)\n",
    "        \n",
    "        else:\n",
    "            streak_data_df = pd.concat([last_7_df, last_15_df], axis=1)\n",
    "    \n",
    "    else:\n",
    "        streak_data_df = last_7_df\n",
    "\n",
    "else:\n",
    "    streak_data_df = None\n",
    "\n",
    "\n",
    "print(streak_data_df)"
   ]
  },
  {
   "cell_type": "markdown",
   "metadata": {},
   "source": [
    "Fetch Historical Streak Averages "
   ]
  },
  {
   "cell_type": "code",
   "execution_count": null,
   "metadata": {},
   "outputs": [],
   "source": []
  },
  {
   "cell_type": "markdown",
   "metadata": {},
   "source": [
    "Fetch Batter Season Averages \n",
    "\n",
    "Initial Statistical Significant # of Games Played: 15\n",
    "If a player has not yet played 15 games in the current season:\n",
    "\n",
    "    If they have stats from previous seasons, use those.\n",
    "    If they are rookies, resort to 'None'\n",
    "    Always default to 'None'"
   ]
  },
  {
   "cell_type": "code",
   "execution_count": null,
   "metadata": {},
   "outputs": [
    {
     "name": "stdout",
     "output_type": "stream",
     "text": [
      "   ab_per_game  h_per_game  r_per_game  rbi_per_game  hr_per_game  \\\n",
      "0        3.983       1.283         0.7         0.667         0.25   \n",
      "\n",
      "   bb_per_game  k_per_game  tb_per_game ba_szn obp_szn slg_szn  \n",
      "0         0.45        0.95        2.383   .322    .390    .598  \n"
     ]
    }
   ],
   "source": [
    "season_info = api.player_stat_data(personId=player_id, group='[hitting]', type='yearByYear', sportId=1)\n",
    "previous_year = year - 1\n",
    "season_data = None\n",
    "season_stats = {}\n",
    "\n",
    "for season in season_info['stats']:\n",
    "    if int(season['season']) == year:\n",
    "        season_data = season['stats']\n",
    "        break\n",
    "\n",
    "if season_data is None or season_data['gamesPlayed'] < 5:\n",
    "    for season in season_info['stats']:\n",
    "        if int(season['season']) == previous_year:\n",
    "            season_data = season['stats']\n",
    "            break\n",
    "\n",
    "\n",
    "if season_data is None:\n",
    "    season_stats = {\n",
    "        'ab_per_game': None,\n",
    "        'h_per_game': None,\n",
    "        'r_per_game': None,\n",
    "        'rbi_per_game': None,\n",
    "        'hr_per_game': None,\n",
    "        'bb_per_game': None,\n",
    "        'k_per_game': None,\n",
    "        'tb_per_game': None,\n",
    "        'ba_szn': None,\n",
    "        'obp_szn': None,\n",
    "        'slg_szn': None\n",
    "    }\n",
    "\n",
    "else:\n",
    "    games_played = season_data['gamesPlayed']\n",
    "    \n",
    "    season_stats['ab_per_game'] = round((season_data['atBats'] / games_played), 3)\n",
    "    season_stats['h_per_game'] = round((season_data['hits'] / games_played), 3)\n",
    "    season_stats['r_per_game'] = round((season_data['runs'] / games_played), 3)\n",
    "    season_stats['rbi_per_game'] = round((season_data['rbi'] / games_played), 3)\n",
    "    season_stats['hr_per_game'] = round((season_data['homeRuns'] / games_played), 3)\n",
    "    season_stats['bb_per_game'] = round((season_data['baseOnBalls'] / games_played), 3)\n",
    "    season_stats['k_per_game'] = round((season_data['strikeOuts'] / games_played), 3)\n",
    "    season_stats['tb_per_game'] = round((season_data['totalBases'] / games_played), 3)\n",
    "    season_stats['ba_szn'] = season_data['avg']\n",
    "    season_stats['obp_szn'] = season_data['obp']\n",
    "    season_stats['slg_szn'] = season_data['slg']\n",
    "\n",
    "\n",
    "season_stats_df = pd.DataFrame([season_stats])\n",
    "\n",
    "print(season_stats_df)\n"
   ]
  },
  {
   "cell_type": "markdown",
   "metadata": {},
   "source": [
    "Merge Season Averages and Streak Data :(\n",
    "\n",
    "WHAT SHOULD I MERGE WHEN DATA DOESNT EXIST\n",
    "HOW TO MERGE \n",
    "not too bad will fix itself\n",
    "\n"
   ]
  },
  {
   "cell_type": "code",
   "execution_count": null,
   "metadata": {},
   "outputs": [
    {
     "name": "stdout",
     "output_type": "stream",
     "text": [
      "   ab_last_7  h_last_7  r_last_7  rbi_last_7  hr_last_7  bb_last_7  k_last_7  \\\n",
      "0        4.0     0.857     0.286       0.714      0.286      0.429     1.571   \n",
      "\n",
      "   ba_last_7  obp_last_7  slg_last_7  ...  h_per_game  r_per_game  \\\n",
      "0      0.214        0.29       0.429  ...       1.283         0.7   \n",
      "\n",
      "   rbi_per_game  hr_per_game  bb_per_game  k_per_game  tb_per_game  ba_szn  \\\n",
      "0         0.667         0.25         0.45        0.95        2.383    .322   \n",
      "\n",
      "   obp_szn  slg_szn  \n",
      "0     .390     .598  \n",
      "\n",
      "[1 rows x 41 columns]\n"
     ]
    }
   ],
   "source": [
    "batter_season_stats_df = pd.concat([streak_data_df, season_stats_df], axis=1)\n",
    "\n",
    "print(batter_season_stats_df)"
   ]
  },
  {
   "cell_type": "markdown",
   "metadata": {},
   "source": [
    "Fetch Starting Pitcher Season Data :(\n",
    "\n",
    "DEAL WITH DIVIDE BY 0"
   ]
  },
  {
   "cell_type": "code",
   "execution_count": null,
   "metadata": {},
   "outputs": [
    {
     "name": "stdout",
     "output_type": "stream",
     "text": [
      "   sp_games_started  sp_pc_per_start  sp_ip_per_start  sp_h_per_start  \\\n",
      "0                11           80.818              5.1           4.091   \n",
      "\n",
      "   sp_r_per_start  sp_hr_per_start  sp_bb_per_start  sp_outs_per_start  \\\n",
      "0             2.0            0.545            1.364             15.364   \n",
      "\n",
      "   sp_k_per_start  sp_er_per_start sp_k_p sp_era sp_whip sp_baa sp_obpa  \\\n",
      "0           4.818            1.818   .680   3.20    1.07   .216    .269   \n",
      "\n",
      "  sp_slga  sp_pc_per_batter  \n",
      "0    .365             3.882  \n"
     ]
    }
   ],
   "source": [
    "season_info = api.player_stat_data(personId=sPitcher_id, group='[pitching]', type='yearByYear', sportId=1)\n",
    "\n",
    "for season in season_info['stats']:\n",
    "    if int(season['season']) == year:\n",
    "        season_data = season['stats']\n",
    "\n",
    "games_started = season_data['gamesStarted']\n",
    "\n",
    "sp_data = {}\n",
    "\n",
    "sp_data['sp_games_started'] = games_started\n",
    "sp_data['sp_pc_per_start'] = round((season_data['numberOfPitches'] / games_started), 3)\n",
    "sp_data['sp_ip_per_start'] = round((float(season_data['inningsPitched']) / games_started), 3)\n",
    "sp_data['sp_h_per_start'] = round((season_data['hits'] / games_started), 3)\n",
    "sp_data['sp_r_per_start'] = round((season_data['runs'] / games_started), 3)\n",
    "sp_data['sp_hr_per_start'] = round((season_data['homeRuns'] / games_started), 3)\n",
    "sp_data['sp_bb_per_start'] = round((season_data['baseOnBalls'] / games_started), 3)\n",
    "sp_data['sp_outs_per_start'] = round((season_data['outs'] / games_started), 3)\n",
    "sp_data['sp_k_per_start'] = round((season_data['strikeOuts'] / games_started), 3)\n",
    "sp_data['sp_er_per_start'] = round((season_data['earnedRuns'] / games_started), 3)\n",
    "sp_data['sp_k_p'] = season_data['strikePercentage']\n",
    "sp_data['sp_era'] = season_data['era']\n",
    "sp_data['sp_whip'] = season_data['whip']\n",
    "sp_data['sp_baa'] = season_data['avg']\n",
    "sp_data['sp_obpa'] = season_data['obp']\n",
    "sp_data['sp_slga'] = season_data['slg']\n",
    "sp_data['sp_pc_per_batter'] = round((season_data['numberOfPitches']) / season_data['battersFaced'], 3)\n",
    "\n",
    "sp_data_df = pd.DataFrame([sp_data])\n",
    "\n",
    "print(sp_data_df)\n"
   ]
  },
  {
   "cell_type": "markdown",
   "metadata": {},
   "source": [
    "Format Batter vs Starting Pitcher URL :P"
   ]
  },
  {
   "cell_type": "code",
   "execution_count": null,
   "metadata": {},
   "outputs": [],
   "source": [
    "formatted_batter_name = player_name.replace(' ', '%20')\n",
    "\n",
    "bvp_url = f'https://baseballsavant.mlb.com/illustrator?playerId={player_id}&playerType=batter&name={formatted_batter_name}&tabSelection=0&shape=square&shapeName=Square%20(Instagram)&subTitle=&chartType=zoneChart-totalPitches&chartName=Zone%20-%20Total%20Pitches&pitcherThrows=&batterStands=&plateAppearanceResults=[]&pitchTypes=[]&seasonType=[%22R%22]&pitchResults=[]&facingPlayer=[%22{sPitcher_id}%22]&balls=[]&battedBallType=[]&years=[{year}]&strikes=[]&outs=[]&selectedGames=[]&homeTeam=[]&awayTeam=[]&vsTeam=[]&exitVelocityGT=0&exitVelocityLT=125&pitchVelocityGT=0&pitchVelocityLT=105&launchAngleGT=-90&launchAngleLT=90&perspective=catcher&venue=7'"
   ]
  },
  {
   "cell_type": "markdown",
   "metadata": {},
   "source": [
    "Fetch Batter vs Starting Pitcher Stats :(\n",
    "\n",
    "DEAL WITH DIVIDE BY 0\n",
    "WHAT IF DATA DOESN\"T EXIST YET???"
   ]
  },
  {
   "cell_type": "code",
   "execution_count": null,
   "metadata": {},
   "outputs": [
    {
     "name": "stdout",
     "output_type": "stream",
     "text": [
      "   vs_sp_pa  vs_sp_p_per_pa  vs_sp_h_per_pa  vs_sp_hr_per_pa  vs_sp_k_per_pa  \\\n",
      "0         5             5.4             0.2              0.0             0.4   \n",
      "\n",
      "   vs_sp_ba_per_pa  vs_sp_k_p  \n",
      "0              0.2        0.4  \n"
     ]
    }
   ],
   "source": [
    "bvp_raw_data = {}\n",
    "bvp_data = {}\n",
    "\n",
    "service = Service(ChromeDriverManager().install())\n",
    "driver = webdriver.Chrome(service=service)\n",
    "\n",
    "driver.get(bvp_url)\n",
    "\n",
    "driver.implicitly_wait(10)\n",
    "\n",
    "stats_boxes = driver.find_elements(By.CLASS_NAME, 'stats-box')\n",
    "\n",
    "for stats_box in stats_boxes:\n",
    "    stat_type = stats_box.find_element(By.CLASS_NAME, 'stats-title')\n",
    "    stat_value = stats_box.find_element(By.CLASS_NAME, 'stats-value')\n",
    "    bvp_raw_data[stat_type.text] = stat_value.text\n",
    "\n",
    "\n",
    "driver.quit()\n",
    "\n",
    "bvp_data['vs_sp_pa'] = int(bvp_raw_data['PA'])\n",
    "bvp_data['vs_sp_p_per_pa'] = round((int(bvp_raw_data['Pitches']) / bvp_data['vs_sp_pa']), 3)\n",
    "bvp_data['vs_sp_h_per_pa'] = round((int(bvp_raw_data['H']) / bvp_data['vs_sp_pa']), 3)\n",
    "bvp_data['vs_sp_hr_per_pa'] = round((int(bvp_raw_data['HR']) / bvp_data['vs_sp_pa']), 3)\n",
    "bvp_data['vs_sp_k_per_pa'] = round((int(bvp_raw_data['SO']) / bvp_data['vs_sp_pa']), 3)\n",
    "bvp_data['vs_sp_ba_per_pa'] = float(bvp_raw_data['AVG'])\n",
    "bvp_data['vs_sp_k_p'] = round((float(bvp_raw_data['K%']) / 100), 3)\n",
    "\n",
    "bvp_data_df = pd.DataFrame([bvp_data])\n",
    "\n",
    "print(bvp_data_df)\n",
    "\n"
   ]
  },
  {
   "cell_type": "markdown",
   "metadata": {},
   "source": [
    "Merge Pitcher data and BvP data :(\n",
    "\n",
    "should fix itself at some point"
   ]
  },
  {
   "cell_type": "code",
   "execution_count": null,
   "metadata": {},
   "outputs": [
    {
     "name": "stdout",
     "output_type": "stream",
     "text": [
      "   sp_games_started  sp_pc_per_start  sp_ip_per_start  sp_h_per_start  \\\n",
      "0                11           80.818              5.1           4.091   \n",
      "\n",
      "   sp_r_per_start  sp_hr_per_start  sp_bb_per_start  sp_outs_per_start  \\\n",
      "0             2.0            0.545            1.364             15.364   \n",
      "\n",
      "   sp_k_per_start  sp_er_per_start  ... sp_obpa sp_slga sp_pc_per_batter  \\\n",
      "0           4.818            1.818  ...    .269    .365            3.882   \n",
      "\n",
      "  vs_sp_pa vs_sp_p_per_pa vs_sp_h_per_pa  vs_sp_hr_per_pa  vs_sp_k_per_pa  \\\n",
      "0        5            5.4            0.2              0.0             0.4   \n",
      "\n",
      "   vs_sp_ba_per_pa  vs_sp_k_p  \n",
      "0              0.2        0.4  \n",
      "\n",
      "[1 rows x 24 columns]\n"
     ]
    }
   ],
   "source": [
    "sPitcher_stats_df = pd.concat([sp_data_df, bvp_data_df], axis=1)\n",
    "\n",
    "print(sPitcher_stats_df)"
   ]
  },
  {
   "cell_type": "markdown",
   "metadata": {},
   "source": [
    "Format URL for Batter vs Opp Data\n",
    "- If batter has not yet playyed Opp, omit this section from the stats.\n",
    "- Otherwise, provide per game data for Opp."
   ]
  },
  {
   "cell_type": "code",
   "execution_count": null,
   "metadata": {},
   "outputs": [],
   "source": []
  },
  {
   "cell_type": "markdown",
   "metadata": {},
   "source": [
    "Fetch Batter vs Opp Stats"
   ]
  },
  {
   "cell_type": "code",
   "execution_count": null,
   "metadata": {},
   "outputs": [],
   "source": []
  },
  {
   "cell_type": "markdown",
   "metadata": {},
   "source": [
    "Fetch Umpire Stats\n",
    "- If Home Plate Ump announced\n",
    "    - Return data for only HP ump \n",
    "- If Home Plate Ump not yet announced\n",
    "    - Fetch data for all 4 umps\n",
    "    - hp_ump stats = avg of 4 umps stats"
   ]
  },
  {
   "cell_type": "code",
   "execution_count": null,
   "metadata": {},
   "outputs": [],
   "source": []
  },
  {
   "cell_type": "markdown",
   "metadata": {},
   "source": [
    "Fetch Venue Stats *WIP"
   ]
  },
  {
   "cell_type": "code",
   "execution_count": null,
   "metadata": {},
   "outputs": [],
   "source": []
  }
 ],
 "metadata": {
  "kernelspec": {
   "display_name": "venv",
   "language": "python",
   "name": "python3"
  },
  "language_info": {
   "codemirror_mode": {
    "name": "ipython",
    "version": 3
   },
   "file_extension": ".py",
   "mimetype": "text/x-python",
   "name": "python",
   "nbconvert_exporter": "python",
   "pygments_lexer": "ipython3",
   "version": "3.12.3"
  }
 },
 "nbformat": 4,
 "nbformat_minor": 2
}
