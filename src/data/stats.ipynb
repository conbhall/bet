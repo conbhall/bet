{
 "cells": [
  {
   "cell_type": "markdown",
   "metadata": {},
   "source": [
    "Import Necessary Libraries"
   ]
  },
  {
   "cell_type": "code",
   "execution_count": 546,
   "metadata": {},
   "outputs": [],
   "source": [
    "import statsapi as api\n",
    "import pandas as pd\n",
    "import tempfile\n",
    "import os\n",
    "import re\n",
    "import requests\n",
    "from bs4 import BeautifulSoup, Comment\n"
   ]
  },
  {
   "cell_type": "markdown",
   "metadata": {},
   "source": [
    "Input Player Name and Year"
   ]
  },
  {
   "cell_type": "code",
   "execution_count": 547,
   "metadata": {},
   "outputs": [],
   "source": [
    "first_name = input(\"Enter Player First Name: \")\n",
    "last_name = input('Enter Player Last Name: ')\n",
    "year = input(f'Enter Year: ')\n",
    "player_name = f'{first_name.lower()} {last_name.lower()}'\n"
   ]
  },
  {
   "cell_type": "markdown",
   "metadata": {},
   "source": [
    "fetch player_id "
   ]
  },
  {
   "cell_type": "code",
   "execution_count": 548,
   "metadata": {},
   "outputs": [
    {
     "name": "stdout",
     "output_type": "stream",
     "text": [
      "661388\n",
      "158\n"
     ]
    }
   ],
   "source": [
    "player_info = api.lookup_player(player_name, season=year)\n",
    "player_id = player_info[0]['id']\n",
    "team_id = player_info[0]['currentTeam']['id']\n",
    "print(player_id)\n",
    "print(team_id)"
   ]
  },
  {
   "cell_type": "markdown",
   "metadata": {},
   "source": [
    "Gather Player hand"
   ]
  },
  {
   "cell_type": "code",
   "execution_count": 549,
   "metadata": {},
   "outputs": [
    {
     "name": "stdout",
     "output_type": "stream",
     "text": [
      "R\n"
     ]
    }
   ],
   "source": [
    "person_info = api.get('people',{'personIds':player_id, 'season':year,'sportId':1})\n",
    "batter_hand = person_info['people'][0]['batSide']['code']\n",
    "print(batter_hand)"
   ]
  },
  {
   "cell_type": "markdown",
   "metadata": {},
   "source": [
    "fetch game_pk, home, opp_id, venue_id, sPitcher_id, sPitcher_hand"
   ]
  },
  {
   "cell_type": "code",
   "execution_count": 550,
   "metadata": {},
   "outputs": [
    {
     "name": "stdout",
     "output_type": "stream",
     "text": [
      "True\n",
      "745190\n",
      "138\n",
      "571945\n",
      "R\n",
      "2889\n",
      "False\n"
     ]
    }
   ],
   "source": [
    "date = '2024-04-20'\n",
    "game_info = api.schedule(date=date,team=team_id,sportId=1)\n",
    "game_pk = game_info[0]['game_id']\n",
    "home_team_id = game_info[0]['home_id']\n",
    "if home_team_id == team_id:\n",
    "    home = True\n",
    "    opp_id = game_info[0]['away_id']\n",
    "    sPitcher_name = game_info[0]['away_probable_pitcher']\n",
    "else:\n",
    "    home = False\n",
    "    opp_id = game_info[0]['home_id']\n",
    "    sPitcher_name = game_info[0]['home_probable_pitcher']\n",
    "\n",
    "sPitcher_info = api.lookup_player(sPitcher_name)\n",
    "sPitcher_id = sPitcher_info[0]['id']\n",
    "sPitcher_info_2 = api.get('people',{'personIds':sPitcher_id, 'season':year,'sportId':1})\n",
    "sPitcher_hand = sPitcher_info_2['people'][0]['pitchHand']['code']\n",
    "\n",
    "venue_id = game_info[0]['venue_id']\n",
    "\n",
    "if game_info[0]['status'] == 'Final':\n",
    "    game_status = True\n",
    "else:\n",
    "    game_status = False\n",
    "\n",
    "print(game_status)\n",
    "print(game_pk)\n",
    "print(opp_id)\n",
    "print(sPitcher_id)\n",
    "print(sPitcher_hand)\n",
    "print(venue_id)\n",
    "print(home)"
   ]
  },
  {
   "cell_type": "markdown",
   "metadata": {},
   "source": [
    "fetch player game stats: temp, wind_speed, hp_ump_id, game_time. Fetch list of proj_ump_ids if Home Plate Umpire not yet specified "
   ]
  },
  {
   "cell_type": "code",
   "execution_count": 551,
   "metadata": {},
   "outputs": [
    {
     "name": "stdout",
     "output_type": "stream",
     "text": [
      "427413\n",
      "58\n",
      "11\n",
      "1:16 PM.\n"
     ]
    }
   ],
   "source": [
    "game_boxscore_info = api.boxscore_data(gamePk=game_pk)\n",
    "\n",
    "for x in game_boxscore_info['gameBoxInfo']:\n",
    "    if x.get('label') == 'Weather':\n",
    "        temp_info = x['value']\n",
    "        temps = re.findall(r'\\d+', temp_info)\n",
    "        if temps:\n",
    "            temp = int(temps[0])\n",
    "\n",
    "    if x.get('label') == 'Wind':\n",
    "        wind_speed_info = x['value']\n",
    "        winds = re.findall(r'\\d+', wind_speed_info)\n",
    "        if winds:\n",
    "            wind_speed = int(winds[0])\n",
    "\n",
    "    if x.get('label') == 'First pitch':\n",
    "        game_time = x['value']\n",
    "\n",
    "    if x.get('label') == 'Umpires':\n",
    "        ump_info = x['value']\n",
    "        if 'HP:' in ump_info:\n",
    "            pattern = r'HP: (.*?)\\.'\n",
    "            match = re.search(pattern, ump_info)\n",
    "            if match:\n",
    "                hp_ump = match.group(1)\n",
    "                hp_ump_info = api.get('jobs_umpires', {})\n",
    "                for person in hp_ump_info['roster']:\n",
    "                    if person['person'].get('fullName') == hp_ump:\n",
    "                        hp_ump_id = person['person'].get('id')\n",
    "                        print(hp_ump_id)\n",
    "\n",
    "        else:\n",
    "            umps = re.findall(r'[\\w\\s]+', ump_info)\n",
    "            umps = [ump.strip() for ump in umps if ump.strip]\n",
    "            ump_list = list(umps) + [None]*(4-len(umps))\n",
    "            umps_tuple = tuple(ump_list[:4])\n",
    "            proj_ump_ids = []\n",
    "            for ump in umps_tuple:\n",
    "                ump_info = api.get('jobs_umpires',{})\n",
    "                for person in ump_info['roster']:\n",
    "                    if person['person'].get('fullName') == ump:\n",
    "                        ump_id = person['person'].get('id')\n",
    "                        proj_ump_ids.append(ump_id)\n",
    "            print(proj_ump_ids)\n",
    "\n",
    "            \n",
    "\n",
    "print(temp)\n",
    "print(wind_speed)\n",
    "print(game_time)\n"
   ]
  },
  {
   "cell_type": "markdown",
   "metadata": {},
   "source": [
    "fetch player game data: \n",
    "- batting position"
   ]
  },
  {
   "cell_type": "code",
   "execution_count": 552,
   "metadata": {},
   "outputs": [
    {
     "name": "stdout",
     "output_type": "stream",
     "text": [
      "2\n"
     ]
    }
   ],
   "source": [
    "game_content = api.boxscore_data(gamePk=game_pk)\n",
    "if home == True:\n",
    "    batters_info = game_content['homeBatters']\n",
    "else:\n",
    "    batters_info = game_content['awayBatters']\n",
    "\n",
    "for batter in batters_info:\n",
    "    if batter.get('personId') == player_id:\n",
    "        batting_position = int(batter.get('battingOrder')[0])\n",
    "        print (batting_position)\n"
   ]
  },
  {
   "cell_type": "markdown",
   "metadata": {},
   "source": [
    "fetch game player stats\n",
    "- If game_status == True\n",
    "    - gather player stats\n",
    "- If game_status == False\n",
    "    - set player stats to None"
   ]
  },
  {
   "cell_type": "code",
   "execution_count": 553,
   "metadata": {},
   "outputs": [
    {
     "name": "stdout",
     "output_type": "stream",
     "text": [
      "ab: 6\n",
      "h: 3\n",
      "r: 2\n",
      "rbi: 1\n",
      "hr: 0\n",
      "k: 1\n",
      "bb: 0\n"
     ]
    }
   ],
   "source": [
    "if game_status == True:\n",
    "    game_stats_info = api.get('person_stats',{'personId':player_id,'gamePk':game_pk})\n",
    "    game_stats = game_stats_info['stats'][0]['splits'][2]['stat']\n",
    "    ab = game_stats.get('atBats')\n",
    "    h = game_stats.get('hits')\n",
    "    r = game_stats.get('runs')\n",
    "    rbi = game_stats.get('rbi')\n",
    "    hr = game_stats.get('homeRuns')\n",
    "    k = game_stats.get('strikeOuts')\n",
    "    bb = game_stats.get('baseOnBalls')\n",
    "\n",
    "else:\n",
    "    ab = None\n",
    "    h = None\n",
    "    r = None\n",
    "    rbi = None\n",
    "    hr = None\n",
    "    k = None\n",
    "    bb = None\n",
    "\n",
    "\n",
    "print(f'ab: {ab}')\n",
    "print(f'h: {h}')\n",
    "print(f'r: {r}')\n",
    "print(f'rbi: {rbi}')\n",
    "print(f'hr: {hr}')\n",
    "print(f'k: {k}')\n",
    "print(f'bb: {bb}')\n",
    "\n",
    "    "
   ]
  },
  {
   "cell_type": "markdown",
   "metadata": {},
   "source": [
    "Format player URL for finding streak averages"
   ]
  },
  {
   "cell_type": "code",
   "execution_count": 554,
   "metadata": {},
   "outputs": [
    {
     "name": "stdout",
     "output_type": "stream",
     "text": [
      "None\n"
     ]
    }
   ],
   "source": [
    "first_initial = last_name[0].lower()\n",
    "search_url = f'https://www.mlb.com/players#{first_initial}'\n",
    "\n",
    "response = requests.get(search_url)\n",
    "response.raise_for_status()\n",
    "\n",
    "soup = BeautifulSoup(response.content, 'html.parser')\n",
    "\n",
    "div = soup.find('div', id='players-index')\n",
    "\n",
    "if div:\n",
    "    player_links = div.find_next_sibling('div')\n",
    "\n",
    "print(player_links)\n",
    "\n",
    "\n",
    "\n"
   ]
  }
 ],
 "metadata": {
  "kernelspec": {
   "display_name": "venv",
   "language": "python",
   "name": "python3"
  },
  "language_info": {
   "codemirror_mode": {
    "name": "ipython",
    "version": 3
   },
   "file_extension": ".py",
   "mimetype": "text/x-python",
   "name": "python",
   "nbconvert_exporter": "python",
   "pygments_lexer": "ipython3",
   "version": "3.12.3"
  }
 },
 "nbformat": 4,
 "nbformat_minor": 2
}
