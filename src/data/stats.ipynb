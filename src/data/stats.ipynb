{
 "cells": [
  {
   "cell_type": "markdown",
   "metadata": {},
   "source": [
    "Import Necessary Libraries"
   ]
  },
  {
   "cell_type": "code",
   "execution_count": 904,
   "metadata": {},
   "outputs": [],
   "source": [
    "import statsapi as api\n",
    "import pandas as pd\n",
    "import tempfile\n",
    "import os\n",
    "import re\n",
    "import requests\n",
    "from bs4 import BeautifulSoup, SoupStrainer\n",
    "from selenium import webdriver\n",
    "from selenium.webdriver.common.by import By\n",
    "from selenium.webdriver.chrome.service import Service\n",
    "from webdriver_manager.chrome import ChromeDriverManager\n",
    "from datetime import date as d\n",
    "from datetime import timedelta"
   ]
  },
  {
   "cell_type": "markdown",
   "metadata": {},
   "source": [
    "Input Player Name and Date\n",
    "\n",
    "\n",
    "NEED TO CHECK AND FIX ALL CELLS: IF STATS FOR SOMETHING DO NOT EXIST NEED TO DEAL WITH THAT!\n",
    "\n",
    "ALSO NEED TO ENSURE CORRECT VALUES ARE PASSED IN FOR COMPUTING CORRECT VALUES\n",
    "\n",
    "NEED TO CHECK PLAYER AVG OVER X GAMES - NEED TO COMPUTE PLAYER AVG OVER LAST GAME FOR PAST SEASONS AS WELL\n",
    "\n",
    "NEED TO ENSURE THAT ALL DATA IS OF CORRECT TYPE, CORRECT VALUES, CORRECT YEARS, AND IF NONE NEEDS TO BE HANDLED\n",
    "\n",
    "FIX CURRENT SET UP FOR COMPUTING AVERAGES. SHIT IS BUGGY AS FUCK\n",
    "\n",
    "IF IT APPEARS TO BE GOOD: THERE WILL BE :P NEXT TO IT. IF NEEDS ADJUSTMENTS, VERIFICATION, OR REWORK, :( NEXT TO IT\n",
    "\n",
    "ESPECIALLY DECIDE HOW TO DEAL WITH EDGE CASES AND DIVISION BY 0.\n",
    "\n",
    "WALKS, HIT BY PITCH, AND SAC FLIES DO NOT COUNT AS AN AT BAT\n",
    "\n",
    "TOTAL BASES ARE ONLY BASES REACHED VIA HITS."
   ]
  },
  {
   "cell_type": "code",
   "execution_count": 905,
   "metadata": {},
   "outputs": [
    {
     "name": "stdout",
     "output_type": "stream",
     "text": [
      "2024\n"
     ]
    }
   ],
   "source": [
    "first_name = input(\"Enter Player First Name: \")\n",
    "last_name = input('Enter Player Last Name: ')\n",
    "#date = input('Enter Date: ')\n",
    "date = '2024-06-04'\n",
    "year = int(date[:4])\n",
    "last_year = year - 1\n",
    "print(year)\n",
    "player_name = f'{first_name.lower()} {last_name.lower()}'\n"
   ]
  },
  {
   "cell_type": "markdown",
   "metadata": {},
   "source": [
    "fetch player_id :P"
   ]
  },
  {
   "cell_type": "code",
   "execution_count": 906,
   "metadata": {},
   "outputs": [
    {
     "name": "stdout",
     "output_type": "stream",
     "text": [
      "660271\n",
      "119\n"
     ]
    }
   ],
   "source": [
    "player_info = api.lookup_player(player_name, season=year)\n",
    "player_id = player_info[0]['id']\n",
    "team_id = player_info[0]['currentTeam']['id']\n",
    "print(player_id)\n",
    "print(team_id)"
   ]
  },
  {
   "cell_type": "markdown",
   "metadata": {},
   "source": [
    "Gather batter_hand, batter_age, , batter_strike_zone_top, batter_strike_zone_bottom :P"
   ]
  },
  {
   "cell_type": "code",
   "execution_count": 907,
   "metadata": {},
   "outputs": [
    {
     "name": "stdout",
     "output_type": "stream",
     "text": [
      "29\n",
      "6\n",
      "L\n",
      "3.5\n",
      "1.59\n"
     ]
    }
   ],
   "source": [
    "person_info = api.get('people',{'personIds':player_id, 'season':year,'sportId':1})\n",
    "batter_hand = person_info['people'][0]['batSide']['code']\n",
    "batter_age = person_info['people'][0]['currentAge']\n",
    "batter_strike_zone_top = person_info['people'][0]['strikeZoneTop']\n",
    "batter_strike_zone_bottom = person_info['people'][0]['strikeZoneBottom']\n",
    "batter_starting_year = int(person_info['people'][0]['mlbDebutDate'][:4])\n",
    "batter_year = year - batter_starting_year\n",
    "\n",
    "\n",
    "print(batter_age)\n",
    "print(batter_year)\n",
    "print(batter_hand)\n",
    "print(batter_strike_zone_top)\n",
    "print(batter_strike_zone_bottom)"
   ]
  },
  {
   "cell_type": "markdown",
   "metadata": {},
   "source": [
    "fetch game_pk, home, opp_id, venue_id, sPitcher_id, sPitcher_hand :P"
   ]
  },
  {
   "cell_type": "code",
   "execution_count": 908,
   "metadata": {},
   "outputs": [
    {
     "name": "stdout",
     "output_type": "stream",
     "text": [
      "True\n",
      "745497\n",
      "134\n",
      "Jared Jones\n",
      "683003\n",
      "R\n",
      "31\n",
      "False\n"
     ]
    }
   ],
   "source": [
    "game_info = api.schedule(date=date,team=team_id,sportId=1)\n",
    "game_pk = game_info[0]['game_id']\n",
    "home_team_id = game_info[0]['home_id']\n",
    "if home_team_id == team_id:\n",
    "    home = True\n",
    "    opp_id = game_info[0]['away_id']\n",
    "    sPitcher_name = game_info[0]['away_probable_pitcher']\n",
    "else:\n",
    "    home = False\n",
    "    opp_id = game_info[0]['home_id']\n",
    "    sPitcher_name = game_info[0]['home_probable_pitcher']\n",
    "\n",
    "sPitcher_info = api.lookup_player(sPitcher_name)\n",
    "sPitcher_id = sPitcher_info[0]['id']\n",
    "sPitcher_info_2 = api.get('people',{'personIds':sPitcher_id, 'season':year,'sportId':1})\n",
    "sPitcher_hand = sPitcher_info_2['people'][0]['pitchHand']['code']\n",
    "\n",
    "venue_id = game_info[0]['venue_id']\n",
    "\n",
    "if game_info[0]['status'] == 'Final':\n",
    "    game_status = True\n",
    "else:\n",
    "    game_status = False\n",
    "\n",
    "print(game_status)\n",
    "print(game_pk)\n",
    "print(opp_id)\n",
    "print(sPitcher_name)\n",
    "print(sPitcher_id)\n",
    "print(sPitcher_hand)\n",
    "print(venue_id)\n",
    "print(home)"
   ]
  },
  {
   "cell_type": "markdown",
   "metadata": {},
   "source": [
    "fetch player game stats: temp, wind_speed, hp_ump_id, game_time. Fetch list of proj_ump_ids if Home Plate Umpire not yet specified :(\n",
    "\n",
    "What should happen when this data isnt uploaded yet?"
   ]
  },
  {
   "cell_type": "code",
   "execution_count": 909,
   "metadata": {},
   "outputs": [
    {
     "name": "stdout",
     "output_type": "stream",
     "text": [
      "605672\n",
      "80\n",
      "7\n",
      "6:42 PM.\n"
     ]
    }
   ],
   "source": [
    "game_boxscore_info = api.boxscore_data(gamePk=game_pk)\n",
    "\n",
    "temp = None\n",
    "wind_speed = None\n",
    "game_time = None\n",
    "\n",
    "for x in game_boxscore_info['gameBoxInfo']:\n",
    "    if x.get('label') == 'Weather':\n",
    "        temp_info = x['value']\n",
    "        temps = re.findall(r'\\d+', temp_info)\n",
    "        if temps:\n",
    "            temp = int(temps[0])\n",
    "            \n",
    "\n",
    "    if x.get('label') == 'Wind':\n",
    "        wind_speed_info = x['value']\n",
    "        winds = re.findall(r'\\d+', wind_speed_info)\n",
    "        if winds:\n",
    "            wind_speed = int(winds[0])\n",
    "            \n",
    "\n",
    "    if x.get('label') == 'First pitch':\n",
    "        game_time = x['value']\n",
    "        \n",
    "\n",
    "    if x.get('label') == 'Umpires':\n",
    "        ump_info = x['value']\n",
    "        if 'HP:' in ump_info:\n",
    "            pattern = r'HP: (.*?)\\.'\n",
    "            match = re.search(pattern, ump_info)\n",
    "            if match:\n",
    "                hp_ump = match.group(1)\n",
    "                hp_ump_info = api.get('jobs_umpires', {})\n",
    "                for person in hp_ump_info['roster']:\n",
    "                    if person['person'].get('fullName') == hp_ump:\n",
    "                        hp_ump_id = person['person'].get('id')\n",
    "                        print(hp_ump_id)\n",
    "\n",
    "        else:\n",
    "            umps = re.findall(r'[\\w\\s]+', ump_info)\n",
    "            umps = [ump.strip() for ump in umps if ump.strip]\n",
    "            ump_list = list(umps) + [None]*(4-len(umps))\n",
    "            umps_tuple = tuple(ump_list[:4])\n",
    "            proj_ump_ids = []\n",
    "            for ump in umps_tuple:\n",
    "                ump_info = api.get('jobs_umpires',{})\n",
    "                for person in ump_info['roster']:\n",
    "                    if person['person'].get('fullName') == ump:\n",
    "                        ump_id = person['person'].get('id')\n",
    "                        proj_ump_ids.append(ump_id)\n",
    "            print(proj_ump_ids)\n",
    "\n",
    "print(temp)\n",
    "print(wind_speed)\n",
    "print(game_time)\n",
    "\n"
   ]
  },
  {
   "cell_type": "markdown",
   "metadata": {},
   "source": [
    "fetch player game data: :P\n",
    "- batting position"
   ]
  },
  {
   "cell_type": "code",
   "execution_count": 910,
   "metadata": {},
   "outputs": [
    {
     "name": "stdout",
     "output_type": "stream",
     "text": [
      "2\n"
     ]
    }
   ],
   "source": [
    "game_content = api.boxscore_data(gamePk=game_pk)\n",
    "if home == True:\n",
    "    batters_info = game_content['homeBatters']\n",
    "else:\n",
    "    batters_info = game_content['awayBatters']\n",
    "\n",
    "batting_position = None\n",
    "\n",
    "for batter in batters_info:\n",
    "    if batter.get('personId') == player_id:\n",
    "        batting_position = int(batter.get('battingOrder')[0])\n",
    "\n",
    "print (batting_position)"
   ]
  },
  {
   "cell_type": "markdown",
   "metadata": {},
   "source": [
    "fetch game player stats :P\n",
    "- If game_status == True\n",
    "    - gather player stats\n",
    "- If game_status == False\n",
    "    - set player stats to None"
   ]
  },
  {
   "cell_type": "code",
   "execution_count": 911,
   "metadata": {},
   "outputs": [
    {
     "name": "stdout",
     "output_type": "stream",
     "text": [
      "ab: 4\n",
      "h: 1\n",
      "r: 0\n",
      "rbi: 0\n",
      "hr: 0\n",
      "tb: 1\n",
      "k: 2\n",
      "bb: 0\n"
     ]
    }
   ],
   "source": [
    "if game_status == True:\n",
    "    game_stats_info = api.get('person_stats',{'personId':player_id,'gamePk':game_pk})\n",
    "    game_stats = game_stats_info['stats'][0]['splits'][2]['stat']\n",
    "    ab = game_stats.get('atBats')\n",
    "    h = game_stats.get('hits')\n",
    "    r = game_stats.get('runs')\n",
    "    rbi = game_stats.get('rbi')\n",
    "    hr = game_stats.get('homeRuns')\n",
    "    tb = game_stats.get('totalBases')\n",
    "    k = game_stats.get('strikeOuts')\n",
    "    bb = game_stats.get('baseOnBalls')\n",
    "\n",
    "else:\n",
    "    ab = None\n",
    "    h = None\n",
    "    r = None\n",
    "    rbi = None\n",
    "    hr = None\n",
    "    tb = None\n",
    "    k = None\n",
    "    bb = None\n",
    "\n",
    "\n",
    "print(f'ab: {ab}')\n",
    "print(f'h: {h}')\n",
    "print(f'r: {r}')\n",
    "print(f'rbi: {rbi}')\n",
    "print(f'hr: {hr}')\n",
    "print(f'tb: {tb}')\n",
    "print(f'k: {k}')\n",
    "print(f'bb: {bb}')\n"
   ]
  },
  {
   "cell_type": "markdown",
   "metadata": {},
   "source": [
    "Determine Whether Most Recent Streak Averages, or Historical Streak Averages are Needed for Player"
   ]
  },
  {
   "cell_type": "markdown",
   "metadata": {},
   "source": [
    "Format Player URL for baseballreference.com"
   ]
  },
  {
   "cell_type": "code",
   "execution_count": 912,
   "metadata": {},
   "outputs": [
    {
     "name": "stdout",
     "output_type": "stream",
     "text": [
      "ohtansh01\n"
     ]
    }
   ],
   "source": [
    "initial = last_name[:1]\n",
    "\n",
    "full_name = f'{first_name} {last_name}'\n",
    "\n",
    "url = f'https://www.baseball-reference.com/players/{initial}/'\n",
    "headers = {'User_Agent': 'Mozilla/5.0'}\n",
    "\n",
    "response = requests.get(url, headers=headers)\n",
    "response.raise_for_status()\n",
    "\n",
    "soup = BeautifulSoup(response.content, 'html.parser')\n",
    "\n",
    "initial_section = soup.find('div', class_=\"section_content\", id=\"div_players_\")\n",
    "\n",
    "if initial_section:\n",
    "    active_players = initial_section.find_all('b')\n",
    "    for players in active_players:\n",
    "        player = players.find('a')\n",
    "        years_playing = players.get_text()[(len(players.get_text()) - 11):]\n",
    "        if full_name == player.get_text().lower():\n",
    "            start_year = int(years_playing[1:5])\n",
    "            end_year = year\n",
    "            if year in range(start_year, end_year + 1):\n",
    "                player_link = player['href']\n",
    "                formatted_player_key = player_link[11:20]\n",
    "\n",
    "print(formatted_player_key)"
   ]
  },
  {
   "cell_type": "markdown",
   "metadata": {},
   "source": [
    "Collect Data for Games Played Up to Desired Date\n",
    "    - For entirely current year, or entirely last year"
   ]
  },
  {
   "cell_type": "code",
   "execution_count": 913,
   "metadata": {},
   "outputs": [
    {
     "name": "stdout",
     "output_type": "stream",
     "text": [
      "    game_num   date_game  AB  H  R  RBI  2B  3B  HR  TB  BB  SO     BA    OBP  \\\n",
      "0          1  2024-03-20   5  2  0    1   0   0   0   2   0   0  0.400  0.400   \n",
      "1          2  2024-03-21   5  1  1    1   0   0   0   1   0   0  0.300  0.273   \n",
      "2          3  2024-03-28   3  2  1    0   1   0   0   3   1   1  0.385  0.400   \n",
      "3          4  2024-03-29   4  0  0    0   0   0   0   0   0   1  0.294  0.316   \n",
      "4          5  2024-03-30   5  1  1    0   0   0   0   1   1   2  0.273  0.320   \n",
      "5          6  2024-03-31   4  1  1    0   1   0   0   2   0   2  0.269  0.310   \n",
      "6          7  2024-04-01   4  1  1    1   1   0   0   2   0   1  0.267  0.303   \n",
      "7          8  2024-04-02   3  0  0    0   0   0   0   0   1   1  0.242  0.297   \n",
      "8          9  2024-04-03   4  2  2    1   0   0   1   5   0   1  0.270  0.317   \n",
      "9         10  2024-04-05   5  2  2    2   1   0   1   6   0   0  0.286  0.326   \n",
      "10        11  2024-04-06   4  2  1    0   0   0   0   2   1   1  0.304  0.353   \n",
      "11        12  2024-04-07   4  2  0    1   1   1   0   5   0   1  0.320  0.364   \n",
      "12        13  2024-04-08   5  3  2    1   2   0   1   8   0   1  0.345  0.383   \n",
      "13        14  2024-04-09   5  1  0    0   1   0   0   2   0   2  0.333  0.369   \n",
      "14        15  2024-04-10   3  1  0    0   0   0   0   1   1   0  0.333  0.377   \n",
      "15        16  2024-04-12   5  3  1    1   2   0   1   8   0   0  0.353  0.392   \n",
      "16        17  2024-04-13   2  0  0    1   0   0   0   0   2   0  0.343  0.392   \n",
      "17        18  2024-04-14   4  1  0    0   0   0   0   1   0   2  0.338  0.386   \n",
      "18        19  2024-04-15   3  1  2    0   0   0   0   1   0   1  0.338  0.384   \n",
      "19        20  2024-04-16   5  2  0    0   0   0   0   2   0   0  0.341  0.385   \n",
      "20        21  2024-04-17   4  3  0    0   0   0   0   3   0   0  0.360  0.400   \n",
      "21        22  2024-04-19   4  1  1    1   0   0   0   1   1   1  0.356  0.400   \n",
      "22        23  2024-04-20   2  1  1    0   1   0   0   2   3   1  0.359  0.419   \n",
      "23        24  2024-04-21   3  2  2    2   0   0   1   5   1   1  0.368  0.431   \n",
      "24        25  2024-04-23   4  1  1    1   0   0   1   4   1   0  0.364  0.430   \n",
      "25        26  2024-04-24   6  3  2    2   3   0   0   6   0   1  0.371  0.433   \n",
      "26        27  2024-04-25   4  0  0    0   0   0   0   0   0   2  0.358  0.419   \n",
      "27        28  2024-04-26   4  1  2    1   0   0   1   4   1   0  0.354  0.419   \n",
      "28        29  2024-04-27   5  1  0    1   0   0   0   1   0   1  0.347  0.410   \n",
      "29        30  2024-04-28   4  0  0    0   0   0   0   0   0   1  0.336  0.399   \n",
      "30        31  2024-04-29   4  2  1    1   0   0   0   2   1   0  0.341  0.406   \n",
      "31        32  2024-04-30   5  1  0    0   0   0   0   1   0   3  0.336  0.399   \n",
      "32        33  2024-05-03   3  1  1    1   0   0   0   1   2   1  0.336  0.405   \n",
      "33        34  2024-05-04   5  3  2    2   0   0   1   6   0   1  0.345  0.411   \n",
      "34        35  2024-05-05   4  4  2    3   0   0   2  10   0   0  0.364  0.426   \n",
      "35        36  2024-05-06   3  2  1    2   0   0   1   5   1   1  0.370  0.434   \n",
      "36        37  2024-05-07   2  0  1    0   0   0   0   0   2   0  0.365  0.435   \n",
      "37        38  2024-05-08   4  0  0    0   0   0   0   0   0   2  0.355  0.425   \n",
      "38        39  2024-05-10   4  2  0    0   1   0   0   3   0   1  0.359  0.427   \n",
      "39        40  2024-05-11   3  0  1    0   0   0   0   0   1   0  0.352  0.423   \n",
      "40        41  2024-05-13   5  2  0    1   0   0   0   2   0   2  0.354  0.422   \n",
      "41        42  2024-05-14   5  3  1    2   1   0   1   7   0   0  0.361  0.427   \n",
      "42        43  2024-05-15   4  2  0    0   0   0   0   2   1   2  0.364  0.431   \n",
      "43        44  2024-05-16   2  0  0    0   0   0   0   0   1   1  0.360  0.430   \n",
      "44        45  2024-05-17   4  1  2    2   0   0   1   4   0   1  0.358  0.426   \n",
      "45        46  2024-05-18   4  0  0    0   0   0   0   0   0   0  0.350  0.418   \n",
      "46        47  2024-05-19   4  2  0    1   0   0   0   2   0   1  0.353  0.423   \n",
      "47        48  2024-05-20   3  0  1    0   0   0   0   0   1   0  0.347  0.419   \n",
      "48        49  2024-05-21   4  2  2    1   1   0   0   3   0   1  0.351  0.421   \n",
      "49        50  2024-05-22   4  1  0    0   0   0   0   1   0   0  0.348  0.418   \n",
      "50        51  2024-05-24   5  0  0    1   0   0   0   0   0   0  0.340  0.409   \n",
      "51        52  2024-05-25   4  1  0    0   0   1   0   3   0   3  0.338  0.406   \n",
      "52        53  2024-05-26   4  1  1    0   0   0   0   1   0   1  0.336  0.403   \n",
      "53        54  2024-05-28   5  0  0    0   0   0   0   0   0   2  0.329  0.395   \n",
      "54        55  2024-05-29   5  2  1    3   0   0   1   5   0   1  0.330  0.395   \n",
      "55        56  2024-05-31   3  0  0    0   0   0   0   0   1   1  0.326  0.393   \n",
      "56        57  2024-06-01   3  1  0    0   0   0   0   1   1   1  0.326  0.395   \n",
      "57        58  2024-06-02   3  0  0    0   0   0   0   0   1   2  0.322  0.392   \n",
      "\n",
      "      SLG  HBP  \n",
      "0   0.400    0  \n",
      "1   0.300    0  \n",
      "2   0.462    0  \n",
      "3   0.353    0  \n",
      "4   0.318    0  \n",
      "5   0.346    0  \n",
      "6   0.367    0  \n",
      "7   0.333    0  \n",
      "8   0.432    0  \n",
      "9   0.524    0  \n",
      "10  0.522    0  \n",
      "11  0.580    0  \n",
      "12  0.673    0  \n",
      "13  0.650    0  \n",
      "14  0.635    0  \n",
      "15  0.706    0  \n",
      "16  0.686    0  \n",
      "17  0.662    0  \n",
      "18  0.649    0  \n",
      "19  0.634    0  \n",
      "20  0.640    0  \n",
      "21  0.622    0  \n",
      "22  0.630    0  \n",
      "23  0.663    0  \n",
      "24  0.677    0  \n",
      "25  0.695    0  \n",
      "26  0.670    0  \n",
      "27  0.681    0  \n",
      "28  0.661    0  \n",
      "29  0.639    0  \n",
      "30  0.635    0  \n",
      "31  0.618    0  \n",
      "32  0.612    0  \n",
      "33  0.633    0  \n",
      "34  0.685    0  \n",
      "35  0.705    0  \n",
      "36  0.696    0  \n",
      "37  0.678    0  \n",
      "38  0.679    0  \n",
      "39  0.667    0  \n",
      "40  0.659    0  \n",
      "41  0.680    0  \n",
      "42  0.676    0  \n",
      "43  0.669    0  \n",
      "44  0.676    0  \n",
      "45  0.661    0  \n",
      "46  0.658    1  \n",
      "47  0.647    0  \n",
      "48  0.649    0  \n",
      "49  0.641    0  \n",
      "50  0.626    0  \n",
      "51  0.628    0  \n",
      "52  0.621    0  \n",
      "53  0.606    0  \n",
      "54  0.615    0  \n",
      "55  0.607    0  \n",
      "56  0.604    0  \n",
      "57  0.596    0  \n"
     ]
    }
   ],
   "source": [
    "season_start_date = api.get('season', {'seasonId': year, 'sportId': 1})['seasons'][0]['regularSeasonStartDate']\n",
    "\n",
    "if date == season_start_date:\n",
    "    date = api.get('season', {'seasonId': last_year, 'sportId': 1})['seasons'][0]['postSeasonEndDate']\n",
    "    search_url = f'https://www.baseball-reference.com/players/gl.fcgi?id={formatted_player_key}&t=b&year={last_year}#batting_gamelogs'\n",
    "else:\n",
    "    search_url = f'https://www.baseball-reference.com/players/gl.fcgi?id={formatted_player_key}&t=b&year={year}#batting_gamelogs'\n",
    "\n",
    "day = int(date[8:10])\n",
    "month = int(date[5:7])\n",
    "\n",
    "date_dt = d(year, month, day)\n",
    "\n",
    "new_date_dt = date_dt - timedelta(days=1)\n",
    "\n",
    "date = new_date_dt.strftime(\"%Y-%m-%d\")\n",
    "\n",
    "day = int(date[8:10])\n",
    "month = int(date[5:7])\n",
    "\n",
    "response = requests.get(search_url)\n",
    "response.raise_for_status()\n",
    "\n",
    "soup = BeautifulSoup(response.content, 'html.parser')\n",
    "\n",
    "table_rows = soup.find_all('tr', id=lambda x: x and x.startswith('batting_gamelogs'))\n",
    "\n",
    "if table_rows:\n",
    "\n",
    "    data = []\n",
    "\n",
    "    for row in table_rows:\n",
    "\n",
    "        row_data = {}\n",
    "\n",
    "        th = row.find('th')\n",
    "        \n",
    "        row_num = th.text\n",
    "        \n",
    "        row_data['game_num'] = row_num\n",
    "\n",
    "        for td in row.find_all('td'):\n",
    "\n",
    "            stat_type = td['data-stat']\n",
    "\n",
    "            if stat_type == 'date_game':\n",
    "                stat_value = td['csk'][:10]\n",
    "            else:\n",
    "                stat_value = td.text\n",
    "\n",
    "            row_data[stat_type] = stat_value\n",
    "\n",
    "        if row_data:\n",
    "\n",
    "            game_day = int(row_data['date_game'][8:10])\n",
    "            game_month = int(row_data['date_game'][5:7])\n",
    "\n",
    "            if game_month < month:\n",
    "                    data.append(row_data)\n",
    "            elif game_month == month:\n",
    "                if game_day <= day:\n",
    "                     data.append(row_data)\n",
    "\n",
    "    df = pd.DataFrame(data)\n",
    "\n",
    "    df.rename(columns={\n",
    "        'batting_avg': 'BA',\n",
    "        'onbase_perc': 'OBP',\n",
    "        'slugging_perc': 'SLG',\n",
    "    }, inplace=True)\n",
    "\n",
    "    all_columns = df.columns.tolist()\n",
    "\n",
    "    columns_to_keep = ['game_num', 'date_game', 'AB', 'R', 'H', '2B', '3B', 'HR', 'RBI', 'BB', 'SO', 'BA', 'OBP', 'SLG', 'HBP' ]\n",
    "\n",
    "    columns_to_drop = [column for column in all_columns if column not in columns_to_keep]\n",
    "\n",
    "    correct_columns_df = df.drop(columns_to_drop, axis=1)\n",
    "\n",
    "    columns_to_convert_int = ['game_num', 'AB', 'R', 'H', '2B', '3B', 'HR', 'RBI', 'BB', 'SO', 'HBP']\n",
    "\n",
    "    columns_to_convert_float = ['BA', 'OBP', 'SLG']\n",
    "\n",
    "    for column in columns_to_convert_int:\n",
    "         correct_columns_df[column] = correct_columns_df[column].astype(int)\n",
    "\n",
    "    for column in columns_to_convert_float:\n",
    "        correct_columns_df[column] = correct_columns_df[column].astype(float)\n",
    "\n",
    "    correct_columns_df['TB'] = correct_columns_df.apply(lambda row: (row['H'] - row['2B'] - row['3B'] - row['HR']) + 2*row['2B'] + 3*row['3B'] + 4*row['HR'], axis=1)\n",
    "\n",
    "    column_order = ['game_num', 'date_game', 'AB', 'H', 'R', 'RBI', '2B', '3B', 'HR', 'TB', 'BB', 'SO', 'BA', 'OBP', 'SLG', 'HBP']\n",
    "    correct_columns_df = correct_columns_df[column_order]\n",
    "\n",
    "print(correct_columns_df)\n"
   ]
  },
  {
   "cell_type": "markdown",
   "metadata": {},
   "source": [
    "Season Averages Up to Desired Date"
   ]
  },
  {
   "cell_type": "code",
   "execution_count": 914,
   "metadata": {},
   "outputs": [
    {
     "name": "stdout",
     "output_type": "stream",
     "text": [
      "58\n",
      "   ab_per_game  h_per_game  r_per_game  rbi_per_game  hr_per_game  \\\n",
      "0     3.965517    1.275862    0.706897      0.655172     0.241379   \n",
      "\n",
      "   tb_per_game  bb_per_game  k_per_game  ba_szn  obp_szn  slg_szn  \n",
      "0     2.362069     0.465517    0.913793   0.322    0.392    0.596  \n"
     ]
    }
   ],
   "source": [
    "season_stats = {}\n",
    "\n",
    "game_data = correct_columns_df.iloc[-1]\n",
    "\n",
    "games_played = game_data['game_num']\n",
    "\n",
    "print(games_played)\n",
    "\n",
    "season_stats['ab_per_game'] = correct_columns_df['AB'].mean()\n",
    "season_stats['h_per_game'] = correct_columns_df['H'].mean()\n",
    "season_stats['r_per_game'] = correct_columns_df['R'].mean()\n",
    "season_stats['rbi_per_game'] = correct_columns_df['RBI'].mean()\n",
    "season_stats['hr_per_game'] = correct_columns_df['HR'].mean()\n",
    "season_stats['tb_per_game'] = correct_columns_df['TB'].mean()\n",
    "season_stats['bb_per_game'] = correct_columns_df['BB'].mean()\n",
    "season_stats['k_per_game'] = correct_columns_df['SO'].mean()\n",
    "season_stats['ba_szn'] = game_data['BA']\n",
    "season_stats['obp_szn'] = game_data['OBP']\n",
    "season_stats['slg_szn'] = game_data['SLG']\n",
    "\n",
    "season_stats_df = pd.DataFrame([season_stats])\n",
    "\n",
    "print(season_stats_df)"
   ]
  },
  {
   "cell_type": "markdown",
   "metadata": {},
   "source": [
    "Streak Average Data Collection"
   ]
  },
  {
   "cell_type": "code",
   "execution_count": 915,
   "metadata": {},
   "outputs": [],
   "source": [
    "if games_played < 30:\n",
    "    last_season_end_date = api.get('season', {'seasonId': last_year, 'sportId': 1})['seasons'][0]['postSeasonEndDate']\n",
    "\n",
    "    day = int(last_season_end_date[8:10])\n",
    "    month = int(last_season_end_date[5:7])\n",
    "\n",
    "    search_url = f'https://www.baseball-reference.com/players/gl.fcgi?id={formatted_player_key}&t=b&year={last_year}#batting_gamelogs'\n",
    "\n",
    "    response = requests.get(search_url)\n",
    "    response.raise_for_status()\n",
    "\n",
    "    soup = BeautifulSoup(response.content, 'html.parser')\n",
    "\n",
    "    table_rows = soup.find_all('tr', id=lambda x: x and x.startswith('batting_gamelogs'))\n",
    "\n",
    "    if table_rows:\n",
    "\n",
    "        data = []\n",
    "\n",
    "        for row in table_rows:\n",
    "\n",
    "            row_data = {}\n",
    "\n",
    "            th = row.find('th')\n",
    "            \n",
    "            row_num = th.text\n",
    "            \n",
    "            row_data['game_num'] = row_num\n",
    "\n",
    "            for td in row.find_all('td'):\n",
    "\n",
    "                stat_type = td['data-stat']\n",
    "\n",
    "                if stat_type == 'date_game':\n",
    "                    stat_value = td['csk'][:10]\n",
    "                else:\n",
    "                    stat_value = td.text\n",
    "\n",
    "                row_data[stat_type] = stat_value\n",
    "\n",
    "            if row_data:\n",
    "\n",
    "                game_day = int(row_data['date_game'][8:10])\n",
    "                game_month = int(row_data['date_game'][5:7])\n",
    "\n",
    "                if game_month < month:\n",
    "                        data.append(row_data)\n",
    "                elif game_month == month:\n",
    "                    if game_day <= day:\n",
    "                        data.append(row_data)\n",
    "\n",
    "        df = pd.DataFrame(data)\n",
    "\n",
    "        df.rename(columns={\n",
    "            'batting_avg': 'BA',\n",
    "            'onbase_perc': 'OBP',\n",
    "            'slugging_perc': 'SLG',\n",
    "        }, inplace=True)\n",
    "\n",
    "        all_columns = df.columns.tolist()\n",
    "\n",
    "        columns_to_keep = ['game_num', 'date_game', 'AB', 'R', 'H', '2B', '3B', 'HR', 'RBI', 'BB', 'SO', 'BA', 'OBP', 'SLG', 'HBP']\n",
    "\n",
    "        columns_to_drop = [column for column in all_columns if column not in columns_to_keep]\n",
    "\n",
    "        last_season_df = df.drop(columns_to_drop, axis=1)\n",
    "\n",
    "        columns_to_convert_int = ['game_num', 'AB', 'R', 'H', '2B', '3B', 'HR', 'RBI', 'BB', 'SO', 'HBP']\n",
    "\n",
    "        columns_to_convert_float = ['BA', 'OBP', 'SLG']\n",
    "\n",
    "        for column in columns_to_convert_int:\n",
    "            last_season_df[column] = last_season_df[column].astype(int)\n",
    "\n",
    "        for column in columns_to_convert_float:\n",
    "            last_season_df[column] = last_season_df[column].astype(float)\n",
    "\n",
    "        last_season_df['TB'] = last_season_df.apply(lambda row: (row['H'] - row['2B'] - row['3B'] - row['HR']) + 2*row['2B'] + 3*row['3B'] + 4*row['HR'], axis=1)\n",
    "\n",
    "        column_order = ['game_num', 'date_game', 'AB', 'H', 'R', 'RBI', '2B', '3B', 'HR', 'TB', 'BB', 'SO', 'BA', 'OBP', 'SLG', 'HBP']\n",
    "        last_season_df = last_season_df[column_order]\n",
    "\n",
    "    print(last_season_df)\n",
    "\n",
    "\n"
   ]
  },
  {
   "cell_type": "markdown",
   "metadata": {},
   "source": [
    "Last 7 Averages:"
   ]
  },
  {
   "cell_type": "code",
   "execution_count": 916,
   "metadata": {},
   "outputs": [
    {
     "name": "stdout",
     "output_type": "stream",
     "text": [
      "    game_num   date_game  AB  H  R  RBI  2B  3B  HR  TB  BB  SO     BA    OBP  \\\n",
      "51        52  2024-05-25   4  1  0    0   0   1   0   3   0   3  0.338  0.406   \n",
      "52        53  2024-05-26   4  1  1    0   0   0   0   1   0   1  0.336  0.403   \n",
      "53        54  2024-05-28   5  0  0    0   0   0   0   0   0   2  0.329  0.395   \n",
      "54        55  2024-05-29   5  2  1    3   0   0   1   5   0   1  0.330  0.395   \n",
      "55        56  2024-05-31   3  0  0    0   0   0   0   0   1   1  0.326  0.393   \n",
      "56        57  2024-06-01   3  1  0    0   0   0   0   1   1   1  0.326  0.395   \n",
      "57        58  2024-06-02   3  0  0    0   0   0   0   0   1   2  0.322  0.392   \n",
      "\n",
      "      SLG  HBP  \n",
      "51  0.628    0  \n",
      "52  0.621    0  \n",
      "53  0.606    0  \n",
      "54  0.615    0  \n",
      "55  0.607    0  \n",
      "56  0.604    0  \n",
      "57  0.596    0  \n",
      "   ab_last_7  h_last_7  r_last_7  rbi_last_7  hr_last_7  tb_last_7  bb_last_7  \\\n",
      "0   3.857143  0.714286  0.285714    0.428571   0.142857   1.428571   0.428571   \n",
      "\n",
      "   k_last_7  ba_last_7  obp_last_7  slg_last_7  \n",
      "0  1.571429      0.185       0.296        0.37  \n"
     ]
    }
   ],
   "source": [
    "if games_played < 7:\n",
    "    carry_over_games = 7 - games_played\n",
    "    carry_over_game_num = len(last_season_df) - carry_over_games\n",
    "    last_season_rows = last_season_df.iloc[carry_over_game_num:]\n",
    "    current_season_rows = correct_columns_df.iloc[:games_played]\n",
    "    last_7_df = pd.concat([last_season_rows, current_season_rows], ignore_index=True)\n",
    "else:\n",
    "    last_7_game_num = games_played - 7\n",
    "    last_7_df = correct_columns_df.iloc[last_7_game_num:]\n",
    "\n",
    "print(last_7_df)\n",
    "\n",
    "last_7_stats = {}\n",
    "\n",
    "last_7_stats['ab_last_7'] = last_7_df['AB'].mean()\n",
    "last_7_stats['h_last_7'] = last_7_df['H'].mean()\n",
    "last_7_stats['r_last_7'] = last_7_df['R'].mean()\n",
    "last_7_stats['rbi_last_7'] = last_7_df['RBI'].mean()\n",
    "last_7_stats['hr_last_7'] = last_7_df['HR'].mean()\n",
    "last_7_stats['tb_last_7'] = last_7_df['TB'].mean()\n",
    "last_7_stats['bb_last_7'] = last_7_df['BB'].mean()\n",
    "last_7_stats['k_last_7'] = last_7_df['SO'].mean()\n",
    "last_7_stats['ba_last_7'] = round(last_7_df['H'].sum() / last_7_df['AB'].sum(), 3)\n",
    "last_7_stats['obp_last_7'] = round((last_7_df['H'].sum() + last_7_df['BB'].sum() + last_7_df['HBP'].sum()) / last_7_df['AB'].sum(), 3)\n",
    "last_7_stats['slg_last_7'] = round( last_7_df['TB'].sum() / last_7_df['AB'].sum(), 3)\n",
    "\n",
    "last_7_avg_df = pd.DataFrame([last_7_stats])\n",
    "\n",
    "print(last_7_avg_df)"
   ]
  },
  {
   "cell_type": "markdown",
   "metadata": {},
   "source": [
    "Last 15 Averages"
   ]
  },
  {
   "cell_type": "code",
   "execution_count": 917,
   "metadata": {},
   "outputs": [
    {
     "name": "stdout",
     "output_type": "stream",
     "text": [
      "    game_num   date_game  AB  H  R  RBI  2B  3B  HR  TB  BB  SO     BA    OBP  \\\n",
      "43        44  2024-05-16   2  0  0    0   0   0   0   0   1   1  0.360  0.430   \n",
      "44        45  2024-05-17   4  1  2    2   0   0   1   4   0   1  0.358  0.426   \n",
      "45        46  2024-05-18   4  0  0    0   0   0   0   0   0   0  0.350  0.418   \n",
      "46        47  2024-05-19   4  2  0    1   0   0   0   2   0   1  0.353  0.423   \n",
      "47        48  2024-05-20   3  0  1    0   0   0   0   0   1   0  0.347  0.419   \n",
      "48        49  2024-05-21   4  2  2    1   1   0   0   3   0   1  0.351  0.421   \n",
      "49        50  2024-05-22   4  1  0    0   0   0   0   1   0   0  0.348  0.418   \n",
      "50        51  2024-05-24   5  0  0    1   0   0   0   0   0   0  0.340  0.409   \n",
      "51        52  2024-05-25   4  1  0    0   0   1   0   3   0   3  0.338  0.406   \n",
      "52        53  2024-05-26   4  1  1    0   0   0   0   1   0   1  0.336  0.403   \n",
      "53        54  2024-05-28   5  0  0    0   0   0   0   0   0   2  0.329  0.395   \n",
      "54        55  2024-05-29   5  2  1    3   0   0   1   5   0   1  0.330  0.395   \n",
      "55        56  2024-05-31   3  0  0    0   0   0   0   0   1   1  0.326  0.393   \n",
      "56        57  2024-06-01   3  1  0    0   0   0   0   1   1   1  0.326  0.395   \n",
      "57        58  2024-06-02   3  0  0    0   0   0   0   0   1   2  0.322  0.392   \n",
      "\n",
      "      SLG  HBP  \n",
      "43  0.669    0  \n",
      "44  0.676    0  \n",
      "45  0.661    0  \n",
      "46  0.658    1  \n",
      "47  0.647    0  \n",
      "48  0.649    0  \n",
      "49  0.641    0  \n",
      "50  0.626    0  \n",
      "51  0.628    0  \n",
      "52  0.621    0  \n",
      "53  0.606    0  \n",
      "54  0.615    0  \n",
      "55  0.607    0  \n",
      "56  0.604    0  \n",
      "57  0.596    0  \n",
      "   ab_last_15  h_last_15  r_last_15  rbi_last_15  hr_last_15  tb_last_15  \\\n",
      "0         3.8   0.733333   0.466667     0.533333    0.133333    1.333333   \n",
      "\n",
      "   bb_last_15  k_last_15  ba_last_15  obp_last_15  slg_last_15  \n",
      "0    0.333333        1.0       0.193        0.298        0.351  \n"
     ]
    }
   ],
   "source": [
    "if games_played < 15:\n",
    "    carry_over_games = 15 - games_played\n",
    "    carry_over_game_num = len(last_season_df) - carry_over_games\n",
    "    last_season_rows = last_season_df.iloc[carry_over_game_num:]\n",
    "    current_season_rows = correct_columns_df.iloc[:games_played]\n",
    "    last_15_df = pd.concat([last_season_rows, current_season_rows], ignore_index=True)\n",
    "else:\n",
    "    last_15_game_num = games_played - 15\n",
    "    last_15_df = correct_columns_df.iloc[last_15_game_num:]\n",
    "\n",
    "print(last_15_df)\n",
    "\n",
    "last_15_stats = {}\n",
    "\n",
    "last_15_stats['ab_last_15'] = last_15_df['AB'].mean()\n",
    "last_15_stats['h_last_15'] = last_15_df['H'].mean()\n",
    "last_15_stats['r_last_15'] = last_15_df['R'].mean()\n",
    "last_15_stats['rbi_last_15'] = last_15_df['RBI'].mean()\n",
    "last_15_stats['hr_last_15'] = last_15_df['HR'].mean()\n",
    "last_15_stats['tb_last_15'] = last_15_df['TB'].mean()\n",
    "last_15_stats['bb_last_15'] = last_15_df['BB'].mean()\n",
    "last_15_stats['k_last_15'] = last_15_df['SO'].mean()\n",
    "last_15_stats['ba_last_15'] = round(last_15_df['H'].sum() / last_15_df['AB'].sum(), 3)\n",
    "last_15_stats['obp_last_15'] = round((last_15_df['H'].sum() + last_15_df['BB'].sum() + last_15_df['HBP'].sum()) / last_15_df['AB'].sum(), 3)\n",
    "last_15_stats['slg_last_15'] = round( last_15_df['TB'].sum() / last_15_df['AB'].sum(), 3)\n",
    "\n",
    "last_15_avg_df = pd.DataFrame([last_15_stats])\n",
    "\n",
    "print(last_15_avg_df)"
   ]
  },
  {
   "cell_type": "markdown",
   "metadata": {},
   "source": [
    "Last 30 Averages"
   ]
  },
  {
   "cell_type": "code",
   "execution_count": 918,
   "metadata": {},
   "outputs": [
    {
     "name": "stdout",
     "output_type": "stream",
     "text": [
      "    game_num   date_game  AB  H  R  RBI  2B  3B  HR  TB  BB  SO     BA    OBP  \\\n",
      "28        29  2024-04-27   5  1  0    1   0   0   0   1   0   1  0.347  0.410   \n",
      "29        30  2024-04-28   4  0  0    0   0   0   0   0   0   1  0.336  0.399   \n",
      "30        31  2024-04-29   4  2  1    1   0   0   0   2   1   0  0.341  0.406   \n",
      "31        32  2024-04-30   5  1  0    0   0   0   0   1   0   3  0.336  0.399   \n",
      "32        33  2024-05-03   3  1  1    1   0   0   0   1   2   1  0.336  0.405   \n",
      "33        34  2024-05-04   5  3  2    2   0   0   1   6   0   1  0.345  0.411   \n",
      "34        35  2024-05-05   4  4  2    3   0   0   2  10   0   0  0.364  0.426   \n",
      "35        36  2024-05-06   3  2  1    2   0   0   1   5   1   1  0.370  0.434   \n",
      "36        37  2024-05-07   2  0  1    0   0   0   0   0   2   0  0.365  0.435   \n",
      "37        38  2024-05-08   4  0  0    0   0   0   0   0   0   2  0.355  0.425   \n",
      "38        39  2024-05-10   4  2  0    0   1   0   0   3   0   1  0.359  0.427   \n",
      "39        40  2024-05-11   3  0  1    0   0   0   0   0   1   0  0.352  0.423   \n",
      "40        41  2024-05-13   5  2  0    1   0   0   0   2   0   2  0.354  0.422   \n",
      "41        42  2024-05-14   5  3  1    2   1   0   1   7   0   0  0.361  0.427   \n",
      "42        43  2024-05-15   4  2  0    0   0   0   0   2   1   2  0.364  0.431   \n",
      "43        44  2024-05-16   2  0  0    0   0   0   0   0   1   1  0.360  0.430   \n",
      "44        45  2024-05-17   4  1  2    2   0   0   1   4   0   1  0.358  0.426   \n",
      "45        46  2024-05-18   4  0  0    0   0   0   0   0   0   0  0.350  0.418   \n",
      "46        47  2024-05-19   4  2  0    1   0   0   0   2   0   1  0.353  0.423   \n",
      "47        48  2024-05-20   3  0  1    0   0   0   0   0   1   0  0.347  0.419   \n",
      "48        49  2024-05-21   4  2  2    1   1   0   0   3   0   1  0.351  0.421   \n",
      "49        50  2024-05-22   4  1  0    0   0   0   0   1   0   0  0.348  0.418   \n",
      "50        51  2024-05-24   5  0  0    1   0   0   0   0   0   0  0.340  0.409   \n",
      "51        52  2024-05-25   4  1  0    0   0   1   0   3   0   3  0.338  0.406   \n",
      "52        53  2024-05-26   4  1  1    0   0   0   0   1   0   1  0.336  0.403   \n",
      "53        54  2024-05-28   5  0  0    0   0   0   0   0   0   2  0.329  0.395   \n",
      "54        55  2024-05-29   5  2  1    3   0   0   1   5   0   1  0.330  0.395   \n",
      "55        56  2024-05-31   3  0  0    0   0   0   0   0   1   1  0.326  0.393   \n",
      "56        57  2024-06-01   3  1  0    0   0   0   0   1   1   1  0.326  0.395   \n",
      "57        58  2024-06-02   3  0  0    0   0   0   0   0   1   2  0.322  0.392   \n",
      "\n",
      "      SLG  HBP  \n",
      "28  0.661    0  \n",
      "29  0.639    0  \n",
      "30  0.635    0  \n",
      "31  0.618    0  \n",
      "32  0.612    0  \n",
      "33  0.633    0  \n",
      "34  0.685    0  \n",
      "35  0.705    0  \n",
      "36  0.696    0  \n",
      "37  0.678    0  \n",
      "38  0.679    0  \n",
      "39  0.667    0  \n",
      "40  0.659    0  \n",
      "41  0.680    0  \n",
      "42  0.676    0  \n",
      "43  0.669    0  \n",
      "44  0.676    0  \n",
      "45  0.661    0  \n",
      "46  0.658    1  \n",
      "47  0.647    0  \n",
      "48  0.649    0  \n",
      "49  0.641    0  \n",
      "50  0.626    0  \n",
      "51  0.628    0  \n",
      "52  0.621    0  \n",
      "53  0.606    0  \n",
      "54  0.615    0  \n",
      "55  0.607    0  \n",
      "56  0.604    0  \n",
      "57  0.596    0  \n",
      "   ab_last_30  h_last_30  r_last_30  rbi_last_30  hr_last_30  tb_last_30  \\\n",
      "0         3.9   1.133333   0.566667          0.7    0.233333         2.0   \n",
      "\n",
      "   bb_last_30  k_last_30  ba_last_30  obp_last_30  slg_last_30  \n",
      "0    0.433333        1.0       0.291         0.41        0.513  \n"
     ]
    }
   ],
   "source": [
    "if games_played < 30:\n",
    "    carry_over_games = 30 - games_played\n",
    "    carry_over_game_num = len(last_season_df) - carry_over_games\n",
    "    last_season_rows = last_season_df.iloc[carry_over_game_num:]\n",
    "    current_season_rows = correct_columns_df.iloc[:games_played]\n",
    "    last_30_df = pd.concat([last_season_rows, current_season_rows], ignore_index=True)\n",
    "else:\n",
    "    last_30_game_num = games_played - 30\n",
    "    last_30_df = correct_columns_df.iloc[last_30_game_num:]\n",
    "\n",
    "print(last_30_df)\n",
    "\n",
    "last_30_stats = {}\n",
    "\n",
    "last_30_stats['ab_last_30'] = last_30_df['AB'].mean()\n",
    "last_30_stats['h_last_30'] = last_30_df['H'].mean()\n",
    "last_30_stats['r_last_30'] = last_30_df['R'].mean()\n",
    "last_30_stats['rbi_last_30'] = last_30_df['RBI'].mean()\n",
    "last_30_stats['hr_last_30'] = last_30_df['HR'].mean()\n",
    "last_30_stats['tb_last_30'] = last_30_df['TB'].mean()\n",
    "last_30_stats['bb_last_30'] = last_30_df['BB'].mean()\n",
    "last_30_stats['k_last_30'] = last_30_df['SO'].mean()\n",
    "last_30_stats['ba_last_30'] = round(last_30_df['H'].sum() / last_30_df['AB'].sum(), 3)\n",
    "last_30_stats['obp_last_30'] = round((last_30_df['H'].sum() + last_30_df['BB'].sum() + last_30_df['HBP'].sum()) / last_30_df['AB'].sum(), 3)\n",
    "last_30_stats['slg_last_30'] = round( last_30_df['TB'].sum() / last_30_df['AB'].sum(), 3)\n",
    "\n",
    "last_30_avg_df = pd.DataFrame([last_30_stats])\n",
    "\n",
    "print(last_30_avg_df)"
   ]
  },
  {
   "cell_type": "markdown",
   "metadata": {},
   "source": [
    "Merge Streak Data"
   ]
  },
  {
   "cell_type": "code",
   "execution_count": 919,
   "metadata": {},
   "outputs": [
    {
     "name": "stdout",
     "output_type": "stream",
     "text": [
      "   ab_last_7  h_last_7  r_last_7  rbi_last_7  hr_last_7  tb_last_7  bb_last_7  \\\n",
      "0   3.857143  0.714286  0.285714    0.428571   0.142857   1.428571   0.428571   \n",
      "\n",
      "   k_last_7  ba_last_7  obp_last_7  slg_last_7  ab_last_15  h_last_15  \\\n",
      "0  1.571429      0.185       0.296        0.37         3.8   0.733333   \n",
      "\n",
      "   r_last_15  rbi_last_15  hr_last_15  tb_last_15  bb_last_15  k_last_15  \\\n",
      "0   0.466667     0.533333    0.133333    1.333333    0.333333        1.0   \n",
      "\n",
      "   ba_last_15  obp_last_15  slg_last_15  ab_last_30  h_last_30  r_last_30  \\\n",
      "0       0.193        0.298        0.351         3.9   1.133333   0.566667   \n",
      "\n",
      "   rbi_last_30  hr_last_30  tb_last_30  bb_last_30  k_last_30  ba_last_30  \\\n",
      "0          0.7    0.233333         2.0    0.433333        1.0       0.291   \n",
      "\n",
      "   obp_last_30  slg_last_30  \n",
      "0         0.41        0.513  \n"
     ]
    }
   ],
   "source": [
    "streak_data_df = pd.concat([last_7_avg_df, last_15_avg_df, last_30_avg_df], axis=1)\n",
    "print(streak_data_df)"
   ]
  },
  {
   "cell_type": "markdown",
   "metadata": {},
   "source": [
    "Merge Season Averages and Streak Data\n",
    "\n"
   ]
  },
  {
   "cell_type": "code",
   "execution_count": 920,
   "metadata": {},
   "outputs": [
    {
     "name": "stdout",
     "output_type": "stream",
     "text": [
      "   ab_last_7  h_last_7  r_last_7  rbi_last_7  hr_last_7  tb_last_7  bb_last_7  \\\n",
      "0   3.857143  0.714286  0.285714    0.428571   0.142857   1.428571   0.428571   \n",
      "\n",
      "   k_last_7  ba_last_7  obp_last_7  slg_last_7  ab_last_15  h_last_15  \\\n",
      "0  1.571429      0.185       0.296        0.37         3.8   0.733333   \n",
      "\n",
      "   r_last_15  rbi_last_15  hr_last_15  tb_last_15  bb_last_15  k_last_15  \\\n",
      "0   0.466667     0.533333    0.133333    1.333333    0.333333        1.0   \n",
      "\n",
      "   ba_last_15  obp_last_15  slg_last_15  ab_last_30  h_last_30  r_last_30  \\\n",
      "0       0.193        0.298        0.351         3.9   1.133333   0.566667   \n",
      "\n",
      "   rbi_last_30  hr_last_30  tb_last_30  bb_last_30  k_last_30  ba_last_30  \\\n",
      "0          0.7    0.233333         2.0    0.433333        1.0       0.291   \n",
      "\n",
      "   obp_last_30  slg_last_30  ab_per_game  h_per_game  r_per_game  \\\n",
      "0         0.41        0.513     3.965517    1.275862    0.706897   \n",
      "\n",
      "   rbi_per_game  hr_per_game  tb_per_game  bb_per_game  k_per_game  ba_szn  \\\n",
      "0      0.655172     0.241379     2.362069     0.465517    0.913793   0.322   \n",
      "\n",
      "   obp_szn  slg_szn  \n",
      "0    0.392    0.596  \n"
     ]
    }
   ],
   "source": [
    "batter_season_stats_df = pd.concat([streak_data_df, season_stats_df], axis=1)\n",
    "\n",
    "pd.set_option('display.max_rows', None)\n",
    "pd.set_option('display.max_columns', None)\n",
    "\n",
    "print(batter_season_stats_df)"
   ]
  },
  {
   "cell_type": "markdown",
   "metadata": {},
   "source": [
    "Fetch Starting Pitcher Season Data :(\n",
    "\n",
    "DEAL WITH DIVIDE BY 0"
   ]
  },
  {
   "cell_type": "code",
   "execution_count": 921,
   "metadata": {},
   "outputs": [
    {
     "name": "stdout",
     "output_type": "stream",
     "text": [
      "   sp_games_started  sp_pc_per_start  sp_ip_per_start  sp_h_per_start  \\\n",
      "0                12           86.417            5.758           4.583   \n",
      "\n",
      "   sp_r_per_start  sp_hr_per_start  sp_bb_per_start  sp_outs_per_start  \\\n",
      "0           2.333            0.917             1.25             17.333   \n",
      "\n",
      "   sp_k_per_start  sp_er_per_start sp_k_p sp_era sp_whip sp_baa sp_obpa  \\\n",
      "0           6.333            2.083   .690   3.25    1.01   .214    .261   \n",
      "\n",
      "  sp_slga  sp_pc_per_batter  \n",
      "0    .409             3.757  \n"
     ]
    }
   ],
   "source": [
    "season_info = api.player_stat_data(personId=sPitcher_id, group='[pitching]', type='yearByYear', sportId=1)\n",
    "\n",
    "for season in season_info['stats']:\n",
    "    if int(season['season']) == year:\n",
    "        season_data = season['stats']\n",
    "\n",
    "games_started = season_data['gamesStarted']\n",
    "\n",
    "sp_data = {}\n",
    "\n",
    "sp_data['sp_games_started'] = games_started\n",
    "sp_data['sp_pc_per_start'] = round((season_data['numberOfPitches'] / games_started), 3)\n",
    "sp_data['sp_ip_per_start'] = round((float(season_data['inningsPitched']) / games_started), 3)\n",
    "sp_data['sp_h_per_start'] = round((season_data['hits'] / games_started), 3)\n",
    "sp_data['sp_r_per_start'] = round((season_data['runs'] / games_started), 3)\n",
    "sp_data['sp_hr_per_start'] = round((season_data['homeRuns'] / games_started), 3)\n",
    "sp_data['sp_bb_per_start'] = round((season_data['baseOnBalls'] / games_started), 3)\n",
    "sp_data['sp_outs_per_start'] = round((season_data['outs'] / games_started), 3)\n",
    "sp_data['sp_k_per_start'] = round((season_data['strikeOuts'] / games_started), 3)\n",
    "sp_data['sp_er_per_start'] = round((season_data['earnedRuns'] / games_started), 3)\n",
    "sp_data['sp_k_p'] = season_data['strikePercentage']\n",
    "sp_data['sp_era'] = season_data['era']\n",
    "sp_data['sp_whip'] = season_data['whip']\n",
    "sp_data['sp_baa'] = season_data['avg']\n",
    "sp_data['sp_obpa'] = season_data['obp']\n",
    "sp_data['sp_slga'] = season_data['slg']\n",
    "sp_data['sp_pc_per_batter'] = round((season_data['numberOfPitches']) / season_data['battersFaced'], 3)\n",
    "\n",
    "sp_data_df = pd.DataFrame([sp_data])\n",
    "\n",
    "print(sp_data_df)\n"
   ]
  },
  {
   "cell_type": "markdown",
   "metadata": {},
   "source": [
    "Format Batter vs Starting Pitcher URL :P"
   ]
  },
  {
   "cell_type": "code",
   "execution_count": 922,
   "metadata": {},
   "outputs": [],
   "source": [
    "formatted_batter_name = player_name.replace(' ', '%20')\n",
    "\n",
    "bvp_url = f'https://baseballsavant.mlb.com/illustrator?playerId={player_id}&playerType=batter&name={formatted_batter_name}&tabSelection=0&shape=square&shapeName=Square%20(Instagram)&subTitle=&chartType=zoneChart-totalPitches&chartName=Zone%20-%20Total%20Pitches&pitcherThrows=&batterStands=&plateAppearanceResults=[]&pitchTypes=[]&seasonType=[%22R%22]&pitchResults=[]&facingPlayer=[%22{sPitcher_id}%22]&balls=[]&battedBallType=[]&years=[{year}]&strikes=[]&outs=[]&selectedGames=[]&homeTeam=[]&awayTeam=[]&vsTeam=[]&exitVelocityGT=0&exitVelocityLT=125&pitchVelocityGT=0&pitchVelocityLT=105&launchAngleGT=-90&launchAngleLT=90&perspective=catcher&venue=7'"
   ]
  },
  {
   "cell_type": "markdown",
   "metadata": {},
   "source": [
    "Fetch Batter vs Starting Pitcher Stats :(\n",
    "\n",
    "DEAL WITH DIVIDE BY 0\n",
    "WHAT IF DATA DOESN\"T EXIST YET???"
   ]
  },
  {
   "cell_type": "code",
   "execution_count": 923,
   "metadata": {},
   "outputs": [
    {
     "name": "stdout",
     "output_type": "stream",
     "text": [
      "   vs_sp_pa  vs_sp_p_per_pa  vs_sp_h_per_pa  vs_sp_hr_per_pa  vs_sp_k_per_pa  \\\n",
      "0         3           5.333             0.0              0.0           0.667   \n",
      "\n",
      "   vs_sp_ba_per_pa  vs_sp_k_p  \n",
      "0              0.0      0.667  \n"
     ]
    }
   ],
   "source": [
    "bvp_raw_data = {}\n",
    "bvp_data = {}\n",
    "\n",
    "service = Service(ChromeDriverManager().install())\n",
    "driver = webdriver.Chrome(service=service)\n",
    "\n",
    "driver.get(bvp_url)\n",
    "\n",
    "driver.implicitly_wait(10)\n",
    "\n",
    "stats_boxes = driver.find_elements(By.CLASS_NAME, 'stats-box')\n",
    "\n",
    "for stats_box in stats_boxes:\n",
    "    stat_type = stats_box.find_element(By.CLASS_NAME, 'stats-title')\n",
    "    stat_value = stats_box.find_element(By.CLASS_NAME, 'stats-value')\n",
    "    bvp_raw_data[stat_type.text] = stat_value.text\n",
    "\n",
    "\n",
    "driver.quit()\n",
    "\n",
    "bvp_data['vs_sp_pa'] = int(bvp_raw_data['PA'])\n",
    "bvp_data['vs_sp_p_per_pa'] = round((int(bvp_raw_data['Pitches']) / bvp_data['vs_sp_pa']), 3)\n",
    "bvp_data['vs_sp_h_per_pa'] = round((int(bvp_raw_data['H']) / bvp_data['vs_sp_pa']), 3)\n",
    "bvp_data['vs_sp_hr_per_pa'] = round((int(bvp_raw_data['HR']) / bvp_data['vs_sp_pa']), 3)\n",
    "bvp_data['vs_sp_k_per_pa'] = round((int(bvp_raw_data['SO']) / bvp_data['vs_sp_pa']), 3)\n",
    "bvp_data['vs_sp_ba_per_pa'] = float(bvp_raw_data['AVG'])\n",
    "bvp_data['vs_sp_k_p'] = round((float(bvp_raw_data['K%']) / 100), 3)\n",
    "\n",
    "bvp_data_df = pd.DataFrame([bvp_data])\n",
    "\n",
    "print(bvp_data_df)\n",
    "\n"
   ]
  },
  {
   "cell_type": "markdown",
   "metadata": {},
   "source": [
    "Merge Pitcher data and BvP data :(\n",
    "\n",
    "should fix itself at some point"
   ]
  },
  {
   "cell_type": "code",
   "execution_count": 924,
   "metadata": {},
   "outputs": [
    {
     "name": "stdout",
     "output_type": "stream",
     "text": [
      "   sp_games_started  sp_pc_per_start  sp_ip_per_start  sp_h_per_start  \\\n",
      "0                12           86.417            5.758           4.583   \n",
      "\n",
      "   sp_r_per_start  sp_hr_per_start  sp_bb_per_start  sp_outs_per_start  \\\n",
      "0           2.333            0.917             1.25             17.333   \n",
      "\n",
      "   sp_k_per_start  sp_er_per_start sp_k_p sp_era sp_whip sp_baa sp_obpa  \\\n",
      "0           6.333            2.083   .690   3.25    1.01   .214    .261   \n",
      "\n",
      "  sp_slga  sp_pc_per_batter  vs_sp_pa  vs_sp_p_per_pa  vs_sp_h_per_pa  \\\n",
      "0    .409             3.757         3           5.333             0.0   \n",
      "\n",
      "   vs_sp_hr_per_pa  vs_sp_k_per_pa  vs_sp_ba_per_pa  vs_sp_k_p  \n",
      "0              0.0           0.667              0.0      0.667  \n"
     ]
    }
   ],
   "source": [
    "sPitcher_stats_df = pd.concat([sp_data_df, bvp_data_df], axis=1)\n",
    "\n",
    "print(sPitcher_stats_df)"
   ]
  },
  {
   "cell_type": "markdown",
   "metadata": {},
   "source": [
    "Format URL for Batter vs Opp Data\n",
    "- If batter has not yet playyed Opp, omit this section from the stats.\n",
    "- Otherwise, provide per game data for Opp."
   ]
  },
  {
   "cell_type": "code",
   "execution_count": null,
   "metadata": {},
   "outputs": [],
   "source": []
  },
  {
   "cell_type": "markdown",
   "metadata": {},
   "source": [
    "Fetch Batter vs Opp Stats"
   ]
  },
  {
   "cell_type": "code",
   "execution_count": null,
   "metadata": {},
   "outputs": [],
   "source": []
  },
  {
   "cell_type": "markdown",
   "metadata": {},
   "source": [
    "Fetch Umpire Stats\n",
    "- If Home Plate Ump announced\n",
    "    - Return data for only HP ump \n",
    "- If Home Plate Ump not yet announced\n",
    "    - Fetch data for all 4 umps\n",
    "    - hp_ump stats = avg of 4 umps stats"
   ]
  },
  {
   "cell_type": "code",
   "execution_count": null,
   "metadata": {},
   "outputs": [],
   "source": []
  },
  {
   "cell_type": "markdown",
   "metadata": {},
   "source": [
    "Fetch Venue Stats *WIP"
   ]
  },
  {
   "cell_type": "code",
   "execution_count": null,
   "metadata": {},
   "outputs": [],
   "source": []
  }
 ],
 "metadata": {
  "kernelspec": {
   "display_name": "venv",
   "language": "python",
   "name": "python3"
  },
  "language_info": {
   "codemirror_mode": {
    "name": "ipython",
    "version": 3
   },
   "file_extension": ".py",
   "mimetype": "text/x-python",
   "name": "python",
   "nbconvert_exporter": "python",
   "pygments_lexer": "ipython3",
   "version": "3.12.3"
  }
 },
 "nbformat": 4,
 "nbformat_minor": 2
}
