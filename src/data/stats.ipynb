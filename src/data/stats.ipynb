{
 "cells": [
  {
   "cell_type": "markdown",
   "metadata": {},
   "source": [
    "Import Necessary Libraries"
   ]
  },
  {
   "cell_type": "code",
   "execution_count": 119,
   "metadata": {},
   "outputs": [],
   "source": [
    "import statsapi as api\n",
    "import pandas as pd\n",
    "import tempfile\n",
    "import os\n",
    "import re\n",
    "import requests\n",
    "from bs4 import BeautifulSoup, SoupStrainer\n",
    "from selenium import webdriver\n",
    "from selenium.webdriver.common.by import By\n",
    "from selenium.webdriver.chrome.service import Service\n",
    "from webdriver_manager.chrome import ChromeDriverManager\n"
   ]
  },
  {
   "cell_type": "markdown",
   "metadata": {},
   "source": [
    "Input Player Name and Year"
   ]
  },
  {
   "cell_type": "code",
   "execution_count": 120,
   "metadata": {},
   "outputs": [],
   "source": [
    "first_name = input(\"Enter Player First Name: \")\n",
    "last_name = input('Enter Player Last Name: ')\n",
    "year = input(f'Enter Year: ')\n",
    "player_name = f'{first_name.lower()} {last_name.lower()}'\n"
   ]
  },
  {
   "cell_type": "markdown",
   "metadata": {},
   "source": [
    "fetch player_id "
   ]
  },
  {
   "cell_type": "code",
   "execution_count": 121,
   "metadata": {},
   "outputs": [
    {
     "name": "stdout",
     "output_type": "stream",
     "text": [
      "661388\n",
      "158\n"
     ]
    }
   ],
   "source": [
    "player_info = api.lookup_player(player_name, season=year)\n",
    "player_id = player_info[0]['id']\n",
    "team_id = player_info[0]['currentTeam']['id']\n",
    "print(player_id)\n",
    "print(team_id)"
   ]
  },
  {
   "cell_type": "markdown",
   "metadata": {},
   "source": [
    "Gather Player hand"
   ]
  },
  {
   "cell_type": "code",
   "execution_count": 122,
   "metadata": {},
   "outputs": [
    {
     "name": "stdout",
     "output_type": "stream",
     "text": [
      "R\n"
     ]
    }
   ],
   "source": [
    "person_info = api.get('people',{'personIds':player_id, 'season':year,'sportId':1})\n",
    "batter_hand = person_info['people'][0]['batSide']['code']\n",
    "print(batter_hand)"
   ]
  },
  {
   "cell_type": "markdown",
   "metadata": {},
   "source": [
    "fetch game_pk, home, opp_id, venue_id, sPitcher_id, sPitcher_hand"
   ]
  },
  {
   "cell_type": "code",
   "execution_count": 123,
   "metadata": {},
   "outputs": [
    {
     "name": "stdout",
     "output_type": "stream",
     "text": [
      "True\n",
      "745190\n",
      "138\n",
      "571945\n",
      "R\n",
      "2889\n",
      "False\n"
     ]
    }
   ],
   "source": [
    "date = '2024-04-20'\n",
    "game_info = api.schedule(date=date,team=team_id,sportId=1)\n",
    "game_pk = game_info[0]['game_id']\n",
    "home_team_id = game_info[0]['home_id']\n",
    "if home_team_id == team_id:\n",
    "    home = True\n",
    "    opp_id = game_info[0]['away_id']\n",
    "    sPitcher_name = game_info[0]['away_probable_pitcher']\n",
    "else:\n",
    "    home = False\n",
    "    opp_id = game_info[0]['home_id']\n",
    "    sPitcher_name = game_info[0]['home_probable_pitcher']\n",
    "\n",
    "sPitcher_info = api.lookup_player(sPitcher_name)\n",
    "sPitcher_id = sPitcher_info[0]['id']\n",
    "sPitcher_info_2 = api.get('people',{'personIds':sPitcher_id, 'season':year,'sportId':1})\n",
    "sPitcher_hand = sPitcher_info_2['people'][0]['pitchHand']['code']\n",
    "\n",
    "venue_id = game_info[0]['venue_id']\n",
    "\n",
    "if game_info[0]['status'] == 'Final':\n",
    "    game_status = True\n",
    "else:\n",
    "    game_status = False\n",
    "\n",
    "print(game_status)\n",
    "print(game_pk)\n",
    "print(opp_id)\n",
    "print(sPitcher_id)\n",
    "print(sPitcher_hand)\n",
    "print(venue_id)\n",
    "print(home)"
   ]
  },
  {
   "cell_type": "markdown",
   "metadata": {},
   "source": [
    "fetch player game stats: temp, wind_speed, hp_ump_id, game_time. Fetch list of proj_ump_ids if Home Plate Umpire not yet specified "
   ]
  },
  {
   "cell_type": "code",
   "execution_count": 124,
   "metadata": {},
   "outputs": [
    {
     "name": "stdout",
     "output_type": "stream",
     "text": [
      "427413\n",
      "58\n",
      "11\n",
      "1:16 PM.\n"
     ]
    }
   ],
   "source": [
    "game_boxscore_info = api.boxscore_data(gamePk=game_pk)\n",
    "\n",
    "for x in game_boxscore_info['gameBoxInfo']:\n",
    "    if x.get('label') == 'Weather':\n",
    "        temp_info = x['value']\n",
    "        temps = re.findall(r'\\d+', temp_info)\n",
    "        if temps:\n",
    "            temp = int(temps[0])\n",
    "\n",
    "    if x.get('label') == 'Wind':\n",
    "        wind_speed_info = x['value']\n",
    "        winds = re.findall(r'\\d+', wind_speed_info)\n",
    "        if winds:\n",
    "            wind_speed = int(winds[0])\n",
    "\n",
    "    if x.get('label') == 'First pitch':\n",
    "        game_time = x['value']\n",
    "\n",
    "    if x.get('label') == 'Umpires':\n",
    "        ump_info = x['value']\n",
    "        if 'HP:' in ump_info:\n",
    "            pattern = r'HP: (.*?)\\.'\n",
    "            match = re.search(pattern, ump_info)\n",
    "            if match:\n",
    "                hp_ump = match.group(1)\n",
    "                hp_ump_info = api.get('jobs_umpires', {})\n",
    "                for person in hp_ump_info['roster']:\n",
    "                    if person['person'].get('fullName') == hp_ump:\n",
    "                        hp_ump_id = person['person'].get('id')\n",
    "                        print(hp_ump_id)\n",
    "\n",
    "        else:\n",
    "            umps = re.findall(r'[\\w\\s]+', ump_info)\n",
    "            umps = [ump.strip() for ump in umps if ump.strip]\n",
    "            ump_list = list(umps) + [None]*(4-len(umps))\n",
    "            umps_tuple = tuple(ump_list[:4])\n",
    "            proj_ump_ids = []\n",
    "            for ump in umps_tuple:\n",
    "                ump_info = api.get('jobs_umpires',{})\n",
    "                for person in ump_info['roster']:\n",
    "                    if person['person'].get('fullName') == ump:\n",
    "                        ump_id = person['person'].get('id')\n",
    "                        proj_ump_ids.append(ump_id)\n",
    "            print(proj_ump_ids)\n",
    "\n",
    "            \n",
    "\n",
    "print(temp)\n",
    "print(wind_speed)\n",
    "print(game_time)\n"
   ]
  },
  {
   "cell_type": "markdown",
   "metadata": {},
   "source": [
    "fetch player game data: \n",
    "- batting position"
   ]
  },
  {
   "cell_type": "code",
   "execution_count": 125,
   "metadata": {},
   "outputs": [
    {
     "name": "stdout",
     "output_type": "stream",
     "text": [
      "2\n"
     ]
    }
   ],
   "source": [
    "game_content = api.boxscore_data(gamePk=game_pk)\n",
    "if home == True:\n",
    "    batters_info = game_content['homeBatters']\n",
    "else:\n",
    "    batters_info = game_content['awayBatters']\n",
    "\n",
    "for batter in batters_info:\n",
    "    if batter.get('personId') == player_id:\n",
    "        batting_position = int(batter.get('battingOrder')[0])\n",
    "        print (batting_position)\n"
   ]
  },
  {
   "cell_type": "markdown",
   "metadata": {},
   "source": [
    "fetch game player stats\n",
    "- If game_status == True\n",
    "    - gather player stats\n",
    "- If game_status == False\n",
    "    - set player stats to None"
   ]
  },
  {
   "cell_type": "code",
   "execution_count": 126,
   "metadata": {},
   "outputs": [
    {
     "name": "stdout",
     "output_type": "stream",
     "text": [
      "ab: 6\n",
      "h: 3\n",
      "r: 2\n",
      "rbi: 1\n",
      "hr: 0\n",
      "k: 1\n",
      "bb: 0\n"
     ]
    }
   ],
   "source": [
    "if game_status == True:\n",
    "    game_stats_info = api.get('person_stats',{'personId':player_id,'gamePk':game_pk})\n",
    "    game_stats = game_stats_info['stats'][0]['splits'][2]['stat']\n",
    "    ab = game_stats.get('atBats')\n",
    "    h = game_stats.get('hits')\n",
    "    r = game_stats.get('runs')\n",
    "    rbi = game_stats.get('rbi')\n",
    "    hr = game_stats.get('homeRuns')\n",
    "    k = game_stats.get('strikeOuts')\n",
    "    bb = game_stats.get('baseOnBalls')\n",
    "\n",
    "else:\n",
    "    ab = None\n",
    "    h = None\n",
    "    r = None\n",
    "    rbi = None\n",
    "    hr = None\n",
    "    k = None\n",
    "    bb = None\n",
    "\n",
    "\n",
    "print(f'ab: {ab}')\n",
    "print(f'h: {h}')\n",
    "print(f'r: {r}')\n",
    "print(f'rbi: {rbi}')\n",
    "print(f'hr: {hr}')\n",
    "print(f'k: {k}')\n",
    "print(f'bb: {bb}')\n",
    "\n",
    "    "
   ]
  },
  {
   "cell_type": "markdown",
   "metadata": {},
   "source": [
    "Format player URL for finding streak averages"
   ]
  },
  {
   "cell_type": "code",
   "execution_count": 127,
   "metadata": {},
   "outputs": [
    {
     "name": "stdout",
     "output_type": "stream",
     "text": [
      "william-contreras\n"
     ]
    }
   ],
   "source": [
    "formatted_player_name = player_name.replace(' ', '-')\n",
    "print(formatted_player_name)\n",
    "\n",
    "streak_url = f'https://www.mlb.com/player/{formatted_player_name}-{player_id}'\n"
   ]
  },
  {
   "cell_type": "markdown",
   "metadata": {},
   "source": [
    "Fetch Streak Averages Data"
   ]
  },
  {
   "cell_type": "code",
   "execution_count": 128,
   "metadata": {},
   "outputs": [],
   "source": [
    "response = requests.get(streak_url)\n",
    "response.raise_for_status()\n",
    "\n",
    "soup = BeautifulSoup(response.content, 'html.parser')\n",
    "\n",
    "div = soup.find('div', class_='player-splits--last player-splits--last-x')\n",
    "\n",
    "header = div.find('thead').find('tr')\n",
    "\n",
    "headers = {}\n",
    "\n",
    "for th in header.find_all('th'):\n",
    "    stat_index = th['data-index']\n",
    "    stat_header = th.find('span')\n",
    "    stat_name = stat_header.text\n",
    "    headers[stat_index] = stat_name\n",
    "\n",
    "table_row = div.find('tbody').find_all('tr')\n",
    "\n",
    "data = []\n",
    "\n",
    "for row in table_row:\n",
    "\n",
    "    row_data = {}\n",
    "    for td in row.find_all('td'):\n",
    "        stat_type = td['data-col']\n",
    "        stat = td.find('span')\n",
    "        stat_value = stat.text\n",
    "        row_data[headers[stat_type]] = stat_value\n",
    "    \n",
    "    if row_data:\n",
    "        data.append(row_data)\n"
   ]
  },
  {
   "cell_type": "markdown",
   "metadata": {},
   "source": [
    "Set Streak Averages to Appropriate Variable"
   ]
  },
  {
   "cell_type": "code",
   "execution_count": 129,
   "metadata": {},
   "outputs": [
    {
     "name": "stdout",
     "output_type": "stream",
     "text": [
      "   ab_last_7  h_last_7  r_last_7  rbi_last_7  hr_last_7  bb_last_7  k_last_7  \\\n",
      "0         29         9         3           5          0          3         9   \n",
      "\n",
      "   ba_last_7  obp_last_7  slg_last_7  ...  ab_last_30  h_last_30  r_last_30  \\\n",
      "0       0.31       0.375       0.345  ...          85         30         19   \n",
      "\n",
      "   rbi_last_30  hr_last_30  bb_last_30  k_last_30  ba_last_30  obp_last_30  \\\n",
      "0           20           4          10         23       0.353        0.429   \n",
      "\n",
      "   slg_last_30  \n",
      "0        0.553  \n",
      "\n",
      "[1 rows x 30 columns]\n"
     ]
    }
   ],
   "source": [
    "last_7_data = data[0]\n",
    "last_15_data = data[1]\n",
    "last_30_data = data[2]\n",
    "\n",
    "last_7_stats = {}\n",
    "last_15_stats = {}\n",
    "last_30_stats = {}\n",
    "\n",
    "last_7_stats['ab_last_7'] = int(last_7_data['AB'])\n",
    "last_7_stats['h_last_7'] = int(last_7_data['H'])\n",
    "last_7_stats['r_last_7'] = int(last_7_data['R'])\n",
    "last_7_stats['rbi_last_7'] = int(last_7_data['RBI'])\n",
    "last_7_stats['hr_last_7'] = int(last_7_data['HR'])\n",
    "last_7_stats['bb_last_7'] = int(last_7_data['BB'])\n",
    "last_7_stats['k_last_7'] = int(last_7_data['SO'])\n",
    "last_7_stats['ba_last_7'] = float(last_7_data['AVG'])\n",
    "last_7_stats['obp_last_7'] = float(last_7_data['OBP'])\n",
    "last_7_stats['slg_last_7'] = float(last_7_data['SLG'])\n",
    "\n",
    "last_15_stats['ab_last_15'] = int(last_15_data['AB'])\n",
    "last_15_stats['h_last_15'] = int(last_15_data['H'])\n",
    "last_15_stats['r_last_15'] = int(last_15_data['R'])\n",
    "last_15_stats['rbi_last_15'] = int(last_15_data['RBI'])\n",
    "last_15_stats['hr_last_15'] = int(last_15_data['HR'])\n",
    "last_15_stats['bb_last_15'] = int(last_15_data['BB'])\n",
    "last_15_stats['k_last_15'] = int(last_15_data['SO'])\n",
    "last_15_stats['ba_last_15'] = float(last_15_data['AVG'])\n",
    "last_15_stats['obp_last_15'] = float(last_15_data['OBP'])\n",
    "last_15_stats['slg_last_15'] = float(last_15_data['SLG'])\n",
    "\n",
    "last_30_stats['ab_last_30'] = int(last_30_data['AB'])\n",
    "last_30_stats['h_last_30'] = int(last_30_data['H'])\n",
    "last_30_stats['r_last_30'] = int(last_30_data['R'])\n",
    "last_30_stats['rbi_last_30'] = int(last_30_data['RBI'])\n",
    "last_30_stats['hr_last_30'] = int(last_30_data['HR'])\n",
    "last_30_stats['bb_last_30'] = int(last_30_data['BB'])\n",
    "last_30_stats['k_last_30'] = int(last_30_data['SO'])\n",
    "last_30_stats['ba_last_30'] = float(last_30_data['AVG'])\n",
    "last_30_stats['obp_last_30'] = float(last_30_data['OBP'])\n",
    "last_30_stats['slg_last_30'] = float(last_30_data['SLG'])\n",
    "\n",
    "last_7_df = pd.DataFrame([last_7_stats])\n",
    "last_15_df = pd.DataFrame([last_15_stats])\n",
    "last_30_df = pd.DataFrame([last_30_stats])\n",
    "\n",
    "streak_data = pd.concat([last_7_df, last_15_df, last_30_df], axis=1)\n",
    "\n",
    "print(streak_data)"
   ]
  },
  {
   "cell_type": "markdown",
   "metadata": {},
   "source": [
    "Fetch Batter Season Averages"
   ]
  },
  {
   "cell_type": "code",
   "execution_count": null,
   "metadata": {},
   "outputs": [],
   "source": []
  },
  {
   "cell_type": "markdown",
   "metadata": {},
   "source": [
    "Add Season Averages to Streak Data"
   ]
  },
  {
   "cell_type": "code",
   "execution_count": null,
   "metadata": {},
   "outputs": [],
   "source": []
  },
  {
   "cell_type": "markdown",
   "metadata": {},
   "source": [
    "Fetch Starting Pitcher Season Data"
   ]
  },
  {
   "cell_type": "code",
   "execution_count": null,
   "metadata": {},
   "outputs": [],
   "source": []
  },
  {
   "cell_type": "markdown",
   "metadata": {},
   "source": [
    "Format Batter vs Starting Pitcher URL"
   ]
  },
  {
   "cell_type": "code",
   "execution_count": 130,
   "metadata": {},
   "outputs": [],
   "source": [
    "formatted_batter_name = player_name.replace(' ', '%20')\n",
    "\n",
    "bvp_url = f'https://baseballsavant.mlb.com/illustrator?playerId={player_id}&playerType=batter&name={formatted_batter_name}&tabSelection=0&shape=square&shapeName=Square%20(Instagram)&subTitle=&chartType=zoneChart-totalPitches&chartName=Zone%20-%20Total%20Pitches&pitcherThrows=&batterStands=&plateAppearanceResults=[]&pitchTypes=[]&seasonType=[%22R%22]&pitchResults=[]&facingPlayer=[%22{sPitcher_id}%22]&balls=[]&battedBallType=[]&years=[{year}]&strikes=[]&outs=[]&selectedGames=[]&homeTeam=[]&awayTeam=[]&vsTeam=[]&exitVelocityGT=0&exitVelocityLT=125&pitchVelocityGT=0&pitchVelocityLT=105&launchAngleGT=-90&launchAngleLT=90&perspective=catcher&venue=7'"
   ]
  },
  {
   "cell_type": "markdown",
   "metadata": {},
   "source": [
    "Fetch Batter vs Starting Pitcher Stats"
   ]
  },
  {
   "cell_type": "code",
   "execution_count": 131,
   "metadata": {},
   "outputs": [
    {
     "name": "stdout",
     "output_type": "stream",
     "text": [
      "   vs_sp_pa  vs_sp_p  vs_sp_h  vs_sp_hr  vs_sp_k  vs_sp_k_p  vs_sp_ba\n",
      "0         3       14        1         0        1      0.333     0.333\n"
     ]
    }
   ],
   "source": [
    "bvp_raw_data = {}\n",
    "bvp_data = {'vs_sp_pa': None,\n",
    "'vs_sp_p': None,\n",
    "'vs_sp_h': None,\n",
    "'vs_sp_hr': None,\n",
    "'vs_sp_ba': None,\n",
    "'vs_sp_k': None,\n",
    "'vs_sp_k_p': None }\n",
    "\n",
    "service = Service(ChromeDriverManager().install())\n",
    "driver = webdriver.Chrome(service=service)\n",
    "\n",
    "driver.get(bvp_url)\n",
    "\n",
    "driver.implicitly_wait(10)\n",
    "\n",
    "stats_boxes = driver.find_elements(By.CLASS_NAME, 'stats-box')\n",
    "\n",
    "for stats_box in stats_boxes:\n",
    "    stat_type = stats_box.find_element(By.CLASS_NAME, 'stats-title')\n",
    "    stat_value = stats_box.find_element(By.CLASS_NAME, 'stats-value')\n",
    "    bvp_raw_data[stat_type.text] = stat_value.text\n",
    "\n",
    "\n",
    "driver.quit()\n",
    "\n",
    "bvp_data['vs_sp_pa'] = int(bvp_raw_data['PA'])\n",
    "bvp_data['vs_sp_p'] = int(bvp_raw_data['Pitches'])\n",
    "bvp_data['vs_sp_h'] = int(bvp_raw_data['H'])\n",
    "bvp_data['vs_sp_hr'] = int(bvp_raw_data['HR'])\n",
    "bvp_data['vs_sp_ba'] = float(bvp_raw_data['AVG'])\n",
    "bvp_data['vs_sp_k'] = int(bvp_raw_data['SO'])\n",
    "bvp_data['vs_sp_k_p'] = round((float(bvp_raw_data['K%']) / 100), 3)\n",
    "\n",
    "bvp_data_df = pd.DataFrame([bvp_data])\n",
    "\n",
    "print(bvp_data_df)\n",
    "\n"
   ]
  },
  {
   "cell_type": "markdown",
   "metadata": {},
   "source": [
    "Format URL for Batter vs Opp Data"
   ]
  },
  {
   "cell_type": "code",
   "execution_count": null,
   "metadata": {},
   "outputs": [],
   "source": []
  },
  {
   "cell_type": "markdown",
   "metadata": {},
   "source": [
    "Fetch Batter vs Opp Stats"
   ]
  },
  {
   "cell_type": "code",
   "execution_count": null,
   "metadata": {},
   "outputs": [],
   "source": []
  },
  {
   "cell_type": "markdown",
   "metadata": {},
   "source": [
    "Fetch Umpire Stats\n",
    "- If Home Plate Ump announced\n",
    "    - Return data for only HP ump \n",
    "- If Home Plate Ump not yet announced\n",
    "    - Fetch data for all 4 umps\n",
    "    - hp_ump stats = avg of 4 umps stats"
   ]
  },
  {
   "cell_type": "code",
   "execution_count": null,
   "metadata": {},
   "outputs": [],
   "source": []
  },
  {
   "cell_type": "markdown",
   "metadata": {},
   "source": [
    "Fetch Venue Stats *WIP"
   ]
  },
  {
   "cell_type": "code",
   "execution_count": null,
   "metadata": {},
   "outputs": [],
   "source": []
  }
 ],
 "metadata": {
  "kernelspec": {
   "display_name": "venv",
   "language": "python",
   "name": "python3"
  },
  "language_info": {
   "codemirror_mode": {
    "name": "ipython",
    "version": 3
   },
   "file_extension": ".py",
   "mimetype": "text/x-python",
   "name": "python",
   "nbconvert_exporter": "python",
   "pygments_lexer": "ipython3",
   "version": "3.12.3"
  }
 },
 "nbformat": 4,
 "nbformat_minor": 2
}
