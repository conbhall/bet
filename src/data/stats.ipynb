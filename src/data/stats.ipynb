{
 "cells": [
  {
   "cell_type": "markdown",
   "metadata": {},
   "source": [
    "Import Necessary Libraries"
   ]
  },
  {
   "cell_type": "code",
   "execution_count": 254,
   "metadata": {},
   "outputs": [],
   "source": [
    "import statsapi as api\n",
    "import pandas as pd\n",
    "import tempfile\n",
    "import os\n",
    "import re\n",
    "import requests\n",
    "from bs4 import BeautifulSoup, SoupStrainer\n",
    "from selenium import webdriver\n",
    "from selenium.webdriver.common.by import By\n",
    "from selenium.webdriver.chrome.service import Service\n",
    "from webdriver_manager.chrome import ChromeDriverManager\n"
   ]
  },
  {
   "cell_type": "markdown",
   "metadata": {},
   "source": [
    "Input Player Name and Date\n",
    "\n",
    "\n",
    "NEED TO CHECK AND FIX ALL CELLS: IF STATS FOR SOMETHING DO NOT EXIST NEED TO DEAL WITH THAT!\n",
    "\n",
    "ALSO NEED TO ENSURE CORRECT VALUES ARE PASSED IN FOR COMPUTING CORRECT VALUES\n",
    "\n",
    "NEED TO CHECK PLAYER AVG OVER X GAMES - NEED TO COMPUTE PLAYER AVG OVER LAST GAME FOR PAST SEASONS AS WELL\n",
    "\n",
    "NEED TO ENSURE THAT ALL DATA IS OF CORRECT TYPE, CORRECT VALUES, CORRECT YEARS, AND IF NONE NEEDS TO BE HANDLED\n",
    "\n",
    "FIX CURRENT SET UP FOR COMPUTING AVERAGES. SHIT IS BUGGY AS FUCK\n",
    "\n",
    "IF IT APPEARS TO BE GOOD: THERE WILL BE :P NEXT TO IT. IF NEEDS ADJUSTMENTS, VERIFICATION, OR REWORK, :( NEXT TO IT\n",
    "\n",
    "ESPECIALLY DECIDE HOW TO DEAL WITH EDGE CASES AND DIVISION BY 0."
   ]
  },
  {
   "cell_type": "code",
   "execution_count": 255,
   "metadata": {},
   "outputs": [
    {
     "name": "stdout",
     "output_type": "stream",
     "text": [
      "2024\n"
     ]
    }
   ],
   "source": [
    "first_name = input(\"Enter Player First Name: \")\n",
    "last_name = input('Enter Player Last Name: ')\n",
    "date = '2024-04-23'\n",
    "year = int(date[:4])\n",
    "print(year)\n",
    "player_name = f'{first_name.lower()} {last_name.lower()}'\n"
   ]
  },
  {
   "cell_type": "markdown",
   "metadata": {},
   "source": [
    "fetch player_id :P"
   ]
  },
  {
   "cell_type": "code",
   "execution_count": 256,
   "metadata": {},
   "outputs": [
    {
     "name": "stdout",
     "output_type": "stream",
     "text": [
      "661388\n",
      "158\n"
     ]
    }
   ],
   "source": [
    "player_info = api.lookup_player(player_name, season=year)\n",
    "player_id = player_info[0]['id']\n",
    "team_id = player_info[0]['currentTeam']['id']\n",
    "print(player_id)\n",
    "print(team_id)"
   ]
  },
  {
   "cell_type": "markdown",
   "metadata": {},
   "source": [
    "Gather batter_hand, batter_age, , batter_strike_zone_top, batter_strike_zone_bottom :P"
   ]
  },
  {
   "cell_type": "code",
   "execution_count": 257,
   "metadata": {},
   "outputs": [
    {
     "name": "stdout",
     "output_type": "stream",
     "text": [
      "26\n",
      "4\n",
      "R\n",
      "3.46\n",
      "1.67\n"
     ]
    }
   ],
   "source": [
    "person_info = api.get('people',{'personIds':player_id, 'season':year,'sportId':1})\n",
    "batter_hand = person_info['people'][0]['batSide']['code']\n",
    "batter_age = person_info['people'][0]['currentAge']\n",
    "batter_strike_zone_top = person_info['people'][0]['strikeZoneTop']\n",
    "batter_strike_zone_bottom = person_info['people'][0]['strikeZoneBottom']\n",
    "batter_starting_year = int(person_info['people'][0]['mlbDebutDate'][:4])\n",
    "batter_year = year - batter_starting_year\n",
    "\n",
    "\n",
    "print(batter_age)\n",
    "print(batter_year)\n",
    "print(batter_hand)\n",
    "print(batter_strike_zone_top)\n",
    "print(batter_strike_zone_bottom)"
   ]
  },
  {
   "cell_type": "markdown",
   "metadata": {},
   "source": [
    "fetch game_pk, home, opp_id, venue_id, sPitcher_id, sPitcher_hand :P"
   ]
  },
  {
   "cell_type": "code",
   "execution_count": 258,
   "metadata": {},
   "outputs": [
    {
     "name": "stdout",
     "output_type": "stream",
     "text": [
      "False\n",
      "745516\n",
      "134\n",
      "Bailey Falter\n",
      "663559\n",
      "L\n",
      "31\n",
      "False\n"
     ]
    }
   ],
   "source": [
    "game_info = api.schedule(date=date,team=team_id,sportId=1)\n",
    "game_pk = game_info[0]['game_id']\n",
    "home_team_id = game_info[0]['home_id']\n",
    "if home_team_id == team_id:\n",
    "    home = True\n",
    "    opp_id = game_info[0]['away_id']\n",
    "    sPitcher_name = game_info[0]['away_probable_pitcher']\n",
    "else:\n",
    "    home = False\n",
    "    opp_id = game_info[0]['home_id']\n",
    "    sPitcher_name = game_info[0]['home_probable_pitcher']\n",
    "\n",
    "sPitcher_info = api.lookup_player(sPitcher_name)\n",
    "sPitcher_id = sPitcher_info[0]['id']\n",
    "sPitcher_info_2 = api.get('people',{'personIds':sPitcher_id, 'season':year,'sportId':1})\n",
    "sPitcher_hand = sPitcher_info_2['people'][0]['pitchHand']['code']\n",
    "\n",
    "venue_id = game_info[0]['venue_id']\n",
    "\n",
    "if game_info[0]['status'] == 'Final':\n",
    "    game_status = True\n",
    "else:\n",
    "    game_status = False\n",
    "\n",
    "print(game_status)\n",
    "print(game_pk)\n",
    "print(opp_id)\n",
    "print(sPitcher_name)\n",
    "print(sPitcher_id)\n",
    "print(sPitcher_hand)\n",
    "print(venue_id)\n",
    "print(home)"
   ]
  },
  {
   "cell_type": "markdown",
   "metadata": {},
   "source": [
    "fetch player game stats: temp, wind_speed, hp_ump_id, game_time. Fetch list of proj_ump_ids if Home Plate Umpire not yet specified :(\n",
    "\n",
    "What should happen when this data isnt uploaded yet?"
   ]
  },
  {
   "cell_type": "code",
   "execution_count": 259,
   "metadata": {},
   "outputs": [
    {
     "name": "stdout",
     "output_type": "stream",
     "text": [
      "623949\n",
      "66\n",
      "9\n",
      "6:40 pm.\n"
     ]
    }
   ],
   "source": [
    "game_boxscore_info = api.boxscore_data(gamePk=game_pk)\n",
    "\n",
    "temp = None\n",
    "wind_speed = None\n",
    "game_time = None\n",
    "\n",
    "for x in game_boxscore_info['gameBoxInfo']:\n",
    "    if x.get('label') == 'Weather':\n",
    "        temp_info = x['value']\n",
    "        temps = re.findall(r'\\d+', temp_info)\n",
    "        if temps:\n",
    "            temp = int(temps[0])\n",
    "            \n",
    "\n",
    "    if x.get('label') == 'Wind':\n",
    "        wind_speed_info = x['value']\n",
    "        winds = re.findall(r'\\d+', wind_speed_info)\n",
    "        if winds:\n",
    "            wind_speed = int(winds[0])\n",
    "            \n",
    "\n",
    "    if x.get('label') == 'First pitch':\n",
    "        game_time = x['value']\n",
    "        \n",
    "\n",
    "    if x.get('label') == 'Umpires':\n",
    "        ump_info = x['value']\n",
    "        if 'HP:' in ump_info:\n",
    "            pattern = r'HP: (.*?)\\.'\n",
    "            match = re.search(pattern, ump_info)\n",
    "            if match:\n",
    "                hp_ump = match.group(1)\n",
    "                hp_ump_info = api.get('jobs_umpires', {})\n",
    "                for person in hp_ump_info['roster']:\n",
    "                    if person['person'].get('fullName') == hp_ump:\n",
    "                        hp_ump_id = person['person'].get('id')\n",
    "                        print(hp_ump_id)\n",
    "\n",
    "        else:\n",
    "            umps = re.findall(r'[\\w\\s]+', ump_info)\n",
    "            umps = [ump.strip() for ump in umps if ump.strip]\n",
    "            ump_list = list(umps) + [None]*(4-len(umps))\n",
    "            umps_tuple = tuple(ump_list[:4])\n",
    "            proj_ump_ids = []\n",
    "            for ump in umps_tuple:\n",
    "                ump_info = api.get('jobs_umpires',{})\n",
    "                for person in ump_info['roster']:\n",
    "                    if person['person'].get('fullName') == ump:\n",
    "                        ump_id = person['person'].get('id')\n",
    "                        proj_ump_ids.append(ump_id)\n",
    "            print(proj_ump_ids)\n",
    "\n",
    "print(temp)\n",
    "print(wind_speed)\n",
    "print(game_time)\n",
    "\n"
   ]
  },
  {
   "cell_type": "markdown",
   "metadata": {},
   "source": [
    "fetch player game data: :P\n",
    "- batting position"
   ]
  },
  {
   "cell_type": "code",
   "execution_count": 260,
   "metadata": {},
   "outputs": [
    {
     "name": "stdout",
     "output_type": "stream",
     "text": [
      "2\n"
     ]
    }
   ],
   "source": [
    "game_content = api.boxscore_data(gamePk=game_pk)\n",
    "if home == True:\n",
    "    batters_info = game_content['homeBatters']\n",
    "else:\n",
    "    batters_info = game_content['awayBatters']\n",
    "\n",
    "batting_position = None\n",
    "\n",
    "for batter in batters_info:\n",
    "    if batter.get('personId') == player_id:\n",
    "        batting_position = int(batter.get('battingOrder')[0])\n",
    "\n",
    "print (batting_position)\n",
    "\n",
    "\n"
   ]
  },
  {
   "cell_type": "markdown",
   "metadata": {},
   "source": [
    "fetch game player stats :P\n",
    "- If game_status == True\n",
    "    - gather player stats\n",
    "- If game_status == False\n",
    "    - set player stats to None"
   ]
  },
  {
   "cell_type": "code",
   "execution_count": 261,
   "metadata": {},
   "outputs": [
    {
     "name": "stdout",
     "output_type": "stream",
     "text": [
      "ab: None\n",
      "h: None\n",
      "r: None\n",
      "rbi: None\n",
      "hr: None\n",
      "k: None\n",
      "bb: None\n"
     ]
    }
   ],
   "source": [
    "if game_status == True:\n",
    "    game_stats_info = api.get('person_stats',{'personId':player_id,'gamePk':game_pk})\n",
    "    game_stats = game_stats_info['stats'][0]['splits'][2]['stat']\n",
    "    ab = game_stats.get('atBats')\n",
    "    h = game_stats.get('hits')\n",
    "    r = game_stats.get('runs')\n",
    "    rbi = game_stats.get('rbi')\n",
    "    hr = game_stats.get('homeRuns')\n",
    "    k = game_stats.get('strikeOuts')\n",
    "    bb = game_stats.get('baseOnBalls')\n",
    "\n",
    "else:\n",
    "    ab = None\n",
    "    h = None\n",
    "    r = None\n",
    "    rbi = None\n",
    "    hr = None\n",
    "    k = None\n",
    "    bb = None\n",
    "\n",
    "\n",
    "print(f'ab: {ab}')\n",
    "print(f'h: {h}')\n",
    "print(f'r: {r}')\n",
    "print(f'rbi: {rbi}')\n",
    "print(f'hr: {hr}')\n",
    "print(f'k: {k}')\n",
    "print(f'bb: {bb}')\n",
    "\n",
    "    "
   ]
  },
  {
   "cell_type": "markdown",
   "metadata": {},
   "source": [
    "Determine Whether Most Recent Streak Averages, or Historical Streak Averages are Needed for Player"
   ]
  },
  {
   "cell_type": "code",
   "execution_count": null,
   "metadata": {},
   "outputs": [],
   "source": []
  },
  {
   "cell_type": "markdown",
   "metadata": {},
   "source": [
    "Format player URL for finding most recent streak averages :P"
   ]
  },
  {
   "cell_type": "code",
   "execution_count": 262,
   "metadata": {},
   "outputs": [
    {
     "name": "stdout",
     "output_type": "stream",
     "text": [
      "william-contreras\n",
      "https://www.mlb.com/player/william-contreras-661388\n"
     ]
    }
   ],
   "source": [
    "formatted_player_name = player_name.replace(' ', '-')\n",
    "formatted_player_name = formatted_player_name.replace('í', 'i')\n",
    "\n",
    "streak_url = f'https://www.mlb.com/player/{formatted_player_name}-{player_id}'\n"
   ]
  },
  {
   "cell_type": "markdown",
   "metadata": {},
   "source": [
    "Fetch Most Recent Streak Averages Data :(\n",
    "\n",
    "What Should Happen when this data doesnt exist yet???"
   ]
  },
  {
   "cell_type": "code",
   "execution_count": 263,
   "metadata": {},
   "outputs": [],
   "source": [
    "response = requests.get(streak_url)\n",
    "response.raise_for_status()\n",
    "\n",
    "soup = BeautifulSoup(response.content, 'html.parser')\n",
    "\n",
    "div = soup.find('div', class_='player-splits--last player-splits--last-x')\n",
    "\n",
    "header = div.find('thead').find('tr')\n",
    "\n",
    "headers = {}\n",
    "\n",
    "for th in header.find_all('th'):\n",
    "    stat_index = th['data-index']\n",
    "    stat_header = th.find('span')\n",
    "    stat_name = stat_header.text\n",
    "    headers[stat_index] = stat_name\n",
    "\n",
    "table_row = div.find('tbody').find_all('tr')\n",
    "\n",
    "data = []\n",
    "\n",
    "for row in table_row:\n",
    "\n",
    "    row_data = {}\n",
    "    for td in row.find_all('td'):\n",
    "        stat_type = td['data-col']\n",
    "        stat = td.find('span')\n",
    "        stat_value = stat.text\n",
    "        if '-' in stat_value:\n",
    "            stat_value = None\n",
    "        if stat_type != '0':\n",
    "            row_data[headers[stat_type]] = stat_value\n",
    "    \n",
    "    if row_data:\n",
    "        data.append(row_data)\n"
   ]
  },
  {
   "cell_type": "markdown",
   "metadata": {},
   "source": [
    "Set Streak Averages to Appropriate Variable :(:(:(:L(:(\n",
    "\n",
    "FIX THIS!!! LITERALLY EVERYTHING ABOUT IT\n",
    "FIX HOW TO COMPUTE AVERAGES\n",
    "FIX HOW TO DEAL WITH THIS WHEN DATA DOESN'T EXIST\n",
    "DETERMINE WHEN TO PULL HISTORICAL DATA OR MOST RECENT DATA\n",
    "DETERMINE HOW TO PULL HISTORICAL DATA AND FROM WHERE\n",
    "DEAL WITH THE FUCKING DIVIDE BY 0\n",
    "THIS WHOLE CELL MAKES MY EYES HURT "
   ]
  },
  {
   "cell_type": "code",
   "execution_count": 264,
   "metadata": {},
   "outputs": [
    {
     "name": "stdout",
     "output_type": "stream",
     "text": [
      "   ab_last_7  h_last_7  r_last_7  rbi_last_7  hr_last_7  bb_last_7  k_last_7  \\\n",
      "0      4.143     1.286     0.429       0.714        0.0      0.429     1.286   \n",
      "\n",
      "   ba_last_7  obp_last_7  slg_last_7  ...  ab_last_30  h_last_30  r_last_30  \\\n",
      "0       0.31       0.375       0.345  ...       2.833        1.0      0.633   \n",
      "\n",
      "   rbi_last_30  hr_last_30  bb_last_30  k_last_30  ba_last_30  obp_last_30  \\\n",
      "0        0.667       0.133       0.333      0.767       0.353        0.429   \n",
      "\n",
      "   slg_last_30  \n",
      "0        0.553  \n",
      "\n",
      "[1 rows x 30 columns]\n"
     ]
    }
   ],
   "source": [
    "last_7_data = data[0]\n",
    "last_15_data = data[1]\n",
    "last_30_data = data[2]\n",
    "\n",
    "last_7_stats = {}\n",
    "last_15_stats = {}\n",
    "last_30_stats = {}\n",
    "\n",
    "if last_7_data:\n",
    "\n",
    "    last_7_stats['ab_last_7'] = round((int(last_7_data['AB']) / 7 ), 3)\n",
    "    last_7_stats['h_last_7'] = round((int(last_7_data['H']) / 7 ), 3)\n",
    "    last_7_stats['r_last_7'] = round((int(last_7_data['R']) / 7 ), 3)\n",
    "    last_7_stats['rbi_last_7'] = round((int(last_7_data['RBI']) / 7 ), 3)\n",
    "    last_7_stats['hr_last_7'] = round((int(last_7_data['HR']) / 7 ), 3)\n",
    "    last_7_stats['bb_last_7'] = round((int(last_7_data['BB']) / 7 ), 3)\n",
    "    last_7_stats['k_last_7'] = round((int(last_7_data['SO']) / 7 ), 3)\n",
    "    last_7_stats['ba_last_7'] = float(last_7_data['AVG'])\n",
    "    last_7_stats['obp_last_7'] = float(last_7_data['OBP'])\n",
    "    last_7_stats['slg_last_7'] = float(last_7_data['SLG'])\n",
    "    last_7_df = pd.DataFrame([last_7_stats])\n",
    "\n",
    "    if last_15_data:\n",
    "\n",
    "        last_15_stats['ab_last_15'] = round((int(last_15_data['AB']) / 15 ), 3)\n",
    "        last_15_stats['h_last_15'] = round((int(last_15_data['H']) / 15 ), 3)\n",
    "        last_15_stats['r_last_15'] = round((int(last_15_data['R']) / 15 ), 3)\n",
    "        last_15_stats['rbi_last_15'] = round((int(last_15_data['RBI']) / 15 ), 3)\n",
    "        last_15_stats['hr_last_15'] = round((int(last_15_data['HR']) / 15 ), 3)\n",
    "        last_15_stats['bb_last_15'] = round((int(last_15_data['BB']) / 15 ), 3)\n",
    "        last_15_stats['k_last_15'] = round((int(last_15_data['SO']) / 15 ), 3)\n",
    "        last_15_stats['ba_last_15'] = float(last_15_data['AVG'])\n",
    "        last_15_stats['obp_last_15'] = float(last_15_data['OBP'])\n",
    "        last_15_stats['slg_last_15'] = float(last_15_data['SLG'])\n",
    "        last_15_df = pd.DataFrame([last_15_stats])\n",
    "\n",
    "        if last_30_data:\n",
    "\n",
    "            last_30_stats['ab_last_30'] = round((int(last_30_data['AB']) / 30 ), 3)\n",
    "            last_30_stats['h_last_30'] = round((int(last_30_data['H']) / 30 ), 3)\n",
    "            last_30_stats['r_last_30'] = round((int(last_30_data['R']) / 30 ), 3)\n",
    "            last_30_stats['rbi_last_30'] = round((int(last_30_data['RBI']) / 30 ), 3)\n",
    "            last_30_stats['hr_last_30'] = round((int(last_30_data['HR']) / 30 ), 3)\n",
    "            last_30_stats['bb_last_30'] = round((int(last_30_data['BB']) / 30 ), 3)\n",
    "            last_30_stats['k_last_30'] = round((int(last_30_data['SO']) / 30 ), 3)\n",
    "            last_30_stats['ba_last_30'] = float(last_30_data['AVG'])\n",
    "            last_30_stats['obp_last_30'] = float(last_30_data['OBP'])\n",
    "            last_30_stats['slg_last_30'] = float(last_30_data['SLG'])\n",
    "            last_30_df = pd.DataFrame([last_30_stats])\n",
    "            streak_data_df = pd.concat([last_7_df, last_15_df, last_30_df], axis=1)\n",
    "        \n",
    "        else:\n",
    "            streak_data_df = pd.concat([last_7_df, last_15_df], axis=1)\n",
    "    \n",
    "    else:\n",
    "        streak_data_df = last_7_df\n",
    "\n",
    "else:\n",
    "    streak_data_df = None\n",
    "\n",
    "\n",
    "print(streak_data_df)"
   ]
  },
  {
   "cell_type": "markdown",
   "metadata": {},
   "source": [
    "Fetch Historical Streak Averages "
   ]
  },
  {
   "cell_type": "code",
   "execution_count": null,
   "metadata": {},
   "outputs": [],
   "source": []
  },
  {
   "cell_type": "markdown",
   "metadata": {},
   "source": [
    "Fetch Batter Season Averages :(\n",
    "\n",
    "NO DIVIDE BY 0!!!"
   ]
  },
  {
   "cell_type": "code",
   "execution_count": 265,
   "metadata": {},
   "outputs": [
    {
     "name": "stdout",
     "output_type": "stream",
     "text": [
      "   ab_per_game  h_per_game  r_per_game  rbi_per_game  hr_per_game  \\\n",
      "0        4.048       1.429       0.905         0.952         0.19   \n",
      "\n",
      "   bb_per_game  k_per_game  ab_per_h  ab_per_r  ab_per_rbi ab_per_hr  \n",
      "0        0.476       1.095     2.833     4.474        4.25     21.25  \n"
     ]
    }
   ],
   "source": [
    "season_info = api.player_stat_data(personId=player_id, group='[hitting]', type='yearByYear', sportId=1)\n",
    "\n",
    "for season in season_info['stats']:\n",
    "    if int(season['season']) == year:\n",
    "        season_data = season['stats']\n",
    "\n",
    "games_played = season_data['gamesPlayed']\n",
    "\n",
    "season_stats = {}\n",
    "\n",
    "#season_stats['ab_szn'] = season_data['atBats']\n",
    "#season_stats['h_szn'] = season_data['hits']\n",
    "#season_stats['r_szn'] = season_data['runs']\n",
    "#season_stats['rbi_szn'] = season_data['rbi']\n",
    "#season_stats['hr_szn'] = season_data['homeRuns']\n",
    "#season_stats['bb_szn'] = season_data['baseOnBalls']\n",
    "#season_stats['k_szn'] = season_data['strikeOuts']\n",
    "#season_stats['ba_szn'] = season_data['avg']\n",
    "#season_stats['obp_szn'] = season_data['obp']\n",
    "#season_stats['slg_szn'] = season_data['slg']\n",
    "\n",
    "season_stats['ab_per_game'] = round((season_data['atBats'] / games_played), 3)\n",
    "season_stats['h_per_game'] = round((season_data['hits'] / games_played), 3)\n",
    "season_stats['r_per_game'] = round((season_data['runs'] / games_played), 3)\n",
    "season_stats['rbi_per_game'] = round((season_data['rbi'] / games_played), 3)\n",
    "season_stats['hr_per_game'] = round((season_data['homeRuns'] / games_played), 3)\n",
    "season_stats['bb_per_game'] = round((season_data['baseOnBalls'] / games_played), 3)\n",
    "season_stats['k_per_game'] = round((season_data['strikeOuts'] / games_played), 3)\n",
    "\n",
    "season_stats['ab_per_h'] = round((season_data['atBats'] / season_data['hits']), 3) # FIX FOR /0\n",
    "season_stats['ab_per_r'] = round((season_data['atBats'] / season_data['runs']), 3) #FIX FOR /0\n",
    "season_stats['ab_per_rbi'] = round((season_data['atBats'] / season_data['rbi']), 3) # FIX FOR /0\n",
    "season_stats['ab_per_hr'] = season_data['atBatsPerHomeRun']\n",
    "\n",
    "season_stats_df = pd.DataFrame([season_stats])\n",
    "\n",
    "print(season_stats_df)\n"
   ]
  },
  {
   "cell_type": "markdown",
   "metadata": {},
   "source": [
    "Merge Season Averages and Streak Data :(\n",
    "\n",
    "WHAT SHOULD I MERGE WHEN DATA DOESNT EXIST\n",
    "HOW TO MERGE \n",
    "not too bad will fix itself\n",
    "\n"
   ]
  },
  {
   "cell_type": "code",
   "execution_count": 266,
   "metadata": {},
   "outputs": [
    {
     "name": "stdout",
     "output_type": "stream",
     "text": [
      "   ab_last_7  h_last_7  r_last_7  rbi_last_7  hr_last_7  bb_last_7  k_last_7  \\\n",
      "0      4.143     1.286     0.429       0.714        0.0      0.429     1.286   \n",
      "\n",
      "   ba_last_7  obp_last_7  slg_last_7  ...  h_per_game  r_per_game  \\\n",
      "0       0.31       0.375       0.345  ...       1.429       0.905   \n",
      "\n",
      "   rbi_per_game  hr_per_game  bb_per_game  k_per_game  ab_per_h  ab_per_r  \\\n",
      "0         0.952         0.19        0.476       1.095     2.833     4.474   \n",
      "\n",
      "   ab_per_rbi  ab_per_hr  \n",
      "0        4.25      21.25  \n",
      "\n",
      "[1 rows x 41 columns]\n"
     ]
    }
   ],
   "source": [
    "batter_season_stats_df = pd.concat([streak_data_df, season_stats_df], axis=1)\n",
    "\n",
    "print(batter_season_stats_df)"
   ]
  },
  {
   "cell_type": "markdown",
   "metadata": {},
   "source": [
    "Fetch Starting Pitcher Season Data :(\n",
    "\n",
    "DEAL WITH DIVIDE BY 0"
   ]
  },
  {
   "cell_type": "code",
   "execution_count": 267,
   "metadata": {},
   "outputs": [
    {
     "name": "stdout",
     "output_type": "stream",
     "text": [
      "   sp_games_started  sp_pc_per_start  sp_ip_per_start  sp_h_per_start  \\\n",
      "0                 4            72.25              5.0             3.5   \n",
      "\n",
      "   sp_r_per_start  sp_hr_per_start  sp_bb_per_start  sp_outs_per_start  \\\n",
      "0            2.25             0.75             1.25               15.0   \n",
      "\n",
      "   sp_k_per_start  sp_er_per_start sp_k_p sp_era sp_whip sp_baa sp_obpa  \\\n",
      "0             2.5             2.25   .650   4.05    0.95   .189    .241   \n",
      "\n",
      "  sp_slga  sp_pc_per_batter  \n",
      "0    .351             3.658  \n"
     ]
    }
   ],
   "source": [
    "season_info = api.player_stat_data(personId=sPitcher_id, group='[pitching]', type='yearByYear', sportId=1)\n",
    "\n",
    "for season in season_info['stats']:\n",
    "    if int(season['season']) == year:\n",
    "        season_data = season['stats']\n",
    "\n",
    "games_started = season_data['gamesStarted']\n",
    "\n",
    "sp_data = {}\n",
    "\n",
    "sp_data['sp_games_started'] = games_started\n",
    "sp_data['sp_pc_per_start'] = round((season_data['numberOfPitches'] / games_started), 3)\n",
    "sp_data['sp_ip_per_start'] = round((float(season_data['inningsPitched']) / games_started), 3)\n",
    "sp_data['sp_h_per_start'] = round((season_data['hits'] / games_started), 3)\n",
    "sp_data['sp_r_per_start'] = round((season_data['runs'] / games_started), 3)\n",
    "sp_data['sp_hr_per_start'] = round((season_data['homeRuns'] / games_started), 3)\n",
    "sp_data['sp_bb_per_start'] = round((season_data['baseOnBalls'] / games_started), 3)\n",
    "sp_data['sp_outs_per_start'] = round((season_data['outs'] / games_started), 3)\n",
    "sp_data['sp_k_per_start'] = round((season_data['strikeOuts'] / games_started), 3)\n",
    "sp_data['sp_er_per_start'] = round((season_data['earnedRuns'] / games_started), 3)\n",
    "sp_data['sp_k_p'] = season_data['strikePercentage']\n",
    "sp_data['sp_era'] = season_data['era']\n",
    "sp_data['sp_whip'] = season_data['whip']\n",
    "sp_data['sp_baa'] = season_data['avg']\n",
    "sp_data['sp_obpa'] = season_data['obp']\n",
    "sp_data['sp_slga'] = season_data['slg']\n",
    "sp_data['sp_pc_per_batter'] = round((season_data['numberOfPitches']) / season_data['battersFaced'], 3)\n",
    "\n",
    "sp_data_df = pd.DataFrame([sp_data])\n",
    "\n",
    "print(sp_data_df)\n"
   ]
  },
  {
   "cell_type": "markdown",
   "metadata": {},
   "source": [
    "Format Batter vs Starting Pitcher URL :P"
   ]
  },
  {
   "cell_type": "code",
   "execution_count": 268,
   "metadata": {},
   "outputs": [],
   "source": [
    "formatted_batter_name = player_name.replace(' ', '%20')\n",
    "\n",
    "bvp_url = f'https://baseballsavant.mlb.com/illustrator?playerId={player_id}&playerType=batter&name={formatted_batter_name}&tabSelection=0&shape=square&shapeName=Square%20(Instagram)&subTitle=&chartType=zoneChart-totalPitches&chartName=Zone%20-%20Total%20Pitches&pitcherThrows=&batterStands=&plateAppearanceResults=[]&pitchTypes=[]&seasonType=[%22R%22]&pitchResults=[]&facingPlayer=[%22{sPitcher_id}%22]&balls=[]&battedBallType=[]&years=[{year}]&strikes=[]&outs=[]&selectedGames=[]&homeTeam=[]&awayTeam=[]&vsTeam=[]&exitVelocityGT=0&exitVelocityLT=125&pitchVelocityGT=0&pitchVelocityLT=105&launchAngleGT=-90&launchAngleLT=90&perspective=catcher&venue=7'"
   ]
  },
  {
   "cell_type": "markdown",
   "metadata": {},
   "source": [
    "Fetch Batter vs Starting Pitcher Stats :(\n",
    "\n",
    "DEAL WITH DIVIDE BY 0\n",
    "WHAT IF DATA DOESN\"T EXIST YET???"
   ]
  },
  {
   "cell_type": "code",
   "execution_count": 269,
   "metadata": {},
   "outputs": [
    {
     "ename": "ZeroDivisionError",
     "evalue": "division by zero",
     "output_type": "error",
     "traceback": [
      "\u001b[1;31m---------------------------------------------------------------------------\u001b[0m",
      "\u001b[1;31mZeroDivisionError\u001b[0m                         Traceback (most recent call last)",
      "Cell \u001b[1;32mIn[269], line 22\u001b[0m\n\u001b[0;32m     19\u001b[0m driver\u001b[38;5;241m.\u001b[39mquit()\n\u001b[0;32m     21\u001b[0m bvp_data[\u001b[38;5;124m'\u001b[39m\u001b[38;5;124mvs_sp_pa\u001b[39m\u001b[38;5;124m'\u001b[39m] \u001b[38;5;241m=\u001b[39m \u001b[38;5;28mint\u001b[39m(bvp_raw_data[\u001b[38;5;124m'\u001b[39m\u001b[38;5;124mPA\u001b[39m\u001b[38;5;124m'\u001b[39m])\n\u001b[1;32m---> 22\u001b[0m bvp_data[\u001b[38;5;124m'\u001b[39m\u001b[38;5;124mvs_sp_p_per_pa\u001b[39m\u001b[38;5;124m'\u001b[39m] \u001b[38;5;241m=\u001b[39m \u001b[38;5;28mround\u001b[39m((\u001b[38;5;28;43mint\u001b[39;49m\u001b[43m(\u001b[49m\u001b[43mbvp_raw_data\u001b[49m\u001b[43m[\u001b[49m\u001b[38;5;124;43m'\u001b[39;49m\u001b[38;5;124;43mPitches\u001b[39;49m\u001b[38;5;124;43m'\u001b[39;49m\u001b[43m]\u001b[49m\u001b[43m)\u001b[49m\u001b[43m \u001b[49m\u001b[38;5;241;43m/\u001b[39;49m\u001b[43m \u001b[49m\u001b[43mbvp_data\u001b[49m\u001b[43m[\u001b[49m\u001b[38;5;124;43m'\u001b[39;49m\u001b[38;5;124;43mvs_sp_pa\u001b[39;49m\u001b[38;5;124;43m'\u001b[39;49m\u001b[43m]\u001b[49m), \u001b[38;5;241m3\u001b[39m)\n\u001b[0;32m     23\u001b[0m bvp_data[\u001b[38;5;124m'\u001b[39m\u001b[38;5;124mvs_sp_h_per_pa\u001b[39m\u001b[38;5;124m'\u001b[39m] \u001b[38;5;241m=\u001b[39m \u001b[38;5;28mround\u001b[39m((\u001b[38;5;28mint\u001b[39m(bvp_raw_data[\u001b[38;5;124m'\u001b[39m\u001b[38;5;124mH\u001b[39m\u001b[38;5;124m'\u001b[39m]) \u001b[38;5;241m/\u001b[39m bvp_data[\u001b[38;5;124m'\u001b[39m\u001b[38;5;124mvs_sp_pa\u001b[39m\u001b[38;5;124m'\u001b[39m]), \u001b[38;5;241m3\u001b[39m)\n\u001b[0;32m     24\u001b[0m bvp_data[\u001b[38;5;124m'\u001b[39m\u001b[38;5;124mvs_sp_hr_per_pa\u001b[39m\u001b[38;5;124m'\u001b[39m] \u001b[38;5;241m=\u001b[39m \u001b[38;5;28mround\u001b[39m((\u001b[38;5;28mint\u001b[39m(bvp_raw_data[\u001b[38;5;124m'\u001b[39m\u001b[38;5;124mHR\u001b[39m\u001b[38;5;124m'\u001b[39m]) \u001b[38;5;241m/\u001b[39m bvp_data[\u001b[38;5;124m'\u001b[39m\u001b[38;5;124mvs_sp_pa\u001b[39m\u001b[38;5;124m'\u001b[39m]), \u001b[38;5;241m3\u001b[39m)\n",
      "\u001b[1;31mZeroDivisionError\u001b[0m: division by zero"
     ]
    }
   ],
   "source": [
    "bvp_raw_data = {}\n",
    "bvp_data = {}\n",
    "\n",
    "service = Service(ChromeDriverManager().install())\n",
    "driver = webdriver.Chrome(service=service)\n",
    "\n",
    "driver.get(bvp_url)\n",
    "\n",
    "driver.implicitly_wait(10)\n",
    "\n",
    "stats_boxes = driver.find_elements(By.CLASS_NAME, 'stats-box')\n",
    "\n",
    "for stats_box in stats_boxes:\n",
    "    stat_type = stats_box.find_element(By.CLASS_NAME, 'stats-title')\n",
    "    stat_value = stats_box.find_element(By.CLASS_NAME, 'stats-value')\n",
    "    bvp_raw_data[stat_type.text] = stat_value.text\n",
    "\n",
    "\n",
    "driver.quit()\n",
    "\n",
    "bvp_data['vs_sp_pa'] = int(bvp_raw_data['PA'])\n",
    "bvp_data['vs_sp_p_per_pa'] = round((int(bvp_raw_data['Pitches']) / bvp_data['vs_sp_pa']), 3)\n",
    "bvp_data['vs_sp_h_per_pa'] = round((int(bvp_raw_data['H']) / bvp_data['vs_sp_pa']), 3)\n",
    "bvp_data['vs_sp_hr_per_pa'] = round((int(bvp_raw_data['HR']) / bvp_data['vs_sp_pa']), 3)\n",
    "bvp_data['vs_sp_k_per_pa'] = round((int(bvp_raw_data['SO']) / bvp_data['vs_sp_pa']), 3)\n",
    "bvp_data['vs_sp_ba_per_pa'] = float(bvp_raw_data['AVG'])\n",
    "bvp_data['vs_sp_k_p'] = round((float(bvp_raw_data['K%']) / 100), 3)\n",
    "\n",
    "bvp_data_df = pd.DataFrame([bvp_data])\n",
    "\n",
    "print(bvp_data_df)\n",
    "\n"
   ]
  },
  {
   "cell_type": "markdown",
   "metadata": {},
   "source": [
    "Merge Pitcher data and BvP data :(\n",
    "\n",
    "should fix itself at some point"
   ]
  },
  {
   "cell_type": "code",
   "execution_count": null,
   "metadata": {},
   "outputs": [
    {
     "name": "stdout",
     "output_type": "stream",
     "text": [
      "   sp_games_started  sp_pc_per_start  sp_ip_per_start  sp_h_per_start  \\\n",
      "0                 4            85.75            5.525             9.0   \n",
      "\n",
      "   sp_r_per_start  sp_hr_per_start  sp_bb_per_start  sp_outs_per_start  \\\n",
      "0             5.0             0.75              2.0              16.75   \n",
      "\n",
      "   sp_k_per_start  sp_er_per_start  ... sp_obpa sp_slga sp_pc_per_batter  \\\n",
      "0            3.75              5.0  ...    .419    .568            3.267   \n",
      "\n",
      "  vs_sp_pa vs_sp_p_per_pa vs_sp_h_per_pa  vs_sp_hr_per_pa  vs_sp_k_per_pa  \\\n",
      "0        4            2.5            1.0              0.0             0.0   \n",
      "\n",
      "   vs_sp_ba_per_pa  vs_sp_k_p  \n",
      "0              1.0        0.0  \n",
      "\n",
      "[1 rows x 24 columns]\n"
     ]
    }
   ],
   "source": [
    "sPitcher_stats_df = pd.concat([sp_data_df, bvp_data_df], axis=1)\n",
    "\n",
    "print(sPitcher_stats_df)"
   ]
  },
  {
   "cell_type": "markdown",
   "metadata": {},
   "source": [
    "Format URL for Batter vs Opp Data\n",
    "- If batter has not yet playyed Opp, omit this section from the stats.\n",
    "- Otherwise, provide per game data for Opp."
   ]
  },
  {
   "cell_type": "code",
   "execution_count": null,
   "metadata": {},
   "outputs": [],
   "source": []
  },
  {
   "cell_type": "markdown",
   "metadata": {},
   "source": [
    "Fetch Batter vs Opp Stats"
   ]
  },
  {
   "cell_type": "code",
   "execution_count": null,
   "metadata": {},
   "outputs": [],
   "source": []
  },
  {
   "cell_type": "markdown",
   "metadata": {},
   "source": [
    "Fetch Umpire Stats\n",
    "- If Home Plate Ump announced\n",
    "    - Return data for only HP ump \n",
    "- If Home Plate Ump not yet announced\n",
    "    - Fetch data for all 4 umps\n",
    "    - hp_ump stats = avg of 4 umps stats"
   ]
  },
  {
   "cell_type": "code",
   "execution_count": null,
   "metadata": {},
   "outputs": [],
   "source": []
  },
  {
   "cell_type": "markdown",
   "metadata": {},
   "source": [
    "Fetch Venue Stats *WIP"
   ]
  },
  {
   "cell_type": "code",
   "execution_count": null,
   "metadata": {},
   "outputs": [],
   "source": []
  }
 ],
 "metadata": {
  "kernelspec": {
   "display_name": "venv",
   "language": "python",
   "name": "python3"
  },
  "language_info": {
   "codemirror_mode": {
    "name": "ipython",
    "version": 3
   },
   "file_extension": ".py",
   "mimetype": "text/x-python",
   "name": "python",
   "nbconvert_exporter": "python",
   "pygments_lexer": "ipython3",
   "version": "3.12.3"
  }
 },
 "nbformat": 4,
 "nbformat_minor": 2
}
